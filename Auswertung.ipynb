{
 "cells": [
  {
   "cell_type": "markdown",
   "id": "1e941a78-1307-4104-91b4-7eb3c7376572",
   "metadata": {
    "tags": []
   },
   "source": [
    "# Verlustprävention an Selbstbedienungskassen im Einzelhandel"
   ]
  },
  {
   "cell_type": "markdown",
   "id": "46ff9e4d-bdae-42ec-ad24-8a9cf94b9ba2",
   "metadata": {},
   "source": [
    "## Analyse der Trainingsdaten: Repräsentativität der Kontrollgruppe\n",
    "\n",
    "Ziel: Wir prüfen, ob sich die gelabelten Transaktionen (kontrolliert) systematisch von den nicht gelabelten unterscheiden.\n",
    "\n",
    "## 1. Warum ist das wichtig?\n",
    "Ein verzerrter Trainingsdatensatz könnte dazu führen, dass ein Machine-Learning-Modell falsche Muster lernt – z. B. wer *kontrolliert wurde*, nicht wer *betrügt*.\n",
    "\n",
    "## 2. Welche Tests wurden durchgeführt?\n",
    "\n",
    "- **t-Test** für Zahlenwerte (Einkaufssumme, Artikelanzahl, Dauer)\n",
    "- **Chi²-Test** für Kategorien (Filiale, Kasse, Uhrzeit, Zahlungsmethode)\n",
    "\n",
    "## 3. Ergebnisse im Überblick\n"
   ]
  },
  {
   "cell_type": "markdown",
   "id": "2cd5ee9d-0f3c-44c8-b000-6c77bbd34353",
   "metadata": {},
   "source": [
    "## Test der Datei \"transactions_train_3.parquet\" auf statistische Signifikanz "
   ]
  },
  {
   "cell_type": "code",
   "execution_count": 1,
   "id": "33d800a1-8337-49c5-9ba6-7a3684ef8477",
   "metadata": {
    "tags": []
   },
   "outputs": [],
   "source": [
    "import pandas as pd\n",
    "from scipy.stats import ttest_ind, chi2_contingency\n",
    "# Datei einlesen\n",
    "train = pd.read_parquet(\"transactions_train_3.parquet\")"
   ]
  },
  {
   "cell_type": "code",
   "execution_count": 2,
   "id": "d78ebcf1-8902-4aad-820a-5cb1316a1178",
   "metadata": {
    "tags": []
   },
   "outputs": [
    {
     "name": "stdout",
     "output_type": "stream",
     "text": [
      "<class 'pandas.core.frame.DataFrame'>\n",
      "RangeIndex: 1481783 entries, 0 to 1481782\n",
      "Data columns (total 11 columns):\n",
      " #   Column             Non-Null Count    Dtype         \n",
      "---  ------             --------------    -----         \n",
      " 0   id                 1481783 non-null  object        \n",
      " 1   store_id           1481783 non-null  object        \n",
      " 2   cash_desk          1481783 non-null  int64         \n",
      " 3   transaction_start  1481783 non-null  datetime64[ns]\n",
      " 4   transaction_end    1481783 non-null  datetime64[ns]\n",
      " 5   total_amount       1481783 non-null  float64       \n",
      " 6   n_lines            1481783 non-null  int64         \n",
      " 7   payment_medium     1481783 non-null  object        \n",
      " 8   customer_feedback  104720 non-null   float64       \n",
      " 9   damage             148025 non-null   float64       \n",
      " 10  label              1481783 non-null  object        \n",
      "dtypes: datetime64[ns](2), float64(3), int64(2), object(4)\n",
      "memory usage: 124.4+ MB\n"
     ]
    }
   ],
   "source": [
    "train.info()"
   ]
  },
  {
   "cell_type": "code",
   "execution_count": 3,
   "id": "275e3a0b-e47d-43ea-bd48-5fa55fbab67c",
   "metadata": {
    "tags": []
   },
   "outputs": [
    {
     "data": {
      "text/plain": [
       "label\n",
       "UNKNOWN    1333758\n",
       "NORMAL      143369\n",
       "FRAUD         4656\n",
       "Name: count, dtype: int64"
      ]
     },
     "execution_count": 3,
     "metadata": {},
     "output_type": "execute_result"
    }
   ],
   "source": [
    "train.label.value_counts()"
   ]
  },
  {
   "cell_type": "code",
   "execution_count": 4,
   "id": "524a7353-9f25-4390-bb2e-b8b80d533135",
   "metadata": {
    "tags": []
   },
   "outputs": [
    {
     "name": "stdout",
     "output_type": "stream",
     "text": [
      "\n",
      "Numerische Spalten (t-Tests):\n"
     ]
    },
    {
     "data": {
      "text/html": [
       "<div>\n",
       "<style scoped>\n",
       "    .dataframe tbody tr th:only-of-type {\n",
       "        vertical-align: middle;\n",
       "    }\n",
       "\n",
       "    .dataframe tbody tr th {\n",
       "        vertical-align: top;\n",
       "    }\n",
       "\n",
       "    .dataframe thead th {\n",
       "        text-align: right;\n",
       "    }\n",
       "</style>\n",
       "<table border=\"1\" class=\"dataframe\">\n",
       "  <thead>\n",
       "    <tr style=\"text-align: right;\">\n",
       "      <th></th>\n",
       "      <th>Spalte</th>\n",
       "      <th>p-Wert</th>\n",
       "      <th>Mittelwert (labeled)</th>\n",
       "      <th>Mittelwert (unlabeled)</th>\n",
       "      <th>Std-Abw (labeled)</th>\n",
       "      <th>Std-Abw (unlabeled)</th>\n",
       "    </tr>\n",
       "  </thead>\n",
       "  <tbody>\n",
       "    <tr>\n",
       "      <th>3</th>\n",
       "      <td>transaction_duration</td>\n",
       "      <td>0.185389</td>\n",
       "      <td>77.807475</td>\n",
       "      <td>77.541994</td>\n",
       "      <td>73.202614</td>\n",
       "      <td>72.895636</td>\n",
       "    </tr>\n",
       "    <tr>\n",
       "      <th>1</th>\n",
       "      <td>n_lines</td>\n",
       "      <td>0.355874</td>\n",
       "      <td>10.603607</td>\n",
       "      <td>10.575406</td>\n",
       "      <td>11.155176</td>\n",
       "      <td>11.101239</td>\n",
       "    </tr>\n",
       "    <tr>\n",
       "      <th>2</th>\n",
       "      <td>customer_feedback</td>\n",
       "      <td>0.671868</td>\n",
       "      <td>9.326005</td>\n",
       "      <td>9.318636</td>\n",
       "      <td>1.699571</td>\n",
       "      <td>1.715356</td>\n",
       "    </tr>\n",
       "    <tr>\n",
       "      <th>0</th>\n",
       "      <td>total_amount</td>\n",
       "      <td>0.750073</td>\n",
       "      <td>98.509750</td>\n",
       "      <td>98.413698</td>\n",
       "      <td>110.079582</td>\n",
       "      <td>109.943709</td>\n",
       "    </tr>\n",
       "  </tbody>\n",
       "</table>\n",
       "</div>"
      ],
      "text/plain": [
       "                 Spalte    p-Wert  Mittelwert (labeled)  \\\n",
       "3  transaction_duration  0.185389             77.807475   \n",
       "1               n_lines  0.355874             10.603607   \n",
       "2     customer_feedback  0.671868              9.326005   \n",
       "0          total_amount  0.750073             98.509750   \n",
       "\n",
       "   Mittelwert (unlabeled)  Std-Abw (labeled)  Std-Abw (unlabeled)  \n",
       "3               77.541994          73.202614            72.895636  \n",
       "1               10.575406          11.155176            11.101239  \n",
       "2                9.318636           1.699571             1.715356  \n",
       "0               98.413698         110.079582           109.943709  "
      ]
     },
     "metadata": {},
     "output_type": "display_data"
    },
    {
     "name": "stdout",
     "output_type": "stream",
     "text": [
      "\n",
      "Kategoriale Spalten (Chi²-Tests):\n",
      "\n",
      "Spalte: cash_desk (Chi²-Test)\n",
      "p-Wert: 0.48348\n",
      "Kontingenztabelle:\n",
      "cash_desk        0       1       2       3\n",
      "is_labeled                                \n",
      "False       334163  333302  333264  333029\n",
      "True         37284   37093   36895   36753\n",
      "\n",
      "Spalte: payment_medium (Chi²-Test)\n",
      "p-Wert: 0.63991\n",
      "Kontingenztabelle:\n",
      "payment_medium    CASH  CREDIT_CARD\n",
      "is_labeled                         \n",
      "False           132870      1200888\n",
      "True             14689       133336\n",
      "\n",
      "Spalte: store_id (Chi²-Test)\n",
      "p-Wert: 0.06562\n",
      "Kontingenztabelle:\n",
      "store_id    3fffea06-686f-42bd-8362-818af86b48a9  \\\n",
      "is_labeled                                         \n",
      "False                                     209772   \n",
      "True                                       23110   \n",
      "\n",
      "store_id    46e6da32-f4b0-40f3-ada7-fc6ca81ed85d  \\\n",
      "is_labeled                                         \n",
      "False                                     339525   \n",
      "True                                       37921   \n",
      "\n",
      "store_id    581831fc-6a03-4e38-9025-0a889b7fe542  \\\n",
      "is_labeled                                         \n",
      "False                                     175597   \n",
      "True                                       19555   \n",
      "\n",
      "store_id    6a7406ec-4ebb-4df7-83ce-9528663e553e  \\\n",
      "is_labeled                                         \n",
      "False                                     340439   \n",
      "True                                       37378   \n",
      "\n",
      "store_id    cd833b6b-0666-42df-b538-6bb1f189b66e  \n",
      "is_labeled                                        \n",
      "False                                     268425  \n",
      "True                                       30061  \n",
      "\n",
      "Spalte: hour_of_day (Chi²-Test)\n",
      "p-Wert: 0.77437\n",
      "Kontingenztabelle:\n",
      "hour_of_day     8      9      10      11      12     13     14      15  \\\n",
      "is_labeled                                                               \n",
      "False        68880  68029  77949  100211  107591  98955  99210  104128   \n",
      "True          7612   7674   8626   11297   11913  11009  11026   11501   \n",
      "\n",
      "hour_of_day      16      17      18      19     20     21  22  \n",
      "is_labeled                                                     \n",
      "False        110229  112012  109669  102869  92733  81281  12  \n",
      "True          12236   12385   12073   11562  10136   8974   1  \n"
     ]
    }
   ],
   "source": [
    "import pandas as pd\n",
    "from scipy.stats import ttest_ind, chi2_contingency\n",
    "\n",
    "# -------------------------------------\n",
    "# Daten laden und Feature Engineering\n",
    "# -------------------------------------\n",
    "\n",
    "train['transaction_duration'] = (train['transaction_end'] - train['transaction_start']).dt.total_seconds()\n",
    "train['hour_of_day'] = train['transaction_start'].dt.hour\n",
    "train['is_labeled'] = train['label'] != 'UNKNOWN'\n",
    "\n",
    "# -------------------------------------\n",
    "# Spalten definieren\n",
    "# -------------------------------------\n",
    "numerical_columns = ['total_amount', 'n_lines', 'customer_feedback', 'transaction_duration']\n",
    "categorical_columns = ['cash_desk', 'payment_medium', 'store_id','hour_of_day']\n",
    "\n",
    "# -------------------------------------\n",
    "# Tests durchführen\n",
    "# -------------------------------------\n",
    "results = []\n",
    "\n",
    "# --- Numerische Spalten ---\n",
    "for col in numerical_columns:\n",
    "    labeled = train[train['is_labeled']][col].dropna()\n",
    "    unlabeled = train[~train['is_labeled']][col].dropna()\n",
    "\n",
    "    if len(labeled) > 0 and len(unlabeled) > 0:\n",
    "        # Welch's t-Test\n",
    "        stat, p = ttest_ind(labeled, unlabeled, equal_var=False)\n",
    "        \n",
    "        # Mittelwerte und Standardabweichungen\n",
    "        mean_labeled = labeled.mean()\n",
    "        mean_unlabeled = unlabeled.mean()\n",
    "        std_labeled = labeled.std()\n",
    "        std_unlabeled = unlabeled.std()\n",
    "        n_labeled = len(labeled)\n",
    "        n_unlabeled = len(unlabeled)\n",
    "        \n",
    "        results.append({\n",
    "            'Spalte': col,\n",
    "            'Test': 't-Test',\n",
    "            'p-Wert': p,\n",
    "            'Mittelwert (labeled)': mean_labeled,\n",
    "            'Mittelwert (unlabeled)': mean_unlabeled,\n",
    "            'Std-Abw (labeled)': std_labeled,\n",
    "            'Std-Abw (unlabeled)': std_unlabeled,\n",
    "            \n",
    "        })\n",
    "\n",
    "# --- Kategoriale Spalten ---\n",
    "for col in categorical_columns:\n",
    "    contingency = pd.crosstab(train['is_labeled'], train[col])\n",
    "\n",
    "    if contingency.shape[1] > 1:\n",
    "        chi2, p, _, _ = chi2_contingency(contingency)\n",
    "\n",
    "        results.append({\n",
    "            'Spalte': col,\n",
    "            'Test': 'Chi²-Test',\n",
    "            'p-Wert': p,\n",
    "            'Kontingenztabelle': contingency  # Speichere die gesamte Tabelle\n",
    "        })\n",
    "\n",
    "# -------------------------------------\n",
    "# Ergebnisse aufbereiten\n",
    "# -------------------------------------\n",
    "# Ergebnisse in DataFrame\n",
    "results_train = pd.DataFrame(results)\n",
    "\n",
    "# Ausgabe trennen: Numerisch und Kategorial\n",
    "numerical_results = results_train[results_train['Test'] == 't-Test']\n",
    "categorical_results = results_train[results_train['Test'] == 'Chi²-Test']\n",
    "\n",
    "# Ausgabe für numerische Variablen\n",
    "print(\"\\nNumerische Spalten (t-Tests):\")\n",
    "display(numerical_results[['Spalte', 'p-Wert', 'Mittelwert (labeled)', 'Mittelwert (unlabeled)', 'Std-Abw (labeled)', 'Std-Abw (unlabeled)']].sort_values(by='p-Wert'))\n",
    "\n",
    "# Ausgabe für kategoriale Variablen\n",
    "print(\"\\nKategoriale Spalten (Chi²-Tests):\")\n",
    "for idx, row in categorical_results.iterrows():\n",
    "    print(f\"\\nSpalte: {row['Spalte']} (Chi²-Test)\")\n",
    "    print(f\"p-Wert: {row['p-Wert']:.5f}\")\n",
    "    print(\"Kontingenztabelle:\")\n",
    "    print(row['Kontingenztabelle'])\n"
   ]
  },
  {
   "cell_type": "markdown",
   "id": "cefe6afb-ed12-4695-b157-139a84f7a532",
   "metadata": {},
   "source": [
    "## 4. Fazit\n",
    "\n",
    "- Die meisten Merkmale zeigen **keine signifikanten Unterschiede** zwischen kontrollierten und nicht kontrollierten Transaktionen.\n",
    "- Nur bei `store_id` gibt es **einen leichten Hinweis**, dass einzelne Filialen unterschiedlich häufig kontrollieren.\n",
    "\n",
    "**Die gelabelten Daten sind damit als Trainingsdaten gut geeignet.**\n"
   ]
  }
 ],
 "metadata": {
  "kernelspec": {
   "display_name": "Python 3 (ipykernel)",
   "language": "python",
   "name": "python3"
  },
  "language_info": {
   "codemirror_mode": {
    "name": "ipython",
    "version": 3
   },
   "file_extension": ".py",
   "mimetype": "text/x-python",
   "name": "python",
   "nbconvert_exporter": "python",
   "pygments_lexer": "ipython3",
   "version": "3.11.5"
  }
 },
 "nbformat": 4,
 "nbformat_minor": 5
}

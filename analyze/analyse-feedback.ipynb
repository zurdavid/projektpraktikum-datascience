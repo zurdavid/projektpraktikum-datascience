{
 "cells": [
  {
   "cell_type": "code",
   "execution_count": 7,
   "id": "d0a49d3c",
   "metadata": {},
   "outputs": [],
   "source": [
    "import polars as pl\n",
    "import pandas as pd\n",
    "import matplotlib.pyplot as plt\n",
    "import seaborn as sns\n",
    "from pathlib import Path\n",
    "\n",
    "data_dir = Path(\"../data\")\n",
    "plot_dir = Path(\"plots\")\n",
    "\n",
    "transactions = pl.scan_parquet(data_dir / \"transactions_train_3.parquet\").filter(pl.col(\"label\") != \"UNKNOWN\")"
   ]
  },
  {
   "cell_type": "code",
   "execution_count": 44,
   "id": "de95824d",
   "metadata": {},
   "outputs": [
    {
     "data": {
      "text/html": [
       "<div><style>\n",
       ".dataframe > thead > tr,\n",
       ".dataframe > tbody > tr {\n",
       "  text-align: right;\n",
       "  white-space: pre-wrap;\n",
       "}\n",
       "</style>\n",
       "<small>shape: (9, 3)</small><table border=\"1\" class=\"dataframe\"><thead><tr><th>customer_feedback</th><th>count</th><th>proportion</th></tr><tr><td>f64</td><td>u32</td><td>f64</td></tr></thead><tbody><tr><td>null</td><td>4307</td><td>0.925043</td></tr><tr><td>10.0</td><td>332</td><td>0.071306</td></tr><tr><td>8.0</td><td>4</td><td>0.000859</td></tr><tr><td>6.0</td><td>4</td><td>0.000859</td></tr><tr><td>7.0</td><td>3</td><td>0.000644</td></tr><tr><td>9.0</td><td>2</td><td>0.00043</td></tr><tr><td>4.0</td><td>2</td><td>0.00043</td></tr><tr><td>2.0</td><td>1</td><td>0.000215</td></tr><tr><td>3.0</td><td>1</td><td>0.000215</td></tr></tbody></table></div>"
      ],
      "text/plain": [
       "shape: (9, 3)\n",
       "┌───────────────────┬───────┬────────────┐\n",
       "│ customer_feedback ┆ count ┆ proportion │\n",
       "│ ---               ┆ ---   ┆ ---        │\n",
       "│ f64               ┆ u32   ┆ f64        │\n",
       "╞═══════════════════╪═══════╪════════════╡\n",
       "│ null              ┆ 4307  ┆ 0.925043   │\n",
       "│ 10.0              ┆ 332   ┆ 0.071306   │\n",
       "│ 8.0               ┆ 4     ┆ 0.000859   │\n",
       "│ 6.0               ┆ 4     ┆ 0.000859   │\n",
       "│ 7.0               ┆ 3     ┆ 0.000644   │\n",
       "│ 9.0               ┆ 2     ┆ 0.00043    │\n",
       "│ 4.0               ┆ 2     ┆ 0.00043    │\n",
       "│ 2.0               ┆ 1     ┆ 0.000215   │\n",
       "│ 3.0               ┆ 1     ┆ 0.000215   │\n",
       "└───────────────────┴───────┴────────────┘"
      ]
     },
     "execution_count": 44,
     "metadata": {},
     "output_type": "execute_result"
    }
   ],
   "source": [
    "foobi = (\n",
    " transactions.filter(pl.col(\"label\") == \"FRAUD\").group_by(\"customer_feedback\")\n",
    "        .agg(pl.len().alias(\"count\"))\n",
    "        .with_columns((pl.col(\"count\") / pl.col(\"count\").sum()).alias(\"proportion\"))\n",
    "        .sort(\"count\", descending=True)\n",
    ")\n",
    "foobi.collect()"
   ]
  },
  {
   "cell_type": "code",
   "execution_count": 42,
   "id": "bc18afac",
   "metadata": {},
   "outputs": [
    {
     "data": {
      "text/html": [
       "<div><style>\n",
       ".dataframe > thead > tr,\n",
       ".dataframe > tbody > tr {\n",
       "  text-align: right;\n",
       "  white-space: pre-wrap;\n",
       "}\n",
       "</style>\n",
       "<small>shape: (11, 3)</small><table border=\"1\" class=\"dataframe\"><thead><tr><th>customer_feedback</th><th>count</th><th>proportion</th></tr><tr><td>f64</td><td>u32</td><td>f64</td></tr></thead><tbody><tr><td>null</td><td>137381</td><td>0.928093</td></tr><tr><td>10.0</td><td>8523</td><td>0.057578</td></tr><tr><td>9.0</td><td>518</td><td>0.003499</td></tr><tr><td>8.0</td><td>465</td><td>0.003141</td></tr><tr><td>7.0</td><td>331</td><td>0.002236</td></tr><tr><td>&hellip;</td><td>&hellip;</td><td>&hellip;</td></tr><tr><td>5.0</td><td>171</td><td>0.001155</td></tr><tr><td>4.0</td><td>136</td><td>0.000919</td></tr><tr><td>1.0</td><td>114</td><td>0.00077</td></tr><tr><td>3.0</td><td>88</td><td>0.000594</td></tr><tr><td>2.0</td><td>57</td><td>0.000385</td></tr></tbody></table></div>"
      ],
      "text/plain": [
       "shape: (11, 3)\n",
       "┌───────────────────┬────────┬────────────┐\n",
       "│ customer_feedback ┆ count  ┆ proportion │\n",
       "│ ---               ┆ ---    ┆ ---        │\n",
       "│ f64               ┆ u32    ┆ f64        │\n",
       "╞═══════════════════╪════════╪════════════╡\n",
       "│ null              ┆ 137381 ┆ 0.928093   │\n",
       "│ 10.0              ┆ 8523   ┆ 0.057578   │\n",
       "│ 9.0               ┆ 518    ┆ 0.003499   │\n",
       "│ 8.0               ┆ 465    ┆ 0.003141   │\n",
       "│ 7.0               ┆ 331    ┆ 0.002236   │\n",
       "│ …                 ┆ …      ┆ …          │\n",
       "│ 5.0               ┆ 171    ┆ 0.001155   │\n",
       "│ 4.0               ┆ 136    ┆ 0.000919   │\n",
       "│ 1.0               ┆ 114    ┆ 0.00077    │\n",
       "│ 3.0               ┆ 88     ┆ 0.000594   │\n",
       "│ 2.0               ┆ 57     ┆ 0.000385   │\n",
       "└───────────────────┴────────┴────────────┘"
      ]
     },
     "execution_count": 42,
     "metadata": {},
     "output_type": "execute_result"
    }
   ],
   "source": [
    "foobi = (\n",
    " transactions.group_by(\"customer_feedback\")\n",
    "        .agg(pl.len().alias(\"count\"))\n",
    "        .with_columns((pl.col(\"count\") / pl.col(\"count\").sum()).alias(\"proportion\"))\n",
    "        .sort(\"count\", descending=True)\n",
    ")\n",
    "foobi.collect()"
   ]
  },
  {
   "cell_type": "code",
   "execution_count": 24,
   "id": "c8f589ed",
   "metadata": {},
   "outputs": [],
   "source": [
    "df = (\n",
    "    transactions\n",
    "    .group_by(\"customer_feedback\")\n",
    "    .agg([\n",
    "        pl.len().alias(\"total\"),\n",
    "        pl.col(\"label\").filter(pl.col(\"label\") == \"FRAUD\").count().alias(\"fraud_count\")\n",
    "    ])\n",
    "    .with_columns(\n",
    "        (pl.col(\"fraud_count\") / pl.col(\"total\")).alias(\"fraud_rate\")\n",
    "    )\n",
    "    .select([\"customer_feedback\", \"fraud_rate\"])\n",
    ").collect().to_pandas()"
   ]
  },
  {
   "cell_type": "code",
   "execution_count": 30,
   "id": "4de03bc1",
   "metadata": {},
   "outputs": [
    {
     "data": {
      "application/vnd.microsoft.datawrangler.viewer.v0+json": {
       "columns": [
        {
         "name": "index",
         "rawType": "int64",
         "type": "integer"
        },
        {
         "name": "customer_feedback",
         "rawType": "Int64",
         "type": "integer"
        },
        {
         "name": "fraud_rate",
         "rawType": "float64",
         "type": "float"
        }
       ],
       "conversionMethod": "pd.DataFrame",
       "ref": "8d40a59c-93ca-4093-bc53-63bbd12d5e0a",
       "rows": [
        [
         "0",
         "3",
         "0.011363636363636364"
        ],
        [
         "1",
         "0",
         "0.031350769029196174"
        ],
        [
         "2",
         "9",
         "0.003861003861003861"
        ],
        [
         "3",
         "5",
         "0.0"
        ],
        [
         "4",
         "2",
         "0.017543859649122806"
        ],
        [
         "5",
         "8",
         "0.008602150537634409"
        ],
        [
         "6",
         "6",
         "0.016597510373443983"
        ],
        [
         "7",
         "1",
         "0.0"
        ],
        [
         "8",
         "4",
         "0.014705882352941176"
        ],
        [
         "9",
         "10",
         "0.038953420157221634"
        ],
        [
         "10",
         "7",
         "0.00906344410876133"
        ]
       ],
       "shape": {
        "columns": 2,
        "rows": 11
       }
      },
      "text/html": [
       "<div>\n",
       "<style scoped>\n",
       "    .dataframe tbody tr th:only-of-type {\n",
       "        vertical-align: middle;\n",
       "    }\n",
       "\n",
       "    .dataframe tbody tr th {\n",
       "        vertical-align: top;\n",
       "    }\n",
       "\n",
       "    .dataframe thead th {\n",
       "        text-align: right;\n",
       "    }\n",
       "</style>\n",
       "<table border=\"1\" class=\"dataframe\">\n",
       "  <thead>\n",
       "    <tr style=\"text-align: right;\">\n",
       "      <th></th>\n",
       "      <th>customer_feedback</th>\n",
       "      <th>fraud_rate</th>\n",
       "    </tr>\n",
       "  </thead>\n",
       "  <tbody>\n",
       "    <tr>\n",
       "      <th>0</th>\n",
       "      <td>3</td>\n",
       "      <td>0.011364</td>\n",
       "    </tr>\n",
       "    <tr>\n",
       "      <th>1</th>\n",
       "      <td>0</td>\n",
       "      <td>0.031351</td>\n",
       "    </tr>\n",
       "    <tr>\n",
       "      <th>2</th>\n",
       "      <td>9</td>\n",
       "      <td>0.003861</td>\n",
       "    </tr>\n",
       "    <tr>\n",
       "      <th>3</th>\n",
       "      <td>5</td>\n",
       "      <td>0.000000</td>\n",
       "    </tr>\n",
       "    <tr>\n",
       "      <th>4</th>\n",
       "      <td>2</td>\n",
       "      <td>0.017544</td>\n",
       "    </tr>\n",
       "    <tr>\n",
       "      <th>5</th>\n",
       "      <td>8</td>\n",
       "      <td>0.008602</td>\n",
       "    </tr>\n",
       "    <tr>\n",
       "      <th>6</th>\n",
       "      <td>6</td>\n",
       "      <td>0.016598</td>\n",
       "    </tr>\n",
       "    <tr>\n",
       "      <th>7</th>\n",
       "      <td>1</td>\n",
       "      <td>0.000000</td>\n",
       "    </tr>\n",
       "    <tr>\n",
       "      <th>8</th>\n",
       "      <td>4</td>\n",
       "      <td>0.014706</td>\n",
       "    </tr>\n",
       "    <tr>\n",
       "      <th>9</th>\n",
       "      <td>10</td>\n",
       "      <td>0.038953</td>\n",
       "    </tr>\n",
       "    <tr>\n",
       "      <th>10</th>\n",
       "      <td>7</td>\n",
       "      <td>0.009063</td>\n",
       "    </tr>\n",
       "  </tbody>\n",
       "</table>\n",
       "</div>"
      ],
      "text/plain": [
       "    customer_feedback  fraud_rate\n",
       "0                   3    0.011364\n",
       "1                   0    0.031351\n",
       "2                   9    0.003861\n",
       "3                   5    0.000000\n",
       "4                   2    0.017544\n",
       "5                   8    0.008602\n",
       "6                   6    0.016598\n",
       "7                   1    0.000000\n",
       "8                   4    0.014706\n",
       "9                  10    0.038953\n",
       "10                  7    0.009063"
      ]
     },
     "execution_count": 30,
     "metadata": {},
     "output_type": "execute_result"
    }
   ],
   "source": [
    "df"
   ]
  },
  {
   "cell_type": "code",
   "execution_count": 31,
   "id": "e083d795",
   "metadata": {},
   "outputs": [
    {
     "data": {
      "text/html": [
       "<div><style>\n",
       ".dataframe > thead > tr,\n",
       ".dataframe > tbody > tr {\n",
       "  text-align: right;\n",
       "  white-space: pre-wrap;\n",
       "}\n",
       "</style>\n",
       "<small>shape: (2, 3)</small><table border=\"1\" class=\"dataframe\"><thead><tr><th>label</th><th>count</th><th>proportion</th></tr><tr><td>str</td><td>u32</td><td>f64</td></tr></thead><tbody><tr><td>&quot;NORMAL&quot;</td><td>143369</td><td>0.968546</td></tr><tr><td>&quot;FRAUD&quot;</td><td>4656</td><td>0.031454</td></tr></tbody></table></div>"
      ],
      "text/plain": [
       "shape: (2, 3)\n",
       "┌────────┬────────┬────────────┐\n",
       "│ label  ┆ count  ┆ proportion │\n",
       "│ ---    ┆ ---    ┆ ---        │\n",
       "│ str    ┆ u32    ┆ f64        │\n",
       "╞════════╪════════╪════════════╡\n",
       "│ NORMAL ┆ 143369 ┆ 0.968546   │\n",
       "│ FRAUD  ┆ 4656   ┆ 0.031454   │\n",
       "└────────┴────────┴────────────┘"
      ]
     },
     "execution_count": 31,
     "metadata": {},
     "output_type": "execute_result"
    }
   ],
   "source": [
    "label_counts = (\n",
    " transactions.group_by(\"label\")\n",
    "        .agg(pl.len().alias(\"count\"))\n",
    "        .with_columns((pl.col(\"count\") / pl.col(\"count\").sum()).alias(\"proportion\"))\n",
    "        .sort(\"count\", descending=True)\n",
    ")\n",
    "label_counts.collect()"
   ]
  },
  {
   "cell_type": "code",
   "execution_count": 41,
   "id": "b717dd99",
   "metadata": {},
   "outputs": [
    {
     "data": {
      "image/png": "[encoded data removed]",
      "text/plain": [
       "<Figure size 600x400 with 1 Axes>"
      ]
     },
     "metadata": {},
     "output_type": "display_data"
    }
   ],
   "source": [
    "fraud_rate_total = label_counts.filter(pl.col(\"label\") == \"FRAUD\").select(\"proportion\").collect().to_numpy()[0][0]\n",
    "\n",
    "df[\"customer_feedback\"] = df[\"customer_feedback\"].astype(\"Int64\").fillna(0)\n",
    "\n",
    "plt.figure(figsize=(6, 4))\n",
    "sns.barplot(data=df, x='customer_feedback', y='fraud_rate', label='Anteil an FRAUD Fällen')\n",
    "\n",
    "plt.axhline(fraud_rate_total, color='red', linestyle='--', label='Anteil an FRAUD Fällen gesamt')\n",
    "\n",
    "plt.title('Anteil an FRAUD Fällen nach Kunden-Feedback')\n",
    "plt.xlabel('Feedback (0 = kein Feedback)')\n",
    "plt.ylabel('Wert')\n",
    "plt.legend()\n",
    "\n",
    "plt.savefig(plot_dir / \"anteil_fraud_nach_feedback.png\", dpi=300, bbox_inches='tight')\n",
    "plt.show()"
   ]
  },
  {
   "cell_type": "code",
   "execution_count": null,
   "id": "f47407c0",
   "metadata": {},
   "outputs": [],
   "source": []
  }
 ],
 "metadata": {
  "kernelspec": {
   "display_name": ".venv",
   "language": "python",
   "name": "python3"
  },
  "language_info": {
   "codemirror_mode": {
    "name": "ipython",
    "version": 3
   },
   "file_extension": ".py",
   "mimetype": "text/x-python",
   "name": "python",
   "nbconvert_exporter": "python",
   "pygments_lexer": "ipython3",
   "version": "3.12.9"
  }
 },
 "nbformat": 4,
 "nbformat_minor": 5
}

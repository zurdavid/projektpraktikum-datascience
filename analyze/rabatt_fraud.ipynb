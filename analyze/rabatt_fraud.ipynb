{
 "cells": [
  {
   "cell_type": "code",
   "execution_count": 1,
   "id": "b6152d43",
   "metadata": {},
   "outputs": [],
   "source": [
    "import polars as pl\n",
    "from pathlib import Path\n",
    "\n",
    "data_dir = Path(\"../data\")\n",
    "\n",
    "transactions = pl.scan_parquet(data_dir / \"transactions_train_3.parquet\")\n",
    "lines = pl.scan_parquet(data_dir / \"transaction_lines_train_3.parquet\")\n",
    "products = pl.scan_csv(data_dir / \"products.csv\")"
   ]
  },
  {
   "cell_type": "code",
   "execution_count": 2,
   "id": "3f9805a5",
   "metadata": {},
   "outputs": [],
   "source": [
    "joined = transactions.filter(pl.col(\"label\") != \"UNKNOWN\").join(\n",
    "  lines.join(\n",
    "    products,\n",
    "    left_on=\"product_id\",\n",
    "    right_on=\"id\",\n",
    "    how=\"left\",\n",
    "    suffix=\"_product\",\n",
    "  ),\n",
    "  left_on=\"id\",\n",
    "  right_on=\"transaction_id\",\n",
    "  how=\"left\",\n",
    "  suffix=\"_line\",\n",
    ")"
   ]
  },
  {
   "cell_type": "code",
   "execution_count": 5,
   "id": "dc370b01",
   "metadata": {},
   "outputs": [],
   "source": [
    "rabatt_fraud = (\n",
    "  joined\n",
    "  .with_columns((pl.col(\"sales_price\") / (pl.col(\"price\") * pl.col(\"pieces_or_weight\"))).alias(\"price_ratio\"))\n",
    "  .filter(abs(pl.col(\"price_ratio\")  - 0.70) < 0.01)\n",
    " )"
   ]
  },
  {
   "cell_type": "code",
   "execution_count": 6,
   "id": "13f79a43",
   "metadata": {},
   "outputs": [
    {
     "data": {
      "text/html": [
       "<div><style>\n",
       ".dataframe > thead > tr,\n",
       ".dataframe > tbody > tr {\n",
       "  text-align: right;\n",
       "  white-space: pre-wrap;\n",
       "}\n",
       "</style>\n",
       "<small>shape: (1, 1)</small><table border=\"1\" class=\"dataframe\"><thead><tr><th>len</th></tr><tr><td>u32</td></tr></thead><tbody><tr><td>24025</td></tr></tbody></table></div>"
      ],
      "text/plain": [
       "shape: (1, 1)\n",
       "┌───────┐\n",
       "│ len   │\n",
       "│ ---   │\n",
       "│ u32   │\n",
       "╞═══════╡\n",
       "│ 24025 │\n",
       "└───────┘"
      ]
     },
     "execution_count": 6,
     "metadata": {},
     "output_type": "execute_result"
    }
   ],
   "source": [
    "rabatt_fraud.select(pl.len()).collect()"
   ]
  },
  {
   "cell_type": "code",
   "execution_count": 9,
   "id": "2f451942",
   "metadata": {},
   "outputs": [],
   "source": [
    "rb = rabatt_fraud.group_by(\"id\").agg(\n",
    "  [\n",
    "    pl.col(\"label\").first().alias(\"label\"),\n",
    "    pl.col(\"damage\").first().alias(\"damage\"),\n",
    "  ]\n",
    ")"
   ]
  },
  {
   "cell_type": "code",
   "execution_count": 10,
   "id": "a2c5580e",
   "metadata": {},
   "outputs": [
    {
     "data": {
      "text/html": [
       "<div><style>\n",
       ".dataframe > thead > tr,\n",
       ".dataframe > tbody > tr {\n",
       "  text-align: right;\n",
       "  white-space: pre-wrap;\n",
       "}\n",
       "</style>\n",
       "<small>shape: (2, 3)</small><table border=\"1\" class=\"dataframe\"><thead><tr><th>label</th><th>count</th><th>total_damage</th></tr><tr><td>str</td><td>u32</td><td>f64</td></tr></thead><tbody><tr><td>&quot;NORMAL&quot;</td><td>8394</td><td>0.0</td></tr><tr><td>&quot;FRAUD&quot;</td><td>2713</td><td>18827.49</td></tr></tbody></table></div>"
      ],
      "text/plain": [
       "shape: (2, 3)\n",
       "┌────────┬───────┬──────────────┐\n",
       "│ label  ┆ count ┆ total_damage │\n",
       "│ ---    ┆ ---   ┆ ---          │\n",
       "│ str    ┆ u32   ┆ f64          │\n",
       "╞════════╪═══════╪══════════════╡\n",
       "│ NORMAL ┆ 8394  ┆ 0.0          │\n",
       "│ FRAUD  ┆ 2713  ┆ 18827.49     │\n",
       "└────────┴───────┴──────────────┘"
      ]
     },
     "execution_count": 10,
     "metadata": {},
     "output_type": "execute_result"
    }
   ],
   "source": [
    "rb.group_by(\"label\").agg(\n",
    "  [\n",
    "    pl.len().alias(\"count\"),\n",
    "    pl.col(\"damage\").sum().alias(\"total_damage\"),\n",
    "  ]\n",
    ").collect()"
   ]
  }
 ],
 "metadata": {
  "kernelspec": {
   "display_name": ".venv",
   "language": "python",
   "name": "python3"
  },
  "language_info": {
   "codemirror_mode": {
    "name": "ipython",
    "version": 3
   },
   "file_extension": ".py",
   "mimetype": "text/x-python",
   "name": "python",
   "nbconvert_exporter": "python",
   "pygments_lexer": "ipython3",
   "version": "3.12.9"
  }
 },
 "nbformat": 4,
 "nbformat_minor": 5
}

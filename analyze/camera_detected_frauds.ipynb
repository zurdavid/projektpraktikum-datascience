{
 "cells": [
  {
   "cell_type": "code",
   "execution_count": 56,
   "id": "b6152d43",
   "metadata": {},
   "outputs": [],
   "source": [
    "import polars as pl\n",
    "from pathlib import Path\n",
    "\n",
    "data_dir = Path(\"../data\")\n",
    "\n",
    "transactions = pl.scan_parquet(data_dir / \"transactions_train_3.parquet\")\n",
    "lines = pl.scan_parquet(data_dir / \"transaction_lines_train_3.parquet\")\n"
   ]
  },
  {
   "cell_type": "code",
   "execution_count": 57,
   "id": "3f9805a5",
   "metadata": {},
   "outputs": [],
   "source": [
    "joined = transactions.join(\n",
    "  lines,\n",
    "  left_on=\"id\",\n",
    "  right_on=\"transaction_id\",\n",
    "  how=\"left\",\n",
    "  suffix=\"_line\",\n",
    ")\n",
    "\n",
    "camera_frauds = (\n",
    "  joined\n",
    "  .filter(pl.col(\"label\") != \"UNKNOWN\")\n",
    "  .filter(pl.col(\"was_voided\") & (pl.col(\"sales_price\") == 0))\n",
    "  .select(pl.col(\"id\").alias(\"transaction_id\"), \"label\", \"damage\", \"camera_product_similar\", \"camera_certainty\")\n",
    " )"
   ]
  },
  {
   "cell_type": "markdown",
   "id": "94b28833",
   "metadata": {},
   "source": [
    "# Checks \n",
    "\n",
    "- bei allen handelt es sich um FRAUD \n",
    "- camera_product_similar ist False"
   ]
  },
  {
   "cell_type": "code",
   "execution_count": 58,
   "id": "3ab3b7ee",
   "metadata": {},
   "outputs": [
    {
     "data": {
      "text/html": [
       "<div><style>\n",
       ".dataframe > thead > tr,\n",
       ".dataframe > tbody > tr {\n",
       "  text-align: right;\n",
       "  white-space: pre-wrap;\n",
       "}\n",
       "</style>\n",
       "<small>shape: (1, 2)</small><table border=\"1\" class=\"dataframe\"><thead><tr><th>is_fraud</th><th>camera_product_similar</th></tr><tr><td>bool</td><td>bool</td></tr></thead><tbody><tr><td>true</td><td>true</td></tr></tbody></table></div>"
      ],
      "text/plain": [
       "shape: (1, 2)\n",
       "┌──────────┬────────────────────────┐\n",
       "│ is_fraud ┆ camera_product_similar │\n",
       "│ ---      ┆ ---                    │\n",
       "│ bool     ┆ bool                   │\n",
       "╞══════════╪════════════════════════╡\n",
       "│ true     ┆ true                   │\n",
       "└──────────┴────────────────────────┘"
      ]
     },
     "execution_count": 58,
     "metadata": {},
     "output_type": "execute_result"
    }
   ],
   "source": [
    "(camera_frauds\n",
    " .with_columns((pl.col(\"label\") == \"FRAUD\").alias(\"is_fraud\"))\n",
    " .select(\n",
    "    pl.col(\"is_fraud\").all(),\n",
    "    pl.col(\"camera_product_similar\").not_().all()\n",
    ")).collect()"
   ]
  },
  {
   "cell_type": "code",
   "execution_count": 59,
   "id": "726879fe",
   "metadata": {},
   "outputs": [
    {
     "data": {
      "text/html": [
       "<div><style>\n",
       ".dataframe > thead > tr,\n",
       ".dataframe > tbody > tr {\n",
       "  text-align: right;\n",
       "  white-space: pre-wrap;\n",
       "}\n",
       "</style>\n",
       "<small>shape: (9, 6)</small><table border=\"1\" class=\"dataframe\"><thead><tr><th>statistic</th><th>transaction_id</th><th>label</th><th>damage</th><th>camera_product_similar</th><th>camera_certainty</th></tr><tr><td>str</td><td>str</td><td>str</td><td>f64</td><td>f64</td><td>f64</td></tr></thead><tbody><tr><td>&quot;count&quot;</td><td>&quot;500&quot;</td><td>&quot;500&quot;</td><td>500.0</td><td>500.0</td><td>500.0</td></tr><tr><td>&quot;null_count&quot;</td><td>&quot;0&quot;</td><td>&quot;0&quot;</td><td>0.0</td><td>0.0</td><td>0.0</td></tr><tr><td>&quot;mean&quot;</td><td>null</td><td>null</td><td>14.94988</td><td>0.0</td><td>0.955847</td></tr><tr><td>&quot;std&quot;</td><td>null</td><td>null</td><td>14.67362</td><td>null</td><td>0.062179</td></tr><tr><td>&quot;min&quot;</td><td>&quot;00b6104a-29dc-491b-8687-129ff4…</td><td>&quot;FRAUD&quot;</td><td>0.19</td><td>0.0</td><td>0.639371</td></tr><tr><td>&quot;25%&quot;</td><td>null</td><td>null</td><td>4.36</td><td>null</td><td>0.923147</td></tr><tr><td>&quot;50%&quot;</td><td>null</td><td>null</td><td>11.12</td><td>null</td><td>0.992971</td></tr><tr><td>&quot;75%&quot;</td><td>null</td><td>null</td><td>20.45</td><td>null</td><td>1.0</td></tr><tr><td>&quot;max&quot;</td><td>&quot;ff6d257e-9a6e-410c-9a71-080fc6…</td><td>&quot;FRAUD&quot;</td><td>83.9</td><td>0.0</td><td>1.0</td></tr></tbody></table></div>"
      ],
      "text/plain": [
       "shape: (9, 6)\n",
       "┌────────────┬───────────────────────┬───────┬──────────┬───────────────────────┬──────────────────┐\n",
       "│ statistic  ┆ transaction_id        ┆ label ┆ damage   ┆ camera_product_simila ┆ camera_certainty │\n",
       "│ ---        ┆ ---                   ┆ ---   ┆ ---      ┆ r                     ┆ ---              │\n",
       "│ str        ┆ str                   ┆ str   ┆ f64      ┆ ---                   ┆ f64              │\n",
       "│            ┆                       ┆       ┆          ┆ f64                   ┆                  │\n",
       "╞════════════╪═══════════════════════╪═══════╪══════════╪═══════════════════════╪══════════════════╡\n",
       "│ count      ┆ 500                   ┆ 500   ┆ 500.0    ┆ 500.0                 ┆ 500.0            │\n",
       "│ null_count ┆ 0                     ┆ 0     ┆ 0.0      ┆ 0.0                   ┆ 0.0              │\n",
       "│ mean       ┆ null                  ┆ null  ┆ 14.94988 ┆ 0.0                   ┆ 0.955847         │\n",
       "│ std        ┆ null                  ┆ null  ┆ 14.67362 ┆ null                  ┆ 0.062179         │\n",
       "│ min        ┆ 00b6104a-29dc-491b-86 ┆ FRAUD ┆ 0.19     ┆ 0.0                   ┆ 0.639371         │\n",
       "│            ┆ 87-129ff4…            ┆       ┆          ┆                       ┆                  │\n",
       "│ 25%        ┆ null                  ┆ null  ┆ 4.36     ┆ null                  ┆ 0.923147         │\n",
       "│ 50%        ┆ null                  ┆ null  ┆ 11.12    ┆ null                  ┆ 0.992971         │\n",
       "│ 75%        ┆ null                  ┆ null  ┆ 20.45    ┆ null                  ┆ 1.0              │\n",
       "│ max        ┆ ff6d257e-9a6e-410c-9a ┆ FRAUD ┆ 83.9     ┆ 0.0                   ┆ 1.0              │\n",
       "│            ┆ 71-080fc6…            ┆       ┆          ┆                       ┆                  │\n",
       "└────────────┴───────────────────────┴───────┴──────────┴───────────────────────┴──────────────────┘"
      ]
     },
     "execution_count": 59,
     "metadata": {},
     "output_type": "execute_result"
    }
   ],
   "source": [
    "camera_frauds.describe()"
   ]
  },
  {
   "cell_type": "markdown",
   "id": "ab53efe7",
   "metadata": {},
   "source": [
    "# Summary"
   ]
  },
  {
   "cell_type": "code",
   "execution_count": 61,
   "id": "7bac5a4e",
   "metadata": {},
   "outputs": [],
   "source": [
    "n_lines = camera_frauds.select(pl.len()).collect()[0,0]\n",
    "n_transactions = camera_frauds.select(\"transaction_id\").unique().select(pl.len()).collect()[0, 0]\n",
    "n_frauds = transactions.filter(pl.col(\"label\") == \"FRAUD\").select(pl.len()).collect()[0, 0]\n",
    "\n",
    "total_damage_non_scanned = (camera_frauds.group_by(\"transaction_id\")\n",
    "  .agg([\n",
    "    pl.col(\"label\").first().alias(\"label\"),\n",
    "    pl.col(\"damage\").first().alias(\"damage\"),\n",
    "  ])\n",
    ").select(pl.col(\"damage\").sum().alias(\"total_damage\")).collect()[0,0]\n",
    "\n",
    "total_damage = transactions.select(pl.col(\"damage\").sum().alias(\"total_damage\")).collect()[0,0]"
   ]
  },
  {
   "cell_type": "code",
   "execution_count": 63,
   "id": "a5440a3c",
   "metadata": {},
   "outputs": [
    {
     "name": "stdout",
     "output_type": "stream",
     "text": [
      "Anzahl nicht gescannte Lines:                             500\n",
      "Anzahl Transaktion mit nicht gescannten Lines:            377\n",
      "Anzahl Transaktionen mit FRAUD:                          4656\n",
      "Anteil:                                                 12.35\n",
      "Schaden der nicht gescannten Lines:                   5088.38\n",
      "Schaden aller Transaktionen:                         35172.12\n",
      "Anteil Schaden nicht gescannter Lines:                  14.47\n"
     ]
    }
   ],
   "source": [
    "def print_aligned(text, value):\n",
    "    if isinstance(value, float):\n",
    "      print(f\"{text: <50} {value:>10.2f}\")\n",
    "    else:\n",
    "      print(f\"{text: <50} {value:>10}\")\n",
    "\n",
    "# Anzahl Transaktionen mit FRAUD, Anzahl nicht gescannte Lines, Anzahl Transaktion mit nicht gescannten Lines\n",
    "print_aligned(\"Anzahl nicht gescannte Lines:\", n_lines)\n",
    "print_aligned(\"Anzahl Transaktion mit nicht gescannten Lines:\", n_transactions)\n",
    "print_aligned(\"Anzahl Transaktionen mit FRAUD:\", n_frauds)\n",
    "print_aligned(\"Anteil:\", n_frauds / n_transactions)\n",
    "\n",
    "# Schaden der nicht gescannten Lines, Schaden aller Transaktionen\n",
    "print_aligned(\"Schaden der nicht gescannten Lines:\", total_damage_non_scanned)\n",
    "print_aligned(\"Schaden aller Transaktionen:\", total_damage)\n",
    "# Anteil Schaden nicht gescannter Lines am Gesamtschaden\n",
    "print_aligned(\"Anteil Schaden nicht gescannter Lines:\", total_damage_non_scanned / total_damage * 100)\n"
   ]
  }
 ],
 "metadata": {
  "kernelspec": {
   "display_name": ".venv",
   "language": "python",
   "name": "python3"
  },
  "language_info": {
   "codemirror_mode": {
    "name": "ipython",
    "version": 3
   },
   "file_extension": ".py",
   "mimetype": "text/x-python",
   "name": "python",
   "nbconvert_exporter": "python",
   "pygments_lexer": "ipython3",
   "version": "3.12.9"
  }
 },
 "nbformat": 4,
 "nbformat_minor": 5
}

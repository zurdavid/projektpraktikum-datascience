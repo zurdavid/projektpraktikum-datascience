{
 "cells": [
  {
   "cell_type": "code",
   "execution_count": 2,
   "id": "8da10db6",
   "metadata": {},
   "outputs": [],
   "source": [
    "import polars as pl\n",
    "from scipy.stats import chi2_contingency\n",
    "from pathlib import Path\n",
    "\n",
    "data_dir = Path(\"../data\")\n",
    "\n",
    "transactions = pl.scan_parquet(data_dir / \"transactions_train_3.parquet\")\n"
   ]
  },
  {
   "cell_type": "markdown",
   "id": "1551f2fc",
   "metadata": {},
   "source": [
    "Die Spalte customer_feedback enthält nur in 7.6% der Fälle einen Wert. Der Mittelwert ist mit 9.3 aussergewöhnlich hoch, schon das 25%Quantil liegt bei 10.0. Es ist daher fraglich ob die Spalte für die Analyse nützlich ist."
   ]
  },
  {
   "cell_type": "code",
   "execution_count": 10,
   "id": "e9d14c71",
   "metadata": {},
   "outputs": [
    {
     "name": "stdout",
     "output_type": "stream",
     "text": [
      "Non-missing values in percent: 7.60%\n"
     ]
    },
    {
     "data": {
      "text/html": [
       "<div><style>\n",
       ".dataframe > thead > tr,\n",
       ".dataframe > tbody > tr {\n",
       "  text-align: right;\n",
       "  white-space: pre-wrap;\n",
       "}\n",
       "</style>\n",
       "<small>shape: (9, 2)</small><table border=\"1\" class=\"dataframe\"><thead><tr><th>statistic</th><th>customer_feedback</th></tr><tr><td>str</td><td>f64</td></tr></thead><tbody><tr><td>&quot;count&quot;</td><td>104720.0</td></tr><tr><td>&quot;null_count&quot;</td><td>1.377063e6</td></tr><tr><td>&quot;mean&quot;</td><td>9.319385</td></tr><tr><td>&quot;std&quot;</td><td>1.713751</td></tr><tr><td>&quot;min&quot;</td><td>1.0</td></tr><tr><td>&quot;25%&quot;</td><td>10.0</td></tr><tr><td>&quot;50%&quot;</td><td>10.0</td></tr><tr><td>&quot;75%&quot;</td><td>10.0</td></tr><tr><td>&quot;max&quot;</td><td>10.0</td></tr></tbody></table></div>"
      ],
      "text/plain": [
       "shape: (9, 2)\n",
       "┌────────────┬───────────────────┐\n",
       "│ statistic  ┆ customer_feedback │\n",
       "│ ---        ┆ ---               │\n",
       "│ str        ┆ f64               │\n",
       "╞════════════╪═══════════════════╡\n",
       "│ count      ┆ 104720.0          │\n",
       "│ null_count ┆ 1.377063e6        │\n",
       "│ mean       ┆ 9.319385          │\n",
       "│ std        ┆ 1.713751          │\n",
       "│ min        ┆ 1.0               │\n",
       "│ 25%        ┆ 10.0              │\n",
       "│ 50%        ┆ 10.0              │\n",
       "│ 75%        ┆ 10.0              │\n",
       "│ max        ┆ 10.0              │\n",
       "└────────────┴───────────────────┘"
      ]
     },
     "execution_count": 10,
     "metadata": {},
     "output_type": "execute_result"
    }
   ],
   "source": [
    "feedback = transactions.select(\"customer_feedback\").describe()\n",
    "\n",
    "non_missing_values_in_percent = feedback[0,1] / feedback[1,1]\n",
    "print(f\"Non-missing values in percent: {non_missing_values_in_percent:.2%}\")\n",
    "\n",
    "feedback"
   ]
  },
  {
   "cell_type": "markdown",
   "id": "9c65a229",
   "metadata": {},
   "source": [
    "Ein Chi-Quadrat-Test zeigt aber, dass zumindest das Vorhandensein eines Wertes in der Spalte für unsere Analyse relevant ist. Der p-Wert ist mit 0.001 deutlich kleiner als 0.05. Wir können also die Nullhypothese ablehnen und annehmen, dass es einen Zusammenhang zwischen dem Vorhandensein von customer_feedback und einem Betrugsfall gibt."
   ]
  },
  {
   "cell_type": "code",
   "execution_count": 11,
   "id": "1e8b094a",
   "metadata": {},
   "outputs": [
    {
     "name": "stdout",
     "output_type": "stream",
     "text": [
      "Contingency table:\n",
      "shape: (2, 3)\n",
      "┌──────────────┬───────┬────────┐\n",
      "│ has_feedback ┆ FRAUD ┆ NORMAL │\n",
      "│ ---          ┆ ---   ┆ ---    │\n",
      "│ i8           ┆ u32   ┆ u32    │\n",
      "╞══════════════╪═══════╪════════╡\n",
      "│ 0            ┆ 4307  ┆ 133074 │\n",
      "│ 1            ┆ 349   ┆ 10295  │\n",
      "└──────────────┴───────┴────────┘\n",
      "Expected frequencies:\n",
      "shape: (2, 3)\n",
      "┌──────────────┬─────────────┬───────────────┐\n",
      "│ has_feedback ┆ FRAUD       ┆ NORMAL        │\n",
      "│ ---          ┆ ---         ┆ ---           │\n",
      "│ f64          ┆ f64         ┆ f64           │\n",
      "╞══════════════╪═════════════╪═══════════════╡\n",
      "│ 0.928087     ┆ 4321.172875 ┆ 133058.899038 │\n",
      "│ 0.071913     ┆ 334.827125  ┆ 10310.100962  │\n",
      "└──────────────┴─────────────┴───────────────┘\n",
      "Chi-squared test result: chi2=13.575923099027321, p-value=0.0011272643061889648, dof=2\n"
     ]
    }
   ],
   "source": [
    "transactions_labeled = transactions.filter(pl.col(\"label\") != \"UNKNOWN\").select(\n",
    "    (\n",
    "        pl.col(\"customer_feedback\").is_not_null().cast(pl.Int8).alias(\"has_feedback\"),\n",
    "        pl.col(\"label\"),\n",
    "    )\n",
    ")\n",
    "\n",
    "col1 = \"has_feedback\"\n",
    "col2 = \"label\"\n",
    "\n",
    "contingency_table = (\n",
    "    transactions_labeled\n",
    "    .group_by(col1, col2)\n",
    "    .agg(pl.len().alias(\"count\"))\n",
    "    .collect()\n",
    "    .pivot(values=\"count\", index=col1, on=col2)\n",
    ")\n",
    "contingency_table.to_numpy()\n",
    "chi2, p, dof, exp = chi2_contingency(contingency_table)\n",
    "exp = pl.DataFrame(exp, schema=contingency_table.columns)\n",
    "\n",
    "print(f\"Contingency table:\\n{contingency_table}\")\n",
    "print(f\"Expected frequencies:\\n{exp}\")\n",
    "print(f\"Chi-squared test result: chi2={chi2}, p-value={p}, dof={dof}\")"
   ]
  }
 ],
 "metadata": {
  "kernelspec": {
   "display_name": ".venv",
   "language": "python",
   "name": "python3"
  },
  "language_info": {
   "codemirror_mode": {
    "name": "ipython",
    "version": 3
   },
   "file_extension": ".py",
   "mimetype": "text/x-python",
   "name": "python",
   "nbconvert_exporter": "python",
   "pygments_lexer": "ipython3",
   "version": "3.12.9"
  }
 },
 "nbformat": 4,
 "nbformat_minor": 5
}

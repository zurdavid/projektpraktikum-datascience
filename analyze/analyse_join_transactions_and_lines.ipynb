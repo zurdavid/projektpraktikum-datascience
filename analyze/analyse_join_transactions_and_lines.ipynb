{
 "cells": [
  {
   "cell_type": "markdown",
   "id": "0a9d300d",
   "metadata": {},
   "source": [
    "# Join Transaktionen und Lines\n",
    "\n",
    "Ein Left-Join von Transaktionen und Lines ergibt eine Tabelle, die 13 Zeilen mehr als die Lines-Tabelle hat. Das liegt daran, dass es 13 Transaktionen gibt, die keine zugehörigen Lines haben. \n",
    "\n",
    "Die Daten sind aber konsistent, da die entsprechenden Transaktionen n_lines = 0 haben.\n",
    "\n",
    "Von den 13 Transaktionen ist eine gelabelt. \n",
    "\n",
    "Fazit: Da es sich nur um 13 Transaktionen handelt und nur eine davon gelabelt ist, können sie entfernt werden."
   ]
  },
  {
   "cell_type": "code",
   "execution_count": 2,
   "id": "ca76cdd0",
   "metadata": {},
   "outputs": [],
   "source": [
    "import polars as pl\n",
    "from pathlib import Path\n",
    "\n",
    "data_dir = Path(\"../data\")\n",
    "\n",
    "transactions = pl.scan_parquet(data_dir / \"transactions_train_3.parquet\")\n",
    "lines = pl.scan_parquet(data_dir / \"transaction_lines_train_3.parquet\")\n",
    "\n",
    "joined = transactions.join(\n",
    "  lines,\n",
    "  left_on=\"id\",\n",
    "  right_on=\"transaction_id\",\n",
    "  suffix=\"__lines\",\n",
    "  how=\"left\",\n",
    ")"
   ]
  },
  {
   "cell_type": "code",
   "execution_count": 3,
   "id": "4ca51c8e",
   "metadata": {},
   "outputs": [
    {
     "name": "stdout",
     "output_type": "stream",
     "text": [
      "Number of rows in lines                                     15_793_671\n",
      "Number of rows in joined transactions and lines             15_793_684\n",
      "Difference in number of rows: 13\n"
     ]
    }
   ],
   "source": [
    "n_rows_lines = lines.select(pl.len()).collect().item()\n",
    "n_rows_lines = f\"{n_rows_lines:_}\"\n",
    "print(f\"{'Number of rows in lines':<55}{n_rows_lines:>15}\")\n",
    "\n",
    "n_rows_joined = joined.select(pl.len()).collect().item()\n",
    "n_rows_joined = f\"{n_rows_joined:_}\"\n",
    "print(f\"{'Number of rows in joined transactions and lines':<55}{n_rows_joined:>15}\")\n",
    "\n",
    "print(f\"Difference in number of rows: {int(n_rows_joined) - int(n_rows_lines)}\")"
   ]
  },
  {
   "cell_type": "markdown",
   "id": "bb7559a9",
   "metadata": {},
   "source": [
    "Die Join-Tabelle aus Transaktionen und Lines hat 13 Zeilen mehr als die Lines-Tabelle.\n",
    "\n",
    "Grund: 13 Transaktionen haben keine matching lines"
   ]
  },
  {
   "cell_type": "code",
   "execution_count": 8,
   "id": "3d7ee551",
   "metadata": {},
   "outputs": [
    {
     "data": {
      "text/html": [
       "<div><style>\n",
       ".dataframe > thead > tr,\n",
       ".dataframe > tbody > tr {\n",
       "  text-align: right;\n",
       "  white-space: pre-wrap;\n",
       "}\n",
       "</style>\n",
       "<small>shape: (2, 3)</small><table border=\"1\" class=\"dataframe\"><thead><tr><th>statistic</th><th>id</th><th>id__lines</th></tr><tr><td>str</td><td>str</td><td>f64</td></tr></thead><tbody><tr><td>&quot;count&quot;</td><td>&quot;15793684&quot;</td><td>1.5793671e7</td></tr><tr><td>&quot;null_count&quot;</td><td>&quot;0&quot;</td><td>13.0</td></tr></tbody></table></div>"
      ],
      "text/plain": [
       "shape: (2, 3)\n",
       "┌────────────┬──────────┬─────────────┐\n",
       "│ statistic  ┆ id       ┆ id__lines   │\n",
       "│ ---        ┆ ---      ┆ ---         │\n",
       "│ str        ┆ str      ┆ f64         │\n",
       "╞════════════╪══════════╪═════════════╡\n",
       "│ count      ┆ 15793684 ┆ 1.5793671e7 │\n",
       "│ null_count ┆ 0        ┆ 13.0        │\n",
       "└────────────┴──────────┴─────────────┘"
      ]
     },
     "execution_count": 8,
     "metadata": {},
     "output_type": "execute_result"
    }
   ],
   "source": [
    "joined.select([\"id\", \"id__lines\"]).describe().filter(pl.col(\"statistic\").is_in([\"count\", \"null_count\"]))"
   ]
  },
  {
   "cell_type": "markdown",
   "id": "8d2ad9c7",
   "metadata": {},
   "source": [
    "Die Daten sind konsistent: bei fehlenden id_lines ist die Spalte n_lines = 0"
   ]
  },
  {
   "cell_type": "code",
   "execution_count": 9,
   "id": "0396411f",
   "metadata": {},
   "outputs": [
    {
     "data": {
      "text/html": [
       "<div><style>\n",
       ".dataframe > thead > tr,\n",
       ".dataframe > tbody > tr {\n",
       "  text-align: right;\n",
       "  white-space: pre-wrap;\n",
       "}\n",
       "</style>\n",
       "<small>shape: (3, 5)</small><table border=\"1\" class=\"dataframe\"><thead><tr><th>statistic</th><th>id</th><th>id__lines</th><th>n_lines</th><th>damage</th></tr><tr><td>str</td><td>str</td><td>f64</td><td>f64</td><td>f64</td></tr></thead><tbody><tr><td>&quot;count&quot;</td><td>&quot;13&quot;</td><td>0.0</td><td>13.0</td><td>1.0</td></tr><tr><td>&quot;null_count&quot;</td><td>&quot;0&quot;</td><td>13.0</td><td>0.0</td><td>12.0</td></tr><tr><td>&quot;mean&quot;</td><td>null</td><td>null</td><td>0.0</td><td>7.92</td></tr></tbody></table></div>"
      ],
      "text/plain": [
       "shape: (3, 5)\n",
       "┌────────────┬──────┬───────────┬─────────┬────────┐\n",
       "│ statistic  ┆ id   ┆ id__lines ┆ n_lines ┆ damage │\n",
       "│ ---        ┆ ---  ┆ ---       ┆ ---     ┆ ---    │\n",
       "│ str        ┆ str  ┆ f64       ┆ f64     ┆ f64    │\n",
       "╞════════════╪══════╪═══════════╪═════════╪════════╡\n",
       "│ count      ┆ 13   ┆ 0.0       ┆ 13.0    ┆ 1.0    │\n",
       "│ null_count ┆ 0    ┆ 13.0      ┆ 0.0     ┆ 12.0   │\n",
       "│ mean       ┆ null ┆ null      ┆ 0.0     ┆ 7.92   │\n",
       "└────────────┴──────┴───────────┴─────────┴────────┘"
      ]
     },
     "execution_count": 9,
     "metadata": {},
     "output_type": "execute_result"
    }
   ],
   "source": [
    "joined.select([\"id\", \"id__lines\", \"n_lines\", \"damage\"]).filter(pl.col(\"id__lines\").is_null()).describe().filter(pl.col(\"statistic\").is_in([\"count\", \"null_count\", \"mean\"]))"
   ]
  },
  {
   "cell_type": "markdown",
   "id": "bf841df1",
   "metadata": {},
   "source": [
    "Es gibt allerdings auch Transaktionen mit n_lines = 0, denen Lines zugeordnet sind (allerdings ist dann was_voided = true, somit ist die Konsistenz erhalten). "
   ]
  },
  {
   "cell_type": "code",
   "execution_count": 15,
   "id": "66be4506",
   "metadata": {},
   "outputs": [
    {
     "name": "stdout",
     "output_type": "stream",
     "text": [
      "Number of transactions with zero lines: 104\n"
     ]
    },
    {
     "data": {
      "text/html": [
       "<div><style>\n",
       ".dataframe > thead > tr,\n",
       ".dataframe > tbody > tr {\n",
       "  text-align: right;\n",
       "  white-space: pre-wrap;\n",
       "}\n",
       "</style>\n",
       "<small>shape: (9, 6)</small><table border=\"1\" class=\"dataframe\"><thead><tr><th>statistic</th><th>id</th><th>n_lines</th><th>id__lines</th><th>was_voided</th><th>damage</th></tr><tr><td>str</td><td>str</td><td>f64</td><td>f64</td><td>f64</td><td>f64</td></tr></thead><tbody><tr><td>&quot;count&quot;</td><td>&quot;120&quot;</td><td>120.0</td><td>107.0</td><td>107.0</td><td>15.0</td></tr><tr><td>&quot;null_count&quot;</td><td>&quot;0&quot;</td><td>0.0</td><td>13.0</td><td>13.0</td><td>105.0</td></tr><tr><td>&quot;mean&quot;</td><td>null</td><td>0.0</td><td>1.149533</td><td>1.0</td><td>8.778667</td></tr><tr><td>&quot;std&quot;</td><td>null</td><td>0.0</td><td>0.358291</td><td>null</td><td>6.722329</td></tr><tr><td>&quot;min&quot;</td><td>&quot;00cf6219-d731-4a1f-9cd1-bbd556…</td><td>0.0</td><td>1.0</td><td>1.0</td><td>1.17</td></tr><tr><td>&quot;25%&quot;</td><td>null</td><td>0.0</td><td>1.0</td><td>null</td><td>3.92</td></tr><tr><td>&quot;50%&quot;</td><td>null</td><td>0.0</td><td>1.0</td><td>null</td><td>6.38</td></tr><tr><td>&quot;75%&quot;</td><td>null</td><td>0.0</td><td>1.0</td><td>null</td><td>14.32</td></tr><tr><td>&quot;max&quot;</td><td>&quot;fe0eb499-d2e6-4ea8-9ade-94ee35…</td><td>0.0</td><td>2.0</td><td>1.0</td><td>20.79</td></tr></tbody></table></div>"
      ],
      "text/plain": [
       "shape: (9, 6)\n",
       "┌────────────┬─────────────────────────────────┬─────────┬───────────┬────────────┬──────────┐\n",
       "│ statistic  ┆ id                              ┆ n_lines ┆ id__lines ┆ was_voided ┆ damage   │\n",
       "│ ---        ┆ ---                             ┆ ---     ┆ ---       ┆ ---        ┆ ---      │\n",
       "│ str        ┆ str                             ┆ f64     ┆ f64       ┆ f64        ┆ f64      │\n",
       "╞════════════╪═════════════════════════════════╪═════════╪═══════════╪════════════╪══════════╡\n",
       "│ count      ┆ 120                             ┆ 120.0   ┆ 107.0     ┆ 107.0      ┆ 15.0     │\n",
       "│ null_count ┆ 0                               ┆ 0.0     ┆ 13.0      ┆ 13.0       ┆ 105.0    │\n",
       "│ mean       ┆ null                            ┆ 0.0     ┆ 1.149533  ┆ 1.0        ┆ 8.778667 │\n",
       "│ std        ┆ null                            ┆ 0.0     ┆ 0.358291  ┆ null       ┆ 6.722329 │\n",
       "│ min        ┆ 00cf6219-d731-4a1f-9cd1-bbd556… ┆ 0.0     ┆ 1.0       ┆ 1.0        ┆ 1.17     │\n",
       "│ 25%        ┆ null                            ┆ 0.0     ┆ 1.0       ┆ null       ┆ 3.92     │\n",
       "│ 50%        ┆ null                            ┆ 0.0     ┆ 1.0       ┆ null       ┆ 6.38     │\n",
       "│ 75%        ┆ null                            ┆ 0.0     ┆ 1.0       ┆ null       ┆ 14.32    │\n",
       "│ max        ┆ fe0eb499-d2e6-4ea8-9ade-94ee35… ┆ 0.0     ┆ 2.0       ┆ 1.0        ┆ 20.79    │\n",
       "└────────────┴─────────────────────────────────┴─────────┴───────────┴────────────┴──────────┘"
      ]
     },
     "execution_count": 15,
     "metadata": {},
     "output_type": "execute_result"
    }
   ],
   "source": [
    "n_transactions_with_zero_lines =  joined.select(\"id\", \"n_lines\", \"id__lines\", \"damage\").filter(pl.col(\"n_lines\") == 0).select(\"id\").unique().select(pl.len()).collect().item()\n",
    "print(f\"Number of transactions with zero lines: {n_transactions_with_zero_lines:_}\")\n",
    "\n",
    "joined.select(\"id\", \"n_lines\", \"id__lines\", \"was_voided\", \"damage\").filter(pl.col(\"n_lines\") == 0).describe()"
   ]
  },
  {
   "cell_type": "markdown",
   "id": "eb3a2e2b",
   "metadata": {},
   "source": [
    "12 der Transaktionen mit fehlenden Lines sind nicht gelabelt bei einer handelt es sich um Betrug"
   ]
  },
  {
   "cell_type": "code",
   "execution_count": 3,
   "id": "5f1980a9",
   "metadata": {},
   "outputs": [
    {
     "data": {
      "text/html": [
       "<div><style>\n",
       ".dataframe > thead > tr,\n",
       ".dataframe > tbody > tr {\n",
       "  text-align: right;\n",
       "  white-space: pre-wrap;\n",
       "}\n",
       "</style>\n",
       "<small>shape: (2, 3)</small><table border=\"1\" class=\"dataframe\"><thead><tr><th>label</th><th>n_lines</th><th>count</th></tr><tr><td>str</td><td>i64</td><td>u32</td></tr></thead><tbody><tr><td>&quot;FRAUD&quot;</td><td>0</td><td>1</td></tr><tr><td>&quot;UNKNOWN&quot;</td><td>0</td><td>12</td></tr></tbody></table></div>"
      ],
      "text/plain": [
       "shape: (2, 3)\n",
       "┌─────────┬─────────┬───────┐\n",
       "│ label   ┆ n_lines ┆ count │\n",
       "│ ---     ┆ ---     ┆ ---   │\n",
       "│ str     ┆ i64     ┆ u32   │\n",
       "╞═════════╪═════════╪═══════╡\n",
       "│ FRAUD   ┆ 0       ┆ 1     │\n",
       "│ UNKNOWN ┆ 0       ┆ 12    │\n",
       "└─────────┴─────────┴───────┘"
      ]
     },
     "execution_count": 3,
     "metadata": {},
     "output_type": "execute_result"
    }
   ],
   "source": [
    "(joined\n",
    "  .filter(pl.col(\"id__lines\").is_null())\n",
    "  .group_by(\"label\", \"n_lines\")\n",
    "  .agg(pl.len().alias(\"count\"))\n",
    ").collect()"
   ]
  }
 ],
 "metadata": {
  "kernelspec": {
   "display_name": ".venv",
   "language": "python",
   "name": "python3"
  },
  "language_info": {
   "codemirror_mode": {
    "name": "ipython",
    "version": 3
   },
   "file_extension": ".py",
   "mimetype": "text/x-python",
   "name": "python",
   "nbconvert_exporter": "python",
   "pygments_lexer": "ipython3",
   "version": "3.12.9"
  }
 },
 "nbformat": 4,
 "nbformat_minor": 5
}

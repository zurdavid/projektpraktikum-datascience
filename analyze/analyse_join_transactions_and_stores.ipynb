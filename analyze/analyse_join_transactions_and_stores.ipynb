{
 "cells": [
  {
   "cell_type": "code",
   "execution_count": 2,
   "id": "39ad4620",
   "metadata": {},
   "outputs": [],
   "source": [
    "import polars as pl\n",
    "from pathlib import Path"
   ]
  },
  {
   "cell_type": "code",
   "execution_count": 3,
   "id": "3ec4c485",
   "metadata": {},
   "outputs": [],
   "source": [
    "data_dir = Path(\"../data\")\n",
    "\n",
    "stores = pl.scan_csv(data_dir / \"stores.csv\")\n",
    "transactions = pl.scan_parquet(data_dir / \"transactions_train_3.parquet\")\n",
    "transactions_labeled = transactions.filter(pl.col(\"label\") != \"UNKNOWN\")\n",
    "\n",
    "transactions_test = pl.scan_parquet(data_dir / \"transactions_test_3.parquet\")"
   ]
  },
  {
   "cell_type": "markdown",
   "id": "e28c9f3b",
   "metadata": {},
   "source": [
    "# Stores in transactions"
   ]
  },
  {
   "cell_type": "code",
   "execution_count": 3,
   "id": "d72116ed",
   "metadata": {},
   "outputs": [
    {
     "name": "stdout",
     "output_type": "stream",
     "text": [
      "Number of stores: 18\n",
      "Number of stores in transactions: 5\n"
     ]
    }
   ],
   "source": [
    "n_stores = len(stores.select(\"id\").unique().collect())\n",
    "transaction_store_ids = transactions.select(\"store_id\").unique().collect()\n",
    "n_stores_in_transactions = len(transaction_store_ids)\n",
    "\n",
    "\n",
    "print(f\"Number of stores: {n_stores}\")\n",
    "print(f\"Number of stores in transactions: {n_stores_in_transactions}\")"
   ]
  },
  {
   "cell_type": "markdown",
   "id": "24115c01",
   "metadata": {},
   "source": [
    "## Anzahl Transaktionen pro Store"
   ]
  },
  {
   "cell_type": "markdown",
   "id": "9d6978e7",
   "metadata": {},
   "source": [
    "Verhältnis von Transaktionen pro Store (auf ganzer und gelabelter Datenbasis)"
   ]
  },
  {
   "cell_type": "code",
   "execution_count": 8,
   "id": "f6fa42fc",
   "metadata": {},
   "outputs": [
    {
     "data": {
      "text/html": [
       "<div><style>\n",
       ".dataframe > thead > tr,\n",
       ".dataframe > tbody > tr {\n",
       "  text-align: right;\n",
       "  white-space: pre-wrap;\n",
       "}\n",
       "</style>\n",
       "<small>shape: (5, 3)</small><table border=\"1\" class=\"dataframe\"><thead><tr><th>store_id</th><th>count</th><th>proportion</th></tr><tr><td>str</td><td>u32</td><td>f64</td></tr></thead><tbody><tr><td>&quot;6a7406ec-4ebb-4df7-83ce-952866…</td><td>377817</td><td>0.254975</td></tr><tr><td>&quot;46e6da32-f4b0-40f3-ada7-fc6ca8…</td><td>377446</td><td>0.254724</td></tr><tr><td>&quot;cd833b6b-0666-42df-b538-6bb1f1…</td><td>298486</td><td>0.201437</td></tr><tr><td>&quot;3fffea06-686f-42bd-8362-818af8…</td><td>232882</td><td>0.157163</td></tr><tr><td>&quot;581831fc-6a03-4e38-9025-0a889b…</td><td>195152</td><td>0.131701</td></tr></tbody></table></div>"
      ],
      "text/plain": [
       "shape: (5, 3)\n",
       "┌─────────────────────────────────┬────────┬────────────┐\n",
       "│ store_id                        ┆ count  ┆ proportion │\n",
       "│ ---                             ┆ ---    ┆ ---        │\n",
       "│ str                             ┆ u32    ┆ f64        │\n",
       "╞═════════════════════════════════╪════════╪════════════╡\n",
       "│ 6a7406ec-4ebb-4df7-83ce-952866… ┆ 377817 ┆ 0.254975   │\n",
       "│ 46e6da32-f4b0-40f3-ada7-fc6ca8… ┆ 377446 ┆ 0.254724   │\n",
       "│ cd833b6b-0666-42df-b538-6bb1f1… ┆ 298486 ┆ 0.201437   │\n",
       "│ 3fffea06-686f-42bd-8362-818af8… ┆ 232882 ┆ 0.157163   │\n",
       "│ 581831fc-6a03-4e38-9025-0a889b… ┆ 195152 ┆ 0.131701   │\n",
       "└─────────────────────────────────┴────────┴────────────┘"
      ]
     },
     "execution_count": 8,
     "metadata": {},
     "output_type": "execute_result"
    }
   ],
   "source": [
    "transactions_per_store = (transactions\n",
    "  .group_by(\"store_id\")\n",
    "  .agg(pl.len().alias(\"count\"))\n",
    "  .with_columns((pl.col(\"count\") / pl.col(\"count\").sum()).alias(\"proportion\"))\n",
    "  .sort(\"count\", descending=True)\n",
    ")\n",
    "transactions_per_store.collect()"
   ]
  },
  {
   "cell_type": "code",
   "execution_count": 9,
   "id": "88e3c4af",
   "metadata": {},
   "outputs": [
    {
     "data": {
      "text/html": [
       "<div><style>\n",
       ".dataframe > thead > tr,\n",
       ".dataframe > tbody > tr {\n",
       "  text-align: right;\n",
       "  white-space: pre-wrap;\n",
       "}\n",
       "</style>\n",
       "<small>shape: (5, 3)</small><table border=\"1\" class=\"dataframe\"><thead><tr><th>store_id</th><th>count</th><th>proportion</th></tr><tr><td>str</td><td>u32</td><td>f64</td></tr></thead><tbody><tr><td>&quot;46e6da32-f4b0-40f3-ada7-fc6ca8…</td><td>37921</td><td>0.25618</td></tr><tr><td>&quot;6a7406ec-4ebb-4df7-83ce-952866…</td><td>37378</td><td>0.252511</td></tr><tr><td>&quot;cd833b6b-0666-42df-b538-6bb1f1…</td><td>30061</td><td>0.203081</td></tr><tr><td>&quot;3fffea06-686f-42bd-8362-818af8…</td><td>23110</td><td>0.156122</td></tr><tr><td>&quot;581831fc-6a03-4e38-9025-0a889b…</td><td>19555</td><td>0.132106</td></tr></tbody></table></div>"
      ],
      "text/plain": [
       "shape: (5, 3)\n",
       "┌─────────────────────────────────┬───────┬────────────┐\n",
       "│ store_id                        ┆ count ┆ proportion │\n",
       "│ ---                             ┆ ---   ┆ ---        │\n",
       "│ str                             ┆ u32   ┆ f64        │\n",
       "╞═════════════════════════════════╪═══════╪════════════╡\n",
       "│ 46e6da32-f4b0-40f3-ada7-fc6ca8… ┆ 37921 ┆ 0.25618    │\n",
       "│ 6a7406ec-4ebb-4df7-83ce-952866… ┆ 37378 ┆ 0.252511   │\n",
       "│ cd833b6b-0666-42df-b538-6bb1f1… ┆ 30061 ┆ 0.203081   │\n",
       "│ 3fffea06-686f-42bd-8362-818af8… ┆ 23110 ┆ 0.156122   │\n",
       "│ 581831fc-6a03-4e38-9025-0a889b… ┆ 19555 ┆ 0.132106   │\n",
       "└─────────────────────────────────┴───────┴────────────┘"
      ]
     },
     "execution_count": 9,
     "metadata": {},
     "output_type": "execute_result"
    }
   ],
   "source": [
    "(transactions_labeled\n",
    "  .group_by(\"store_id\")\n",
    "  .agg(pl.len().alias(\"count\"))\n",
    "  .with_columns((pl.col(\"count\") / pl.col(\"count\").sum()).alias(\"proportion\"))\n",
    "  .sort(\"count\", descending=True)\n",
    ").collect()"
   ]
  },
  {
   "cell_type": "markdown",
   "id": "876735e6",
   "metadata": {},
   "source": [
    "Die Transaktionsdaten stammen aus 5 verschiedenen Filialen. "
   ]
  },
  {
   "cell_type": "code",
   "execution_count": 10,
   "id": "d305bfa8",
   "metadata": {},
   "outputs": [
    {
     "data": {
      "text/html": [
       "<div><style>\n",
       ".dataframe > thead > tr,\n",
       ".dataframe > tbody > tr {\n",
       "  text-align: right;\n",
       "  white-space: pre-wrap;\n",
       "}\n",
       "</style>\n",
       "<small>shape: (5, 8)</small><table border=\"1\" class=\"dataframe\"><thead><tr><th>store_id</th><th>count</th><th>proportion</th><th>opening_date</th><th>location</th><th>state</th><th>urbanization</th><th>sco_introduction</th></tr><tr><td>str</td><td>u32</td><td>f64</td><td>str</td><td>str</td><td>str</td><td>str</td><td>str</td></tr></thead><tbody><tr><td>&quot;6a7406ec-4ebb-4df7-83ce-952866…</td><td>377817</td><td>0.254975</td><td>&quot;1993-08-16&quot;</td><td>&quot;Düsseldorf&quot;</td><td>&quot;Nordrhein-Westfalen&quot;</td><td>&quot;TOWNS&quot;</td><td>&quot;2022-03-18&quot;</td></tr><tr><td>&quot;46e6da32-f4b0-40f3-ada7-fc6ca8…</td><td>377446</td><td>0.254724</td><td>&quot;2004-10-05&quot;</td><td>&quot;Stuttgart&quot;</td><td>&quot;Baden-Württemberg&quot;</td><td>&quot;CITIES&quot;</td><td>&quot;2022-02-08&quot;</td></tr><tr><td>&quot;cd833b6b-0666-42df-b538-6bb1f1…</td><td>298486</td><td>0.201437</td><td>&quot;2000-10-05&quot;</td><td>&quot;Köln&quot;</td><td>&quot;Nordrhein-Westfalen&quot;</td><td>&quot;RURAL&quot;</td><td>&quot;2022-02-02&quot;</td></tr><tr><td>&quot;3fffea06-686f-42bd-8362-818af8…</td><td>232882</td><td>0.157163</td><td>&quot;1998-02-17&quot;</td><td>&quot;Bonn&quot;</td><td>&quot;Nordrhein-Westfalen&quot;</td><td>&quot;TOWNS&quot;</td><td>&quot;2022-02-15&quot;</td></tr><tr><td>&quot;581831fc-6a03-4e38-9025-0a889b…</td><td>195152</td><td>0.131701</td><td>&quot;1990-07-17&quot;</td><td>&quot;Dortmund&quot;</td><td>&quot;Nordrhein-Westfalen&quot;</td><td>&quot;CITIES&quot;</td><td>&quot;2022-02-22&quot;</td></tr></tbody></table></div>"
      ],
      "text/plain": [
       "shape: (5, 8)\n",
       "┌────────────┬────────┬────────────┬────────────┬────────────┬────────────┬────────────┬───────────┐\n",
       "│ store_id   ┆ count  ┆ proportion ┆ opening_da ┆ location   ┆ state      ┆ urbanizati ┆ sco_intro │\n",
       "│ ---        ┆ ---    ┆ ---        ┆ te         ┆ ---        ┆ ---        ┆ on         ┆ duction   │\n",
       "│ str        ┆ u32    ┆ f64        ┆ ---        ┆ str        ┆ str        ┆ ---        ┆ ---       │\n",
       "│            ┆        ┆            ┆ str        ┆            ┆            ┆ str        ┆ str       │\n",
       "╞════════════╪════════╪════════════╪════════════╪════════════╪════════════╪════════════╪═══════════╡\n",
       "│ 6a7406ec-4 ┆ 377817 ┆ 0.254975   ┆ 1993-08-16 ┆ Düsseldorf ┆ Nordrhein- ┆ TOWNS      ┆ 2022-03-1 │\n",
       "│ ebb-4df7-8 ┆        ┆            ┆            ┆            ┆ Westfalen  ┆            ┆ 8         │\n",
       "│ 3ce-952866 ┆        ┆            ┆            ┆            ┆            ┆            ┆           │\n",
       "│ …          ┆        ┆            ┆            ┆            ┆            ┆            ┆           │\n",
       "│ 46e6da32-f ┆ 377446 ┆ 0.254724   ┆ 2004-10-05 ┆ Stuttgart  ┆ Baden-Würt ┆ CITIES     ┆ 2022-02-0 │\n",
       "│ 4b0-40f3-a ┆        ┆            ┆            ┆            ┆ temberg    ┆            ┆ 8         │\n",
       "│ da7-fc6ca8 ┆        ┆            ┆            ┆            ┆            ┆            ┆           │\n",
       "│ …          ┆        ┆            ┆            ┆            ┆            ┆            ┆           │\n",
       "│ cd833b6b-0 ┆ 298486 ┆ 0.201437   ┆ 2000-10-05 ┆ Köln       ┆ Nordrhein- ┆ RURAL      ┆ 2022-02-0 │\n",
       "│ 666-42df-b ┆        ┆            ┆            ┆            ┆ Westfalen  ┆            ┆ 2         │\n",
       "│ 538-6bb1f1 ┆        ┆            ┆            ┆            ┆            ┆            ┆           │\n",
       "│ …          ┆        ┆            ┆            ┆            ┆            ┆            ┆           │\n",
       "│ 3fffea06-6 ┆ 232882 ┆ 0.157163   ┆ 1998-02-17 ┆ Bonn       ┆ Nordrhein- ┆ TOWNS      ┆ 2022-02-1 │\n",
       "│ 86f-42bd-8 ┆        ┆            ┆            ┆            ┆ Westfalen  ┆            ┆ 5         │\n",
       "│ 362-818af8 ┆        ┆            ┆            ┆            ┆            ┆            ┆           │\n",
       "│ …          ┆        ┆            ┆            ┆            ┆            ┆            ┆           │\n",
       "│ 581831fc-6 ┆ 195152 ┆ 0.131701   ┆ 1990-07-17 ┆ Dortmund   ┆ Nordrhein- ┆ CITIES     ┆ 2022-02-2 │\n",
       "│ a03-4e38-9 ┆        ┆            ┆            ┆            ┆ Westfalen  ┆            ┆ 2         │\n",
       "│ 025-0a889b ┆        ┆            ┆            ┆            ┆            ┆            ┆           │\n",
       "│ …          ┆        ┆            ┆            ┆            ┆            ┆            ┆           │\n",
       "└────────────┴────────┴────────────┴────────────┴────────────┴────────────┴────────────┴───────────┘"
      ]
     },
     "execution_count": 10,
     "metadata": {},
     "output_type": "execute_result"
    }
   ],
   "source": [
    "transactions_per_store_joined = transactions_per_store.join(\n",
    "    stores, left_on=\"store_id\", right_on=\"id\", how=\"left\"\n",
    ")\n",
    "transactions_per_store_joined.collect()"
   ]
  },
  {
   "cell_type": "markdown",
   "id": "03d6f870",
   "metadata": {},
   "source": [
    "# Test Daten"
   ]
  },
  {
   "cell_type": "markdown",
   "id": "8c068695",
   "metadata": {},
   "source": [
    "In den Testdaten sind Transaktione aus den gleichen 5 Filialen mit ähnlichen Proportionen enhtalten."
   ]
  },
  {
   "cell_type": "code",
   "execution_count": 7,
   "id": "e3382afa",
   "metadata": {},
   "outputs": [
    {
     "data": {
      "text/html": [
       "<div><style>\n",
       ".dataframe > thead > tr,\n",
       ".dataframe > tbody > tr {\n",
       "  text-align: right;\n",
       "  white-space: pre-wrap;\n",
       "}\n",
       "</style>\n",
       "<small>shape: (5, 8)</small><table border=\"1\" class=\"dataframe\"><thead><tr><th>store_id</th><th>count</th><th>proportion</th><th>opening_date</th><th>location</th><th>state</th><th>urbanization</th><th>sco_introduction</th></tr><tr><td>str</td><td>u32</td><td>f64</td><td>str</td><td>str</td><td>str</td><td>str</td><td>str</td></tr></thead><tbody><tr><td>&quot;6a7406ec-4ebb-4df7-83ce-952866…</td><td>208213</td><td>0.264396</td><td>&quot;1993-08-16&quot;</td><td>&quot;Düsseldorf&quot;</td><td>&quot;Nordrhein-Westfalen&quot;</td><td>&quot;TOWNS&quot;</td><td>&quot;2022-03-18&quot;</td></tr><tr><td>&quot;46e6da32-f4b0-40f3-ada7-fc6ca8…</td><td>197926</td><td>0.251334</td><td>&quot;2004-10-05&quot;</td><td>&quot;Stuttgart&quot;</td><td>&quot;Baden-Württemberg&quot;</td><td>&quot;CITIES&quot;</td><td>&quot;2022-02-08&quot;</td></tr><tr><td>&quot;cd833b6b-0666-42df-b538-6bb1f1…</td><td>154874</td><td>0.196665</td><td>&quot;2000-10-05&quot;</td><td>&quot;Köln&quot;</td><td>&quot;Nordrhein-Westfalen&quot;</td><td>&quot;RURAL&quot;</td><td>&quot;2022-02-02&quot;</td></tr><tr><td>&quot;3fffea06-686f-42bd-8362-818af8…</td><td>122673</td><td>0.155775</td><td>&quot;1998-02-17&quot;</td><td>&quot;Bonn&quot;</td><td>&quot;Nordrhein-Westfalen&quot;</td><td>&quot;TOWNS&quot;</td><td>&quot;2022-02-15&quot;</td></tr><tr><td>&quot;581831fc-6a03-4e38-9025-0a889b…</td><td>103817</td><td>0.131831</td><td>&quot;1990-07-17&quot;</td><td>&quot;Dortmund&quot;</td><td>&quot;Nordrhein-Westfalen&quot;</td><td>&quot;CITIES&quot;</td><td>&quot;2022-02-22&quot;</td></tr></tbody></table></div>"
      ],
      "text/plain": [
       "shape: (5, 8)\n",
       "┌────────────┬────────┬────────────┬────────────┬────────────┬────────────┬────────────┬───────────┐\n",
       "│ store_id   ┆ count  ┆ proportion ┆ opening_da ┆ location   ┆ state      ┆ urbanizati ┆ sco_intro │\n",
       "│ ---        ┆ ---    ┆ ---        ┆ te         ┆ ---        ┆ ---        ┆ on         ┆ duction   │\n",
       "│ str        ┆ u32    ┆ f64        ┆ ---        ┆ str        ┆ str        ┆ ---        ┆ ---       │\n",
       "│            ┆        ┆            ┆ str        ┆            ┆            ┆ str        ┆ str       │\n",
       "╞════════════╪════════╪════════════╪════════════╪════════════╪════════════╪════════════╪═══════════╡\n",
       "│ 6a7406ec-4 ┆ 208213 ┆ 0.264396   ┆ 1993-08-16 ┆ Düsseldorf ┆ Nordrhein- ┆ TOWNS      ┆ 2022-03-1 │\n",
       "│ ebb-4df7-8 ┆        ┆            ┆            ┆            ┆ Westfalen  ┆            ┆ 8         │\n",
       "│ 3ce-952866 ┆        ┆            ┆            ┆            ┆            ┆            ┆           │\n",
       "│ …          ┆        ┆            ┆            ┆            ┆            ┆            ┆           │\n",
       "│ 46e6da32-f ┆ 197926 ┆ 0.251334   ┆ 2004-10-05 ┆ Stuttgart  ┆ Baden-Würt ┆ CITIES     ┆ 2022-02-0 │\n",
       "│ 4b0-40f3-a ┆        ┆            ┆            ┆            ┆ temberg    ┆            ┆ 8         │\n",
       "│ da7-fc6ca8 ┆        ┆            ┆            ┆            ┆            ┆            ┆           │\n",
       "│ …          ┆        ┆            ┆            ┆            ┆            ┆            ┆           │\n",
       "│ cd833b6b-0 ┆ 154874 ┆ 0.196665   ┆ 2000-10-05 ┆ Köln       ┆ Nordrhein- ┆ RURAL      ┆ 2022-02-0 │\n",
       "│ 666-42df-b ┆        ┆            ┆            ┆            ┆ Westfalen  ┆            ┆ 2         │\n",
       "│ 538-6bb1f1 ┆        ┆            ┆            ┆            ┆            ┆            ┆           │\n",
       "│ …          ┆        ┆            ┆            ┆            ┆            ┆            ┆           │\n",
       "│ 3fffea06-6 ┆ 122673 ┆ 0.155775   ┆ 1998-02-17 ┆ Bonn       ┆ Nordrhein- ┆ TOWNS      ┆ 2022-02-1 │\n",
       "│ 86f-42bd-8 ┆        ┆            ┆            ┆            ┆ Westfalen  ┆            ┆ 5         │\n",
       "│ 362-818af8 ┆        ┆            ┆            ┆            ┆            ┆            ┆           │\n",
       "│ …          ┆        ┆            ┆            ┆            ┆            ┆            ┆           │\n",
       "│ 581831fc-6 ┆ 103817 ┆ 0.131831   ┆ 1990-07-17 ┆ Dortmund   ┆ Nordrhein- ┆ CITIES     ┆ 2022-02-2 │\n",
       "│ a03-4e38-9 ┆        ┆            ┆            ┆            ┆ Westfalen  ┆            ┆ 2         │\n",
       "│ 025-0a889b ┆        ┆            ┆            ┆            ┆            ┆            ┆           │\n",
       "│ …          ┆        ┆            ┆            ┆            ┆            ┆            ┆           │\n",
       "└────────────┴────────┴────────────┴────────────┴────────────┴────────────┴────────────┴───────────┘"
      ]
     },
     "execution_count": 7,
     "metadata": {},
     "output_type": "execute_result"
    }
   ],
   "source": [
    "transactions_per_store_test = (transactions_test\n",
    "  .group_by(\"store_id\")\n",
    "  .agg(pl.len().alias(\"count\"))\n",
    "  .with_columns((pl.col(\"count\") / pl.col(\"count\").sum()).alias(\"proportion\"))\n",
    "  .sort(\"count\", descending=True)\n",
    ").join(\n",
    "    stores, left_on=\"store_id\", right_on=\"id\", how=\"left\"\n",
    ")\n",
    "transactions_per_store_test.collect()\n"
   ]
  },
  {
   "cell_type": "code",
   "execution_count": 14,
   "id": "d936ab68",
   "metadata": {},
   "outputs": [
    {
     "data": {
      "text/html": [
       "<div><style>\n",
       ".dataframe > thead > tr,\n",
       ".dataframe > tbody > tr {\n",
       "  text-align: right;\n",
       "  white-space: pre-wrap;\n",
       "}\n",
       "</style>\n",
       "<small>shape: (5, 5)</small><table border=\"1\" class=\"dataframe\"><thead><tr><th>store_id</th><th>count</th><th>proportion</th><th>count_test</th><th>proportion_test</th></tr><tr><td>str</td><td>u32</td><td>f64</td><td>u32</td><td>f64</td></tr></thead><tbody><tr><td>&quot;6a7406ec-4ebb-4df7-83ce-952866…</td><td>377817</td><td>0.254975</td><td>208213</td><td>0.264396</td></tr><tr><td>&quot;46e6da32-f4b0-40f3-ada7-fc6ca8…</td><td>377446</td><td>0.254724</td><td>197926</td><td>0.251334</td></tr><tr><td>&quot;cd833b6b-0666-42df-b538-6bb1f1…</td><td>298486</td><td>0.201437</td><td>154874</td><td>0.196665</td></tr><tr><td>&quot;3fffea06-686f-42bd-8362-818af8…</td><td>232882</td><td>0.157163</td><td>122673</td><td>0.155775</td></tr><tr><td>&quot;581831fc-6a03-4e38-9025-0a889b…</td><td>195152</td><td>0.131701</td><td>103817</td><td>0.131831</td></tr></tbody></table></div>"
      ],
      "text/plain": [
       "shape: (5, 5)\n",
       "┌─────────────────────────────────┬────────┬────────────┬────────────┬─────────────────┐\n",
       "│ store_id                        ┆ count  ┆ proportion ┆ count_test ┆ proportion_test │\n",
       "│ ---                             ┆ ---    ┆ ---        ┆ ---        ┆ ---             │\n",
       "│ str                             ┆ u32    ┆ f64        ┆ u32        ┆ f64             │\n",
       "╞═════════════════════════════════╪════════╪════════════╪════════════╪═════════════════╡\n",
       "│ 6a7406ec-4ebb-4df7-83ce-952866… ┆ 377817 ┆ 0.254975   ┆ 208213     ┆ 0.264396        │\n",
       "│ 46e6da32-f4b0-40f3-ada7-fc6ca8… ┆ 377446 ┆ 0.254724   ┆ 197926     ┆ 0.251334        │\n",
       "│ cd833b6b-0666-42df-b538-6bb1f1… ┆ 298486 ┆ 0.201437   ┆ 154874     ┆ 0.196665        │\n",
       "│ 3fffea06-686f-42bd-8362-818af8… ┆ 232882 ┆ 0.157163   ┆ 122673     ┆ 0.155775        │\n",
       "│ 581831fc-6a03-4e38-9025-0a889b… ┆ 195152 ┆ 0.131701   ┆ 103817     ┆ 0.131831        │\n",
       "└─────────────────────────────────┴────────┴────────────┴────────────┴─────────────────┘"
      ]
     },
     "execution_count": 14,
     "metadata": {},
     "output_type": "execute_result"
    }
   ],
   "source": [
    "transactions_per_store.join(transactions_per_store_test, on=\"store_id\", how=\"inner\", suffix=\"_test\").select(\n",
    "  [\n",
    "    \"store_id\",\n",
    "    \"count\",\n",
    "    \"proportion\",\n",
    "    \"count_test\",\n",
    "    \"proportion_test\",\n",
    "  ]\n",
    ").collect()"
   ]
  }
 ],
 "metadata": {
  "kernelspec": {
   "display_name": ".venv",
   "language": "python",
   "name": "python3"
  },
  "language_info": {
   "codemirror_mode": {
    "name": "ipython",
    "version": 3
   },
   "file_extension": ".py",
   "mimetype": "text/x-python",
   "name": "python",
   "nbconvert_exporter": "python",
   "pygments_lexer": "ipython3",
   "version": "3.12.9"
  }
 },
 "nbformat": 4,
 "nbformat_minor": 5
}

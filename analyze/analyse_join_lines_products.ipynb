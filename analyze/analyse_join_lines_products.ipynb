{
 "cells": [
  {
   "cell_type": "markdown",
   "id": "a093bb31",
   "metadata": {},
   "source": [
    "# Verknüpfung von Transaction lines und Products\n",
    "\n",
    "Bei 192 Lines fehlt die product_id.\n",
    "\n",
    "17 davon gehören zu einer gelabelten Transaktion, in allen Fällen ist das Label \"FRAUD\"."
   ]
  },
  {
   "cell_type": "code",
   "execution_count": 4,
   "id": "181f61ff",
   "metadata": {},
   "outputs": [],
   "source": [
    "import polars as pl\n",
    "from pathlib import Path\n",
    "\n",
    "data_dir = Path(\"../data\")\n",
    "\n",
    "transactions = pl.scan_parquet(data_dir / \"transactions_train_3.parquet\")\n",
    "lines = pl.scan_parquet(data_dir / \"transaction_lines_train_3.parquet\")\n",
    "products = pl.scan_csv(data_dir / \"products.csv\")"
   ]
  },
  {
   "cell_type": "markdown",
   "id": "e2f38591",
   "metadata": {},
   "source": [
    "prüfe, dass jedes Produkt auch eine base_product_id hat"
   ]
  },
  {
   "cell_type": "code",
   "execution_count": 5,
   "id": "61710b7a",
   "metadata": {},
   "outputs": [
    {
     "data": {
      "text/html": [
       "<div><style>\n",
       ".dataframe > thead > tr,\n",
       ".dataframe > tbody > tr {\n",
       "  text-align: right;\n",
       "  white-space: pre-wrap;\n",
       "}\n",
       "</style>\n",
       "<small>shape: (2, 3)</small><table border=\"1\" class=\"dataframe\"><thead><tr><th>statistic</th><th>id</th><th>base_product_id</th></tr><tr><td>str</td><td>str</td><td>str</td></tr></thead><tbody><tr><td>&quot;count&quot;</td><td>&quot;8120&quot;</td><td>&quot;8120&quot;</td></tr><tr><td>&quot;null_count&quot;</td><td>&quot;0&quot;</td><td>&quot;0&quot;</td></tr></tbody></table></div>"
      ],
      "text/plain": [
       "shape: (2, 3)\n",
       "┌────────────┬──────┬─────────────────┐\n",
       "│ statistic  ┆ id   ┆ base_product_id │\n",
       "│ ---        ┆ ---  ┆ ---             │\n",
       "│ str        ┆ str  ┆ str             │\n",
       "╞════════════╪══════╪═════════════════╡\n",
       "│ count      ┆ 8120 ┆ 8120            │\n",
       "│ null_count ┆ 0    ┆ 0               │\n",
       "└────────────┴──────┴─────────────────┘"
      ]
     },
     "execution_count": 5,
     "metadata": {},
     "output_type": "execute_result"
    }
   ],
   "source": [
    "products.select([\"id\", \"base_product_id\"]).describe().filter(pl.col(\"statistic\").is_in([\"count\", \"null_count\"]))"
   ]
  },
  {
   "cell_type": "code",
   "execution_count": 6,
   "id": "14d506c0",
   "metadata": {},
   "outputs": [
    {
     "name": "stdout",
     "output_type": "stream",
     "text": [
      "Number of lines in lines:                15793671\n",
      "Number of rows in joined lines_products: 15793479\n",
      "Difference in number of rows:            192\n"
     ]
    }
   ],
   "source": [
    "# number of lines in the lines table\n",
    "n_rows_lines = lines.select(pl.len()).collect().item()\n",
    "print(f\"{'Number of lines in lines:':<40} {n_rows_lines}\")\n",
    "\n",
    "# join lines and products\n",
    "lines_products = lines.join(\n",
    "    products,\n",
    "    left_on=\"product_id\",\n",
    "    right_on=\"id\",\n",
    "    how=\"inner\",\n",
    "    suffix=\"_product\",\n",
    ")\n",
    "\n",
    "# number of lines in the lines_products table\n",
    "n_rows_lines_products = lines_products.select(pl.len()).collect().item()\n",
    "print(f\"{'Number of rows in joined lines_products:':<40} {n_rows_lines_products}\")\n",
    "\n",
    "# difference in number of rows\n",
    "missing_rows = n_rows_lines - n_rows_lines_products\n",
    "print(f\"{'Difference in number of rows:':<40} {missing_rows}\")\n"
   ]
  },
  {
   "cell_type": "markdown",
   "id": "d5f8a1e8",
   "metadata": {},
   "source": [
    "Grund der Differenz: Lines mit fehlenden product_id"
   ]
  },
  {
   "cell_type": "code",
   "execution_count": 7,
   "id": "cceff9fc",
   "metadata": {},
   "outputs": [
    {
     "data": {
      "text/html": [
       "<div><style>\n",
       ".dataframe > thead > tr,\n",
       ".dataframe > tbody > tr {\n",
       "  text-align: right;\n",
       "  white-space: pre-wrap;\n",
       "}\n",
       "</style>\n",
       "<small>shape: (2, 2)</small><table border=\"1\" class=\"dataframe\"><thead><tr><th>statistic</th><th>product_id</th></tr><tr><td>str</td><td>str</td></tr></thead><tbody><tr><td>&quot;count&quot;</td><td>&quot;15793479&quot;</td></tr><tr><td>&quot;null_count&quot;</td><td>&quot;192&quot;</td></tr></tbody></table></div>"
      ],
      "text/plain": [
       "shape: (2, 2)\n",
       "┌────────────┬────────────┐\n",
       "│ statistic  ┆ product_id │\n",
       "│ ---        ┆ ---        │\n",
       "│ str        ┆ str        │\n",
       "╞════════════╪════════════╡\n",
       "│ count      ┆ 15793479   │\n",
       "│ null_count ┆ 192        │\n",
       "└────────────┴────────────┘"
      ]
     },
     "execution_count": 7,
     "metadata": {},
     "output_type": "execute_result"
    }
   ],
   "source": [
    "lines.select(\"product_id\").describe().filter(pl.col(\"statistic\").is_in([\"count\", \"null_count\"]))"
   ]
  },
  {
   "cell_type": "markdown",
   "id": "e0a0d254",
   "metadata": {},
   "source": [
    "### Join transactions und lines und prüfe die Zeilen mit fehlender product_id\n",
    "\n",
    "- Lines mit fehlender product_id haben in der Spalte \"was_voided\" den Wert true\n",
    "- Kamera hat die Produkte nie erkannt (mit hoher Sicherheit)\n",
    "- zeitlich sind die Transaktionen über die zwei Jahre verteilt"
   ]
  },
  {
   "cell_type": "code",
   "execution_count": 8,
   "id": "6c5303b3",
   "metadata": {},
   "outputs": [
    {
     "data": {
      "text/html": [
       "<div><style>\n",
       ".dataframe > thead > tr,\n",
       ".dataframe > tbody > tr {\n",
       "  text-align: right;\n",
       "  white-space: pre-wrap;\n",
       "}\n",
       "</style>\n",
       "<small>shape: (9, 10)</small><table border=\"1\" class=\"dataframe\"><thead><tr><th>statistic</th><th>transaction_id</th><th>n_lines</th><th>id__lines</th><th>product_id</th><th>transaction_start</th><th>was_voided</th><th>camera_product_similar</th><th>camera_certainty</th><th>label</th></tr><tr><td>str</td><td>str</td><td>f64</td><td>f64</td><td>str</td><td>str</td><td>f64</td><td>f64</td><td>f64</td><td>str</td></tr></thead><tbody><tr><td>&quot;count&quot;</td><td>&quot;192&quot;</td><td>192.0</td><td>192.0</td><td>&quot;0&quot;</td><td>&quot;192&quot;</td><td>192.0</td><td>192.0</td><td>192.0</td><td>&quot;192&quot;</td></tr><tr><td>&quot;null_count&quot;</td><td>&quot;0&quot;</td><td>0.0</td><td>0.0</td><td>&quot;192&quot;</td><td>&quot;0&quot;</td><td>0.0</td><td>0.0</td><td>0.0</td><td>&quot;0&quot;</td></tr><tr><td>&quot;mean&quot;</td><td>null</td><td>12.208333</td><td>5.020833</td><td>null</td><td>&quot;2022-10-09 15:48:00.780292&quot;</td><td>1.0</td><td>0.0</td><td>0.961604</td><td>null</td></tr><tr><td>&quot;std&quot;</td><td>null</td><td>12.643246</td><td>4.940439</td><td>null</td><td>null</td><td>null</td><td>null</td><td>0.055233</td><td>null</td></tr><tr><td>&quot;min&quot;</td><td>&quot;013253c0-db47-424e-8e31-eb84cc…</td><td>0.0</td><td>1.0</td><td>null</td><td>&quot;2022-02-02 10:08:39&quot;</td><td>1.0</td><td>0.0</td><td>0.718538</td><td>&quot;FRAUD&quot;</td></tr><tr><td>&quot;25%&quot;</td><td>null</td><td>3.0</td><td>2.0</td><td>null</td><td>&quot;2022-04-16 20:13:27&quot;</td><td>null</td><td>null</td><td>0.93736</td><td>null</td></tr><tr><td>&quot;50%&quot;</td><td>null</td><td>7.0</td><td>4.0</td><td>null</td><td>&quot;2022-08-05 19:27:57&quot;</td><td>null</td><td>null</td><td>0.999941</td><td>null</td></tr><tr><td>&quot;75%&quot;</td><td>null</td><td>16.0</td><td>6.0</td><td>null</td><td>&quot;2023-04-01 17:11:48&quot;</td><td>null</td><td>null</td><td>1.0</td><td>null</td></tr><tr><td>&quot;max&quot;</td><td>&quot;fe186f14-5161-472e-958e-456b99…</td><td>65.0</td><td>41.0</td><td>null</td><td>&quot;2023-12-29 20:25:42&quot;</td><td>1.0</td><td>0.0</td><td>1.0</td><td>&quot;UNKNOWN&quot;</td></tr></tbody></table></div>"
      ],
      "text/plain": [
       "shape: (9, 10)\n",
       "┌────────────┬───────────┬───────────┬───────────┬───┬───────────┬───────────┬───────────┬─────────┐\n",
       "│ statistic  ┆ transacti ┆ n_lines   ┆ id__lines ┆ … ┆ was_voide ┆ camera_pr ┆ camera_ce ┆ label   │\n",
       "│ ---        ┆ on_id     ┆ ---       ┆ ---       ┆   ┆ d         ┆ oduct_sim ┆ rtainty   ┆ ---     │\n",
       "│ str        ┆ ---       ┆ f64       ┆ f64       ┆   ┆ ---       ┆ ilar      ┆ ---       ┆ str     │\n",
       "│            ┆ str       ┆           ┆           ┆   ┆ f64       ┆ ---       ┆ f64       ┆         │\n",
       "│            ┆           ┆           ┆           ┆   ┆           ┆ f64       ┆           ┆         │\n",
       "╞════════════╪═══════════╪═══════════╪═══════════╪═══╪═══════════╪═══════════╪═══════════╪═════════╡\n",
       "│ count      ┆ 192       ┆ 192.0     ┆ 192.0     ┆ … ┆ 192.0     ┆ 192.0     ┆ 192.0     ┆ 192     │\n",
       "│ null_count ┆ 0         ┆ 0.0       ┆ 0.0       ┆ … ┆ 0.0       ┆ 0.0       ┆ 0.0       ┆ 0       │\n",
       "│ mean       ┆ null      ┆ 12.208333 ┆ 5.020833  ┆ … ┆ 1.0       ┆ 0.0       ┆ 0.961604  ┆ null    │\n",
       "│ std        ┆ null      ┆ 12.643246 ┆ 4.940439  ┆ … ┆ null      ┆ null      ┆ 0.055233  ┆ null    │\n",
       "│ min        ┆ 013253c0- ┆ 0.0       ┆ 1.0       ┆ … ┆ 1.0       ┆ 0.0       ┆ 0.718538  ┆ FRAUD   │\n",
       "│            ┆ db47-424e ┆           ┆           ┆   ┆           ┆           ┆           ┆         │\n",
       "│            ┆ -8e31-eb8 ┆           ┆           ┆   ┆           ┆           ┆           ┆         │\n",
       "│            ┆ 4cc…      ┆           ┆           ┆   ┆           ┆           ┆           ┆         │\n",
       "│ 25%        ┆ null      ┆ 3.0       ┆ 2.0       ┆ … ┆ null      ┆ null      ┆ 0.93736   ┆ null    │\n",
       "│ 50%        ┆ null      ┆ 7.0       ┆ 4.0       ┆ … ┆ null      ┆ null      ┆ 0.999941  ┆ null    │\n",
       "│ 75%        ┆ null      ┆ 16.0      ┆ 6.0       ┆ … ┆ null      ┆ null      ┆ 1.0       ┆ null    │\n",
       "│ max        ┆ fe186f14- ┆ 65.0      ┆ 41.0      ┆ … ┆ 1.0       ┆ 0.0       ┆ 1.0       ┆ UNKNOWN │\n",
       "│            ┆ 5161-472e ┆           ┆           ┆   ┆           ┆           ┆           ┆         │\n",
       "│            ┆ -958e-456 ┆           ┆           ┆   ┆           ┆           ┆           ┆         │\n",
       "│            ┆ b99…      ┆           ┆           ┆   ┆           ┆           ┆           ┆         │\n",
       "└────────────┴───────────┴───────────┴───────────┴───┴───────────┴───────────┴───────────┴─────────┘"
      ]
     },
     "execution_count": 8,
     "metadata": {},
     "output_type": "execute_result"
    }
   ],
   "source": [
    "joined = (\n",
    "    transactions.join(\n",
    "        lines,\n",
    "        left_on=\"id\",\n",
    "        right_on=\"transaction_id\",\n",
    "        suffix=\"__lines\",\n",
    "        how=\"left\",\n",
    "    )\n",
    "    .filter(pl.col(\"id__lines\").is_not_null())\n",
    "    .filter(pl.col(\"product_id\").is_null())\n",
    "    .select(\n",
    "        [\n",
    "            pl.col(\"id\").alias(\"transaction_id\"),\n",
    "            \"n_lines\",\n",
    "            \"id__lines\",\n",
    "            \"product_id\",\n",
    "            \"transaction_start\",\n",
    "            \"was_voided\",\n",
    "            \"camera_product_similar\",\n",
    "            \"camera_certainty\",\n",
    "            \"label\",\n",
    "        ],\n",
    "    )\n",
    ")\n",
    "\n",
    "joined.describe()"
   ]
  },
  {
   "cell_type": "code",
   "execution_count": 9,
   "id": "af59cd02",
   "metadata": {},
   "outputs": [
    {
     "name": "stdout",
     "output_type": "stream",
     "text": [
      "Number of rows without product_id in joined transactions and lines: 192\n",
      "Number of unique transactions without product_id in joined transactions and lines: 182\n"
     ]
    }
   ],
   "source": [
    "n_missing_product_id = joined.select(pl.len()).collect().item()\n",
    "print(\n",
    "    f\"Number of rows without product_id in joined transactions and lines: {n_missing_product_id}\"\n",
    ")\n",
    "\n",
    "n_unique_transactions = (\n",
    "    joined.select(\"transaction_id\").unique().select(pl.len()).collect().item()\n",
    ")\n",
    "print(\n",
    "    f\"Number of unique transactions without product_id in joined transactions and lines: {n_unique_transactions}\"\n",
    ")"
   ]
  },
  {
   "cell_type": "code",
   "execution_count": 11,
   "id": "4b7667ab",
   "metadata": {},
   "outputs": [
    {
     "name": "stdout",
     "output_type": "stream",
     "text": [
      "Number of missing product_ids per transaction:\n"
     ]
    },
    {
     "data": {
      "text/html": [
       "<div><style>\n",
       ".dataframe > thead > tr,\n",
       ".dataframe > tbody > tr {\n",
       "  text-align: right;\n",
       "  white-space: pre-wrap;\n",
       "}\n",
       "</style>\n",
       "<small>shape: (182, 4)</small><table border=\"1\" class=\"dataframe\"><thead><tr><th>transaction_id</th><th>n_lines</th><th>label</th><th>n_missing_product_ids</th></tr><tr><td>str</td><td>i64</td><td>str</td><td>u32</td></tr></thead><tbody><tr><td>&quot;2298bdf8-c903-4ef6-b4f8-8f576e…</td><td>12</td><td>&quot;FRAUD&quot;</td><td>1</td></tr><tr><td>&quot;3dd5b29c-064c-4fd1-af04-ef5a5b…</td><td>3</td><td>&quot;UNKNOWN&quot;</td><td>1</td></tr><tr><td>&quot;fdfe7ebc-c991-4113-834d-74d645…</td><td>5</td><td>&quot;UNKNOWN&quot;</td><td>1</td></tr><tr><td>&quot;ea492d1d-ea02-4f02-8642-170fb7…</td><td>6</td><td>&quot;UNKNOWN&quot;</td><td>1</td></tr><tr><td>&quot;db19323a-cefa-4beb-9eb1-603011…</td><td>7</td><td>&quot;UNKNOWN&quot;</td><td>1</td></tr><tr><td>&hellip;</td><td>&hellip;</td><td>&hellip;</td><td>&hellip;</td></tr><tr><td>&quot;f8c5318e-cf0f-4ad8-b7a5-60d3c1…</td><td>18</td><td>&quot;UNKNOWN&quot;</td><td>2</td></tr><tr><td>&quot;2a3cb6e4-1b55-48ab-b0eb-a9d5cc…</td><td>13</td><td>&quot;UNKNOWN&quot;</td><td>2</td></tr><tr><td>&quot;bd8b1528-321f-4851-96c7-229502…</td><td>14</td><td>&quot;UNKNOWN&quot;</td><td>2</td></tr><tr><td>&quot;38db5858-f893-46c8-aafc-07c724…</td><td>8</td><td>&quot;UNKNOWN&quot;</td><td>2</td></tr><tr><td>&quot;4cfd1f2c-d330-4c7e-ad3e-41fbd2…</td><td>36</td><td>&quot;UNKNOWN&quot;</td><td>4</td></tr></tbody></table></div>"
      ],
      "text/plain": [
       "shape: (182, 4)\n",
       "┌─────────────────────────────────┬─────────┬─────────┬───────────────────────┐\n",
       "│ transaction_id                  ┆ n_lines ┆ label   ┆ n_missing_product_ids │\n",
       "│ ---                             ┆ ---     ┆ ---     ┆ ---                   │\n",
       "│ str                             ┆ i64     ┆ str     ┆ u32                   │\n",
       "╞═════════════════════════════════╪═════════╪═════════╪═══════════════════════╡\n",
       "│ 2298bdf8-c903-4ef6-b4f8-8f576e… ┆ 12      ┆ FRAUD   ┆ 1                     │\n",
       "│ 3dd5b29c-064c-4fd1-af04-ef5a5b… ┆ 3       ┆ UNKNOWN ┆ 1                     │\n",
       "│ fdfe7ebc-c991-4113-834d-74d645… ┆ 5       ┆ UNKNOWN ┆ 1                     │\n",
       "│ ea492d1d-ea02-4f02-8642-170fb7… ┆ 6       ┆ UNKNOWN ┆ 1                     │\n",
       "│ db19323a-cefa-4beb-9eb1-603011… ┆ 7       ┆ UNKNOWN ┆ 1                     │\n",
       "│ …                               ┆ …       ┆ …       ┆ …                     │\n",
       "│ f8c5318e-cf0f-4ad8-b7a5-60d3c1… ┆ 18      ┆ UNKNOWN ┆ 2                     │\n",
       "│ 2a3cb6e4-1b55-48ab-b0eb-a9d5cc… ┆ 13      ┆ UNKNOWN ┆ 2                     │\n",
       "│ bd8b1528-321f-4851-96c7-229502… ┆ 14      ┆ UNKNOWN ┆ 2                     │\n",
       "│ 38db5858-f893-46c8-aafc-07c724… ┆ 8       ┆ UNKNOWN ┆ 2                     │\n",
       "│ 4cfd1f2c-d330-4c7e-ad3e-41fbd2… ┆ 36      ┆ UNKNOWN ┆ 4                     │\n",
       "└─────────────────────────────────┴─────────┴─────────┴───────────────────────┘"
      ]
     },
     "execution_count": 11,
     "metadata": {},
     "output_type": "execute_result"
    }
   ],
   "source": [
    "vc = (\n",
    "    joined.group_by(\"transaction_id\", \"n_lines\", \"label\")\n",
    "    .agg(pl.len().alias(\"n_missing_product_ids\"))\n",
    "    .sort(\"n_missing_product_ids\")\n",
    "    .collect()\n",
    ")\n",
    "print(\"Number of missing product_ids per transaction:\")\n",
    "vc\n"
   ]
  },
  {
   "cell_type": "code",
   "execution_count": 19,
   "id": "de78f6fa",
   "metadata": {},
   "outputs": [
    {
     "data": {
      "text/html": [
       "<div><style>\n",
       ".dataframe > thead > tr,\n",
       ".dataframe > tbody > tr {\n",
       "  text-align: right;\n",
       "  white-space: pre-wrap;\n",
       "}\n",
       "</style>\n",
       "<small>shape: (16, 3)</small><table border=\"1\" class=\"dataframe\"><thead><tr><th>transaction_id</th><th>label</th><th>n_missing_product_ids</th></tr><tr><td>str</td><td>str</td><td>u32</td></tr></thead><tbody><tr><td>&quot;e83ea717-a830-4b61-a050-272ae6…</td><td>&quot;FRAUD&quot;</td><td>1</td></tr><tr><td>&quot;6696b83d-7553-4725-8831-6f1a24…</td><td>&quot;FRAUD&quot;</td><td>1</td></tr><tr><td>&quot;1408e4f3-16cd-4125-920d-55cb97…</td><td>&quot;FRAUD&quot;</td><td>1</td></tr><tr><td>&quot;ec46aae0-b102-47d0-a4e6-019209…</td><td>&quot;FRAUD&quot;</td><td>1</td></tr><tr><td>&quot;83fc9067-6917-4f65-9f0a-766955…</td><td>&quot;FRAUD&quot;</td><td>1</td></tr><tr><td>&hellip;</td><td>&hellip;</td><td>&hellip;</td></tr><tr><td>&quot;09614115-d033-4f2e-80b4-fc8460…</td><td>&quot;FRAUD&quot;</td><td>1</td></tr><tr><td>&quot;968cd3e4-4799-4e80-9741-05b934…</td><td>&quot;FRAUD&quot;</td><td>1</td></tr><tr><td>&quot;2298bdf8-c903-4ef6-b4f8-8f576e…</td><td>&quot;FRAUD&quot;</td><td>1</td></tr><tr><td>&quot;46a5c779-4a0b-4aed-8396-bbef3a…</td><td>&quot;FRAUD&quot;</td><td>1</td></tr><tr><td>&quot;b5450bf4-a819-4e95-8de7-9b2922…</td><td>&quot;FRAUD&quot;</td><td>2</td></tr></tbody></table></div>"
      ],
      "text/plain": [
       "shape: (16, 3)\n",
       "┌─────────────────────────────────┬───────┬───────────────────────┐\n",
       "│ transaction_id                  ┆ label ┆ n_missing_product_ids │\n",
       "│ ---                             ┆ ---   ┆ ---                   │\n",
       "│ str                             ┆ str   ┆ u32                   │\n",
       "╞═════════════════════════════════╪═══════╪═══════════════════════╡\n",
       "│ e83ea717-a830-4b61-a050-272ae6… ┆ FRAUD ┆ 1                     │\n",
       "│ 6696b83d-7553-4725-8831-6f1a24… ┆ FRAUD ┆ 1                     │\n",
       "│ 1408e4f3-16cd-4125-920d-55cb97… ┆ FRAUD ┆ 1                     │\n",
       "│ ec46aae0-b102-47d0-a4e6-019209… ┆ FRAUD ┆ 1                     │\n",
       "│ 83fc9067-6917-4f65-9f0a-766955… ┆ FRAUD ┆ 1                     │\n",
       "│ …                               ┆ …     ┆ …                     │\n",
       "│ 09614115-d033-4f2e-80b4-fc8460… ┆ FRAUD ┆ 1                     │\n",
       "│ 968cd3e4-4799-4e80-9741-05b934… ┆ FRAUD ┆ 1                     │\n",
       "│ 2298bdf8-c903-4ef6-b4f8-8f576e… ┆ FRAUD ┆ 1                     │\n",
       "│ 46a5c779-4a0b-4aed-8396-bbef3a… ┆ FRAUD ┆ 1                     │\n",
       "│ b5450bf4-a819-4e95-8de7-9b2922… ┆ FRAUD ┆ 2                     │\n",
       "└─────────────────────────────────┴───────┴───────────────────────┘"
      ]
     },
     "execution_count": 19,
     "metadata": {},
     "output_type": "execute_result"
    }
   ],
   "source": [
    "vc.filter(pl.col(\"label\") == \"FRAUD\")"
   ]
  },
  {
   "cell_type": "markdown",
   "id": "7aba3a01",
   "metadata": {},
   "source": [
    "In 17 Fällen gehört die Zeile zu einem Betrugsfall. "
   ]
  },
  {
   "cell_type": "code",
   "execution_count": 20,
   "id": "c39787d3",
   "metadata": {},
   "outputs": [
    {
     "name": "stdout",
     "output_type": "stream",
     "text": [
      "Number of missing product_ids per label:\n"
     ]
    },
    {
     "data": {
      "text/html": [
       "<div><style>\n",
       ".dataframe > thead > tr,\n",
       ".dataframe > tbody > tr {\n",
       "  text-align: right;\n",
       "  white-space: pre-wrap;\n",
       "}\n",
       "</style>\n",
       "<small>shape: (2, 2)</small><table border=\"1\" class=\"dataframe\"><thead><tr><th>label</th><th>n_missing_product_ids</th></tr><tr><td>str</td><td>u32</td></tr></thead><tbody><tr><td>&quot;FRAUD&quot;</td><td>17</td></tr><tr><td>&quot;UNKNOWN&quot;</td><td>175</td></tr></tbody></table></div>"
      ],
      "text/plain": [
       "shape: (2, 2)\n",
       "┌─────────┬───────────────────────┐\n",
       "│ label   ┆ n_missing_product_ids │\n",
       "│ ---     ┆ ---                   │\n",
       "│ str     ┆ u32                   │\n",
       "╞═════════╪═══════════════════════╡\n",
       "│ FRAUD   ┆ 17                    │\n",
       "│ UNKNOWN ┆ 175                   │\n",
       "└─────────┴───────────────────────┘"
      ]
     },
     "execution_count": 20,
     "metadata": {},
     "output_type": "execute_result"
    }
   ],
   "source": [
    "vc = joined.group_by(\"label\").agg(pl.len().alias(\"n_missing_product_ids\")).collect()\n",
    "print(\"Number of missing product_ids per label:\")\n",
    "vc"
   ]
  }
 ],
 "metadata": {
  "kernelspec": {
   "display_name": ".venv",
   "language": "python",
   "name": "python3"
  },
  "language_info": {
   "codemirror_mode": {
    "name": "ipython",
    "version": 3
   },
   "file_extension": ".py",
   "mimetype": "text/x-python",
   "name": "python",
   "nbconvert_exporter": "python",
   "pygments_lexer": "ipython3",
   "version": "3.12.9"
  }
 },
 "nbformat": 4,
 "nbformat_minor": 5
}

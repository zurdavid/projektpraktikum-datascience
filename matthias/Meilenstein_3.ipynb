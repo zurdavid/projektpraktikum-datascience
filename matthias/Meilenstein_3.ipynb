{
 "cells": [
  {
   "cell_type": "code",
   "execution_count": 1,
   "id": "793321e3-2674-4c88-8bb8-5f123582e16c",
   "metadata": {},
   "outputs": [],
   "source": [
    "import pandas as pd"
   ]
  },
  {
   "cell_type": "markdown",
   "id": "fb475dbc-3907-40e9-a5c3-89c1039560c5",
   "metadata": {},
   "source": [
    "# Laden der Datensätze"
   ]
  },
  {
   "cell_type": "code",
   "execution_count": 2,
   "id": "db72642b-e5cf-47b6-b815-46694009935d",
   "metadata": {
    "tags": []
   },
   "outputs": [],
   "source": [
    "tr_label = pd.read_parquet(\"transformed_label.parquet\", engine=\"fastparquet\")\n"
   ]
  },
  {
   "cell_type": "code",
   "execution_count": 3,
   "id": "66e12e7c-78c1-48db-8315-1cfb1e6773f7",
   "metadata": {},
   "outputs": [],
   "source": [
    "tr_damage = pd.read_parquet(\"transformed_damage.parquet\", engine=\"fastparquet\")"
   ]
  },
  {
   "cell_type": "code",
   "execution_count": 4,
   "id": "0273613c-5502-4a28-8721-b496b62156e5",
   "metadata": {},
   "outputs": [
    {
     "name": "stdout",
     "output_type": "stream",
     "text": [
      "<class 'pandas.core.frame.DataFrame'>\n",
      "RangeIndex: 148024 entries, 0 to 148023\n",
      "Data columns (total 55 columns):\n",
      " #   Column                                            Non-Null Count   Dtype  \n",
      "---  ------                                            --------------   -----  \n",
      " 0   label                                             148024 non-null  object \n",
      " 1   cash_desk                                         148024 non-null  object \n",
      " 2   total_amount                                      148024 non-null  float64\n",
      " 3   n_lines                                           148024 non-null  int64  \n",
      " 4   payment_medium                                    148024 non-null  object \n",
      " 5   has_feedback                                      148024 non-null  bool   \n",
      " 6   feedback_categorical                              148024 non-null  object \n",
      " 7   feedback_low                                      148024 non-null  bool   \n",
      " 8   feedback_middle                                   148024 non-null  bool   \n",
      " 9   feedback_high                                     148024 non-null  bool   \n",
      " 10  feedback_top                                      148024 non-null  bool   \n",
      " 11  daytime                                           148024 non-null  object \n",
      " 12  hour                                              148024 non-null  int8   \n",
      " 13  hour_categorical                                  148024 non-null  object \n",
      " 14  day_of_week                                       148024 non-null  object \n",
      " 15  month                                             148024 non-null  object \n",
      " 16  transaction_duration_seconds                      148024 non-null  int64  \n",
      " 17  store_id                                          148024 non-null  object \n",
      " 18  location                                          148024 non-null  object \n",
      " 19  urbanization                                      148024 non-null  object \n",
      " 20  has_voided                                        148024 non-null  bool   \n",
      " 21  n_voided                                          148024 non-null  uint32 \n",
      " 22  has_unscanned                                     148024 non-null  bool   \n",
      " 23  n_age_restricted                                  148024 non-null  uint32 \n",
      " 24  has_age_restricted                                148024 non-null  bool   \n",
      " 25  popularity_max                                    148024 non-null  float64\n",
      " 26  popularity_min                                    148024 non-null  float64\n",
      " 27  max_product_price                                 148024 non-null  float64\n",
      " 28  n_sold_by_weight                                  148024 non-null  uint32 \n",
      " 29  has_sold_by_weight                                148024 non-null  bool   \n",
      " 30  has_camera_detected_wrong_product                 148024 non-null  bool   \n",
      " 31  has_camera_detected_wrong_product_high_certainty  148024 non-null  bool   \n",
      " 32  calculated_price_difference                       148024 non-null  float64\n",
      " 33  has_positive_price_difference                     148024 non-null  bool   \n",
      " 34  has_bakery                                        148024 non-null  bool   \n",
      " 35  has_frozen_goods                                  148024 non-null  bool   \n",
      " 36  has_personal_care                                 148024 non-null  bool   \n",
      " 37  has_fruits_vegetables                             148024 non-null  bool   \n",
      " 38  has_household                                     148024 non-null  bool   \n",
      " 39  has_snacks                                        148024 non-null  bool   \n",
      " 40  has_limited_time_offers                           148024 non-null  bool   \n",
      " 41  has_dairy                                         148024 non-null  bool   \n",
      " 42  has_beverages                                     148024 non-null  bool   \n",
      " 43  has_tobacco                                       148024 non-null  bool   \n",
      " 44  has_alcohol                                       148024 non-null  bool   \n",
      " 45  has_long_shelf_life                               148024 non-null  bool   \n",
      " 46  has_convenience                                   148024 non-null  bool   \n",
      " 47  has_fruits_vegetables_pieces                      148024 non-null  bool   \n",
      " 48  has_missing                                       148024 non-null  bool   \n",
      " 49  mean_time_between_scans                           148024 non-null  float64\n",
      " 50  max_time_between_scans                            148024 non-null  float64\n",
      " 51  time_to_first_scan                                148024 non-null  float64\n",
      " 52  time_from_last_scan_to_end                        148024 non-null  float64\n",
      " 53  days_since_sco_introduction                       148024 non-null  int64  \n",
      " 54  transaction_id                                    148024 non-null  object \n",
      "dtypes: bool(27), float64(9), int64(3), int8(1), object(12), uint32(3)\n",
      "memory usage: 32.8+ MB\n"
     ]
    }
   ],
   "source": [
    "tr_label.info()"
   ]
  },
  {
   "cell_type": "markdown",
   "id": "77f3a0e0-3bf3-4e06-8315-66de1dff9dae",
   "metadata": {},
   "source": [
    "# Auswahl der wesentlichen Merkmale"
   ]
  },
  {
   "cell_type": "code",
   "execution_count": 5,
   "id": "14b40a3e-f2d6-4c9b-a174-f7de260b68da",
   "metadata": {},
   "outputs": [],
   "source": [
    "tr_label = tr_label[['label','transaction_id','n_lines', 'payment_medium',\n",
    "       'has_feedback', 'feedback_categorical', 'hour',\n",
    "       'transaction_duration_seconds', \n",
    "       'has_voided',  'has_unscanned',\n",
    "       'has_camera_detected_wrong_product',\n",
    "       'has_camera_detected_wrong_product_high_certainty',\n",
    "       'calculated_price_difference', 'has_positive_price_difference',\n",
    "       'has_snacks']]"
   ]
  },
  {
   "cell_type": "code",
   "execution_count": 6,
   "id": "bdfabfe3-1502-4166-80da-6f1499dae6d5",
   "metadata": {},
   "outputs": [
    {
     "name": "stdout",
     "output_type": "stream",
     "text": [
      "<class 'pandas.core.frame.DataFrame'>\n",
      "RangeIndex: 148024 entries, 0 to 148023\n",
      "Data columns (total 15 columns):\n",
      " #   Column                                            Non-Null Count   Dtype  \n",
      "---  ------                                            --------------   -----  \n",
      " 0   label                                             148024 non-null  object \n",
      " 1   transaction_id                                    148024 non-null  object \n",
      " 2   n_lines                                           148024 non-null  int64  \n",
      " 3   payment_medium                                    148024 non-null  object \n",
      " 4   has_feedback                                      148024 non-null  bool   \n",
      " 5   feedback_categorical                              148024 non-null  object \n",
      " 6   hour                                              148024 non-null  int8   \n",
      " 7   transaction_duration_seconds                      148024 non-null  int64  \n",
      " 8   has_voided                                        148024 non-null  bool   \n",
      " 9   has_unscanned                                     148024 non-null  bool   \n",
      " 10  has_camera_detected_wrong_product                 148024 non-null  bool   \n",
      " 11  has_camera_detected_wrong_product_high_certainty  148024 non-null  bool   \n",
      " 12  calculated_price_difference                       148024 non-null  float64\n",
      " 13  has_positive_price_difference                     148024 non-null  bool   \n",
      " 14  has_snacks                                        148024 non-null  bool   \n",
      "dtypes: bool(7), float64(1), int64(2), int8(1), object(4)\n",
      "memory usage: 9.0+ MB\n"
     ]
    }
   ],
   "source": [
    "tr_label.info()"
   ]
  },
  {
   "cell_type": "markdown",
   "id": "1941ed0a-6f17-403d-9184-b6d205cd7bff",
   "metadata": {},
   "source": [
    "# Ermitteln der Datensätze mit sales price = 0, die als Fraud gelabelt wurden, da diese anderweitig ermittelt werden könnten"
   ]
  },
  {
   "cell_type": "code",
   "execution_count": 7,
   "id": "8df2fd0e-57da-4a81-b51c-ee90727e04f0",
   "metadata": {
    "tags": []
   },
   "outputs": [],
   "source": [
    "sales_price_0 = tr_label[(tr_label.has_unscanned == True ) & (tr_label.label == \"FRAUD\")]"
   ]
  },
  {
   "cell_type": "code",
   "execution_count": 8,
   "id": "77a4807b-fa8c-4e26-9e35-0ee8f035a49c",
   "metadata": {},
   "outputs": [
    {
     "data": {
      "text/plain": [
       "(377, 15)"
      ]
     },
     "execution_count": 8,
     "metadata": {},
     "output_type": "execute_result"
    }
   ],
   "source": [
    "sales_price_0.shape"
   ]
  },
  {
   "cell_type": "markdown",
   "id": "fb393199-7260-46cc-8e73-04692c89a4d3",
   "metadata": {},
   "source": [
    "# Ermitteln der Datensätze mit rechnerischer Differenz (Rabattbetrug), die als Fraud gelabelt wurden, da diese anderweitig ermittelt werden könnten"
   ]
  },
  {
   "cell_type": "code",
   "execution_count": 9,
   "id": "56dc2b76-91c0-4ffa-8caf-27f40e5ce4f6",
   "metadata": {},
   "outputs": [],
   "source": [
    "rabatt_betrug = tr_label[(tr_label.has_positive_price_difference == True) & (tr_label.label == \"FRAUD\")]"
   ]
  },
  {
   "cell_type": "code",
   "execution_count": 10,
   "id": "78834287-e19c-4948-ad00-9c786d0695b1",
   "metadata": {},
   "outputs": [
    {
     "data": {
      "text/plain": [
       "(2713, 15)"
      ]
     },
     "execution_count": 10,
     "metadata": {},
     "output_type": "execute_result"
    }
   ],
   "source": [
    "rabatt_betrug.shape"
   ]
  },
  {
   "cell_type": "markdown",
   "id": "25a64e4d-73f7-428e-a729-8f955d31d877",
   "metadata": {},
   "source": [
    "# Ermitteln der Datensätze ohne die oben ermittelten FRAUD-Fälle (die restlcihen FRAUD-Fälle)"
   ]
  },
  {
   "cell_type": "code",
   "execution_count": 11,
   "id": "a699c299-f64d-4f29-a256-90fe7bd97853",
   "metadata": {
    "tags": []
   },
   "outputs": [],
   "source": [
    "# 1. IDs der auszuschließenden Transaktionen ermitteln\n",
    "exclude_ids = pd.concat([sales_price_0[\"transaction_id\"], rabatt_betrug[\"transaction_id\"]]).unique()\n",
    "\n",
    "# 2. Alle Transaktionen aus tr_label, die NICHT in exclude_ids sind\n",
    "tr_label_filtered = tr_label[~tr_label[\"transaction_id\"].isin(exclude_ids)]\n"
   ]
  },
  {
   "cell_type": "code",
   "execution_count": 12,
   "id": "e05dd579-2e3f-426e-8fa1-c778c2b2d527",
   "metadata": {},
   "outputs": [
    {
     "name": "stdout",
     "output_type": "stream",
     "text": [
      "<class 'pandas.core.frame.DataFrame'>\n",
      "Int64Index: 144965 entries, 0 to 148022\n",
      "Data columns (total 15 columns):\n",
      " #   Column                                            Non-Null Count   Dtype  \n",
      "---  ------                                            --------------   -----  \n",
      " 0   label                                             144965 non-null  object \n",
      " 1   transaction_id                                    144965 non-null  object \n",
      " 2   n_lines                                           144965 non-null  int64  \n",
      " 3   payment_medium                                    144965 non-null  object \n",
      " 4   has_feedback                                      144965 non-null  bool   \n",
      " 5   feedback_categorical                              144965 non-null  object \n",
      " 6   hour                                              144965 non-null  int8   \n",
      " 7   transaction_duration_seconds                      144965 non-null  int64  \n",
      " 8   has_voided                                        144965 non-null  bool   \n",
      " 9   has_unscanned                                     144965 non-null  bool   \n",
      " 10  has_camera_detected_wrong_product                 144965 non-null  bool   \n",
      " 11  has_camera_detected_wrong_product_high_certainty  144965 non-null  bool   \n",
      " 12  calculated_price_difference                       144965 non-null  float64\n",
      " 13  has_positive_price_difference                     144965 non-null  bool   \n",
      " 14  has_snacks                                        144965 non-null  bool   \n",
      "dtypes: bool(7), float64(1), int64(2), int8(1), object(4)\n",
      "memory usage: 10.0+ MB\n"
     ]
    }
   ],
   "source": [
    "tr_label_filtered.info()"
   ]
  },
  {
   "cell_type": "markdown",
   "id": "e4e70308-b03d-4f9f-844a-52bbd53f9c5b",
   "metadata": {},
   "source": [
    "# Einfügen der Spalte damage, da diese für die Kostenfunktion benötigt wird"
   ]
  },
  {
   "cell_type": "code",
   "execution_count": 13,
   "id": "e2ced31f-e057-4972-a93f-c7b3ffa00543",
   "metadata": {},
   "outputs": [],
   "source": [
    "\n",
    "df = tr_label_filtered.merge(\n",
    "    tr_damage[[\"transaction_id\", \"damage\"]],\n",
    "    on=\"transaction_id\",\n",
    "    how=\"left\"  # falls manche keinen Schaden haben\n",
    ")\n"
   ]
  },
  {
   "cell_type": "markdown",
   "id": "3ee16d66-3c50-411e-9452-51b7d4ba6a64",
   "metadata": {},
   "source": [
    "# Ggf. 0,00 € als Schaden hinzufügen"
   ]
  },
  {
   "cell_type": "code",
   "execution_count": 14,
   "id": "393b9df1-fcfa-4f6c-911e-d654fe2c24dd",
   "metadata": {
    "tags": []
   },
   "outputs": [],
   "source": [
    "df[\"damage\"] = df[\"damage\"].fillna(0)\n"
   ]
  },
  {
   "cell_type": "code",
   "execution_count": 15,
   "id": "9a89188d-5d1e-4e58-a63d-588825eff8e6",
   "metadata": {},
   "outputs": [
    {
     "name": "stdout",
     "output_type": "stream",
     "text": [
      "<class 'pandas.core.frame.DataFrame'>\n",
      "Int64Index: 144965 entries, 0 to 144964\n",
      "Data columns (total 16 columns):\n",
      " #   Column                                            Non-Null Count   Dtype  \n",
      "---  ------                                            --------------   -----  \n",
      " 0   label                                             144965 non-null  object \n",
      " 1   transaction_id                                    144965 non-null  object \n",
      " 2   n_lines                                           144965 non-null  int64  \n",
      " 3   payment_medium                                    144965 non-null  object \n",
      " 4   has_feedback                                      144965 non-null  bool   \n",
      " 5   feedback_categorical                              144965 non-null  object \n",
      " 6   hour                                              144965 non-null  int8   \n",
      " 7   transaction_duration_seconds                      144965 non-null  int64  \n",
      " 8   has_voided                                        144965 non-null  bool   \n",
      " 9   has_unscanned                                     144965 non-null  bool   \n",
      " 10  has_camera_detected_wrong_product                 144965 non-null  bool   \n",
      " 11  has_camera_detected_wrong_product_high_certainty  144965 non-null  bool   \n",
      " 12  calculated_price_difference                       144965 non-null  float64\n",
      " 13  has_positive_price_difference                     144965 non-null  bool   \n",
      " 14  has_snacks                                        144965 non-null  bool   \n",
      " 15  damage                                            144965 non-null  float64\n",
      "dtypes: bool(7), float64(2), int64(2), int8(1), object(4)\n",
      "memory usage: 11.1+ MB\n"
     ]
    }
   ],
   "source": [
    "df.info()"
   ]
  },
  {
   "cell_type": "code",
   "execution_count": 16,
   "id": "8de75aeb-f920-4453-b132-e276a0f09d58",
   "metadata": {},
   "outputs": [
    {
     "data": {
      "text/plain": [
       "11786.330000000002"
      ]
     },
     "execution_count": 16,
     "metadata": {},
     "output_type": "execute_result"
    }
   ],
   "source": [
    "df.damage.sum()"
   ]
  },
  {
   "cell_type": "markdown",
   "id": "5a18cd02-9f30-4248-8e21-33c42cb5a7c5",
   "metadata": {},
   "source": [
    "# Zielvariable vorbereiten"
   ]
  },
  {
   "cell_type": "code",
   "execution_count": 17,
   "id": "5e1d5c2e-7585-4ff9-babf-3737c495bf8a",
   "metadata": {
    "tags": []
   },
   "outputs": [],
   "source": [
    "from sklearn.preprocessing import LabelEncoder\n",
    "\n",
    "df = df.copy()\n",
    "label_encoder = LabelEncoder()\n",
    "df[\"label_encoded\"] = label_encoder.fit_transform(df[\"label\"])  # FRAUD = 1, NORMAL = 0\n"
   ]
  },
  {
   "cell_type": "code",
   "execution_count": 18,
   "id": "b0597fc3-840c-4c07-bd03-690f90c347d6",
   "metadata": {},
   "outputs": [
    {
     "name": "stdout",
     "output_type": "stream",
     "text": [
      "<class 'pandas.core.frame.DataFrame'>\n",
      "Int64Index: 144965 entries, 0 to 144964\n",
      "Data columns (total 17 columns):\n",
      " #   Column                                            Non-Null Count   Dtype  \n",
      "---  ------                                            --------------   -----  \n",
      " 0   label                                             144965 non-null  object \n",
      " 1   transaction_id                                    144965 non-null  object \n",
      " 2   n_lines                                           144965 non-null  int64  \n",
      " 3   payment_medium                                    144965 non-null  object \n",
      " 4   has_feedback                                      144965 non-null  bool   \n",
      " 5   feedback_categorical                              144965 non-null  object \n",
      " 6   hour                                              144965 non-null  int8   \n",
      " 7   transaction_duration_seconds                      144965 non-null  int64  \n",
      " 8   has_voided                                        144965 non-null  bool   \n",
      " 9   has_unscanned                                     144965 non-null  bool   \n",
      " 10  has_camera_detected_wrong_product                 144965 non-null  bool   \n",
      " 11  has_camera_detected_wrong_product_high_certainty  144965 non-null  bool   \n",
      " 12  calculated_price_difference                       144965 non-null  float64\n",
      " 13  has_positive_price_difference                     144965 non-null  bool   \n",
      " 14  has_snacks                                        144965 non-null  bool   \n",
      " 15  damage                                            144965 non-null  float64\n",
      " 16  label_encoded                                     144965 non-null  int32  \n",
      "dtypes: bool(7), float64(2), int32(1), int64(2), int8(1), object(4)\n",
      "memory usage: 11.6+ MB\n"
     ]
    }
   ],
   "source": [
    "df.info()"
   ]
  },
  {
   "cell_type": "markdown",
   "id": "d3cec3bf-4213-4e98-8a43-a72bb0e05231",
   "metadata": {},
   "source": [
    "# Features und Ziel trennen"
   ]
  },
  {
   "cell_type": "code",
   "execution_count": 19,
   "id": "e3d642a3-ae35-4cb2-9561-1d347f2d6f8a",
   "metadata": {},
   "outputs": [],
   "source": [
    "X = df.drop(columns=[\"label\", \"label_encoded\", \"transaction_id\"])  \n",
    "y = df[\"label_encoded\"]\n"
   ]
  },
  {
   "cell_type": "code",
   "execution_count": 20,
   "id": "34cac454-cd59-48e9-9461-05fb0cf57549",
   "metadata": {},
   "outputs": [],
   "source": [
    "X = pd.get_dummies(X, columns=[\"payment_medium\"], drop_first=True)\n",
    "X = pd.get_dummies(X, columns=[\"feedback_categorical\"], drop_first=True)\n",
    "\n"
   ]
  },
  {
   "cell_type": "code",
   "execution_count": 21,
   "id": "c4bf24d9-2b10-487f-b7c5-17890dc7c8cb",
   "metadata": {},
   "outputs": [
    {
     "name": "stdout",
     "output_type": "stream",
     "text": [
      "<class 'pandas.core.frame.DataFrame'>\n",
      "Int64Index: 144965 entries, 0 to 144964\n",
      "Data columns (total 17 columns):\n",
      " #   Column                                            Non-Null Count   Dtype  \n",
      "---  ------                                            --------------   -----  \n",
      " 0   n_lines                                           144965 non-null  int64  \n",
      " 1   has_feedback                                      144965 non-null  bool   \n",
      " 2   hour                                              144965 non-null  int8   \n",
      " 3   transaction_duration_seconds                      144965 non-null  int64  \n",
      " 4   has_voided                                        144965 non-null  bool   \n",
      " 5   has_unscanned                                     144965 non-null  bool   \n",
      " 6   has_camera_detected_wrong_product                 144965 non-null  bool   \n",
      " 7   has_camera_detected_wrong_product_high_certainty  144965 non-null  bool   \n",
      " 8   calculated_price_difference                       144965 non-null  float64\n",
      " 9   has_positive_price_difference                     144965 non-null  bool   \n",
      " 10  has_snacks                                        144965 non-null  bool   \n",
      " 11  damage                                            144965 non-null  float64\n",
      " 12  payment_medium_CREDIT_CARD                        144965 non-null  uint8  \n",
      " 13  feedback_categorical_LOW                          144965 non-null  uint8  \n",
      " 14  feedback_categorical_MIDDLE                       144965 non-null  uint8  \n",
      " 15  feedback_categorical_MISSING                      144965 non-null  uint8  \n",
      " 16  feedback_categorical_TOP                          144965 non-null  uint8  \n",
      "dtypes: bool(7), float64(2), int64(2), int8(1), uint8(5)\n",
      "memory usage: 7.3 MB\n"
     ]
    }
   ],
   "source": [
    "X.info()"
   ]
  },
  {
   "cell_type": "code",
   "execution_count": 22,
   "id": "2a1b6665-20d9-4e70-8d7c-ddfe14e77a76",
   "metadata": {},
   "outputs": [],
   "source": [
    "\n",
    "import numpy as np\n",
    "from sklearn.model_selection import train_test_split\n",
    "from sklearn.ensemble import RandomForestClassifier\n",
    "from sklearn.metrics import classification_report, confusion_matrix\n",
    "\n",
    "# Falls notwendig:\n",
    "# Bool-Spalten in int umwandeln\n",
    "bool_cols = X.select_dtypes(include=[\"bool\"]).columns\n",
    "X[bool_cols] = X[bool_cols].astype(int)\n",
    "\n",
    "# Zielvariable\n",
    "y = df[\"label\"].map({\"NORMAL\": 0, \"FRAUD\": 1})\n"
   ]
  },
  {
   "cell_type": "code",
   "execution_count": 23,
   "id": "a8851122-6ff9-4b7b-ab01-1bfa79fdceb4",
   "metadata": {},
   "outputs": [],
   "source": [
    "X_train, X_test, y_train, y_test, damage_train, damage_test = train_test_split(\n",
    "    X, y, df[\"damage\"], test_size=0.2, stratify=y, random_state=42\n",
    ")\n"
   ]
  },
  {
   "cell_type": "code",
   "execution_count": 25,
   "id": "01d0cd32-b76d-4263-acc1-9ee68bc027ae",
   "metadata": {},
   "outputs": [
    {
     "data": {
      "text/html": [
       "<style>#sk-container-id-1 {color: black;background-color: white;}#sk-container-id-1 pre{padding: 0;}#sk-container-id-1 div.sk-toggleable {background-color: white;}#sk-container-id-1 label.sk-toggleable__label {cursor: pointer;display: block;width: 100%;margin-bottom: 0;padding: 0.3em;box-sizing: border-box;text-align: center;}#sk-container-id-1 label.sk-toggleable__label-arrow:before {content: \"▸\";float: left;margin-right: 0.25em;color: #696969;}#sk-container-id-1 label.sk-toggleable__label-arrow:hover:before {color: black;}#sk-container-id-1 div.sk-estimator:hover label.sk-toggleable__label-arrow:before {color: black;}#sk-container-id-1 div.sk-toggleable__content {max-height: 0;max-width: 0;overflow: hidden;text-align: left;background-color: #f0f8ff;}#sk-container-id-1 div.sk-toggleable__content pre {margin: 0.2em;color: black;border-radius: 0.25em;background-color: #f0f8ff;}#sk-container-id-1 input.sk-toggleable__control:checked~div.sk-toggleable__content {max-height: 200px;max-width: 100%;overflow: auto;}#sk-container-id-1 input.sk-toggleable__control:checked~label.sk-toggleable__label-arrow:before {content: \"▾\";}#sk-container-id-1 div.sk-estimator input.sk-toggleable__control:checked~label.sk-toggleable__label {background-color: #d4ebff;}#sk-container-id-1 div.sk-label input.sk-toggleable__control:checked~label.sk-toggleable__label {background-color: #d4ebff;}#sk-container-id-1 input.sk-hidden--visually {border: 0;clip: rect(1px 1px 1px 1px);clip: rect(1px, 1px, 1px, 1px);height: 1px;margin: -1px;overflow: hidden;padding: 0;position: absolute;width: 1px;}#sk-container-id-1 div.sk-estimator {font-family: monospace;background-color: #f0f8ff;border: 1px dotted black;border-radius: 0.25em;box-sizing: border-box;margin-bottom: 0.5em;}#sk-container-id-1 div.sk-estimator:hover {background-color: #d4ebff;}#sk-container-id-1 div.sk-parallel-item::after {content: \"\";width: 100%;border-bottom: 1px solid gray;flex-grow: 1;}#sk-container-id-1 div.sk-label:hover label.sk-toggleable__label {background-color: #d4ebff;}#sk-container-id-1 div.sk-serial::before {content: \"\";position: absolute;border-left: 1px solid gray;box-sizing: border-box;top: 0;bottom: 0;left: 50%;z-index: 0;}#sk-container-id-1 div.sk-serial {display: flex;flex-direction: column;align-items: center;background-color: white;padding-right: 0.2em;padding-left: 0.2em;position: relative;}#sk-container-id-1 div.sk-item {position: relative;z-index: 1;}#sk-container-id-1 div.sk-parallel {display: flex;align-items: stretch;justify-content: center;background-color: white;position: relative;}#sk-container-id-1 div.sk-item::before, #sk-container-id-1 div.sk-parallel-item::before {content: \"\";position: absolute;border-left: 1px solid gray;box-sizing: border-box;top: 0;bottom: 0;left: 50%;z-index: -1;}#sk-container-id-1 div.sk-parallel-item {display: flex;flex-direction: column;z-index: 1;position: relative;background-color: white;}#sk-container-id-1 div.sk-parallel-item:first-child::after {align-self: flex-end;width: 50%;}#sk-container-id-1 div.sk-parallel-item:last-child::after {align-self: flex-start;width: 50%;}#sk-container-id-1 div.sk-parallel-item:only-child::after {width: 0;}#sk-container-id-1 div.sk-dashed-wrapped {border: 1px dashed gray;margin: 0 0.4em 0.5em 0.4em;box-sizing: border-box;padding-bottom: 0.4em;background-color: white;}#sk-container-id-1 div.sk-label label {font-family: monospace;font-weight: bold;display: inline-block;line-height: 1.2em;}#sk-container-id-1 div.sk-label-container {text-align: center;}#sk-container-id-1 div.sk-container {/* jupyter's `normalize.less` sets `[hidden] { display: none; }` but bootstrap.min.css set `[hidden] { display: none !important; }` so we also need the `!important` here to be able to override the default hidden behavior on the sphinx rendered scikit-learn.org. See: https://github.com/scikit-learn/scikit-learn/issues/21755 */display: inline-block !important;position: relative;}#sk-container-id-1 div.sk-text-repr-fallback {display: none;}</style><div id=\"sk-container-id-1\" class=\"sk-top-container\"><div class=\"sk-text-repr-fallback\"><pre>RandomForestClassifier(class_weight=&#x27;balanced&#x27;, max_depth=8, random_state=42)</pre><b>In a Jupyter environment, please rerun this cell to show the HTML representation or trust the notebook. <br />On GitHub, the HTML representation is unable to render, please try loading this page with nbviewer.org.</b></div><div class=\"sk-container\" hidden><div class=\"sk-item\"><div class=\"sk-estimator sk-toggleable\"><input class=\"sk-toggleable__control sk-hidden--visually\" id=\"sk-estimator-id-1\" type=\"checkbox\" checked><label for=\"sk-estimator-id-1\" class=\"sk-toggleable__label sk-toggleable__label-arrow\">RandomForestClassifier</label><div class=\"sk-toggleable__content\"><pre>RandomForestClassifier(class_weight=&#x27;balanced&#x27;, max_depth=8, random_state=42)</pre></div></div></div></div></div>"
      ],
      "text/plain": [
       "RandomForestClassifier(class_weight='balanced', max_depth=8, random_state=42)"
      ]
     },
     "execution_count": 25,
     "metadata": {},
     "output_type": "execute_result"
    }
   ],
   "source": [
    "model = RandomForestClassifier(\n",
    "    n_estimators=100,\n",
    "    max_depth=8,\n",
    "    class_weight=\"balanced\",  # gleicht Klassenungleichheit aus\n",
    "    random_state=42\n",
    ")\n",
    "model.fit(X_train, y_train)\n"
   ]
  },
  {
   "cell_type": "code",
   "execution_count": 26,
   "id": "7b8043a9-dcf9-4a66-b0e3-cedb5b8f242b",
   "metadata": {},
   "outputs": [],
   "source": [
    "y_pred = model.predict(X_test)\n",
    "y_proba = model.predict_proba(X_test)[:, 1]  # für Threshold-Tuning später\n"
   ]
  },
  {
   "cell_type": "code",
   "execution_count": 27,
   "id": "a43aab92-89c6-4e4d-b4ca-82be3d5de95a",
   "metadata": {},
   "outputs": [
    {
     "name": "stdout",
     "output_type": "stream",
     "text": [
      "Konfusionsmatrix:\n",
      "[[28674     0]\n",
      " [    1   318]]\n",
      "\n",
      "Klassifikationsbericht:\n",
      "              precision    recall  f1-score   support\n",
      "\n",
      "           0       1.00      1.00      1.00     28674\n",
      "           1       1.00      1.00      1.00       319\n",
      "\n",
      "    accuracy                           1.00     28993\n",
      "   macro avg       1.00      1.00      1.00     28993\n",
      "weighted avg       1.00      1.00      1.00     28993\n",
      "\n"
     ]
    }
   ],
   "source": [
    "print(\"Konfusionsmatrix:\")\n",
    "print(confusion_matrix(y_test, y_pred))\n",
    "\n",
    "print(\"\\nKlassifikationsbericht:\")\n",
    "print(classification_report(y_test, y_pred))\n"
   ]
  },
  {
   "cell_type": "code",
   "execution_count": 28,
   "id": "d40abe41-7eb6-43ff-8950-f2037939d87c",
   "metadata": {},
   "outputs": [],
   "source": [
    "def cost_score(y_true, y_pred, damage_values):\n",
    "    cost = 0\n",
    "    for yt, yp, dmg in zip(y_true, y_pred, damage_values):\n",
    "        if yt == 1 and yp == 1:       # True Positive\n",
    "            cost += 5\n",
    "        elif yt == 1 and yp == 0:     # False Negative\n",
    "            cost -= dmg\n",
    "        elif yt == 0 and yp == 1:     # False Positive\n",
    "            cost -= 10\n",
    "        # TN → 0 €\n",
    "    return cost\n"
   ]
  },
  {
   "cell_type": "code",
   "execution_count": 29,
   "id": "b0d46495-550e-45f6-a342-fea553a3c878",
   "metadata": {},
   "outputs": [
    {
     "name": "stdout",
     "output_type": "stream",
     "text": [
      "\n",
      "Gesamtnutzen laut Bewertungsfunktion: 1,589.97 €\n"
     ]
    }
   ],
   "source": [
    "total_cost = cost_score(y_test, y_pred, damage_test)\n",
    "print(f\"\\nGesamtnutzen laut Bewertungsfunktion: {total_cost:,.2f} €\")\n"
   ]
  }
 ],
 "metadata": {
  "kernelspec": {
   "display_name": "Python 3 (ipykernel)",
   "language": "python",
   "name": "python3"
  },
  "language_info": {
   "codemirror_mode": {
    "name": "ipython",
    "version": 3
   },
   "file_extension": ".py",
   "mimetype": "text/x-python",
   "name": "python",
   "nbconvert_exporter": "python",
   "pygments_lexer": "ipython3",
   "version": "3.10.9"
  }
 },
 "nbformat": 4,
 "nbformat_minor": 5
}

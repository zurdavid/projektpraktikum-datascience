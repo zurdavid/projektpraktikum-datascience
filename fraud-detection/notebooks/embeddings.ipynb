{
 "cells": [
  {
   "cell_type": "code",
   "execution_count": 4,
   "id": "2f6afecc",
   "metadata": {},
   "outputs": [],
   "source": [
    "import sys\n",
    "from importlib import reload\n",
    "\n",
    "import numpy as np\n",
    "import polars as pl\n",
    "import polars.selectors as cs\n",
    "\n",
    "import fraud_detection as fd\n",
    "from fraud_detection import data_loader, metrics\n",
    "\n",
    "# Add the src directory to the system path to import modules\n",
    "reload(fd)\n",
    "sys.path.append('../src')\n",
    "\n",
    "datapath = \"../data/transformed_label_and_damage.parquet\""
   ]
  },
  {
   "cell_type": "code",
   "execution_count": 5,
   "id": "0dd7f5e3",
   "metadata": {},
   "outputs": [],
   "source": [
    "df = data_loader.load_data_df(datapath)"
   ]
  },
  {
   "cell_type": "code",
   "execution_count": 6,
   "id": "a62f8377",
   "metadata": {},
   "outputs": [
    {
     "data": {
      "text/html": [
       "<div><style>\n",
       ".dataframe > thead > tr,\n",
       ".dataframe > tbody > tr {\n",
       "  text-align: right;\n",
       "  white-space: pre-wrap;\n",
       "}\n",
       "</style>\n",
       "<small>shape: (147_647, 11)</small><table border=\"1\" class=\"dataframe\"><thead><tr><th>label</th><th>cash_desk</th><th>payment_medium</th><th>feedback_categorical</th><th>daytime</th><th>hour_categorical</th><th>day_of_week</th><th>month</th><th>store_id</th><th>location</th><th>urbanization</th></tr><tr><td>cat</td><td>cat</td><td>cat</td><td>cat</td><td>cat</td><td>cat</td><td>cat</td><td>cat</td><td>cat</td><td>cat</td><td>cat</td></tr></thead><tbody><tr><td>&quot;NORMAL&quot;</td><td>&quot;2&quot;</td><td>&quot;CREDIT_CARD&quot;</td><td>&quot;MISSING&quot;</td><td>&quot;morning&quot;</td><td>&quot;8&quot;</td><td>&quot;Wednesday&quot;</td><td>&quot;February&quot;</td><td>&quot;cd833b6b-0666-42df-b538-6bb1f1…</td><td>&quot;K&quot;</td><td>&quot;RURAL&quot;</td></tr><tr><td>&quot;NORMAL&quot;</td><td>&quot;1&quot;</td><td>&quot;CREDIT_CARD&quot;</td><td>&quot;MISSING&quot;</td><td>&quot;morning&quot;</td><td>&quot;9&quot;</td><td>&quot;Wednesday&quot;</td><td>&quot;February&quot;</td><td>&quot;cd833b6b-0666-42df-b538-6bb1f1…</td><td>&quot;K&quot;</td><td>&quot;RURAL&quot;</td></tr><tr><td>&quot;NORMAL&quot;</td><td>&quot;2&quot;</td><td>&quot;CREDIT_CARD&quot;</td><td>&quot;MISSING&quot;</td><td>&quot;morning&quot;</td><td>&quot;10&quot;</td><td>&quot;Wednesday&quot;</td><td>&quot;February&quot;</td><td>&quot;cd833b6b-0666-42df-b538-6bb1f1…</td><td>&quot;K&quot;</td><td>&quot;RURAL&quot;</td></tr><tr><td>&quot;NORMAL&quot;</td><td>&quot;1&quot;</td><td>&quot;CREDIT_CARD&quot;</td><td>&quot;MISSING&quot;</td><td>&quot;morning&quot;</td><td>&quot;10&quot;</td><td>&quot;Wednesday&quot;</td><td>&quot;February&quot;</td><td>&quot;cd833b6b-0666-42df-b538-6bb1f1…</td><td>&quot;K&quot;</td><td>&quot;RURAL&quot;</td></tr><tr><td>&quot;NORMAL&quot;</td><td>&quot;1&quot;</td><td>&quot;CREDIT_CARD&quot;</td><td>&quot;MISSING&quot;</td><td>&quot;morning&quot;</td><td>&quot;11&quot;</td><td>&quot;Wednesday&quot;</td><td>&quot;February&quot;</td><td>&quot;cd833b6b-0666-42df-b538-6bb1f1…</td><td>&quot;K&quot;</td><td>&quot;RURAL&quot;</td></tr><tr><td>&hellip;</td><td>&hellip;</td><td>&hellip;</td><td>&hellip;</td><td>&hellip;</td><td>&hellip;</td><td>&hellip;</td><td>&hellip;</td><td>&hellip;</td><td>&hellip;</td><td>&hellip;</td></tr><tr><td>&quot;NORMAL&quot;</td><td>&quot;2&quot;</td><td>&quot;CREDIT_CARD&quot;</td><td>&quot;HIGH&quot;</td><td>&quot;evening&quot;</td><td>&quot;21&quot;</td><td>&quot;Saturday&quot;</td><td>&quot;December&quot;</td><td>&quot;46e6da32-f4b0-40f3-ada7-fc6ca8…</td><td>&quot;S&quot;</td><td>&quot;CITIES&quot;</td></tr><tr><td>&quot;NORMAL&quot;</td><td>&quot;3&quot;</td><td>&quot;CREDIT_CARD&quot;</td><td>&quot;TOP&quot;</td><td>&quot;evening&quot;</td><td>&quot;21&quot;</td><td>&quot;Saturday&quot;</td><td>&quot;December&quot;</td><td>&quot;46e6da32-f4b0-40f3-ada7-fc6ca8…</td><td>&quot;S&quot;</td><td>&quot;CITIES&quot;</td></tr><tr><td>&quot;NORMAL&quot;</td><td>&quot;0&quot;</td><td>&quot;CASH&quot;</td><td>&quot;MISSING&quot;</td><td>&quot;evening&quot;</td><td>&quot;21&quot;</td><td>&quot;Saturday&quot;</td><td>&quot;December&quot;</td><td>&quot;46e6da32-f4b0-40f3-ada7-fc6ca8…</td><td>&quot;S&quot;</td><td>&quot;CITIES&quot;</td></tr><tr><td>&quot;NORMAL&quot;</td><td>&quot;0&quot;</td><td>&quot;CREDIT_CARD&quot;</td><td>&quot;MISSING&quot;</td><td>&quot;evening&quot;</td><td>&quot;21&quot;</td><td>&quot;Saturday&quot;</td><td>&quot;December&quot;</td><td>&quot;46e6da32-f4b0-40f3-ada7-fc6ca8…</td><td>&quot;S&quot;</td><td>&quot;CITIES&quot;</td></tr><tr><td>&quot;NORMAL&quot;</td><td>&quot;3&quot;</td><td>&quot;CREDIT_CARD&quot;</td><td>&quot;MISSING&quot;</td><td>&quot;evening&quot;</td><td>&quot;21&quot;</td><td>&quot;Saturday&quot;</td><td>&quot;December&quot;</td><td>&quot;46e6da32-f4b0-40f3-ada7-fc6ca8…</td><td>&quot;S&quot;</td><td>&quot;CITIES&quot;</td></tr></tbody></table></div>"
      ],
      "text/plain": [
       "shape: (147_647, 11)\n",
       "┌────────┬───────────┬────────────┬────────────┬───┬──────────┬────────────┬──────────┬────────────┐\n",
       "│ label  ┆ cash_desk ┆ payment_me ┆ feedback_c ┆ … ┆ month    ┆ store_id   ┆ location ┆ urbanizati │\n",
       "│ ---    ┆ ---       ┆ dium       ┆ ategorical ┆   ┆ ---      ┆ ---        ┆ ---      ┆ on         │\n",
       "│ cat    ┆ cat       ┆ ---        ┆ ---        ┆   ┆ cat      ┆ cat        ┆ cat      ┆ ---        │\n",
       "│        ┆           ┆ cat        ┆ cat        ┆   ┆          ┆            ┆          ┆ cat        │\n",
       "╞════════╪═══════════╪════════════╪════════════╪═══╪══════════╪════════════╪══════════╪════════════╡\n",
       "│ NORMAL ┆ 2         ┆ CREDIT_CAR ┆ MISSING    ┆ … ┆ February ┆ cd833b6b-0 ┆ K        ┆ RURAL      │\n",
       "│        ┆           ┆ D          ┆            ┆   ┆          ┆ 666-42df-b ┆          ┆            │\n",
       "│        ┆           ┆            ┆            ┆   ┆          ┆ 538-6bb1f1 ┆          ┆            │\n",
       "│        ┆           ┆            ┆            ┆   ┆          ┆ …          ┆          ┆            │\n",
       "│ NORMAL ┆ 1         ┆ CREDIT_CAR ┆ MISSING    ┆ … ┆ February ┆ cd833b6b-0 ┆ K        ┆ RURAL      │\n",
       "│        ┆           ┆ D          ┆            ┆   ┆          ┆ 666-42df-b ┆          ┆            │\n",
       "│        ┆           ┆            ┆            ┆   ┆          ┆ 538-6bb1f1 ┆          ┆            │\n",
       "│        ┆           ┆            ┆            ┆   ┆          ┆ …          ┆          ┆            │\n",
       "│ NORMAL ┆ 2         ┆ CREDIT_CAR ┆ MISSING    ┆ … ┆ February ┆ cd833b6b-0 ┆ K        ┆ RURAL      │\n",
       "│        ┆           ┆ D          ┆            ┆   ┆          ┆ 666-42df-b ┆          ┆            │\n",
       "│        ┆           ┆            ┆            ┆   ┆          ┆ 538-6bb1f1 ┆          ┆            │\n",
       "│        ┆           ┆            ┆            ┆   ┆          ┆ …          ┆          ┆            │\n",
       "│ NORMAL ┆ 1         ┆ CREDIT_CAR ┆ MISSING    ┆ … ┆ February ┆ cd833b6b-0 ┆ K        ┆ RURAL      │\n",
       "│        ┆           ┆ D          ┆            ┆   ┆          ┆ 666-42df-b ┆          ┆            │\n",
       "│        ┆           ┆            ┆            ┆   ┆          ┆ 538-6bb1f1 ┆          ┆            │\n",
       "│        ┆           ┆            ┆            ┆   ┆          ┆ …          ┆          ┆            │\n",
       "│ NORMAL ┆ 1         ┆ CREDIT_CAR ┆ MISSING    ┆ … ┆ February ┆ cd833b6b-0 ┆ K        ┆ RURAL      │\n",
       "│        ┆           ┆ D          ┆            ┆   ┆          ┆ 666-42df-b ┆          ┆            │\n",
       "│        ┆           ┆            ┆            ┆   ┆          ┆ 538-6bb1f1 ┆          ┆            │\n",
       "│        ┆           ┆            ┆            ┆   ┆          ┆ …          ┆          ┆            │\n",
       "│ …      ┆ …         ┆ …          ┆ …          ┆ … ┆ …        ┆ …          ┆ …        ┆ …          │\n",
       "│ NORMAL ┆ 2         ┆ CREDIT_CAR ┆ HIGH       ┆ … ┆ December ┆ 46e6da32-f ┆ S        ┆ CITIES     │\n",
       "│        ┆           ┆ D          ┆            ┆   ┆          ┆ 4b0-40f3-a ┆          ┆            │\n",
       "│        ┆           ┆            ┆            ┆   ┆          ┆ da7-fc6ca8 ┆          ┆            │\n",
       "│        ┆           ┆            ┆            ┆   ┆          ┆ …          ┆          ┆            │\n",
       "│ NORMAL ┆ 3         ┆ CREDIT_CAR ┆ TOP        ┆ … ┆ December ┆ 46e6da32-f ┆ S        ┆ CITIES     │\n",
       "│        ┆           ┆ D          ┆            ┆   ┆          ┆ 4b0-40f3-a ┆          ┆            │\n",
       "│        ┆           ┆            ┆            ┆   ┆          ┆ da7-fc6ca8 ┆          ┆            │\n",
       "│        ┆           ┆            ┆            ┆   ┆          ┆ …          ┆          ┆            │\n",
       "│ NORMAL ┆ 0         ┆ CASH       ┆ MISSING    ┆ … ┆ December ┆ 46e6da32-f ┆ S        ┆ CITIES     │\n",
       "│        ┆           ┆            ┆            ┆   ┆          ┆ 4b0-40f3-a ┆          ┆            │\n",
       "│        ┆           ┆            ┆            ┆   ┆          ┆ da7-fc6ca8 ┆          ┆            │\n",
       "│        ┆           ┆            ┆            ┆   ┆          ┆ …          ┆          ┆            │\n",
       "│ NORMAL ┆ 0         ┆ CREDIT_CAR ┆ MISSING    ┆ … ┆ December ┆ 46e6da32-f ┆ S        ┆ CITIES     │\n",
       "│        ┆           ┆ D          ┆            ┆   ┆          ┆ 4b0-40f3-a ┆          ┆            │\n",
       "│        ┆           ┆            ┆            ┆   ┆          ┆ da7-fc6ca8 ┆          ┆            │\n",
       "│        ┆           ┆            ┆            ┆   ┆          ┆ …          ┆          ┆            │\n",
       "│ NORMAL ┆ 3         ┆ CREDIT_CAR ┆ MISSING    ┆ … ┆ December ┆ 46e6da32-f ┆ S        ┆ CITIES     │\n",
       "│        ┆           ┆ D          ┆            ┆   ┆          ┆ 4b0-40f3-a ┆          ┆            │\n",
       "│        ┆           ┆            ┆            ┆   ┆          ┆ da7-fc6ca8 ┆          ┆            │\n",
       "│        ┆           ┆            ┆            ┆   ┆          ┆ …          ┆          ┆            │\n",
       "└────────┴───────────┴────────────┴────────────┴───┴──────────┴────────────┴──────────┴────────────┘"
      ]
     },
     "execution_count": 6,
     "metadata": {},
     "output_type": "execute_result"
    }
   ],
   "source": [
    "\n",
    "df.select(cs.categorical())"
   ]
  }
 ],
 "metadata": {
  "kernelspec": {
   "display_name": ".venv",
   "language": "python",
   "name": "python3"
  },
  "language_info": {
   "codemirror_mode": {
    "name": "ipython",
    "version": 3
   },
   "file_extension": ".py",
   "mimetype": "text/x-python",
   "name": "python",
   "nbconvert_exporter": "python",
   "pygments_lexer": "ipython3",
   "version": "3.12.9"
  }
 },
 "nbformat": 4,
 "nbformat_minor": 5
}

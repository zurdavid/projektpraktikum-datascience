{
 "cells": [
  {
   "cell_type": "code",
   "execution_count": 1,
   "id": "1f95316e",
   "metadata": {},
   "outputs": [],
   "source": [
    "import sys\n",
    "from importlib import reload\n",
    "\n",
    "import pandas as pd\n",
    "\n",
    "import fraud_detection as fd\n",
    "\n",
    "# Add the src directory to the system path to import modules\n",
    "reload(fd)\n",
    "sys.path.append('../src')\n",
    "\n",
    "datapath = \"../data/transformed_label_and_damage.parquet\""
   ]
  },
  {
   "cell_type": "code",
   "execution_count": 2,
   "id": "cb9e2089",
   "metadata": {},
   "outputs": [],
   "source": [
    "import numpy as np\n",
    "import optuna\n",
    "from sklearn.model_selection import train_test_split\n",
    "from xgboost import XGBClassifier\n",
    "\n",
    "from fraud_detection import data_loader, metrics"
   ]
  },
  {
   "cell_type": "code",
   "execution_count": null,
   "id": "c3cf56e6",
   "metadata": {},
   "outputs": [],
   "source": [
    "\n",
    "def objective(trial, X_train, X_test, y_train, y_test):\n",
    "    params = {\n",
    "        \"n_estimators\": trial.suggest_int(\"n_estimators\", 50, 300),\n",
    "        \"max_depth\": trial.suggest_int(\"max_depth\", 3, 15),\n",
    "        \"learning_rate\": trial.suggest_float(\"learning_rate\", 1e-3, 0.3, log=True),\n",
    "        \"subsample\": trial.suggest_float(\"subsample\", 0.5, 1.0),\n",
    "        \"colsample_bytree\": trial.suggest_float(\"colsample_bytree\", 0.5, 1.0),\n",
    "        \"gamma\": trial.suggest_float(\"gamma\", 0, 5),\n",
    "        \"eta\": trial.suggest_float(\"eta\", 0.01, 0.3, log=True),\n",
    "        \"reg_alpha\": trial.suggest_float(\"reg_alpha\", 0.0, 5.0),\n",
    "        \"reg_lambda\": trial.suggest_float(\"reg_lambda\", 0.0, 5.0),\n",
    "        \"min_child_weight\": trial.suggest_int(\"min_child_weight\", 1, 10),\n",
    "        \"scale_pos_weight\": trial.suggest_int(\"scale_pos_weight\", 1, 30),\n",
    "        \"eval_metric\": \"logloss\",\n",
    "    }\n",
    "\n",
    "    clf = XGBClassifier(**params)\n",
    "\n",
    "    clf.fit(X_train, y_train[:, 0])\n",
    "    preds = clf.predict(X_test)\n",
    "    bew = metrics.bewertung(preds, y_test[:, 0], y_test[:, 1])\n",
    "    return -bew[\"Bewertung\"]\n"
   ]
  },
  {
   "cell_type": "code",
   "execution_count": 13,
   "id": "1f743c26",
   "metadata": {},
   "outputs": [],
   "source": [
    "def optimize(path, seed=42):\n",
    "    X, targets = data_loader.load_data_np(path)\n",
    "\n",
    "    X_train, X_test, y_train, y_test = map(\n",
    "        np.asarray, train_test_split(X, targets, test_size=0.2, random_state=seed)\n",
    "    )\n",
    "\n",
    "    def wrapped_objective(trial):\n",
    "        return objective(trial, X_train, X_test, y_train, y_test)\n",
    "\n",
    "    study = optuna.create_study(direction=\"minimize\")\n",
    "    study.optimize(wrapped_objective, show_progress_bar=True, n_trials=100)\n",
    "\n",
    "    return study"
   ]
  },
  {
   "cell_type": "code",
   "execution_count": 14,
   "id": "2c9f2ed0",
   "metadata": {},
   "outputs": [
    {
     "name": "stderr",
     "output_type": "stream",
     "text": [
      "[I 2025-06-11 19:29:53,164] A new study created in memory with name: no-name-eaa1049e-f276-4d63-9706-38f96e53a7f3\n"
     ]
    },
    {
     "data": {
      "application/vnd.jupyter.widget-view+json": {
       "model_id": "b9a4b6a091774866a44b6f3dbea16e40",
       "version_major": 2,
       "version_minor": 0
      },
      "text/plain": [
       "  0%|          | 0/100 [00:00<?, ?it/s]"
      ]
     },
     "metadata": {},
     "output_type": "display_data"
    },
    {
     "name": "stdout",
     "output_type": "stream",
     "text": [
      "[I 2025-06-11 19:29:54,477] Trial 0 finished with value: 16140.89 and parameters: {'n_estimators': 95, 'max_depth': 4, 'learning_rate': 0.09166516349524984, 'subsample': 0.6019533290401176, 'colsample_bytree': 0.7167605408603062, 'gamma': 2.707808693892426, 'eta': 0.018106224019577406, 'reg_alpha': 3.5530235012383633, 'reg_lambda': 1.151909966876941, 'min_child_weight': 1, 'scale_pos_weight': 29}. Best is trial 0 with value: 16140.89.\n",
      "[I 2025-06-11 19:29:56,967] Trial 1 finished with value: 2119.87 and parameters: {'n_estimators': 165, 'max_depth': 6, 'learning_rate': 0.0015290427371926092, 'subsample': 0.714311000338882, 'colsample_bytree': 0.6051097831594114, 'gamma': 4.430458323401042, 'eta': 0.032928947914759, 'reg_alpha': 4.0334112438704, 'reg_lambda': 3.6477850200969604, 'min_child_weight': 2, 'scale_pos_weight': 22}. Best is trial 1 with value: 2119.87.\n",
      "[I 2025-06-11 19:29:58,231] Trial 2 finished with value: 8071.449999999999 and parameters: {'n_estimators': 79, 'max_depth': 5, 'learning_rate': 0.017748380044726998, 'subsample': 0.6506352835087419, 'colsample_bytree': 0.9712874002378125, 'gamma': 0.697386819374024, 'eta': 0.10152154208802315, 'reg_alpha': 3.0885715126574684, 'reg_lambda': 3.9665009745271638, 'min_child_weight': 10, 'scale_pos_weight': 17}. Best is trial 1 with value: 2119.87.\n",
      "[I 2025-06-11 19:29:59,869] Trial 3 finished with value: 17202.16 and parameters: {'n_estimators': 189, 'max_depth': 3, 'learning_rate': 0.033558316871952876, 'subsample': 0.9977831374597361, 'colsample_bytree': 0.838073544655822, 'gamma': 1.6333340440629718, 'eta': 0.03624824857735308, 'reg_alpha': 4.91746202977914, 'reg_lambda': 3.2016550338029077, 'min_child_weight': 2, 'scale_pos_weight': 26}. Best is trial 1 with value: 2119.87.\n",
      "[I 2025-06-11 19:30:01,506] Trial 4 finished with value: 1848.13 and parameters: {'n_estimators': 174, 'max_depth': 3, 'learning_rate': 0.02765993889829469, 'subsample': 0.7682863679914674, 'colsample_bytree': 0.9866321478873401, 'gamma': 0.08459251360941555, 'eta': 0.11651536892874818, 'reg_alpha': 2.123841834417603, 'reg_lambda': 2.826076261760073, 'min_child_weight': 8, 'scale_pos_weight': 2}. Best is trial 4 with value: 1848.13.\n",
      "[I 2025-06-11 19:30:05,384] Trial 5 finished with value: 4577.79 and parameters: {'n_estimators': 259, 'max_depth': 6, 'learning_rate': 0.23032960026115776, 'subsample': 0.5478603087603924, 'colsample_bytree': 0.7596438539973966, 'gamma': 0.5893483292239227, 'eta': 0.020395646024701067, 'reg_alpha': 0.6907734949663569, 'reg_lambda': 3.672185723646354, 'min_child_weight': 8, 'scale_pos_weight': 26}. Best is trial 4 with value: 1848.13.\n",
      "[I 2025-06-11 19:30:06,437] Trial 6 finished with value: 6388.27 and parameters: {'n_estimators': 79, 'max_depth': 4, 'learning_rate': 0.0014004022546872993, 'subsample': 0.5273392425085566, 'colsample_bytree': 0.8976739044734492, 'gamma': 3.391485758774847, 'eta': 0.028227879377982185, 'reg_alpha': 3.8458815202766594, 'reg_lambda': 3.912555226471292, 'min_child_weight': 2, 'scale_pos_weight': 23}. Best is trial 4 with value: 1848.13.\n",
      "[I 2025-06-11 19:30:10,312] Trial 7 finished with value: 4455.91 and parameters: {'n_estimators': 263, 'max_depth': 5, 'learning_rate': 0.25269494147307947, 'subsample': 0.6385000052884381, 'colsample_bytree': 0.7528500059676402, 'gamma': 4.14256517707528, 'eta': 0.0589274578129179, 'reg_alpha': 2.612794324215849, 'reg_lambda': 1.7271419519554743, 'min_child_weight': 2, 'scale_pos_weight': 15}. Best is trial 4 with value: 1848.13.\n",
      "[I 2025-06-11 19:30:14,618] Trial 8 finished with value: 4232.23 and parameters: {'n_estimators': 132, 'max_depth': 13, 'learning_rate': 0.007570712322407706, 'subsample': 0.510518920595606, 'colsample_bytree': 0.668872746039932, 'gamma': 1.3835859344961414, 'eta': 0.13653872767355887, 'reg_alpha': 2.1644689697306037, 'reg_lambda': 3.0874825418340595, 'min_child_weight': 9, 'scale_pos_weight': 22}. Best is trial 4 with value: 1848.13.\n",
      "[I 2025-06-11 19:30:15,853] Trial 9 finished with value: 1732.14 and parameters: {'n_estimators': 51, 'max_depth': 11, 'learning_rate': 0.14156903768120915, 'subsample': 0.5175756223947258, 'colsample_bytree': 0.685487818589043, 'gamma': 3.096756141646979, 'eta': 0.2001457066700012, 'reg_alpha': 1.5204686316719618, 'reg_lambda': 2.558061150380042, 'min_child_weight': 3, 'scale_pos_weight': 3}. Best is trial 9 with value: 1732.14.\n",
      "[I 2025-06-11 19:30:19,125] Trial 10 finished with value: 1804.67 and parameters: {'n_estimators': 214, 'max_depth': 12, 'learning_rate': 0.07325266631575915, 'subsample': 0.8581668455233571, 'colsample_bytree': 0.5156872551351477, 'gamma': 2.9718150655653552, 'eta': 0.27714385303770644, 'reg_alpha': 0.31149104682705997, 'reg_lambda': 0.1609176389634519, 'min_child_weight': 4, 'scale_pos_weight': 3}. Best is trial 9 with value: 1732.14.\n",
      "[I 2025-06-11 19:30:23,094] Trial 11 finished with value: 1650.02 and parameters: {'n_estimators': 211, 'max_depth': 12, 'learning_rate': 0.06745138060185851, 'subsample': 0.87311444758885, 'colsample_bytree': 0.5010011106837482, 'gamma': 2.9772130080661032, 'eta': 0.2948657406025541, 'reg_alpha': 0.03490203825745797, 'reg_lambda': 0.20011661706478082, 'min_child_weight': 5, 'scale_pos_weight': 4}. Best is trial 11 with value: 1650.02.\n",
      "[I 2025-06-11 19:30:27,674] Trial 12 finished with value: 2311.96 and parameters: {'n_estimators': 298, 'max_depth': 10, 'learning_rate': 0.07807795968247405, 'subsample': 0.8768044726522232, 'colsample_bytree': 0.5300413919106772, 'gamma': 3.6589240635508875, 'eta': 0.2988520607276193, 'reg_alpha': 1.1964483177952019, 'reg_lambda': 4.938215669734756, 'min_child_weight': 5, 'scale_pos_weight': 8}. Best is trial 11 with value: 1650.02.\n",
      "[I 2025-06-11 19:30:31,709] Trial 13 finished with value: 1960.03 and parameters: {'n_estimators': 129, 'max_depth': 15, 'learning_rate': 0.13115932119683926, 'subsample': 0.8967099379996167, 'colsample_bytree': 0.5988453063305862, 'gamma': 2.062253053898128, 'eta': 0.17361802861777206, 'reg_alpha': 1.282852006509589, 'reg_lambda': 1.9235276217670028, 'min_child_weight': 6, 'scale_pos_weight': 9}. Best is trial 11 with value: 1650.02.\n",
      "[I 2025-06-11 19:30:38,033] Trial 14 finished with value: 2238.65 and parameters: {'n_estimators': 220, 'max_depth': 9, 'learning_rate': 0.00612990848688434, 'subsample': 0.7989059121112914, 'colsample_bytree': 0.6096504545114143, 'gamma': 4.886528096901364, 'eta': 0.20361738142386362, 'reg_alpha': 1.3498159597737303, 'reg_lambda': 0.1474098613128647, 'min_child_weight': 4, 'scale_pos_weight': 7}. Best is trial 11 with value: 1650.02.\n",
      "[I 2025-06-11 19:30:39,701] Trial 15 finished with value: 3317.97 and parameters: {'n_estimators': 55, 'max_depth': 11, 'learning_rate': 0.03965869250640759, 'subsample': 0.9720736564685877, 'colsample_bytree': 0.8220777379405964, 'gamma': 2.276962085165162, 'eta': 0.07044257586691331, 'reg_alpha': 0.31540633779490745, 'reg_lambda': 1.0073829209324754, 'min_child_weight': 6, 'scale_pos_weight': 13}. Best is trial 11 with value: 1650.02.\n",
      "[I 2025-06-11 19:30:41,012] Trial 16 finished with value: 1227.22 and parameters: {'n_estimators': 134, 'max_depth': 14, 'learning_rate': 0.1855669609727726, 'subsample': 0.9268656093268951, 'colsample_bytree': 0.6730801481680448, 'gamma': 3.4369016363388, 'eta': 0.19431932944564845, 'reg_alpha': 0.08178336165606084, 'reg_lambda': 2.3214911084248784, 'min_child_weight': 4, 'scale_pos_weight': 1}. Best is trial 16 with value: 1227.22.\n",
      "[I 2025-06-11 19:30:44,547] Trial 17 finished with value: 1348.27 and parameters: {'n_estimators': 143, 'max_depth': 15, 'learning_rate': 0.05109961380428897, 'subsample': 0.9366215656675352, 'colsample_bytree': 0.5004576508216112, 'gamma': 3.804549371324379, 'eta': 0.011065358548202103, 'reg_alpha': 0.04534110328537304, 'reg_lambda': 0.9172729217262738, 'min_child_weight': 7, 'scale_pos_weight': 1}. Best is trial 16 with value: 1227.22.\n",
      "[I 2025-06-11 19:30:47,539] Trial 18 finished with value: 2972.1200000000003 and parameters: {'n_estimators': 134, 'max_depth': 15, 'learning_rate': 0.008697119089710796, 'subsample': 0.928415535734928, 'colsample_bytree': 0.5720416247918336, 'gamma': 3.7346115633738104, 'eta': 0.010443071138584139, 'reg_alpha': 0.7690848306098573, 'reg_lambda': 1.7208212534242548, 'min_child_weight': 7, 'scale_pos_weight': 1}. Best is trial 16 with value: 1227.22.\n",
      "[I 2025-06-11 19:30:50,640] Trial 19 finished with value: 2384.23 and parameters: {'n_estimators': 151, 'max_depth': 14, 'learning_rate': 0.2777161300065863, 'subsample': 0.8287216806194893, 'colsample_bytree': 0.6687705878788281, 'gamma': 4.177967575758332, 'eta': 0.012366593111540883, 'reg_alpha': 0.7169106292242309, 'reg_lambda': 0.9133705180497924, 'min_child_weight': 7, 'scale_pos_weight': 6}. Best is trial 16 with value: 1227.22.\n",
      "[I 2025-06-11 19:30:53,833] Trial 20 finished with value: 5009.48 and parameters: {'n_estimators': 113, 'max_depth': 8, 'learning_rate': 0.0036940132526395043, 'subsample': 0.9376866377644191, 'colsample_bytree': 0.811903062092907, 'gamma': 4.87269025742923, 'eta': 0.08222827029784922, 'reg_alpha': 1.8648459582768526, 'reg_lambda': 2.02601825773385, 'min_child_weight': 4, 'scale_pos_weight': 10}. Best is trial 16 with value: 1227.22.\n",
      "[I 2025-06-11 19:30:58,004] Trial 21 finished with value: 1824.2 and parameters: {'n_estimators': 209, 'max_depth': 13, 'learning_rate': 0.050503854831650895, 'subsample': 0.9423093501991597, 'colsample_bytree': 0.5487534986176407, 'gamma': 3.4070386281090776, 'eta': 0.048442016399058034, 'reg_alpha': 0.04833624563257645, 'reg_lambda': 0.5068329665915425, 'min_child_weight': 5, 'scale_pos_weight': 5}. Best is trial 16 with value: 1227.22.\n",
      "[I 2025-06-11 19:31:01,295] Trial 22 finished with value: 1331.9 and parameters: {'n_estimators': 194, 'max_depth': 14, 'learning_rate': 0.018657480145753535, 'subsample': 0.8924289566545498, 'colsample_bytree': 0.5098801395436976, 'gamma': 2.7542289748846813, 'eta': 0.16400735984506806, 'reg_alpha': 0.12566395071326336, 'reg_lambda': 0.6892509378887802, 'min_child_weight': 7, 'scale_pos_weight': 1}. Best is trial 16 with value: 1227.22.\n",
      "[I 2025-06-11 19:31:04,099] Trial 23 finished with value: 1422.56 and parameters: {'n_estimators': 156, 'max_depth': 14, 'learning_rate': 0.016082071521592, 'subsample': 0.9964333346279732, 'colsample_bytree': 0.6401293084584343, 'gamma': 2.6418264119435326, 'eta': 0.1566203842996513, 'reg_alpha': 0.745319521061383, 'reg_lambda': 1.3685155678990126, 'min_child_weight': 7, 'scale_pos_weight': 1}. Best is trial 16 with value: 1227.22.\n",
      "[I 2025-06-11 19:31:09,750] Trial 24 finished with value: 2926.0299999999997 and parameters: {'n_estimators': 188, 'max_depth': 15, 'learning_rate': 0.018329229629434063, 'subsample': 0.9082604870434692, 'colsample_bytree': 0.5577721823342164, 'gamma': 3.8966645404433393, 'eta': 0.09634430601740002, 'reg_alpha': 0.40053950851340897, 'reg_lambda': 2.3066134544812926, 'min_child_weight': 8, 'scale_pos_weight': 12}. Best is trial 16 with value: 1227.22.\n",
      "[I 2025-06-11 19:31:12,032] Trial 25 finished with value: 1950.3 and parameters: {'n_estimators': 111, 'max_depth': 14, 'learning_rate': 0.13559793209510893, 'subsample': 0.8174904296966476, 'colsample_bytree': 0.5002608050893678, 'gamma': 1.8712796467624226, 'eta': 0.015788090679551902, 'reg_alpha': 0.9266084616813672, 'reg_lambda': 0.7193049727626087, 'min_child_weight': 6, 'scale_pos_weight': 5}. Best is trial 16 with value: 1227.22.\n",
      "[I 2025-06-11 19:31:15,578] Trial 26 finished with value: 1274.63 and parameters: {'n_estimators': 235, 'max_depth': 13, 'learning_rate': 0.02432858254024025, 'subsample': 0.9589653561921935, 'colsample_bytree': 0.5734064720729202, 'gamma': 3.2469202556748105, 'eta': 0.046012977693021304, 'reg_alpha': 0.08896548097024112, 'reg_lambda': 1.531789379232826, 'min_child_weight': 9, 'scale_pos_weight': 1}. Best is trial 16 with value: 1227.22.\n",
      "[I 2025-06-11 19:31:21,702] Trial 27 finished with value: 2155.86 and parameters: {'n_estimators': 242, 'max_depth': 13, 'learning_rate': 0.002946460219342498, 'subsample': 0.7191730566141294, 'colsample_bytree': 0.6240980010414716, 'gamma': 2.497977340608338, 'eta': 0.0474073963272184, 'reg_alpha': 1.7871831878939284, 'reg_lambda': 1.399274017092265, 'min_child_weight': 9, 'scale_pos_weight': 11}. Best is trial 16 with value: 1227.22.\n",
      "[I 2025-06-11 19:31:26,852] Trial 28 finished with value: 2383.71 and parameters: {'n_estimators': 232, 'max_depth': 12, 'learning_rate': 0.012783204775261696, 'subsample': 0.8456754430512967, 'colsample_bytree': 0.5699016610818699, 'gamma': 3.423671764283763, 'eta': 0.06920231436322964, 'reg_alpha': 0.3992819959887742, 'reg_lambda': 2.277467298144353, 'min_child_weight': 10, 'scale_pos_weight': 7}. Best is trial 16 with value: 1227.22.\n",
      "[I 2025-06-11 19:31:30,388] Trial 29 finished with value: 3935.01 and parameters: {'n_estimators': 189, 'max_depth': 8, 'learning_rate': 0.0044895627653155495, 'subsample': 0.9636951386500209, 'colsample_bytree': 0.6933086917733187, 'gamma': 2.814159069336573, 'eta': 0.23407805211046068, 'reg_alpha': 1.0377935708806505, 'reg_lambda': 1.3949278891285446, 'min_child_weight': 9, 'scale_pos_weight': 18}. Best is trial 16 with value: 1227.22.\n",
      "[I 2025-06-11 19:31:37,093] Trial 30 finished with value: 2045.04 and parameters: {'n_estimators': 299, 'max_depth': 11, 'learning_rate': 0.011247198350844471, 'subsample': 0.7742808942117809, 'colsample_bytree': 0.6412501297263934, 'gamma': 3.203405832981257, 'eta': 0.022467591222978176, 'reg_alpha': 3.0182242987844643, 'reg_lambda': 0.5482015290533504, 'min_child_weight': 1, 'scale_pos_weight': 4}. Best is trial 16 with value: 1227.22.\n",
      "[I 2025-06-11 19:31:39,004] Trial 31 finished with value: 1358.6000000000001 and parameters: {'n_estimators': 146, 'max_depth': 14, 'learning_rate': 0.04773614518083308, 'subsample': 0.9053525342780527, 'colsample_bytree': 0.5321886218843178, 'gamma': 4.409545002272521, 'eta': 0.1298900195371057, 'reg_alpha': 0.00461565546133115, 'reg_lambda': 1.1553502010288808, 'min_child_weight': 7, 'scale_pos_weight': 1}. Best is trial 16 with value: 1227.22.\n",
      "[I 2025-06-11 19:31:43,095] Trial 32 finished with value: 1579.73 and parameters: {'n_estimators': 175, 'max_depth': 15, 'learning_rate': 0.024257903380009882, 'subsample': 0.9643402704794162, 'colsample_bytree': 0.5888884960219811, 'gamma': 2.5027318673791403, 'eta': 0.014909164417930623, 'reg_alpha': 0.4182547194868338, 'reg_lambda': 0.7462499876416527, 'min_child_weight': 8, 'scale_pos_weight': 3}. Best is trial 16 with value: 1227.22.\n",
      "[I 2025-06-11 19:31:44,743] Trial 33 finished with value: 1545.8000000000002 and parameters: {'n_estimators': 110, 'max_depth': 13, 'learning_rate': 0.024827897483242677, 'subsample': 0.9241458395103042, 'colsample_bytree': 0.5462011797571367, 'gamma': 3.9117755683767013, 'eta': 0.032802809995028354, 'reg_alpha': 0.5616532887972936, 'reg_lambda': 1.1780654879528045, 'min_child_weight': 9, 'scale_pos_weight': 1}. Best is trial 16 with value: 1227.22.\n",
      "[I 2025-06-11 19:31:47,204] Trial 34 finished with value: 1948.16 and parameters: {'n_estimators': 168, 'max_depth': 14, 'learning_rate': 0.10556516605188856, 'subsample': 0.8855537407228411, 'colsample_bytree': 0.7192592950470124, 'gamma': 3.620392307229592, 'eta': 0.026670067695307116, 'reg_alpha': 0.05227745607673198, 'reg_lambda': 1.6640939579253504, 'min_child_weight': 6, 'scale_pos_weight': 6}. Best is trial 16 with value: 1227.22.\n",
      "[I 2025-06-11 19:31:48,931] Trial 35 finished with value: 1900.5600000000002 and parameters: {'n_estimators': 198, 'max_depth': 15, 'learning_rate': 0.18244930769645892, 'subsample': 0.9736364104732737, 'colsample_bytree': 0.5720754267422354, 'gamma': 4.5571030544917726, 'eta': 0.04074713268143917, 'reg_alpha': 4.371956230179889, 'reg_lambda': 0.4919609049164171, 'min_child_weight': 3, 'scale_pos_weight': 3}. Best is trial 16 with value: 1227.22.\n",
      "[I 2025-06-11 19:31:56,210] Trial 36 finished with value: 1928.0200000000002 and parameters: {'n_estimators': 253, 'max_depth': 13, 'learning_rate': 0.033297660237587304, 'subsample': 0.7222149858722295, 'colsample_bytree': 0.526914163152215, 'gamma': 1.212103791417378, 'eta': 0.09887264476387995, 'reg_alpha': 1.0325133772238704, 'reg_lambda': 2.58392475826089, 'min_child_weight': 10, 'scale_pos_weight': 5}. Best is trial 16 with value: 1227.22.\n",
      "[I 2025-06-11 19:32:02,182] Trial 37 finished with value: 2932.77 and parameters: {'n_estimators': 277, 'max_depth': 12, 'learning_rate': 0.05818857465040331, 'subsample': 0.9453316674364991, 'colsample_bytree': 0.631377342163408, 'gamma': 2.8062960981826164, 'eta': 0.22733297971926514, 'reg_alpha': 0.213891225766136, 'reg_lambda': 2.9631584833694546, 'min_child_weight': 7, 'scale_pos_weight': 30}. Best is trial 16 with value: 1227.22.\n",
      "[I 2025-06-11 19:32:07,053] Trial 38 finished with value: 1390.9299999999998 and parameters: {'n_estimators': 227, 'max_depth': 14, 'learning_rate': 0.021250385927818975, 'subsample': 0.9905363122265899, 'colsample_bytree': 0.7838600137931562, 'gamma': 3.2265841907937927, 'eta': 0.11688767190750317, 'reg_alpha': 0.6009558906640883, 'reg_lambda': 2.1740310589417557, 'min_child_weight': 8, 'scale_pos_weight': 2}. Best is trial 16 with value: 1227.22.\n",
      "[I 2025-06-11 19:32:09,084] Trial 39 finished with value: 3313.42 and parameters: {'n_estimators': 91, 'max_depth': 10, 'learning_rate': 0.03232837628168387, 'subsample': 0.5878164297167554, 'colsample_bytree': 0.5839862752628282, 'gamma': 4.218996419997174, 'eta': 0.16623345592877473, 'reg_alpha': 3.4617219594765167, 'reg_lambda': 3.505731546333471, 'min_child_weight': 8, 'scale_pos_weight': 8}. Best is trial 16 with value: 1227.22.\n",
      "[I 2025-06-11 19:32:16,261] Trial 40 finished with value: 2048.84 and parameters: {'n_estimators': 200, 'max_depth': 15, 'learning_rate': 0.0020767143160089264, 'subsample': 0.8503711869606266, 'colsample_bytree': 0.8834506733549865, 'gamma': 2.2636973780798053, 'eta': 0.02021909251102768, 'reg_alpha': 1.5530890242801298, 'reg_lambda': 1.6246096503107963, 'min_child_weight': 3, 'scale_pos_weight': 17}. Best is trial 16 with value: 1227.22.\n",
      "[I 2025-06-11 19:32:18,218] Trial 41 finished with value: 1275.1399999999999 and parameters: {'n_estimators': 145, 'max_depth': 14, 'learning_rate': 0.05010650082286248, 'subsample': 0.9164690327908179, 'colsample_bytree': 0.5346069385252703, 'gamma': 4.534682933803122, 'eta': 0.1464444621201044, 'reg_alpha': 0.053572821687085985, 'reg_lambda': 1.1257620762460958, 'min_child_weight': 7, 'scale_pos_weight': 1}. Best is trial 16 with value: 1227.22.\n",
      "[I 2025-06-11 19:32:20,027] Trial 42 finished with value: 1614.9399999999998 and parameters: {'n_estimators': 123, 'max_depth': 13, 'learning_rate': 0.08987856488120931, 'subsample': 0.9107802764869997, 'colsample_bytree': 0.5184062185794519, 'gamma': 4.736277297666607, 'eta': 0.1384442180694427, 'reg_alpha': 0.2072690320137203, 'reg_lambda': 0.852885519226181, 'min_child_weight': 7, 'scale_pos_weight': 2}. Best is trial 16 with value: 1227.22.\n",
      "[I 2025-06-11 19:32:24,992] Trial 43 finished with value: 4218.21 and parameters: {'n_estimators': 144, 'max_depth': 14, 'learning_rate': 0.014298985442836178, 'subsample': 0.9579554064429999, 'colsample_bytree': 0.5450241615628876, 'gamma': 3.9427176721250543, 'eta': 0.20027153740681208, 'reg_alpha': 0.5757455833116896, 'reg_lambda': 1.2446498627098805, 'min_child_weight': 5, 'scale_pos_weight': 27}. Best is trial 16 with value: 1227.22.\n",
      "[I 2025-06-11 19:32:28,605] Trial 44 finished with value: 1961.2 and parameters: {'n_estimators': 162, 'max_depth': 12, 'learning_rate': 0.03693431246058773, 'subsample': 0.8711194711832573, 'colsample_bytree': 0.5016849168271658, 'gamma': 4.338936061106095, 'eta': 0.08338581912328429, 'reg_alpha': 0.9408123703575262, 'reg_lambda': 0.3873115105555772, 'min_child_weight': 9, 'scale_pos_weight': 4}. Best is trial 16 with value: 1227.22.\n",
      "[I 2025-06-11 19:32:30,392] Trial 45 finished with value: 1365.9199999999998 and parameters: {'n_estimators': 181, 'max_depth': 15, 'learning_rate': 0.18232809162932048, 'subsample': 0.6869712364991566, 'colsample_bytree': 0.6091230654869769, 'gamma': 3.53427082757715, 'eta': 0.23306441556166443, 'reg_alpha': 0.16404757854286456, 'reg_lambda': 4.519190163215237, 'min_child_weight': 6, 'scale_pos_weight': 1}. Best is trial 16 with value: 1227.22.\n",
      "[I 2025-06-11 19:32:33,115] Trial 46 finished with value: 1652.29 and parameters: {'n_estimators': 140, 'max_depth': 13, 'learning_rate': 0.009882075895318317, 'subsample': 0.9250602905409329, 'colsample_bytree': 0.6606120764706099, 'gamma': 4.012127971817814, 'eta': 0.15047605716338633, 'reg_alpha': 0.48614473739338726, 'reg_lambda': 1.9159353713045069, 'min_child_weight': 8, 'scale_pos_weight': 3}. Best is trial 16 with value: 1227.22.\n",
      "[I 2025-06-11 19:32:37,291] Trial 47 finished with value: 2757.91 and parameters: {'n_estimators': 163, 'max_depth': 14, 'learning_rate': 0.06276115606047729, 'subsample': 0.8867691608250569, 'colsample_bytree': 0.5309331731159288, 'gamma': 3.0333469554773393, 'eta': 0.10800849781779084, 'reg_alpha': 2.788362739484848, 'reg_lambda': 0.011613125864377238, 'min_child_weight': 4, 'scale_pos_weight': 22}. Best is trial 16 with value: 1227.22.\n",
      "[I 2025-06-11 19:32:39,879] Trial 48 finished with value: 1951.04 and parameters: {'n_estimators': 118, 'max_depth': 12, 'learning_rate': 0.04557175472770649, 'subsample': 0.9833959360026904, 'colsample_bytree': 0.9532090979974066, 'gamma': 4.589016295370482, 'eta': 0.18640405930296353, 'reg_alpha': 0.25978453956365327, 'reg_lambda': 1.5120758282542774, 'min_child_weight': 5, 'scale_pos_weight': 4}. Best is trial 16 with value: 1227.22.\n",
      "[I 2025-06-11 19:32:41,488] Trial 49 finished with value: 1451.9099999999999 and parameters: {'n_estimators': 103, 'max_depth': 15, 'learning_rate': 0.10935350498006043, 'subsample': 0.7997166978698019, 'colsample_bytree': 0.727907889252725, 'gamma': 3.279315810696074, 'eta': 0.25823927277914366, 'reg_alpha': 4.794979479101969, 'reg_lambda': 1.0077353286556678, 'min_child_weight': 10, 'scale_pos_weight': 2}. Best is trial 16 with value: 1227.22.\n",
      "[I 2025-06-11 19:32:43,780] Trial 50 finished with value: 2383.45 and parameters: {'n_estimators': 85, 'max_depth': 13, 'learning_rate': 0.029627449796675805, 'subsample': 0.8664185929150925, 'colsample_bytree': 0.6927462217833996, 'gamma': 3.7340103108665277, 'eta': 0.13260689855958838, 'reg_alpha': 0.8162878169060831, 'reg_lambda': 2.705519110095563, 'min_child_weight': 7, 'scale_pos_weight': 6}. Best is trial 16 with value: 1227.22.\n",
      "[I 2025-06-11 19:32:45,846] Trial 51 finished with value: 1441.44 and parameters: {'n_estimators': 148, 'max_depth': 14, 'learning_rate': 0.02053393342541581, 'subsample': 0.9055401263445098, 'colsample_bytree': 0.5347267281602472, 'gamma': 4.42551470555207, 'eta': 0.12103679942560032, 'reg_alpha': 0.05000673027044952, 'reg_lambda': 1.092283720805157, 'min_child_weight': 7, 'scale_pos_weight': 1}. Best is trial 16 with value: 1227.22.\n",
      "[I 2025-06-11 19:32:48,231] Trial 52 finished with value: 1552.98 and parameters: {'n_estimators': 128, 'max_depth': 14, 'learning_rate': 0.0572898991331887, 'subsample': 0.8995708101935268, 'colsample_bytree': 0.558775945198491, 'gamma': 4.263203523818813, 'eta': 0.1781275736212081, 'reg_alpha': 0.050877844455926254, 'reg_lambda': 0.741366785837026, 'min_child_weight': 6, 'scale_pos_weight': 2}. Best is trial 16 with value: 1227.22.\n",
      "[I 2025-06-11 19:32:49,885] Trial 53 finished with value: 6388.27 and parameters: {'n_estimators': 135, 'max_depth': 6, 'learning_rate': 0.0010066575382519998, 'subsample': 0.9502489624135028, 'colsample_bytree': 0.5135810780915444, 'gamma': 0.29180060162265375, 'eta': 0.13307624648943014, 'reg_alpha': 0.2837683690758652, 'reg_lambda': 1.8681861310128562, 'min_child_weight': 7, 'scale_pos_weight': 1}. Best is trial 16 with value: 1227.22.\n",
      "[I 2025-06-11 19:32:53,282] Trial 54 finished with value: 1700.24 and parameters: {'n_estimators': 152, 'max_depth': 15, 'learning_rate': 0.045544586117859956, 'subsample': 0.9246997311054528, 'colsample_bytree': 0.5942051483253463, 'gamma': 4.684258106470125, 'eta': 0.06139489428583202, 'reg_alpha': 0.011955365920077003, 'reg_lambda': 1.1938102708014235, 'min_child_weight': 6, 'scale_pos_weight': 3}. Best is trial 16 with value: 1227.22.\n",
      "[I 2025-06-11 19:32:56,077] Trial 55 finished with value: 2080.54 and parameters: {'n_estimators': 173, 'max_depth': 11, 'learning_rate': 0.07919429572535057, 'subsample': 0.8344654057283317, 'colsample_bytree': 0.5199647694206446, 'gamma': 4.116906243561218, 'eta': 0.14552098631949914, 'reg_alpha': 2.251715468022851, 'reg_lambda': 0.2834249126270214, 'min_child_weight': 8, 'scale_pos_weight': 5}. Best is trial 16 with value: 1227.22.\n",
      "[I 2025-06-11 19:33:01,434] Trial 56 finished with value: 2814.6 and parameters: {'n_estimators': 275, 'max_depth': 14, 'learning_rate': 0.040028731958508604, 'subsample': 0.9403926610683433, 'colsample_bytree': 0.5635396524988174, 'gamma': 4.988593519351798, 'eta': 0.010546001971827177, 'reg_alpha': 0.47309085901781756, 'reg_lambda': 3.2402366063236028, 'min_child_weight': 8, 'scale_pos_weight': 14}. Best is trial 16 with value: 1227.22.\n",
      "[I 2025-06-11 19:33:02,994] Trial 57 finished with value: 1670.6599999999999 and parameters: {'n_estimators': 155, 'max_depth': 13, 'learning_rate': 0.1923481889528184, 'subsample': 0.9147537213042757, 'colsample_bytree': 0.5374549754832142, 'gamma': 3.7720258494541636, 'eta': 0.08767166016744514, 'reg_alpha': 0.6516712735246607, 'reg_lambda': 0.6800224591830766, 'min_child_weight': 7, 'scale_pos_weight': 2}. Best is trial 16 with value: 1227.22.\n",
      "[I 2025-06-11 19:33:05,295] Trial 58 finished with value: 6388.27 and parameters: {'n_estimators': 73, 'max_depth': 14, 'learning_rate': 0.006491673983598232, 'subsample': 0.9999290696291472, 'colsample_bytree': 0.6182706145153661, 'gamma': 2.938067831561834, 'eta': 0.2126802116041795, 'reg_alpha': 0.26668063125338043, 'reg_lambda': 0.9297863063489124, 'min_child_weight': 3, 'scale_pos_weight': 4}. Best is trial 16 with value: 1227.22.\n",
      "[I 2025-06-11 19:33:08,898] Trial 59 finished with value: 2526.12 and parameters: {'n_estimators': 142, 'max_depth': 12, 'learning_rate': 0.015905267796960672, 'subsample': 0.8852892273307269, 'colsample_bytree': 0.5082172665044602, 'gamma': 3.4411505572332937, 'eta': 0.25244965970153227, 'reg_alpha': 1.1754836058117917, 'reg_lambda': 1.3187009293436778, 'min_child_weight': 5, 'scale_pos_weight': 7}. Best is trial 16 with value: 1227.22.\n",
      "[I 2025-06-11 19:33:11,838] Trial 60 finished with value: 1321.79 and parameters: {'n_estimators': 242, 'max_depth': 15, 'learning_rate': 0.02699808622899397, 'subsample': 0.9705117863040513, 'colsample_bytree': 0.5834570954447351, 'gamma': 4.400329206982857, 'eta': 0.1672171217030271, 'reg_alpha': 0.40736538505628805, 'reg_lambda': 1.0773018273057415, 'min_child_weight': 4, 'scale_pos_weight': 1}. Best is trial 16 with value: 1227.22.\n",
      "[I 2025-06-11 19:33:14,918] Trial 61 finished with value: 1307.58 and parameters: {'n_estimators': 241, 'max_depth': 15, 'learning_rate': 0.02681896523896323, 'subsample': 0.9775510981457289, 'colsample_bytree': 0.575728059825189, 'gamma': 4.46783214915309, 'eta': 0.17067065661955494, 'reg_alpha': 0.38455648797736247, 'reg_lambda': 1.5471606988771789, 'min_child_weight': 4, 'scale_pos_weight': 1}. Best is trial 16 with value: 1227.22.\n",
      "[I 2025-06-11 19:33:20,035] Trial 62 finished with value: 1600.32 and parameters: {'n_estimators': 232, 'max_depth': 15, 'learning_rate': 0.026808752745292676, 'subsample': 0.9660711252662122, 'colsample_bytree': 0.5834421581979408, 'gamma': 4.073836452017308, 'eta': 0.1653683830469247, 'reg_alpha': 0.40461829365689095, 'reg_lambda': 1.472024239490604, 'min_child_weight': 4, 'scale_pos_weight': 3}. Best is trial 16 with value: 1227.22.\n",
      "[I 2025-06-11 19:33:23,168] Trial 63 finished with value: 1370.38 and parameters: {'n_estimators': 242, 'max_depth': 15, 'learning_rate': 0.019073270914941858, 'subsample': 0.9819433387238583, 'colsample_bytree': 0.5547614127435199, 'gamma': 4.5395566840714014, 'eta': 0.19007096564954112, 'reg_alpha': 0.6976444188732671, 'reg_lambda': 1.575075640165317, 'min_child_weight': 3, 'scale_pos_weight': 1}. Best is trial 16 with value: 1227.22.\n",
      "[I 2025-06-11 19:33:27,948] Trial 64 finished with value: 1395.92 and parameters: {'n_estimators': 257, 'max_depth': 15, 'learning_rate': 0.012168907588974846, 'subsample': 0.9511294096554914, 'colsample_bytree': 0.6453449089847891, 'gamma': 4.805761155128928, 'eta': 0.2718637797320697, 'reg_alpha': 0.18914118084595583, 'reg_lambda': 1.7644654346765694, 'min_child_weight': 4, 'scale_pos_weight': 2}. Best is trial 16 with value: 1227.22.\n",
      "[I 2025-06-11 19:33:33,952] Trial 65 finished with value: 2003.0400000000002 and parameters: {'n_estimators': 246, 'max_depth': 14, 'learning_rate': 0.026510712741673208, 'subsample': 0.9342440384514167, 'colsample_bytree': 0.602127164181874, 'gamma': 3.780481769567694, 'eta': 0.15895181109224993, 'reg_alpha': 0.8530483641238796, 'reg_lambda': 2.100151322867263, 'min_child_weight': 5, 'scale_pos_weight': 5}. Best is trial 16 with value: 1227.22.\n",
      "[I 2025-06-11 19:33:39,448] Trial 66 finished with value: 1372.03 and parameters: {'n_estimators': 267, 'max_depth': 15, 'learning_rate': 0.02251071971254301, 'subsample': 0.9770059665526756, 'colsample_bytree': 0.573369076574887, 'gamma': 3.5653068418528036, 'eta': 0.030056274318580625, 'reg_alpha': 0.44914428695075514, 'reg_lambda': 0.852975696602341, 'min_child_weight': 2, 'scale_pos_weight': 2}. Best is trial 16 with value: 1227.22.\n",
      "[I 2025-06-11 19:33:44,194] Trial 67 finished with value: 1734.86 and parameters: {'n_estimators': 218, 'max_depth': 13, 'learning_rate': 0.038062256458629214, 'subsample': 0.953959730994437, 'colsample_bytree': 0.7417187362240107, 'gamma': 3.0675632532999386, 'eta': 0.038519839702324456, 'reg_alpha': 0.3527235884186388, 'reg_lambda': 2.2990681280378418, 'min_child_weight': 4, 'scale_pos_weight': 4}. Best is trial 16 with value: 1227.22.\n",
      "[I 2025-06-11 19:33:48,413] Trial 68 finished with value: 7616.83 and parameters: {'n_estimators': 284, 'max_depth': 7, 'learning_rate': 0.0167375148551726, 'subsample': 0.9183932100770601, 'colsample_bytree': 0.773930716192702, 'gamma': 3.280610041777762, 'eta': 0.05048935824362894, 'reg_alpha': 0.17426737339121973, 'reg_lambda': 0.6599598857190575, 'min_child_weight': 4, 'scale_pos_weight': 20}. Best is trial 16 with value: 1227.22.\n",
      "[I 2025-06-11 19:33:52,392] Trial 69 finished with value: 1242.5700000000002 and parameters: {'n_estimators': 198, 'max_depth': 14, 'learning_rate': 0.030142832698300325, 'subsample': 0.9699587619616586, 'colsample_bytree': 0.6546776250654299, 'gamma': 2.7100069483995317, 'eta': 0.025130327184820896, 'reg_alpha': 0.6717574499248113, 'reg_lambda': 0.9761807235217137, 'min_child_weight': 2, 'scale_pos_weight': 1}. Best is trial 16 with value: 1227.22.\n",
      "[I 2025-06-11 19:33:54,242] Trial 70 finished with value: 3686.47 and parameters: {'n_estimators': 201, 'max_depth': 4, 'learning_rate': 0.009082443753389092, 'subsample': 0.9985305738561859, 'colsample_bytree': 0.6734317566394533, 'gamma': 2.586514221361546, 'eta': 0.10548893922751786, 'reg_alpha': 1.3160538708924423, 'reg_lambda': 1.0042779523238838, 'min_child_weight': 1, 'scale_pos_weight': 9}. Best is trial 16 with value: 1227.22.\n",
      "[I 2025-06-11 19:33:58,312] Trial 71 finished with value: 1229.96 and parameters: {'n_estimators': 228, 'max_depth': 14, 'learning_rate': 0.029747987398825067, 'subsample': 0.9658590383180633, 'colsample_bytree': 0.549654852010821, 'gamma': 2.3155784212918533, 'eta': 0.01335062320137258, 'reg_alpha': 0.5634175560104894, 'reg_lambda': 1.2975374834777151, 'min_child_weight': 2, 'scale_pos_weight': 1}. Best is trial 16 with value: 1227.22.\n",
      "[I 2025-06-11 19:34:02,471] Trial 72 finished with value: 1284.73 and parameters: {'n_estimators': 210, 'max_depth': 14, 'learning_rate': 0.027503359841041446, 'subsample': 0.9728364410823259, 'colsample_bytree': 0.6500593255996177, 'gamma': 2.275066253902735, 'eta': 0.013958114589014272, 'reg_alpha': 0.5647845010601236, 'reg_lambda': 1.2845389954960582, 'min_child_weight': 1, 'scale_pos_weight': 1}. Best is trial 16 with value: 1227.22.\n",
      "[I 2025-06-11 19:34:08,292] Trial 73 finished with value: 1472.85 and parameters: {'n_estimators': 211, 'max_depth': 14, 'learning_rate': 0.030208038397954478, 'subsample': 0.970688259033688, 'colsample_bytree': 0.7059268965347469, 'gamma': 2.044563576175766, 'eta': 0.015416802289867705, 'reg_alpha': 0.6049834389491942, 'reg_lambda': 1.350092356366475, 'min_child_weight': 1, 'scale_pos_weight': 3}. Best is trial 16 with value: 1227.22.\n",
      "[I 2025-06-11 19:34:14,032] Trial 74 finished with value: 1410.87 and parameters: {'n_estimators': 225, 'max_depth': 13, 'learning_rate': 0.024190019287564393, 'subsample': 0.978917273368539, 'colsample_bytree': 0.6525385299437609, 'gamma': 1.5347932099483637, 'eta': 0.012840415806491597, 'reg_alpha': 1.0541841254758317, 'reg_lambda': 1.7776430379753887, 'min_child_weight': 2, 'scale_pos_weight': 2}. Best is trial 16 with value: 1227.22.\n",
      "[I 2025-06-11 19:34:17,952] Trial 75 finished with value: 1296.46 and parameters: {'n_estimators': 235, 'max_depth': 14, 'learning_rate': 0.03504017753931652, 'subsample': 0.958812310238234, 'colsample_bytree': 0.6314500277208336, 'gamma': 2.2974661134789396, 'eta': 0.025329849832800524, 'reg_alpha': 0.7875268192046874, 'reg_lambda': 2.441790925004576, 'min_child_weight': 2, 'scale_pos_weight': 1}. Best is trial 16 with value: 1227.22.\n",
      "[I 2025-06-11 19:34:23,681] Trial 76 finished with value: 1661.15 and parameters: {'n_estimators': 236, 'max_depth': 13, 'learning_rate': 0.035107008547469704, 'subsample': 0.9387176997006683, 'colsample_bytree': 0.6812328070725422, 'gamma': 2.366870068685349, 'eta': 0.024081635777819823, 'reg_alpha': 1.4973381114986357, 'reg_lambda': 2.636237408347747, 'min_child_weight': 2, 'scale_pos_weight': 4}. Best is trial 16 with value: 1227.22.\n",
      "[I 2025-06-11 19:34:30,035] Trial 77 finished with value: 1527.3500000000001 and parameters: {'n_estimators': 220, 'max_depth': 14, 'learning_rate': 0.014047011152233372, 'subsample': 0.9885633381947945, 'colsample_bytree': 0.6251649036035875, 'gamma': 1.8496028504039794, 'eta': 0.017008126403701404, 'reg_alpha': 0.7727136251379159, 'reg_lambda': 1.506154263156776, 'min_child_weight': 1, 'scale_pos_weight': 3}. Best is trial 16 with value: 1227.22.\n",
      "[I 2025-06-11 19:34:33,280] Trial 78 finished with value: 1231.99 and parameters: {'n_estimators': 205, 'max_depth': 13, 'learning_rate': 0.04140972833769717, 'subsample': 0.96114015828675, 'colsample_bytree': 0.6109040801743253, 'gamma': 2.1520919632832545, 'eta': 0.011846888321502989, 'reg_alpha': 1.1256370129707571, 'reg_lambda': 2.421406900924575, 'min_child_weight': 2, 'scale_pos_weight': 1}. Best is trial 16 with value: 1227.22.\n",
      "[I 2025-06-11 19:34:37,193] Trial 79 finished with value: 1816.7 and parameters: {'n_estimators': 185, 'max_depth': 13, 'learning_rate': 0.07071220404825065, 'subsample': 0.9584077074344811, 'colsample_bytree': 0.6344402183441725, 'gamma': 2.058427705836027, 'eta': 0.013070059825348387, 'reg_alpha': 1.1468742443382332, 'reg_lambda': 2.4118173297111882, 'min_child_weight': 2, 'scale_pos_weight': 6}. Best is trial 16 with value: 1227.22.\n",
      "[I 2025-06-11 19:34:41,128] Trial 80 finished with value: 1552.06 and parameters: {'n_estimators': 207, 'max_depth': 12, 'learning_rate': 0.05441912176218762, 'subsample': 0.9292584931456287, 'colsample_bytree': 0.6577947319505401, 'gamma': 2.2187109569930996, 'eta': 0.01948053837948943, 'reg_alpha': 0.9548740980200051, 'reg_lambda': 2.892151501577903, 'min_child_weight': 1, 'scale_pos_weight': 3}. Best is trial 16 with value: 1227.22.\n",
      "[I 2025-06-11 19:34:45,602] Trial 81 finished with value: 1279.0900000000001 and parameters: {'n_estimators': 249, 'max_depth': 14, 'learning_rate': 0.03312910468699177, 'subsample': 0.9492436851774151, 'colsample_bytree': 0.6135351881284259, 'gamma': 1.8490051301447217, 'eta': 0.014164800311542278, 'reg_alpha': 0.5176014065370119, 'reg_lambda': 2.4547402805263814, 'min_child_weight': 3, 'scale_pos_weight': 1}. Best is trial 16 with value: 1227.22.\n",
      "[I 2025-06-11 19:34:50,764] Trial 82 finished with value: 1353.28 and parameters: {'n_estimators': 248, 'max_depth': 14, 'learning_rate': 0.041504355997182024, 'subsample': 0.9487342282721392, 'colsample_bytree': 0.608918208665937, 'gamma': 1.8360309283013316, 'eta': 0.012037400397450129, 'reg_alpha': 0.6449274666331742, 'reg_lambda': 2.4596915492190448, 'min_child_weight': 3, 'scale_pos_weight': 2}. Best is trial 16 with value: 1227.22.\n",
      "[I 2025-06-11 19:34:55,283] Trial 83 finished with value: 1228.4499999999998 and parameters: {'n_estimators': 206, 'max_depth': 13, 'learning_rate': 0.032323907708521823, 'subsample': 0.9580478046173259, 'colsample_bytree': 0.6254773744658365, 'gamma': 2.3444029722496786, 'eta': 0.013978331820929417, 'reg_alpha': 0.5249561574696021, 'reg_lambda': 2.019712556098268, 'min_child_weight': 2, 'scale_pos_weight': 1}. Best is trial 16 with value: 1227.22.\n",
      "[I 2025-06-11 19:34:59,351] Trial 84 finished with value: 1411.43 and parameters: {'n_estimators': 205, 'max_depth': 13, 'learning_rate': 0.043688053662593554, 'subsample': 0.9406376609555636, 'colsample_bytree': 0.6160155110991211, 'gamma': 2.4909482414789648, 'eta': 0.01800890032188028, 'reg_alpha': 0.5778773426472629, 'reg_lambda': 2.0455305900494363, 'min_child_weight': 2, 'scale_pos_weight': 2}. Best is trial 16 with value: 1227.22.\n",
      "[I 2025-06-11 19:35:04,028] Trial 85 finished with value: 1406.9299999999998 and parameters: {'n_estimators': 196, 'max_depth': 12, 'learning_rate': 0.02160537981638477, 'subsample': 0.9870366849363402, 'colsample_bytree': 0.5937142727646906, 'gamma': 1.1613724179061142, 'eta': 0.014316387960211736, 'reg_alpha': 0.895660278605495, 'reg_lambda': 2.2004801413689474, 'min_child_weight': 1, 'scale_pos_weight': 1}. Best is trial 16 with value: 1227.22.\n",
      "[I 2025-06-11 19:35:09,242] Trial 86 finished with value: 1847.4499999999998 and parameters: {'n_estimators': 214, 'max_depth': 11, 'learning_rate': 0.031665544969570976, 'subsample': 0.96379645787445, 'colsample_bytree': 0.6434397612080823, 'gamma': 1.6813780646743421, 'eta': 0.013728817300363015, 'reg_alpha': 0.19051958073077824, 'reg_lambda': 1.9477335852634932, 'min_child_weight': 3, 'scale_pos_weight': 5}. Best is trial 16 with value: 1227.22.\n",
      "[I 2025-06-11 19:35:13,886] Trial 87 finished with value: 1626.47 and parameters: {'n_estimators': 227, 'max_depth': 13, 'learning_rate': 0.08390464366369535, 'subsample': 0.6329870846859746, 'colsample_bytree': 0.67210676645148, 'gamma': 2.1120622316067212, 'eta': 0.011126422927022893, 'reg_alpha': 0.5179792922639148, 'reg_lambda': 3.101292650986214, 'min_child_weight': 2, 'scale_pos_weight': 3}. Best is trial 16 with value: 1227.22.\n",
      "[I 2025-06-11 19:35:15,937] Trial 88 finished with value: 1677.25 and parameters: {'n_estimators': 194, 'max_depth': 14, 'learning_rate': 0.29808436220773066, 'subsample': 0.9163382873784253, 'colsample_bytree': 0.7104603549907036, 'gamma': 1.6875948981325055, 'eta': 0.016986985093377347, 'reg_alpha': 1.4216322888270294, 'reg_lambda': 2.7534790936008844, 'min_child_weight': 3, 'scale_pos_weight': 2}. Best is trial 16 with value: 1227.22.\n",
      "[I 2025-06-11 19:35:19,586] Trial 89 finished with value: 1835.82 and parameters: {'n_estimators': 182, 'max_depth': 9, 'learning_rate': 0.0513301169538422, 'subsample': 0.7552043307657708, 'colsample_bytree': 0.5994654392454803, 'gamma': 2.858697491141958, 'eta': 0.022187541832356994, 'reg_alpha': 1.69881008265273, 'reg_lambda': 1.799870614379135, 'min_child_weight': 2, 'scale_pos_weight': 4}. Best is trial 16 with value: 1227.22.\n",
      "[I 2025-06-11 19:35:24,105] Trial 90 finished with value: 2686.8900000000003 and parameters: {'n_estimators': 217, 'max_depth': 10, 'learning_rate': 0.06442457238483222, 'subsample': 0.8972695846224708, 'colsample_bytree': 0.6609798396624338, 'gamma': 2.689135111992933, 'eta': 0.016169418765640497, 'reg_alpha': 0.12066519920105026, 'reg_lambda': 2.182503174956405, 'min_child_weight': 1, 'scale_pos_weight': 24}. Best is trial 16 with value: 1227.22.\n",
      "[I 2025-06-11 19:35:28,467] Trial 91 finished with value: 1317.0899999999997 and parameters: {'n_estimators': 233, 'max_depth': 14, 'learning_rate': 0.03449460401951197, 'subsample': 0.946088458764617, 'colsample_bytree': 0.6245494521157094, 'gamma': 1.9291082538533348, 'eta': 0.010014996996281679, 'reg_alpha': 0.7330667613345012, 'reg_lambda': 2.5223676317239874, 'min_child_weight': 2, 'scale_pos_weight': 1}. Best is trial 16 with value: 1227.22.\n",
      "[I 2025-06-11 19:35:30,783] Trial 92 finished with value: 1355.94 and parameters: {'n_estimators': 223, 'max_depth': 14, 'learning_rate': 0.10219150639781376, 'subsample': 0.9587379598466061, 'colsample_bytree': 0.6334785812902634, 'gamma': 2.4518061159510602, 'eta': 0.027057816290628773, 'reg_alpha': 0.29218384609715203, 'reg_lambda': 2.387747315309572, 'min_child_weight': 2, 'scale_pos_weight': 1}. Best is trial 16 with value: 1227.22.\n",
      "[I 2025-06-11 19:35:35,742] Trial 93 finished with value: 1445.9099999999999 and parameters: {'n_estimators': 254, 'max_depth': 13, 'learning_rate': 0.036811382864323505, 'subsample': 0.935366508754483, 'colsample_bytree': 0.6101997109017795, 'gamma': 2.349081006523181, 'eta': 0.011354207831821592, 'reg_alpha': 0.8137443919973195, 'reg_lambda': 2.6209419759203687, 'min_child_weight': 3, 'scale_pos_weight': 2}. Best is trial 16 with value: 1227.22.\n",
      "[I 2025-06-11 19:35:39,836] Trial 94 finished with value: 1198.15 and parameters: {'n_estimators': 204, 'max_depth': 14, 'learning_rate': 0.029639904051825004, 'subsample': 0.9890671048478101, 'colsample_bytree': 0.64967629023458, 'gamma': 2.144478553480802, 'eta': 0.04388928683651236, 'reg_alpha': 0.5171768584127643, 'reg_lambda': 1.990636988067381, 'min_child_weight': 2, 'scale_pos_weight': 1}. Best is trial 94 with value: 1198.15.\n",
      "[I 2025-06-11 19:35:45,311] Trial 95 finished with value: 1531.76 and parameters: {'n_estimators': 204, 'max_depth': 13, 'learning_rate': 0.019447139794731946, 'subsample': 0.9878856793519583, 'colsample_bytree': 0.6866309985096323, 'gamma': 2.18173028957593, 'eta': 0.04665035616293341, 'reg_alpha': 0.5551380968205469, 'reg_lambda': 1.6505297321740346, 'min_child_weight': 2, 'scale_pos_weight': 3}. Best is trial 94 with value: 1198.15.\n",
      "[I 2025-06-11 19:35:49,250] Trial 96 finished with value: 1349.5900000000001 and parameters: {'n_estimators': 191, 'max_depth': 14, 'learning_rate': 0.030442133000920874, 'subsample': 0.971533741399111, 'colsample_bytree': 0.6499024649796742, 'gamma': 1.980314450931645, 'eta': 0.04207519535477044, 'reg_alpha': 1.030372607258328, 'reg_lambda': 1.2084852636691616, 'min_child_weight': 1, 'scale_pos_weight': 1}. Best is trial 94 with value: 1198.15.\n",
      "[I 2025-06-11 19:35:51,232] Trial 97 finished with value: 1489.7200000000003 and parameters: {'n_estimators': 213, 'max_depth': 12, 'learning_rate': 0.21788656299098233, 'subsample': 0.9957521689561186, 'colsample_bytree': 0.5650003258789228, 'gamma': 2.616914955692611, 'eta': 0.06059434515211587, 'reg_alpha': 3.580732883027383, 'reg_lambda': 1.9406112475832453, 'min_child_weight': 3, 'scale_pos_weight': 2}. Best is trial 94 with value: 1198.15.\n",
      "[I 2025-06-11 19:35:56,421] Trial 98 finished with value: 1595.24 and parameters: {'n_estimators': 170, 'max_depth': 13, 'learning_rate': 0.023816710154981637, 'subsample': 0.927406988771613, 'colsample_bytree': 0.5853063181593227, 'gamma': 1.7850765942135174, 'eta': 0.01204101790910342, 'reg_alpha': 0.28911256008855485, 'reg_lambda': 1.2813047986449217, 'min_child_weight': 2, 'scale_pos_weight': 3}. Best is trial 94 with value: 1198.15.\n",
      "[I 2025-06-11 19:35:59,730] Trial 99 finished with value: 1255.83 and parameters: {'n_estimators': 179, 'max_depth': 14, 'learning_rate': 0.048534038070484564, 'subsample': 0.9661881957075515, 'colsample_bytree': 0.5464251851193669, 'gamma': 1.4026517365289854, 'eta': 0.03491435079704315, 'reg_alpha': 1.9665733318217353, 'reg_lambda': 2.1050144566305637, 'min_child_weight': 3, 'scale_pos_weight': 1}. Best is trial 94 with value: 1198.15.\n"
     ]
    }
   ],
   "source": [
    "study = optimize(datapath)"
   ]
  },
  {
   "cell_type": "code",
   "execution_count": 15,
   "id": "ce33914c",
   "metadata": {},
   "outputs": [
    {
     "data": {
      "text/plain": [
       "1198.15"
      ]
     },
     "execution_count": 15,
     "metadata": {},
     "output_type": "execute_result"
    }
   ],
   "source": [
    "study.best_value"
   ]
  },
  {
   "cell_type": "code",
   "execution_count": null,
   "id": "f347f5d7",
   "metadata": {},
   "outputs": [
    {
     "data": {
      "text/plain": [
       "{'n_estimators': 204,\n",
       " 'max_depth': 14,\n",
       " 'learning_rate': 0.029639904051825004,\n",
       " 'subsample': 0.9890671048478101,\n",
       " 'colsample_bytree': 0.64967629023458,\n",
       " 'gamma': 2.144478553480802,\n",
       " 'eta': 0.04388928683651236,\n",
       " 'reg_alpha': 0.5171768584127643,\n",
       " 'reg_lambda': 1.990636988067381,\n",
       " 'min_child_weight': 2,\n",
       " 'scale_pos_weight': 1}"
      ]
     },
     "execution_count": 16,
     "metadata": {},
     "output_type": "execute_result"
    }
   ],
   "source": [
    "study.best_params"
   ]
  },
  {
   "cell_type": "code",
   "execution_count": 8,
   "id": "de652e8c",
   "metadata": {},
   "outputs": [],
   "source": [
    "import optuna.visualization as vis"
   ]
  },
  {
   "cell_type": "code",
   "execution_count": 17,
   "id": "392c8b16",
   "metadata": {},
   "outputs": [
    {
     "data": {
      "application/vnd.plotly.v1+json": {
       "config": {
        "plotlyServerURL": "https://plot.ly"
       },
       "data": [
        {
         "mode": "markers",
         "name": "Objective Value",
         "type": "scatter",
         "x": [
          0,
          1,
          2,
          3,
          4,
          5,
          6,
          7,
          8,
          9,
          10,
          11,
          12,
          13,
          14,
          15,
          16,
          17,
          18,
          19,
          20,
          21,
          22,
          23,
          24,
          25,
          26,
          27,
          28,
          29,
          30,
          31,
          32,
          33,
          34,
          35,
          36,
          37,
          38,
          39,
          40,
          41,
          42,
          43,
          44,
          45,
          46,
          47,
          48,
          49,
          50,
          51,
          52,
          53,
          54,
          55,
          56,
          57,
          58,
          59,
          60,
          61,
          62,
          63,
          64,
          65,
          66,
          67,
          68,
          69,
          70,
          71,
          72,
          73,
          74,
          75,
          76,
          77,
          78,
          79,
          80,
          81,
          82,
          83,
          84,
          85,
          86,
          87,
          88,
          89,
          90,
          91,
          92,
          93,
          94,
          95,
          96,
          97,
          98,
          99
         ],
         "y": [
          16140.89,
          2119.87,
          8071.449999999999,
          17202.16,
          1848.13,
          4577.79,
          6388.27,
          4455.91,
          4232.23,
          1732.14,
          1804.67,
          1650.02,
          2311.96,
          1960.03,
          2238.65,
          3317.97,
          1227.22,
          1348.27,
          2972.1200000000003,
          2384.23,
          5009.48,
          1824.2,
          1331.9,
          1422.56,
          2926.0299999999997,
          1950.3,
          1274.63,
          2155.86,
          2383.71,
          3935.01,
          2045.04,
          1358.6000000000001,
          1579.73,
          1545.8000000000002,
          1948.16,
          1900.5600000000002,
          1928.0200000000002,
          2932.77,
          1390.9299999999998,
          3313.42,
          2048.84,
          1275.1399999999999,
          1614.9399999999998,
          4218.21,
          1961.2,
          1365.9199999999998,
          1652.29,
          2757.91,
          1951.04,
          1451.9099999999999,
          2383.45,
          1441.44,
          1552.98,
          6388.27,
          1700.24,
          2080.54,
          2814.6,
          1670.6599999999999,
          6388.27,
          2526.12,
          1321.79,
          1307.58,
          1600.32,
          1370.38,
          1395.92,
          2003.0400000000002,
          1372.03,
          1734.86,
          7616.83,
          1242.5700000000002,
          3686.47,
          1229.96,
          1284.73,
          1472.85,
          1410.87,
          1296.46,
          1661.15,
          1527.3500000000001,
          1231.99,
          1816.7,
          1552.06,
          1279.0900000000001,
          1353.28,
          1228.4499999999998,
          1411.43,
          1406.9299999999998,
          1847.4499999999998,
          1626.47,
          1677.25,
          1835.82,
          2686.8900000000003,
          1317.0899999999997,
          1355.94,
          1445.9099999999999,
          1198.15,
          1531.76,
          1349.5900000000001,
          1489.7200000000003,
          1595.24,
          1255.83
         ]
        },
        {
         "mode": "lines",
         "name": "Best Value",
         "type": "scatter",
         "x": [
          0,
          1,
          2,
          3,
          4,
          5,
          6,
          7,
          8,
          9,
          10,
          11,
          12,
          13,
          14,
          15,
          16,
          17,
          18,
          19,
          20,
          21,
          22,
          23,
          24,
          25,
          26,
          27,
          28,
          29,
          30,
          31,
          32,
          33,
          34,
          35,
          36,
          37,
          38,
          39,
          40,
          41,
          42,
          43,
          44,
          45,
          46,
          47,
          48,
          49,
          50,
          51,
          52,
          53,
          54,
          55,
          56,
          57,
          58,
          59,
          60,
          61,
          62,
          63,
          64,
          65,
          66,
          67,
          68,
          69,
          70,
          71,
          72,
          73,
          74,
          75,
          76,
          77,
          78,
          79,
          80,
          81,
          82,
          83,
          84,
          85,
          86,
          87,
          88,
          89,
          90,
          91,
          92,
          93,
          94,
          95,
          96,
          97,
          98,
          99
         ],
         "y": [
          16140.89,
          2119.87,
          2119.87,
          2119.87,
          1848.13,
          1848.13,
          1848.13,
          1848.13,
          1848.13,
          1732.14,
          1732.14,
          1650.02,
          1650.02,
          1650.02,
          1650.02,
          1650.02,
          1227.22,
          1227.22,
          1227.22,
          1227.22,
          1227.22,
          1227.22,
          1227.22,
          1227.22,
          1227.22,
          1227.22,
          1227.22,
          1227.22,
          1227.22,
          1227.22,
          1227.22,
          1227.22,
          1227.22,
          1227.22,
          1227.22,
          1227.22,
          1227.22,
          1227.22,
          1227.22,
          1227.22,
          1227.22,
          1227.22,
          1227.22,
          1227.22,
          1227.22,
          1227.22,
          1227.22,
          1227.22,
          1227.22,
          1227.22,
          1227.22,
          1227.22,
          1227.22,
          1227.22,
          1227.22,
          1227.22,
          1227.22,
          1227.22,
          1227.22,
          1227.22,
          1227.22,
          1227.22,
          1227.22,
          1227.22,
          1227.22,
          1227.22,
          1227.22,
          1227.22,
          1227.22,
          1227.22,
          1227.22,
          1227.22,
          1227.22,
          1227.22,
          1227.22,
          1227.22,
          1227.22,
          1227.22,
          1227.22,
          1227.22,
          1227.22,
          1227.22,
          1227.22,
          1227.22,
          1227.22,
          1227.22,
          1227.22,
          1227.22,
          1227.22,
          1227.22,
          1227.22,
          1227.22,
          1227.22,
          1227.22,
          1198.15,
          1198.15,
          1198.15,
          1198.15,
          1198.15,
          1198.15
         ]
        },
        {
         "marker": {
          "color": "#cccccc"
         },
         "mode": "markers",
         "name": "Infeasible Trial",
         "showlegend": false,
         "type": "scatter",
         "x": [],
         "y": []
        }
       ],
       "layout": {
        "template": {
         "data": {
          "bar": [
           {
            "error_x": {
             "color": "#2a3f5f"
            },
            "error_y": {
             "color": "#2a3f5f"
            },
            "marker": {
             "line": {
              "color": "#E5ECF6",
              "width": 0.5
             },
             "pattern": {
              "fillmode": "overlay",
              "size": 10,
              "solidity": 0.2
             }
            },
            "type": "bar"
           }
          ],
          "barpolar": [
           {
            "marker": {
             "line": {
              "color": "#E5ECF6",
              "width": 0.5
             },
             "pattern": {
              "fillmode": "overlay",
              "size": 10,
              "solidity": 0.2
             }
            },
            "type": "barpolar"
           }
          ],
          "carpet": [
           {
            "aaxis": {
             "endlinecolor": "#2a3f5f",
             "gridcolor": "white",
             "linecolor": "white",
             "minorgridcolor": "white",
             "startlinecolor": "#2a3f5f"
            },
            "baxis": {
             "endlinecolor": "#2a3f5f",
             "gridcolor": "white",
             "linecolor": "white",
             "minorgridcolor": "white",
             "startlinecolor": "#2a3f5f"
            },
            "type": "carpet"
           }
          ],
          "choropleth": [
           {
            "colorbar": {
             "outlinewidth": 0,
             "ticks": ""
            },
            "type": "choropleth"
           }
          ],
          "contour": [
           {
            "colorbar": {
             "outlinewidth": 0,
             "ticks": ""
            },
            "colorscale": [
             [
              0,
              "#0d0887"
             ],
             [
              0.1111111111111111,
              "#46039f"
             ],
             [
              0.2222222222222222,
              "#7201a8"
             ],
             [
              0.3333333333333333,
              "#9c179e"
             ],
             [
              0.4444444444444444,
              "#bd3786"
             ],
             [
              0.5555555555555556,
              "#d8576b"
             ],
             [
              0.6666666666666666,
              "#ed7953"
             ],
             [
              0.7777777777777778,
              "#fb9f3a"
             ],
             [
              0.8888888888888888,
              "#fdca26"
             ],
             [
              1,
              "#f0f921"
             ]
            ],
            "type": "contour"
           }
          ],
          "contourcarpet": [
           {
            "colorbar": {
             "outlinewidth": 0,
             "ticks": ""
            },
            "type": "contourcarpet"
           }
          ],
          "heatmap": [
           {
            "colorbar": {
             "outlinewidth": 0,
             "ticks": ""
            },
            "colorscale": [
             [
              0,
              "#0d0887"
             ],
             [
              0.1111111111111111,
              "#46039f"
             ],
             [
              0.2222222222222222,
              "#7201a8"
             ],
             [
              0.3333333333333333,
              "#9c179e"
             ],
             [
              0.4444444444444444,
              "#bd3786"
             ],
             [
              0.5555555555555556,
              "#d8576b"
             ],
             [
              0.6666666666666666,
              "#ed7953"
             ],
             [
              0.7777777777777778,
              "#fb9f3a"
             ],
             [
              0.8888888888888888,
              "#fdca26"
             ],
             [
              1,
              "#f0f921"
             ]
            ],
            "type": "heatmap"
           }
          ],
          "histogram": [
           {
            "marker": {
             "pattern": {
              "fillmode": "overlay",
              "size": 10,
              "solidity": 0.2
             }
            },
            "type": "histogram"
           }
          ],
          "histogram2d": [
           {
            "colorbar": {
             "outlinewidth": 0,
             "ticks": ""
            },
            "colorscale": [
             [
              0,
              "#0d0887"
             ],
             [
              0.1111111111111111,
              "#46039f"
             ],
             [
              0.2222222222222222,
              "#7201a8"
             ],
             [
              0.3333333333333333,
              "#9c179e"
             ],
             [
              0.4444444444444444,
              "#bd3786"
             ],
             [
              0.5555555555555556,
              "#d8576b"
             ],
             [
              0.6666666666666666,
              "#ed7953"
             ],
             [
              0.7777777777777778,
              "#fb9f3a"
             ],
             [
              0.8888888888888888,
              "#fdca26"
             ],
             [
              1,
              "#f0f921"
             ]
            ],
            "type": "histogram2d"
           }
          ],
          "histogram2dcontour": [
           {
            "colorbar": {
             "outlinewidth": 0,
             "ticks": ""
            },
            "colorscale": [
             [
              0,
              "#0d0887"
             ],
             [
              0.1111111111111111,
              "#46039f"
             ],
             [
              0.2222222222222222,
              "#7201a8"
             ],
             [
              0.3333333333333333,
              "#9c179e"
             ],
             [
              0.4444444444444444,
              "#bd3786"
             ],
             [
              0.5555555555555556,
              "#d8576b"
             ],
             [
              0.6666666666666666,
              "#ed7953"
             ],
             [
              0.7777777777777778,
              "#fb9f3a"
             ],
             [
              0.8888888888888888,
              "#fdca26"
             ],
             [
              1,
              "#f0f921"
             ]
            ],
            "type": "histogram2dcontour"
           }
          ],
          "mesh3d": [
           {
            "colorbar": {
             "outlinewidth": 0,
             "ticks": ""
            },
            "type": "mesh3d"
           }
          ],
          "parcoords": [
           {
            "line": {
             "colorbar": {
              "outlinewidth": 0,
              "ticks": ""
             }
            },
            "type": "parcoords"
           }
          ],
          "pie": [
           {
            "automargin": true,
            "type": "pie"
           }
          ],
          "scatter": [
           {
            "fillpattern": {
             "fillmode": "overlay",
             "size": 10,
             "solidity": 0.2
            },
            "type": "scatter"
           }
          ],
          "scatter3d": [
           {
            "line": {
             "colorbar": {
              "outlinewidth": 0,
              "ticks": ""
             }
            },
            "marker": {
             "colorbar": {
              "outlinewidth": 0,
              "ticks": ""
             }
            },
            "type": "scatter3d"
           }
          ],
          "scattercarpet": [
           {
            "marker": {
             "colorbar": {
              "outlinewidth": 0,
              "ticks": ""
             }
            },
            "type": "scattercarpet"
           }
          ],
          "scattergeo": [
           {
            "marker": {
             "colorbar": {
              "outlinewidth": 0,
              "ticks": ""
             }
            },
            "type": "scattergeo"
           }
          ],
          "scattergl": [
           {
            "marker": {
             "colorbar": {
              "outlinewidth": 0,
              "ticks": ""
             }
            },
            "type": "scattergl"
           }
          ],
          "scattermap": [
           {
            "marker": {
             "colorbar": {
              "outlinewidth": 0,
              "ticks": ""
             }
            },
            "type": "scattermap"
           }
          ],
          "scattermapbox": [
           {
            "marker": {
             "colorbar": {
              "outlinewidth": 0,
              "ticks": ""
             }
            },
            "type": "scattermapbox"
           }
          ],
          "scatterpolar": [
           {
            "marker": {
             "colorbar": {
              "outlinewidth": 0,
              "ticks": ""
             }
            },
            "type": "scatterpolar"
           }
          ],
          "scatterpolargl": [
           {
            "marker": {
             "colorbar": {
              "outlinewidth": 0,
              "ticks": ""
             }
            },
            "type": "scatterpolargl"
           }
          ],
          "scatterternary": [
           {
            "marker": {
             "colorbar": {
              "outlinewidth": 0,
              "ticks": ""
             }
            },
            "type": "scatterternary"
           }
          ],
          "surface": [
           {
            "colorbar": {
             "outlinewidth": 0,
             "ticks": ""
            },
            "colorscale": [
             [
              0,
              "#0d0887"
             ],
             [
              0.1111111111111111,
              "#46039f"
             ],
             [
              0.2222222222222222,
              "#7201a8"
             ],
             [
              0.3333333333333333,
              "#9c179e"
             ],
             [
              0.4444444444444444,
              "#bd3786"
             ],
             [
              0.5555555555555556,
              "#d8576b"
             ],
             [
              0.6666666666666666,
              "#ed7953"
             ],
             [
              0.7777777777777778,
              "#fb9f3a"
             ],
             [
              0.8888888888888888,
              "#fdca26"
             ],
             [
              1,
              "#f0f921"
             ]
            ],
            "type": "surface"
           }
          ],
          "table": [
           {
            "cells": {
             "fill": {
              "color": "#EBF0F8"
             },
             "line": {
              "color": "white"
             }
            },
            "header": {
             "fill": {
              "color": "#C8D4E3"
             },
             "line": {
              "color": "white"
             }
            },
            "type": "table"
           }
          ]
         },
         "layout": {
          "annotationdefaults": {
           "arrowcolor": "#2a3f5f",
           "arrowhead": 0,
           "arrowwidth": 1
          },
          "autotypenumbers": "strict",
          "coloraxis": {
           "colorbar": {
            "outlinewidth": 0,
            "ticks": ""
           }
          },
          "colorscale": {
           "diverging": [
            [
             0,
             "#8e0152"
            ],
            [
             0.1,
             "#c51b7d"
            ],
            [
             0.2,
             "#de77ae"
            ],
            [
             0.3,
             "#f1b6da"
            ],
            [
             0.4,
             "#fde0ef"
            ],
            [
             0.5,
             "#f7f7f7"
            ],
            [
             0.6,
             "#e6f5d0"
            ],
            [
             0.7,
             "#b8e186"
            ],
            [
             0.8,
             "#7fbc41"
            ],
            [
             0.9,
             "#4d9221"
            ],
            [
             1,
             "#276419"
            ]
           ],
           "sequential": [
            [
             0,
             "#0d0887"
            ],
            [
             0.1111111111111111,
             "#46039f"
            ],
            [
             0.2222222222222222,
             "#7201a8"
            ],
            [
             0.3333333333333333,
             "#9c179e"
            ],
            [
             0.4444444444444444,
             "#bd3786"
            ],
            [
             0.5555555555555556,
             "#d8576b"
            ],
            [
             0.6666666666666666,
             "#ed7953"
            ],
            [
             0.7777777777777778,
             "#fb9f3a"
            ],
            [
             0.8888888888888888,
             "#fdca26"
            ],
            [
             1,
             "#f0f921"
            ]
           ],
           "sequentialminus": [
            [
             0,
             "#0d0887"
            ],
            [
             0.1111111111111111,
             "#46039f"
            ],
            [
             0.2222222222222222,
             "#7201a8"
            ],
            [
             0.3333333333333333,
             "#9c179e"
            ],
            [
             0.4444444444444444,
             "#bd3786"
            ],
            [
             0.5555555555555556,
             "#d8576b"
            ],
            [
             0.6666666666666666,
             "#ed7953"
            ],
            [
             0.7777777777777778,
             "#fb9f3a"
            ],
            [
             0.8888888888888888,
             "#fdca26"
            ],
            [
             1,
             "#f0f921"
            ]
           ]
          },
          "colorway": [
           "#636efa",
           "#EF553B",
           "#00cc96",
           "#ab63fa",
           "#FFA15A",
           "#19d3f3",
           "#FF6692",
           "#B6E880",
           "#FF97FF",
           "#FECB52"
          ],
          "font": {
           "color": "#2a3f5f"
          },
          "geo": {
           "bgcolor": "white",
           "lakecolor": "white",
           "landcolor": "#E5ECF6",
           "showlakes": true,
           "showland": true,
           "subunitcolor": "white"
          },
          "hoverlabel": {
           "align": "left"
          },
          "hovermode": "closest",
          "mapbox": {
           "style": "light"
          },
          "paper_bgcolor": "white",
          "plot_bgcolor": "#E5ECF6",
          "polar": {
           "angularaxis": {
            "gridcolor": "white",
            "linecolor": "white",
            "ticks": ""
           },
           "bgcolor": "#E5ECF6",
           "radialaxis": {
            "gridcolor": "white",
            "linecolor": "white",
            "ticks": ""
           }
          },
          "scene": {
           "xaxis": {
            "backgroundcolor": "#E5ECF6",
            "gridcolor": "white",
            "gridwidth": 2,
            "linecolor": "white",
            "showbackground": true,
            "ticks": "",
            "zerolinecolor": "white"
           },
           "yaxis": {
            "backgroundcolor": "#E5ECF6",
            "gridcolor": "white",
            "gridwidth": 2,
            "linecolor": "white",
            "showbackground": true,
            "ticks": "",
            "zerolinecolor": "white"
           },
           "zaxis": {
            "backgroundcolor": "#E5ECF6",
            "gridcolor": "white",
            "gridwidth": 2,
            "linecolor": "white",
            "showbackground": true,
            "ticks": "",
            "zerolinecolor": "white"
           }
          },
          "shapedefaults": {
           "line": {
            "color": "#2a3f5f"
           }
          },
          "ternary": {
           "aaxis": {
            "gridcolor": "white",
            "linecolor": "white",
            "ticks": ""
           },
           "baxis": {
            "gridcolor": "white",
            "linecolor": "white",
            "ticks": ""
           },
           "bgcolor": "#E5ECF6",
           "caxis": {
            "gridcolor": "white",
            "linecolor": "white",
            "ticks": ""
           }
          },
          "title": {
           "x": 0.05
          },
          "xaxis": {
           "automargin": true,
           "gridcolor": "white",
           "linecolor": "white",
           "ticks": "",
           "title": {
            "standoff": 15
           },
           "zerolinecolor": "white",
           "zerolinewidth": 2
          },
          "yaxis": {
           "automargin": true,
           "gridcolor": "white",
           "linecolor": "white",
           "ticks": "",
           "title": {
            "standoff": 15
           },
           "zerolinecolor": "white",
           "zerolinewidth": 2
          }
         }
        },
        "title": {
         "text": "Optimization History Plot"
        },
        "xaxis": {
         "title": {
          "text": "Trial"
         }
        },
        "yaxis": {
         "title": {
          "text": "Objective Value"
         }
        }
       }
      }
     },
     "metadata": {},
     "output_type": "display_data"
    }
   ],
   "source": [
    "vis.plot_optimization_history(study)"
   ]
  },
  {
   "cell_type": "code",
   "execution_count": 18,
   "id": "a1b3e2f1",
   "metadata": {},
   "outputs": [
    {
     "data": {
      "application/vnd.plotly.v1+json": {
       "config": {
        "plotlyServerURL": "https://plot.ly"
       },
       "data": [
        {
         "cliponaxis": false,
         "hovertemplate": [
          "gamma (FloatDistribution): 0.004009731118901435<extra></extra>",
          "learning_rate (FloatDistribution): 0.007471533785040981<extra></extra>",
          "min_child_weight (IntDistribution): 0.009260530480359968<extra></extra>",
          "subsample (FloatDistribution): 0.019148223953591406<extra></extra>",
          "eta (FloatDistribution): 0.020456457405414234<extra></extra>",
          "reg_lambda (FloatDistribution): 0.023233441464081947<extra></extra>",
          "colsample_bytree (FloatDistribution): 0.025706749207751067<extra></extra>",
          "n_estimators (IntDistribution): 0.05598407088342046<extra></extra>",
          "reg_alpha (FloatDistribution): 0.20453974176855808<extra></extra>",
          "scale_pos_weight (IntDistribution): 0.25679258943194344<extra></extra>",
          "max_depth (IntDistribution): 0.37339693050093675<extra></extra>"
         ],
         "name": "Objective Value",
         "orientation": "h",
         "text": [
          "<0.01",
          "<0.01",
          "<0.01",
          "0.02",
          "0.02",
          "0.02",
          "0.03",
          "0.06",
          "0.20",
          "0.26",
          "0.37"
         ],
         "textposition": "outside",
         "type": "bar",
         "x": [
          0.004009731118901435,
          0.007471533785040981,
          0.009260530480359968,
          0.019148223953591406,
          0.020456457405414234,
          0.023233441464081947,
          0.025706749207751067,
          0.05598407088342046,
          0.20453974176855808,
          0.25679258943194344,
          0.37339693050093675
         ],
         "y": [
          "gamma",
          "learning_rate",
          "min_child_weight",
          "subsample",
          "eta",
          "reg_lambda",
          "colsample_bytree",
          "n_estimators",
          "reg_alpha",
          "scale_pos_weight",
          "max_depth"
         ]
        }
       ],
       "layout": {
        "template": {
         "data": {
          "bar": [
           {
            "error_x": {
             "color": "#2a3f5f"
            },
            "error_y": {
             "color": "#2a3f5f"
            },
            "marker": {
             "line": {
              "color": "#E5ECF6",
              "width": 0.5
             },
             "pattern": {
              "fillmode": "overlay",
              "size": 10,
              "solidity": 0.2
             }
            },
            "type": "bar"
           }
          ],
          "barpolar": [
           {
            "marker": {
             "line": {
              "color": "#E5ECF6",
              "width": 0.5
             },
             "pattern": {
              "fillmode": "overlay",
              "size": 10,
              "solidity": 0.2
             }
            },
            "type": "barpolar"
           }
          ],
          "carpet": [
           {
            "aaxis": {
             "endlinecolor": "#2a3f5f",
             "gridcolor": "white",
             "linecolor": "white",
             "minorgridcolor": "white",
             "startlinecolor": "#2a3f5f"
            },
            "baxis": {
             "endlinecolor": "#2a3f5f",
             "gridcolor": "white",
             "linecolor": "white",
             "minorgridcolor": "white",
             "startlinecolor": "#2a3f5f"
            },
            "type": "carpet"
           }
          ],
          "choropleth": [
           {
            "colorbar": {
             "outlinewidth": 0,
             "ticks": ""
            },
            "type": "choropleth"
           }
          ],
          "contour": [
           {
            "colorbar": {
             "outlinewidth": 0,
             "ticks": ""
            },
            "colorscale": [
             [
              0,
              "#0d0887"
             ],
             [
              0.1111111111111111,
              "#46039f"
             ],
             [
              0.2222222222222222,
              "#7201a8"
             ],
             [
              0.3333333333333333,
              "#9c179e"
             ],
             [
              0.4444444444444444,
              "#bd3786"
             ],
             [
              0.5555555555555556,
              "#d8576b"
             ],
             [
              0.6666666666666666,
              "#ed7953"
             ],
             [
              0.7777777777777778,
              "#fb9f3a"
             ],
             [
              0.8888888888888888,
              "#fdca26"
             ],
             [
              1,
              "#f0f921"
             ]
            ],
            "type": "contour"
           }
          ],
          "contourcarpet": [
           {
            "colorbar": {
             "outlinewidth": 0,
             "ticks": ""
            },
            "type": "contourcarpet"
           }
          ],
          "heatmap": [
           {
            "colorbar": {
             "outlinewidth": 0,
             "ticks": ""
            },
            "colorscale": [
             [
              0,
              "#0d0887"
             ],
             [
              0.1111111111111111,
              "#46039f"
             ],
             [
              0.2222222222222222,
              "#7201a8"
             ],
             [
              0.3333333333333333,
              "#9c179e"
             ],
             [
              0.4444444444444444,
              "#bd3786"
             ],
             [
              0.5555555555555556,
              "#d8576b"
             ],
             [
              0.6666666666666666,
              "#ed7953"
             ],
             [
              0.7777777777777778,
              "#fb9f3a"
             ],
             [
              0.8888888888888888,
              "#fdca26"
             ],
             [
              1,
              "#f0f921"
             ]
            ],
            "type": "heatmap"
           }
          ],
          "histogram": [
           {
            "marker": {
             "pattern": {
              "fillmode": "overlay",
              "size": 10,
              "solidity": 0.2
             }
            },
            "type": "histogram"
           }
          ],
          "histogram2d": [
           {
            "colorbar": {
             "outlinewidth": 0,
             "ticks": ""
            },
            "colorscale": [
             [
              0,
              "#0d0887"
             ],
             [
              0.1111111111111111,
              "#46039f"
             ],
             [
              0.2222222222222222,
              "#7201a8"
             ],
             [
              0.3333333333333333,
              "#9c179e"
             ],
             [
              0.4444444444444444,
              "#bd3786"
             ],
             [
              0.5555555555555556,
              "#d8576b"
             ],
             [
              0.6666666666666666,
              "#ed7953"
             ],
             [
              0.7777777777777778,
              "#fb9f3a"
             ],
             [
              0.8888888888888888,
              "#fdca26"
             ],
             [
              1,
              "#f0f921"
             ]
            ],
            "type": "histogram2d"
           }
          ],
          "histogram2dcontour": [
           {
            "colorbar": {
             "outlinewidth": 0,
             "ticks": ""
            },
            "colorscale": [
             [
              0,
              "#0d0887"
             ],
             [
              0.1111111111111111,
              "#46039f"
             ],
             [
              0.2222222222222222,
              "#7201a8"
             ],
             [
              0.3333333333333333,
              "#9c179e"
             ],
             [
              0.4444444444444444,
              "#bd3786"
             ],
             [
              0.5555555555555556,
              "#d8576b"
             ],
             [
              0.6666666666666666,
              "#ed7953"
             ],
             [
              0.7777777777777778,
              "#fb9f3a"
             ],
             [
              0.8888888888888888,
              "#fdca26"
             ],
             [
              1,
              "#f0f921"
             ]
            ],
            "type": "histogram2dcontour"
           }
          ],
          "mesh3d": [
           {
            "colorbar": {
             "outlinewidth": 0,
             "ticks": ""
            },
            "type": "mesh3d"
           }
          ],
          "parcoords": [
           {
            "line": {
             "colorbar": {
              "outlinewidth": 0,
              "ticks": ""
             }
            },
            "type": "parcoords"
           }
          ],
          "pie": [
           {
            "automargin": true,
            "type": "pie"
           }
          ],
          "scatter": [
           {
            "fillpattern": {
             "fillmode": "overlay",
             "size": 10,
             "solidity": 0.2
            },
            "type": "scatter"
           }
          ],
          "scatter3d": [
           {
            "line": {
             "colorbar": {
              "outlinewidth": 0,
              "ticks": ""
             }
            },
            "marker": {
             "colorbar": {
              "outlinewidth": 0,
              "ticks": ""
             }
            },
            "type": "scatter3d"
           }
          ],
          "scattercarpet": [
           {
            "marker": {
             "colorbar": {
              "outlinewidth": 0,
              "ticks": ""
             }
            },
            "type": "scattercarpet"
           }
          ],
          "scattergeo": [
           {
            "marker": {
             "colorbar": {
              "outlinewidth": 0,
              "ticks": ""
             }
            },
            "type": "scattergeo"
           }
          ],
          "scattergl": [
           {
            "marker": {
             "colorbar": {
              "outlinewidth": 0,
              "ticks": ""
             }
            },
            "type": "scattergl"
           }
          ],
          "scattermap": [
           {
            "marker": {
             "colorbar": {
              "outlinewidth": 0,
              "ticks": ""
             }
            },
            "type": "scattermap"
           }
          ],
          "scattermapbox": [
           {
            "marker": {
             "colorbar": {
              "outlinewidth": 0,
              "ticks": ""
             }
            },
            "type": "scattermapbox"
           }
          ],
          "scatterpolar": [
           {
            "marker": {
             "colorbar": {
              "outlinewidth": 0,
              "ticks": ""
             }
            },
            "type": "scatterpolar"
           }
          ],
          "scatterpolargl": [
           {
            "marker": {
             "colorbar": {
              "outlinewidth": 0,
              "ticks": ""
             }
            },
            "type": "scatterpolargl"
           }
          ],
          "scatterternary": [
           {
            "marker": {
             "colorbar": {
              "outlinewidth": 0,
              "ticks": ""
             }
            },
            "type": "scatterternary"
           }
          ],
          "surface": [
           {
            "colorbar": {
             "outlinewidth": 0,
             "ticks": ""
            },
            "colorscale": [
             [
              0,
              "#0d0887"
             ],
             [
              0.1111111111111111,
              "#46039f"
             ],
             [
              0.2222222222222222,
              "#7201a8"
             ],
             [
              0.3333333333333333,
              "#9c179e"
             ],
             [
              0.4444444444444444,
              "#bd3786"
             ],
             [
              0.5555555555555556,
              "#d8576b"
             ],
             [
              0.6666666666666666,
              "#ed7953"
             ],
             [
              0.7777777777777778,
              "#fb9f3a"
             ],
             [
              0.8888888888888888,
              "#fdca26"
             ],
             [
              1,
              "#f0f921"
             ]
            ],
            "type": "surface"
           }
          ],
          "table": [
           {
            "cells": {
             "fill": {
              "color": "#EBF0F8"
             },
             "line": {
              "color": "white"
             }
            },
            "header": {
             "fill": {
              "color": "#C8D4E3"
             },
             "line": {
              "color": "white"
             }
            },
            "type": "table"
           }
          ]
         },
         "layout": {
          "annotationdefaults": {
           "arrowcolor": "#2a3f5f",
           "arrowhead": 0,
           "arrowwidth": 1
          },
          "autotypenumbers": "strict",
          "coloraxis": {
           "colorbar": {
            "outlinewidth": 0,
            "ticks": ""
           }
          },
          "colorscale": {
           "diverging": [
            [
             0,
             "#8e0152"
            ],
            [
             0.1,
             "#c51b7d"
            ],
            [
             0.2,
             "#de77ae"
            ],
            [
             0.3,
             "#f1b6da"
            ],
            [
             0.4,
             "#fde0ef"
            ],
            [
             0.5,
             "#f7f7f7"
            ],
            [
             0.6,
             "#e6f5d0"
            ],
            [
             0.7,
             "#b8e186"
            ],
            [
             0.8,
             "#7fbc41"
            ],
            [
             0.9,
             "#4d9221"
            ],
            [
             1,
             "#276419"
            ]
           ],
           "sequential": [
            [
             0,
             "#0d0887"
            ],
            [
             0.1111111111111111,
             "#46039f"
            ],
            [
             0.2222222222222222,
             "#7201a8"
            ],
            [
             0.3333333333333333,
             "#9c179e"
            ],
            [
             0.4444444444444444,
             "#bd3786"
            ],
            [
             0.5555555555555556,
             "#d8576b"
            ],
            [
             0.6666666666666666,
             "#ed7953"
            ],
            [
             0.7777777777777778,
             "#fb9f3a"
            ],
            [
             0.8888888888888888,
             "#fdca26"
            ],
            [
             1,
             "#f0f921"
            ]
           ],
           "sequentialminus": [
            [
             0,
             "#0d0887"
            ],
            [
             0.1111111111111111,
             "#46039f"
            ],
            [
             0.2222222222222222,
             "#7201a8"
            ],
            [
             0.3333333333333333,
             "#9c179e"
            ],
            [
             0.4444444444444444,
             "#bd3786"
            ],
            [
             0.5555555555555556,
             "#d8576b"
            ],
            [
             0.6666666666666666,
             "#ed7953"
            ],
            [
             0.7777777777777778,
             "#fb9f3a"
            ],
            [
             0.8888888888888888,
             "#fdca26"
            ],
            [
             1,
             "#f0f921"
            ]
           ]
          },
          "colorway": [
           "#636efa",
           "#EF553B",
           "#00cc96",
           "#ab63fa",
           "#FFA15A",
           "#19d3f3",
           "#FF6692",
           "#B6E880",
           "#FF97FF",
           "#FECB52"
          ],
          "font": {
           "color": "#2a3f5f"
          },
          "geo": {
           "bgcolor": "white",
           "lakecolor": "white",
           "landcolor": "#E5ECF6",
           "showlakes": true,
           "showland": true,
           "subunitcolor": "white"
          },
          "hoverlabel": {
           "align": "left"
          },
          "hovermode": "closest",
          "mapbox": {
           "style": "light"
          },
          "paper_bgcolor": "white",
          "plot_bgcolor": "#E5ECF6",
          "polar": {
           "angularaxis": {
            "gridcolor": "white",
            "linecolor": "white",
            "ticks": ""
           },
           "bgcolor": "#E5ECF6",
           "radialaxis": {
            "gridcolor": "white",
            "linecolor": "white",
            "ticks": ""
           }
          },
          "scene": {
           "xaxis": {
            "backgroundcolor": "#E5ECF6",
            "gridcolor": "white",
            "gridwidth": 2,
            "linecolor": "white",
            "showbackground": true,
            "ticks": "",
            "zerolinecolor": "white"
           },
           "yaxis": {
            "backgroundcolor": "#E5ECF6",
            "gridcolor": "white",
            "gridwidth": 2,
            "linecolor": "white",
            "showbackground": true,
            "ticks": "",
            "zerolinecolor": "white"
           },
           "zaxis": {
            "backgroundcolor": "#E5ECF6",
            "gridcolor": "white",
            "gridwidth": 2,
            "linecolor": "white",
            "showbackground": true,
            "ticks": "",
            "zerolinecolor": "white"
           }
          },
          "shapedefaults": {
           "line": {
            "color": "#2a3f5f"
           }
          },
          "ternary": {
           "aaxis": {
            "gridcolor": "white",
            "linecolor": "white",
            "ticks": ""
           },
           "baxis": {
            "gridcolor": "white",
            "linecolor": "white",
            "ticks": ""
           },
           "bgcolor": "#E5ECF6",
           "caxis": {
            "gridcolor": "white",
            "linecolor": "white",
            "ticks": ""
           }
          },
          "title": {
           "x": 0.05
          },
          "xaxis": {
           "automargin": true,
           "gridcolor": "white",
           "linecolor": "white",
           "ticks": "",
           "title": {
            "standoff": 15
           },
           "zerolinecolor": "white",
           "zerolinewidth": 2
          },
          "yaxis": {
           "automargin": true,
           "gridcolor": "white",
           "linecolor": "white",
           "ticks": "",
           "title": {
            "standoff": 15
           },
           "zerolinecolor": "white",
           "zerolinewidth": 2
          }
         }
        },
        "title": {
         "text": "Hyperparameter Importances"
        },
        "xaxis": {
         "title": {
          "text": "Hyperparameter Importance"
         }
        },
        "yaxis": {
         "title": {
          "text": "Hyperparameter"
         }
        }
       }
      }
     },
     "metadata": {},
     "output_type": "display_data"
    }
   ],
   "source": [
    "vis.plot_param_importances(study)"
   ]
  },
  {
   "cell_type": "code",
   "execution_count": 19,
   "id": "98176b21",
   "metadata": {},
   "outputs": [
    {
     "data": {
      "application/vnd.plotly.v1+json": {
       "config": {
        "plotlyServerURL": "https://plot.ly"
       },
       "data": [
        {
         "marker": {
          "color": [
           0,
           1,
           2,
           3,
           4,
           5,
           6,
           7,
           8,
           9,
           10,
           11,
           12,
           13,
           14,
           15,
           16,
           17,
           18,
           19,
           20,
           21,
           22,
           23,
           24,
           25,
           26,
           27,
           28,
           29,
           30,
           31,
           32,
           33,
           34,
           35,
           36,
           37,
           38,
           39,
           40,
           41,
           42,
           43,
           44,
           45,
           46,
           47,
           48,
           49,
           50,
           51,
           52,
           53,
           54,
           55,
           56,
           57,
           58,
           59,
           60,
           61,
           62,
           63,
           64,
           65,
           66,
           67,
           68,
           69,
           70,
           71,
           72,
           73,
           74,
           75,
           76,
           77,
           78,
           79,
           80,
           81,
           82,
           83,
           84,
           85,
           86,
           87,
           88,
           89,
           90,
           91,
           92,
           93,
           94,
           95,
           96,
           97,
           98,
           99
          ],
          "colorbar": {
           "title": {
            "text": "Trial"
           },
           "x": 1,
           "xpad": 40
          },
          "colorscale": [
           [
            0,
            "rgb(247,251,255)"
           ],
           [
            0.125,
            "rgb(222,235,247)"
           ],
           [
            0.25,
            "rgb(198,219,239)"
           ],
           [
            0.375,
            "rgb(158,202,225)"
           ],
           [
            0.5,
            "rgb(107,174,214)"
           ],
           [
            0.625,
            "rgb(66,146,198)"
           ],
           [
            0.75,
            "rgb(33,113,181)"
           ],
           [
            0.875,
            "rgb(8,81,156)"
           ],
           [
            1,
            "rgb(8,48,107)"
           ]
          ],
          "line": {
           "color": "Grey",
           "width": 0.5
          },
          "showscale": true
         },
         "mode": "markers",
         "name": "Feasible Trial",
         "showlegend": false,
         "type": "scatter",
         "x": [
          0.7167605408603062,
          0.6051097831594114,
          0.9712874002378125,
          0.838073544655822,
          0.9866321478873401,
          0.7596438539973966,
          0.8976739044734492,
          0.7528500059676402,
          0.668872746039932,
          0.685487818589043,
          0.5156872551351477,
          0.5010011106837482,
          0.5300413919106772,
          0.5988453063305862,
          0.6096504545114143,
          0.8220777379405964,
          0.6730801481680448,
          0.5004576508216112,
          0.5720416247918336,
          0.6687705878788281,
          0.811903062092907,
          0.5487534986176407,
          0.5098801395436976,
          0.6401293084584343,
          0.5577721823342164,
          0.5002608050893678,
          0.5734064720729202,
          0.6240980010414716,
          0.5699016610818699,
          0.6933086917733187,
          0.6412501297263934,
          0.5321886218843178,
          0.5888884960219811,
          0.5462011797571367,
          0.7192592950470124,
          0.5720754267422354,
          0.526914163152215,
          0.631377342163408,
          0.7838600137931562,
          0.5839862752628282,
          0.8834506733549865,
          0.5346069385252703,
          0.5184062185794519,
          0.5450241615628876,
          0.5016849168271658,
          0.6091230654869769,
          0.6606120764706099,
          0.5309331731159288,
          0.9532090979974066,
          0.727907889252725,
          0.6927462217833996,
          0.5347267281602472,
          0.558775945198491,
          0.5135810780915444,
          0.5942051483253463,
          0.5199647694206446,
          0.5635396524988174,
          0.5374549754832142,
          0.6182706145153661,
          0.5082172665044602,
          0.5834570954447351,
          0.575728059825189,
          0.5834421581979408,
          0.5547614127435199,
          0.6453449089847891,
          0.602127164181874,
          0.573369076574887,
          0.7417187362240107,
          0.773930716192702,
          0.6546776250654299,
          0.6734317566394533,
          0.549654852010821,
          0.6500593255996177,
          0.7059268965347469,
          0.6525385299437609,
          0.6314500277208336,
          0.6812328070725422,
          0.6251649036035875,
          0.6109040801743253,
          0.6344402183441725,
          0.6577947319505401,
          0.6135351881284259,
          0.608918208665937,
          0.6254773744658365,
          0.6160155110991211,
          0.5937142727646906,
          0.6434397612080823,
          0.67210676645148,
          0.7104603549907036,
          0.5994654392454803,
          0.6609798396624338,
          0.6245494521157094,
          0.6334785812902634,
          0.6101997109017795,
          0.64967629023458,
          0.6866309985096323,
          0.6499024649796742,
          0.5650003258789228,
          0.5853063181593227,
          0.5464251851193669
         ],
         "xaxis": "x",
         "y": [
          16140.89,
          2119.87,
          8071.449999999999,
          17202.16,
          1848.13,
          4577.79,
          6388.27,
          4455.91,
          4232.23,
          1732.14,
          1804.67,
          1650.02,
          2311.96,
          1960.03,
          2238.65,
          3317.97,
          1227.22,
          1348.27,
          2972.1200000000003,
          2384.23,
          5009.48,
          1824.2,
          1331.9,
          1422.56,
          2926.0299999999997,
          1950.3,
          1274.63,
          2155.86,
          2383.71,
          3935.01,
          2045.04,
          1358.6000000000001,
          1579.73,
          1545.8000000000002,
          1948.16,
          1900.5600000000002,
          1928.0200000000002,
          2932.77,
          1390.9299999999998,
          3313.42,
          2048.84,
          1275.1399999999999,
          1614.9399999999998,
          4218.21,
          1961.2,
          1365.9199999999998,
          1652.29,
          2757.91,
          1951.04,
          1451.9099999999999,
          2383.45,
          1441.44,
          1552.98,
          6388.27,
          1700.24,
          2080.54,
          2814.6,
          1670.6599999999999,
          6388.27,
          2526.12,
          1321.79,
          1307.58,
          1600.32,
          1370.38,
          1395.92,
          2003.0400000000002,
          1372.03,
          1734.86,
          7616.83,
          1242.5700000000002,
          3686.47,
          1229.96,
          1284.73,
          1472.85,
          1410.87,
          1296.46,
          1661.15,
          1527.3500000000001,
          1231.99,
          1816.7,
          1552.06,
          1279.0900000000001,
          1353.28,
          1228.4499999999998,
          1411.43,
          1406.9299999999998,
          1847.4499999999998,
          1626.47,
          1677.25,
          1835.82,
          2686.8900000000003,
          1317.0899999999997,
          1355.94,
          1445.9099999999999,
          1198.15,
          1531.76,
          1349.5900000000001,
          1489.7200000000003,
          1595.24,
          1255.83
         ],
         "yaxis": "y"
        },
        {
         "marker": {
          "color": [
           0,
           1,
           2,
           3,
           4,
           5,
           6,
           7,
           8,
           9,
           10,
           11,
           12,
           13,
           14,
           15,
           16,
           17,
           18,
           19,
           20,
           21,
           22,
           23,
           24,
           25,
           26,
           27,
           28,
           29,
           30,
           31,
           32,
           33,
           34,
           35,
           36,
           37,
           38,
           39,
           40,
           41,
           42,
           43,
           44,
           45,
           46,
           47,
           48,
           49,
           50,
           51,
           52,
           53,
           54,
           55,
           56,
           57,
           58,
           59,
           60,
           61,
           62,
           63,
           64,
           65,
           66,
           67,
           68,
           69,
           70,
           71,
           72,
           73,
           74,
           75,
           76,
           77,
           78,
           79,
           80,
           81,
           82,
           83,
           84,
           85,
           86,
           87,
           88,
           89,
           90,
           91,
           92,
           93,
           94,
           95,
           96,
           97,
           98,
           99
          ],
          "colorbar": {
           "title": {
            "text": "Trial"
           },
           "x": 1,
           "xpad": 40
          },
          "colorscale": [
           [
            0,
            "rgb(247,251,255)"
           ],
           [
            0.125,
            "rgb(222,235,247)"
           ],
           [
            0.25,
            "rgb(198,219,239)"
           ],
           [
            0.375,
            "rgb(158,202,225)"
           ],
           [
            0.5,
            "rgb(107,174,214)"
           ],
           [
            0.625,
            "rgb(66,146,198)"
           ],
           [
            0.75,
            "rgb(33,113,181)"
           ],
           [
            0.875,
            "rgb(8,81,156)"
           ],
           [
            1,
            "rgb(8,48,107)"
           ]
          ],
          "line": {
           "color": "Grey",
           "width": 0.5
          },
          "showscale": false
         },
         "mode": "markers",
         "name": "Feasible Trial",
         "showlegend": false,
         "type": "scatter",
         "x": [
          0.018106224019577406,
          0.032928947914759,
          0.10152154208802315,
          0.03624824857735308,
          0.11651536892874818,
          0.020395646024701067,
          0.028227879377982185,
          0.0589274578129179,
          0.13653872767355887,
          0.2001457066700012,
          0.27714385303770644,
          0.2948657406025541,
          0.2988520607276193,
          0.17361802861777206,
          0.20361738142386362,
          0.07044257586691331,
          0.19431932944564845,
          0.011065358548202103,
          0.010443071138584139,
          0.012366593111540883,
          0.08222827029784922,
          0.048442016399058034,
          0.16400735984506806,
          0.1566203842996513,
          0.09634430601740002,
          0.015788090679551902,
          0.046012977693021304,
          0.0474073963272184,
          0.06920231436322964,
          0.23407805211046068,
          0.022467591222978176,
          0.1298900195371057,
          0.014909164417930623,
          0.032802809995028354,
          0.026670067695307116,
          0.04074713268143917,
          0.09887264476387995,
          0.22733297971926514,
          0.11688767190750317,
          0.16623345592877473,
          0.02021909251102768,
          0.1464444621201044,
          0.1384442180694427,
          0.20027153740681208,
          0.08338581912328429,
          0.23306441556166443,
          0.15047605716338633,
          0.10800849781779084,
          0.18640405930296353,
          0.25823927277914366,
          0.13260689855958838,
          0.12103679942560032,
          0.1781275736212081,
          0.13307624648943014,
          0.06139489428583202,
          0.14552098631949914,
          0.010546001971827177,
          0.08767166016744514,
          0.2126802116041795,
          0.25244965970153227,
          0.1672171217030271,
          0.17067065661955494,
          0.1653683830469247,
          0.19007096564954112,
          0.2718637797320697,
          0.15895181109224993,
          0.030056274318580625,
          0.038519839702324456,
          0.05048935824362894,
          0.025130327184820896,
          0.10548893922751786,
          0.01335062320137258,
          0.013958114589014272,
          0.015416802289867705,
          0.012840415806491597,
          0.025329849832800524,
          0.024081635777819823,
          0.017008126403701404,
          0.011846888321502989,
          0.013070059825348387,
          0.01948053837948943,
          0.014164800311542278,
          0.012037400397450129,
          0.013978331820929417,
          0.01800890032188028,
          0.014316387960211736,
          0.013728817300363015,
          0.011126422927022893,
          0.016986985093377347,
          0.022187541832356994,
          0.016169418765640497,
          0.010014996996281679,
          0.027057816290628773,
          0.011354207831821592,
          0.04388928683651236,
          0.04665035616293341,
          0.04207519535477044,
          0.06059434515211587,
          0.01204101790910342,
          0.03491435079704315
         ],
         "xaxis": "x2",
         "y": [
          16140.89,
          2119.87,
          8071.449999999999,
          17202.16,
          1848.13,
          4577.79,
          6388.27,
          4455.91,
          4232.23,
          1732.14,
          1804.67,
          1650.02,
          2311.96,
          1960.03,
          2238.65,
          3317.97,
          1227.22,
          1348.27,
          2972.1200000000003,
          2384.23,
          5009.48,
          1824.2,
          1331.9,
          1422.56,
          2926.0299999999997,
          1950.3,
          1274.63,
          2155.86,
          2383.71,
          3935.01,
          2045.04,
          1358.6000000000001,
          1579.73,
          1545.8000000000002,
          1948.16,
          1900.5600000000002,
          1928.0200000000002,
          2932.77,
          1390.9299999999998,
          3313.42,
          2048.84,
          1275.1399999999999,
          1614.9399999999998,
          4218.21,
          1961.2,
          1365.9199999999998,
          1652.29,
          2757.91,
          1951.04,
          1451.9099999999999,
          2383.45,
          1441.44,
          1552.98,
          6388.27,
          1700.24,
          2080.54,
          2814.6,
          1670.6599999999999,
          6388.27,
          2526.12,
          1321.79,
          1307.58,
          1600.32,
          1370.38,
          1395.92,
          2003.0400000000002,
          1372.03,
          1734.86,
          7616.83,
          1242.5700000000002,
          3686.47,
          1229.96,
          1284.73,
          1472.85,
          1410.87,
          1296.46,
          1661.15,
          1527.3500000000001,
          1231.99,
          1816.7,
          1552.06,
          1279.0900000000001,
          1353.28,
          1228.4499999999998,
          1411.43,
          1406.9299999999998,
          1847.4499999999998,
          1626.47,
          1677.25,
          1835.82,
          2686.8900000000003,
          1317.0899999999997,
          1355.94,
          1445.9099999999999,
          1198.15,
          1531.76,
          1349.5900000000001,
          1489.7200000000003,
          1595.24,
          1255.83
         ],
         "yaxis": "y2"
        },
        {
         "marker": {
          "color": [
           0,
           1,
           2,
           3,
           4,
           5,
           6,
           7,
           8,
           9,
           10,
           11,
           12,
           13,
           14,
           15,
           16,
           17,
           18,
           19,
           20,
           21,
           22,
           23,
           24,
           25,
           26,
           27,
           28,
           29,
           30,
           31,
           32,
           33,
           34,
           35,
           36,
           37,
           38,
           39,
           40,
           41,
           42,
           43,
           44,
           45,
           46,
           47,
           48,
           49,
           50,
           51,
           52,
           53,
           54,
           55,
           56,
           57,
           58,
           59,
           60,
           61,
           62,
           63,
           64,
           65,
           66,
           67,
           68,
           69,
           70,
           71,
           72,
           73,
           74,
           75,
           76,
           77,
           78,
           79,
           80,
           81,
           82,
           83,
           84,
           85,
           86,
           87,
           88,
           89,
           90,
           91,
           92,
           93,
           94,
           95,
           96,
           97,
           98,
           99
          ],
          "colorbar": {
           "title": {
            "text": "Trial"
           },
           "x": 1,
           "xpad": 40
          },
          "colorscale": [
           [
            0,
            "rgb(247,251,255)"
           ],
           [
            0.125,
            "rgb(222,235,247)"
           ],
           [
            0.25,
            "rgb(198,219,239)"
           ],
           [
            0.375,
            "rgb(158,202,225)"
           ],
           [
            0.5,
            "rgb(107,174,214)"
           ],
           [
            0.625,
            "rgb(66,146,198)"
           ],
           [
            0.75,
            "rgb(33,113,181)"
           ],
           [
            0.875,
            "rgb(8,81,156)"
           ],
           [
            1,
            "rgb(8,48,107)"
           ]
          ],
          "line": {
           "color": "Grey",
           "width": 0.5
          },
          "showscale": false
         },
         "mode": "markers",
         "name": "Feasible Trial",
         "showlegend": false,
         "type": "scatter",
         "x": [
          2.707808693892426,
          4.430458323401042,
          0.697386819374024,
          1.6333340440629718,
          0.08459251360941555,
          0.5893483292239227,
          3.391485758774847,
          4.14256517707528,
          1.3835859344961414,
          3.096756141646979,
          2.9718150655653552,
          2.9772130080661032,
          3.6589240635508875,
          2.062253053898128,
          4.886528096901364,
          2.276962085165162,
          3.4369016363388,
          3.804549371324379,
          3.7346115633738104,
          4.177967575758332,
          4.87269025742923,
          3.4070386281090776,
          2.7542289748846813,
          2.6418264119435326,
          3.8966645404433393,
          1.8712796467624226,
          3.2469202556748105,
          2.497977340608338,
          3.423671764283763,
          2.814159069336573,
          3.203405832981257,
          4.409545002272521,
          2.5027318673791403,
          3.9117755683767013,
          3.620392307229592,
          4.5571030544917726,
          1.212103791417378,
          2.8062960981826164,
          3.2265841907937927,
          4.218996419997174,
          2.2636973780798053,
          4.534682933803122,
          4.736277297666607,
          3.9427176721250543,
          4.338936061106095,
          3.53427082757715,
          4.012127971817814,
          3.0333469554773393,
          4.589016295370482,
          3.279315810696074,
          3.7340103108665277,
          4.42551470555207,
          4.263203523818813,
          0.29180060162265375,
          4.684258106470125,
          4.116906243561218,
          4.988593519351798,
          3.7720258494541636,
          2.938067831561834,
          3.4411505572332937,
          4.400329206982857,
          4.46783214915309,
          4.073836452017308,
          4.5395566840714014,
          4.805761155128928,
          3.780481769567694,
          3.5653068418528036,
          3.0675632532999386,
          3.280610041777762,
          2.7100069483995317,
          2.586514221361546,
          2.3155784212918533,
          2.275066253902735,
          2.044563576175766,
          1.5347932099483637,
          2.2974661134789396,
          2.366870068685349,
          1.8496028504039794,
          2.1520919632832545,
          2.058427705836027,
          2.2187109569930996,
          1.8490051301447217,
          1.8360309283013316,
          2.3444029722496786,
          2.4909482414789648,
          1.1613724179061142,
          1.6813780646743421,
          2.1120622316067212,
          1.6875948981325055,
          2.858697491141958,
          2.689135111992933,
          1.9291082538533348,
          2.4518061159510602,
          2.349081006523181,
          2.144478553480802,
          2.18173028957593,
          1.980314450931645,
          2.616914955692611,
          1.7850765942135174,
          1.4026517365289854
         ],
         "xaxis": "x3",
         "y": [
          16140.89,
          2119.87,
          8071.449999999999,
          17202.16,
          1848.13,
          4577.79,
          6388.27,
          4455.91,
          4232.23,
          1732.14,
          1804.67,
          1650.02,
          2311.96,
          1960.03,
          2238.65,
          3317.97,
          1227.22,
          1348.27,
          2972.1200000000003,
          2384.23,
          5009.48,
          1824.2,
          1331.9,
          1422.56,
          2926.0299999999997,
          1950.3,
          1274.63,
          2155.86,
          2383.71,
          3935.01,
          2045.04,
          1358.6000000000001,
          1579.73,
          1545.8000000000002,
          1948.16,
          1900.5600000000002,
          1928.0200000000002,
          2932.77,
          1390.9299999999998,
          3313.42,
          2048.84,
          1275.1399999999999,
          1614.9399999999998,
          4218.21,
          1961.2,
          1365.9199999999998,
          1652.29,
          2757.91,
          1951.04,
          1451.9099999999999,
          2383.45,
          1441.44,
          1552.98,
          6388.27,
          1700.24,
          2080.54,
          2814.6,
          1670.6599999999999,
          6388.27,
          2526.12,
          1321.79,
          1307.58,
          1600.32,
          1370.38,
          1395.92,
          2003.0400000000002,
          1372.03,
          1734.86,
          7616.83,
          1242.5700000000002,
          3686.47,
          1229.96,
          1284.73,
          1472.85,
          1410.87,
          1296.46,
          1661.15,
          1527.3500000000001,
          1231.99,
          1816.7,
          1552.06,
          1279.0900000000001,
          1353.28,
          1228.4499999999998,
          1411.43,
          1406.9299999999998,
          1847.4499999999998,
          1626.47,
          1677.25,
          1835.82,
          2686.8900000000003,
          1317.0899999999997,
          1355.94,
          1445.9099999999999,
          1198.15,
          1531.76,
          1349.5900000000001,
          1489.7200000000003,
          1595.24,
          1255.83
         ],
         "yaxis": "y3"
        },
        {
         "marker": {
          "color": [
           0,
           1,
           2,
           3,
           4,
           5,
           6,
           7,
           8,
           9,
           10,
           11,
           12,
           13,
           14,
           15,
           16,
           17,
           18,
           19,
           20,
           21,
           22,
           23,
           24,
           25,
           26,
           27,
           28,
           29,
           30,
           31,
           32,
           33,
           34,
           35,
           36,
           37,
           38,
           39,
           40,
           41,
           42,
           43,
           44,
           45,
           46,
           47,
           48,
           49,
           50,
           51,
           52,
           53,
           54,
           55,
           56,
           57,
           58,
           59,
           60,
           61,
           62,
           63,
           64,
           65,
           66,
           67,
           68,
           69,
           70,
           71,
           72,
           73,
           74,
           75,
           76,
           77,
           78,
           79,
           80,
           81,
           82,
           83,
           84,
           85,
           86,
           87,
           88,
           89,
           90,
           91,
           92,
           93,
           94,
           95,
           96,
           97,
           98,
           99
          ],
          "colorbar": {
           "title": {
            "text": "Trial"
           },
           "x": 1,
           "xpad": 40
          },
          "colorscale": [
           [
            0,
            "rgb(247,251,255)"
           ],
           [
            0.125,
            "rgb(222,235,247)"
           ],
           [
            0.25,
            "rgb(198,219,239)"
           ],
           [
            0.375,
            "rgb(158,202,225)"
           ],
           [
            0.5,
            "rgb(107,174,214)"
           ],
           [
            0.625,
            "rgb(66,146,198)"
           ],
           [
            0.75,
            "rgb(33,113,181)"
           ],
           [
            0.875,
            "rgb(8,81,156)"
           ],
           [
            1,
            "rgb(8,48,107)"
           ]
          ],
          "line": {
           "color": "Grey",
           "width": 0.5
          },
          "showscale": false
         },
         "mode": "markers",
         "name": "Feasible Trial",
         "showlegend": false,
         "type": "scatter",
         "x": [
          0.09166516349524984,
          0.0015290427371926092,
          0.017748380044726998,
          0.033558316871952876,
          0.02765993889829469,
          0.23032960026115776,
          0.0014004022546872993,
          0.25269494147307947,
          0.007570712322407706,
          0.14156903768120915,
          0.07325266631575915,
          0.06745138060185851,
          0.07807795968247405,
          0.13115932119683926,
          0.00612990848688434,
          0.03965869250640759,
          0.1855669609727726,
          0.05109961380428897,
          0.008697119089710796,
          0.2777161300065863,
          0.0036940132526395043,
          0.050503854831650895,
          0.018657480145753535,
          0.016082071521592,
          0.018329229629434063,
          0.13559793209510893,
          0.02432858254024025,
          0.002946460219342498,
          0.012783204775261696,
          0.0044895627653155495,
          0.011247198350844471,
          0.04773614518083308,
          0.024257903380009882,
          0.024827897483242677,
          0.10556516605188856,
          0.18244930769645892,
          0.033297660237587304,
          0.05818857465040331,
          0.021250385927818975,
          0.03232837628168387,
          0.0020767143160089264,
          0.05010650082286248,
          0.08987856488120931,
          0.014298985442836178,
          0.03693431246058773,
          0.18232809162932048,
          0.009882075895318317,
          0.06276115606047729,
          0.04557175472770649,
          0.10935350498006043,
          0.029627449796675805,
          0.02053393342541581,
          0.0572898991331887,
          0.0010066575382519998,
          0.045544586117859956,
          0.07919429572535057,
          0.040028731958508604,
          0.1923481889528184,
          0.006491673983598232,
          0.015905267796960672,
          0.02699808622899397,
          0.02681896523896323,
          0.026808752745292676,
          0.019073270914941858,
          0.012168907588974846,
          0.026510712741673208,
          0.02251071971254301,
          0.038062256458629214,
          0.0167375148551726,
          0.030142832698300325,
          0.009082443753389092,
          0.029747987398825067,
          0.027503359841041446,
          0.030208038397954478,
          0.024190019287564393,
          0.03504017753931652,
          0.035107008547469704,
          0.014047011152233372,
          0.04140972833769717,
          0.07071220404825065,
          0.05441912176218762,
          0.03312910468699177,
          0.041504355997182024,
          0.032323907708521823,
          0.043688053662593554,
          0.02160537981638477,
          0.031665544969570976,
          0.08390464366369535,
          0.29808436220773066,
          0.0513301169538422,
          0.06442457238483222,
          0.03449460401951197,
          0.10219150639781376,
          0.036811382864323505,
          0.029639904051825004,
          0.019447139794731946,
          0.030442133000920874,
          0.21788656299098233,
          0.023816710154981637,
          0.048534038070484564
         ],
         "xaxis": "x4",
         "y": [
          16140.89,
          2119.87,
          8071.449999999999,
          17202.16,
          1848.13,
          4577.79,
          6388.27,
          4455.91,
          4232.23,
          1732.14,
          1804.67,
          1650.02,
          2311.96,
          1960.03,
          2238.65,
          3317.97,
          1227.22,
          1348.27,
          2972.1200000000003,
          2384.23,
          5009.48,
          1824.2,
          1331.9,
          1422.56,
          2926.0299999999997,
          1950.3,
          1274.63,
          2155.86,
          2383.71,
          3935.01,
          2045.04,
          1358.6000000000001,
          1579.73,
          1545.8000000000002,
          1948.16,
          1900.5600000000002,
          1928.0200000000002,
          2932.77,
          1390.9299999999998,
          3313.42,
          2048.84,
          1275.1399999999999,
          1614.9399999999998,
          4218.21,
          1961.2,
          1365.9199999999998,
          1652.29,
          2757.91,
          1951.04,
          1451.9099999999999,
          2383.45,
          1441.44,
          1552.98,
          6388.27,
          1700.24,
          2080.54,
          2814.6,
          1670.6599999999999,
          6388.27,
          2526.12,
          1321.79,
          1307.58,
          1600.32,
          1370.38,
          1395.92,
          2003.0400000000002,
          1372.03,
          1734.86,
          7616.83,
          1242.5700000000002,
          3686.47,
          1229.96,
          1284.73,
          1472.85,
          1410.87,
          1296.46,
          1661.15,
          1527.3500000000001,
          1231.99,
          1816.7,
          1552.06,
          1279.0900000000001,
          1353.28,
          1228.4499999999998,
          1411.43,
          1406.9299999999998,
          1847.4499999999998,
          1626.47,
          1677.25,
          1835.82,
          2686.8900000000003,
          1317.0899999999997,
          1355.94,
          1445.9099999999999,
          1198.15,
          1531.76,
          1349.5900000000001,
          1489.7200000000003,
          1595.24,
          1255.83
         ],
         "yaxis": "y4"
        },
        {
         "marker": {
          "color": [
           0,
           1,
           2,
           3,
           4,
           5,
           6,
           7,
           8,
           9,
           10,
           11,
           12,
           13,
           14,
           15,
           16,
           17,
           18,
           19,
           20,
           21,
           22,
           23,
           24,
           25,
           26,
           27,
           28,
           29,
           30,
           31,
           32,
           33,
           34,
           35,
           36,
           37,
           38,
           39,
           40,
           41,
           42,
           43,
           44,
           45,
           46,
           47,
           48,
           49,
           50,
           51,
           52,
           53,
           54,
           55,
           56,
           57,
           58,
           59,
           60,
           61,
           62,
           63,
           64,
           65,
           66,
           67,
           68,
           69,
           70,
           71,
           72,
           73,
           74,
           75,
           76,
           77,
           78,
           79,
           80,
           81,
           82,
           83,
           84,
           85,
           86,
           87,
           88,
           89,
           90,
           91,
           92,
           93,
           94,
           95,
           96,
           97,
           98,
           99
          ],
          "colorbar": {
           "title": {
            "text": "Trial"
           },
           "x": 1,
           "xpad": 40
          },
          "colorscale": [
           [
            0,
            "rgb(247,251,255)"
           ],
           [
            0.125,
            "rgb(222,235,247)"
           ],
           [
            0.25,
            "rgb(198,219,239)"
           ],
           [
            0.375,
            "rgb(158,202,225)"
           ],
           [
            0.5,
            "rgb(107,174,214)"
           ],
           [
            0.625,
            "rgb(66,146,198)"
           ],
           [
            0.75,
            "rgb(33,113,181)"
           ],
           [
            0.875,
            "rgb(8,81,156)"
           ],
           [
            1,
            "rgb(8,48,107)"
           ]
          ],
          "line": {
           "color": "Grey",
           "width": 0.5
          },
          "showscale": false
         },
         "mode": "markers",
         "name": "Feasible Trial",
         "showlegend": false,
         "type": "scatter",
         "x": [
          4,
          6,
          5,
          3,
          3,
          6,
          4,
          5,
          13,
          11,
          12,
          12,
          10,
          15,
          9,
          11,
          14,
          15,
          15,
          14,
          8,
          13,
          14,
          14,
          15,
          14,
          13,
          13,
          12,
          8,
          11,
          14,
          15,
          13,
          14,
          15,
          13,
          12,
          14,
          10,
          15,
          14,
          13,
          14,
          12,
          15,
          13,
          14,
          12,
          15,
          13,
          14,
          14,
          6,
          15,
          11,
          14,
          13,
          14,
          12,
          15,
          15,
          15,
          15,
          15,
          14,
          15,
          13,
          7,
          14,
          4,
          14,
          14,
          14,
          13,
          14,
          13,
          14,
          13,
          13,
          12,
          14,
          14,
          13,
          13,
          12,
          11,
          13,
          14,
          9,
          10,
          14,
          14,
          13,
          14,
          13,
          14,
          12,
          13,
          14
         ],
         "xaxis": "x5",
         "y": [
          16140.89,
          2119.87,
          8071.449999999999,
          17202.16,
          1848.13,
          4577.79,
          6388.27,
          4455.91,
          4232.23,
          1732.14,
          1804.67,
          1650.02,
          2311.96,
          1960.03,
          2238.65,
          3317.97,
          1227.22,
          1348.27,
          2972.1200000000003,
          2384.23,
          5009.48,
          1824.2,
          1331.9,
          1422.56,
          2926.0299999999997,
          1950.3,
          1274.63,
          2155.86,
          2383.71,
          3935.01,
          2045.04,
          1358.6000000000001,
          1579.73,
          1545.8000000000002,
          1948.16,
          1900.5600000000002,
          1928.0200000000002,
          2932.77,
          1390.9299999999998,
          3313.42,
          2048.84,
          1275.1399999999999,
          1614.9399999999998,
          4218.21,
          1961.2,
          1365.9199999999998,
          1652.29,
          2757.91,
          1951.04,
          1451.9099999999999,
          2383.45,
          1441.44,
          1552.98,
          6388.27,
          1700.24,
          2080.54,
          2814.6,
          1670.6599999999999,
          6388.27,
          2526.12,
          1321.79,
          1307.58,
          1600.32,
          1370.38,
          1395.92,
          2003.0400000000002,
          1372.03,
          1734.86,
          7616.83,
          1242.5700000000002,
          3686.47,
          1229.96,
          1284.73,
          1472.85,
          1410.87,
          1296.46,
          1661.15,
          1527.3500000000001,
          1231.99,
          1816.7,
          1552.06,
          1279.0900000000001,
          1353.28,
          1228.4499999999998,
          1411.43,
          1406.9299999999998,
          1847.4499999999998,
          1626.47,
          1677.25,
          1835.82,
          2686.8900000000003,
          1317.0899999999997,
          1355.94,
          1445.9099999999999,
          1198.15,
          1531.76,
          1349.5900000000001,
          1489.7200000000003,
          1595.24,
          1255.83
         ],
         "yaxis": "y5"
        },
        {
         "marker": {
          "color": [
           0,
           1,
           2,
           3,
           4,
           5,
           6,
           7,
           8,
           9,
           10,
           11,
           12,
           13,
           14,
           15,
           16,
           17,
           18,
           19,
           20,
           21,
           22,
           23,
           24,
           25,
           26,
           27,
           28,
           29,
           30,
           31,
           32,
           33,
           34,
           35,
           36,
           37,
           38,
           39,
           40,
           41,
           42,
           43,
           44,
           45,
           46,
           47,
           48,
           49,
           50,
           51,
           52,
           53,
           54,
           55,
           56,
           57,
           58,
           59,
           60,
           61,
           62,
           63,
           64,
           65,
           66,
           67,
           68,
           69,
           70,
           71,
           72,
           73,
           74,
           75,
           76,
           77,
           78,
           79,
           80,
           81,
           82,
           83,
           84,
           85,
           86,
           87,
           88,
           89,
           90,
           91,
           92,
           93,
           94,
           95,
           96,
           97,
           98,
           99
          ],
          "colorbar": {
           "title": {
            "text": "Trial"
           },
           "x": 1,
           "xpad": 40
          },
          "colorscale": [
           [
            0,
            "rgb(247,251,255)"
           ],
           [
            0.125,
            "rgb(222,235,247)"
           ],
           [
            0.25,
            "rgb(198,219,239)"
           ],
           [
            0.375,
            "rgb(158,202,225)"
           ],
           [
            0.5,
            "rgb(107,174,214)"
           ],
           [
            0.625,
            "rgb(66,146,198)"
           ],
           [
            0.75,
            "rgb(33,113,181)"
           ],
           [
            0.875,
            "rgb(8,81,156)"
           ],
           [
            1,
            "rgb(8,48,107)"
           ]
          ],
          "line": {
           "color": "Grey",
           "width": 0.5
          },
          "showscale": false
         },
         "mode": "markers",
         "name": "Feasible Trial",
         "showlegend": false,
         "type": "scatter",
         "x": [
          1,
          2,
          10,
          2,
          8,
          8,
          2,
          2,
          9,
          3,
          4,
          5,
          5,
          6,
          4,
          6,
          4,
          7,
          7,
          7,
          4,
          5,
          7,
          7,
          8,
          6,
          9,
          9,
          10,
          9,
          1,
          7,
          8,
          9,
          6,
          3,
          10,
          7,
          8,
          8,
          3,
          7,
          7,
          5,
          9,
          6,
          8,
          4,
          5,
          10,
          7,
          7,
          6,
          7,
          6,
          8,
          8,
          7,
          3,
          5,
          4,
          4,
          4,
          3,
          4,
          5,
          2,
          4,
          4,
          2,
          1,
          2,
          1,
          1,
          2,
          2,
          2,
          1,
          2,
          2,
          1,
          3,
          3,
          2,
          2,
          1,
          3,
          2,
          3,
          2,
          1,
          2,
          2,
          3,
          2,
          2,
          1,
          3,
          2,
          3
         ],
         "xaxis": "x6",
         "y": [
          16140.89,
          2119.87,
          8071.449999999999,
          17202.16,
          1848.13,
          4577.79,
          6388.27,
          4455.91,
          4232.23,
          1732.14,
          1804.67,
          1650.02,
          2311.96,
          1960.03,
          2238.65,
          3317.97,
          1227.22,
          1348.27,
          2972.1200000000003,
          2384.23,
          5009.48,
          1824.2,
          1331.9,
          1422.56,
          2926.0299999999997,
          1950.3,
          1274.63,
          2155.86,
          2383.71,
          3935.01,
          2045.04,
          1358.6000000000001,
          1579.73,
          1545.8000000000002,
          1948.16,
          1900.5600000000002,
          1928.0200000000002,
          2932.77,
          1390.9299999999998,
          3313.42,
          2048.84,
          1275.1399999999999,
          1614.9399999999998,
          4218.21,
          1961.2,
          1365.9199999999998,
          1652.29,
          2757.91,
          1951.04,
          1451.9099999999999,
          2383.45,
          1441.44,
          1552.98,
          6388.27,
          1700.24,
          2080.54,
          2814.6,
          1670.6599999999999,
          6388.27,
          2526.12,
          1321.79,
          1307.58,
          1600.32,
          1370.38,
          1395.92,
          2003.0400000000002,
          1372.03,
          1734.86,
          7616.83,
          1242.5700000000002,
          3686.47,
          1229.96,
          1284.73,
          1472.85,
          1410.87,
          1296.46,
          1661.15,
          1527.3500000000001,
          1231.99,
          1816.7,
          1552.06,
          1279.0900000000001,
          1353.28,
          1228.4499999999998,
          1411.43,
          1406.9299999999998,
          1847.4499999999998,
          1626.47,
          1677.25,
          1835.82,
          2686.8900000000003,
          1317.0899999999997,
          1355.94,
          1445.9099999999999,
          1198.15,
          1531.76,
          1349.5900000000001,
          1489.7200000000003,
          1595.24,
          1255.83
         ],
         "yaxis": "y6"
        },
        {
         "marker": {
          "color": [
           0,
           1,
           2,
           3,
           4,
           5,
           6,
           7,
           8,
           9,
           10,
           11,
           12,
           13,
           14,
           15,
           16,
           17,
           18,
           19,
           20,
           21,
           22,
           23,
           24,
           25,
           26,
           27,
           28,
           29,
           30,
           31,
           32,
           33,
           34,
           35,
           36,
           37,
           38,
           39,
           40,
           41,
           42,
           43,
           44,
           45,
           46,
           47,
           48,
           49,
           50,
           51,
           52,
           53,
           54,
           55,
           56,
           57,
           58,
           59,
           60,
           61,
           62,
           63,
           64,
           65,
           66,
           67,
           68,
           69,
           70,
           71,
           72,
           73,
           74,
           75,
           76,
           77,
           78,
           79,
           80,
           81,
           82,
           83,
           84,
           85,
           86,
           87,
           88,
           89,
           90,
           91,
           92,
           93,
           94,
           95,
           96,
           97,
           98,
           99
          ],
          "colorbar": {
           "title": {
            "text": "Trial"
           },
           "x": 1,
           "xpad": 40
          },
          "colorscale": [
           [
            0,
            "rgb(247,251,255)"
           ],
           [
            0.125,
            "rgb(222,235,247)"
           ],
           [
            0.25,
            "rgb(198,219,239)"
           ],
           [
            0.375,
            "rgb(158,202,225)"
           ],
           [
            0.5,
            "rgb(107,174,214)"
           ],
           [
            0.625,
            "rgb(66,146,198)"
           ],
           [
            0.75,
            "rgb(33,113,181)"
           ],
           [
            0.875,
            "rgb(8,81,156)"
           ],
           [
            1,
            "rgb(8,48,107)"
           ]
          ],
          "line": {
           "color": "Grey",
           "width": 0.5
          },
          "showscale": false
         },
         "mode": "markers",
         "name": "Feasible Trial",
         "showlegend": false,
         "type": "scatter",
         "x": [
          95,
          165,
          79,
          189,
          174,
          259,
          79,
          263,
          132,
          51,
          214,
          211,
          298,
          129,
          220,
          55,
          134,
          143,
          134,
          151,
          113,
          209,
          194,
          156,
          188,
          111,
          235,
          242,
          232,
          189,
          299,
          146,
          175,
          110,
          168,
          198,
          253,
          277,
          227,
          91,
          200,
          145,
          123,
          144,
          162,
          181,
          140,
          163,
          118,
          103,
          85,
          148,
          128,
          135,
          152,
          173,
          275,
          155,
          73,
          142,
          242,
          241,
          232,
          242,
          257,
          246,
          267,
          218,
          284,
          198,
          201,
          228,
          210,
          211,
          225,
          235,
          236,
          220,
          205,
          185,
          207,
          249,
          248,
          206,
          205,
          196,
          214,
          227,
          194,
          182,
          217,
          233,
          223,
          254,
          204,
          204,
          191,
          213,
          170,
          179
         ],
         "xaxis": "x7",
         "y": [
          16140.89,
          2119.87,
          8071.449999999999,
          17202.16,
          1848.13,
          4577.79,
          6388.27,
          4455.91,
          4232.23,
          1732.14,
          1804.67,
          1650.02,
          2311.96,
          1960.03,
          2238.65,
          3317.97,
          1227.22,
          1348.27,
          2972.1200000000003,
          2384.23,
          5009.48,
          1824.2,
          1331.9,
          1422.56,
          2926.0299999999997,
          1950.3,
          1274.63,
          2155.86,
          2383.71,
          3935.01,
          2045.04,
          1358.6000000000001,
          1579.73,
          1545.8000000000002,
          1948.16,
          1900.5600000000002,
          1928.0200000000002,
          2932.77,
          1390.9299999999998,
          3313.42,
          2048.84,
          1275.1399999999999,
          1614.9399999999998,
          4218.21,
          1961.2,
          1365.9199999999998,
          1652.29,
          2757.91,
          1951.04,
          1451.9099999999999,
          2383.45,
          1441.44,
          1552.98,
          6388.27,
          1700.24,
          2080.54,
          2814.6,
          1670.6599999999999,
          6388.27,
          2526.12,
          1321.79,
          1307.58,
          1600.32,
          1370.38,
          1395.92,
          2003.0400000000002,
          1372.03,
          1734.86,
          7616.83,
          1242.5700000000002,
          3686.47,
          1229.96,
          1284.73,
          1472.85,
          1410.87,
          1296.46,
          1661.15,
          1527.3500000000001,
          1231.99,
          1816.7,
          1552.06,
          1279.0900000000001,
          1353.28,
          1228.4499999999998,
          1411.43,
          1406.9299999999998,
          1847.4499999999998,
          1626.47,
          1677.25,
          1835.82,
          2686.8900000000003,
          1317.0899999999997,
          1355.94,
          1445.9099999999999,
          1198.15,
          1531.76,
          1349.5900000000001,
          1489.7200000000003,
          1595.24,
          1255.83
         ],
         "yaxis": "y7"
        },
        {
         "marker": {
          "color": [
           0,
           1,
           2,
           3,
           4,
           5,
           6,
           7,
           8,
           9,
           10,
           11,
           12,
           13,
           14,
           15,
           16,
           17,
           18,
           19,
           20,
           21,
           22,
           23,
           24,
           25,
           26,
           27,
           28,
           29,
           30,
           31,
           32,
           33,
           34,
           35,
           36,
           37,
           38,
           39,
           40,
           41,
           42,
           43,
           44,
           45,
           46,
           47,
           48,
           49,
           50,
           51,
           52,
           53,
           54,
           55,
           56,
           57,
           58,
           59,
           60,
           61,
           62,
           63,
           64,
           65,
           66,
           67,
           68,
           69,
           70,
           71,
           72,
           73,
           74,
           75,
           76,
           77,
           78,
           79,
           80,
           81,
           82,
           83,
           84,
           85,
           86,
           87,
           88,
           89,
           90,
           91,
           92,
           93,
           94,
           95,
           96,
           97,
           98,
           99
          ],
          "colorbar": {
           "title": {
            "text": "Trial"
           },
           "x": 1,
           "xpad": 40
          },
          "colorscale": [
           [
            0,
            "rgb(247,251,255)"
           ],
           [
            0.125,
            "rgb(222,235,247)"
           ],
           [
            0.25,
            "rgb(198,219,239)"
           ],
           [
            0.375,
            "rgb(158,202,225)"
           ],
           [
            0.5,
            "rgb(107,174,214)"
           ],
           [
            0.625,
            "rgb(66,146,198)"
           ],
           [
            0.75,
            "rgb(33,113,181)"
           ],
           [
            0.875,
            "rgb(8,81,156)"
           ],
           [
            1,
            "rgb(8,48,107)"
           ]
          ],
          "line": {
           "color": "Grey",
           "width": 0.5
          },
          "showscale": false
         },
         "mode": "markers",
         "name": "Feasible Trial",
         "showlegend": false,
         "type": "scatter",
         "x": [
          3.5530235012383633,
          4.0334112438704,
          3.0885715126574684,
          4.91746202977914,
          2.123841834417603,
          0.6907734949663569,
          3.8458815202766594,
          2.612794324215849,
          2.1644689697306037,
          1.5204686316719618,
          0.31149104682705997,
          0.03490203825745797,
          1.1964483177952019,
          1.282852006509589,
          1.3498159597737303,
          0.31540633779490745,
          0.08178336165606084,
          0.04534110328537304,
          0.7690848306098573,
          0.7169106292242309,
          1.8648459582768526,
          0.04833624563257645,
          0.12566395071326336,
          0.745319521061383,
          0.40053950851340897,
          0.9266084616813672,
          0.08896548097024112,
          1.7871831878939284,
          0.3992819959887742,
          1.0377935708806505,
          3.0182242987844643,
          0.00461565546133115,
          0.4182547194868338,
          0.5616532887972936,
          0.05227745607673198,
          4.371956230179889,
          1.0325133772238704,
          0.213891225766136,
          0.6009558906640883,
          3.4617219594765167,
          1.5530890242801298,
          0.053572821687085985,
          0.2072690320137203,
          0.5757455833116896,
          0.9408123703575262,
          0.16404757854286456,
          0.48614473739338726,
          2.788362739484848,
          0.25978453956365327,
          4.794979479101969,
          0.8162878169060831,
          0.05000673027044952,
          0.050877844455926254,
          0.2837683690758652,
          0.011955365920077003,
          2.251715468022851,
          0.47309085901781756,
          0.6516712735246607,
          0.26668063125338043,
          1.1754836058117917,
          0.40736538505628805,
          0.38455648797736247,
          0.40461829365689095,
          0.6976444188732671,
          0.18914118084595583,
          0.8530483641238796,
          0.44914428695075514,
          0.3527235884186388,
          0.17426737339121973,
          0.6717574499248113,
          1.3160538708924423,
          0.5634175560104894,
          0.5647845010601236,
          0.6049834389491942,
          1.0541841254758317,
          0.7875268192046874,
          1.4973381114986357,
          0.7727136251379159,
          1.1256370129707571,
          1.1468742443382332,
          0.9548740980200051,
          0.5176014065370119,
          0.6449274666331742,
          0.5249561574696021,
          0.5778773426472629,
          0.895660278605495,
          0.19051958073077824,
          0.5179792922639148,
          1.4216322888270294,
          1.69881008265273,
          0.12066519920105026,
          0.7330667613345012,
          0.29218384609715203,
          0.8137443919973195,
          0.5171768584127643,
          0.5551380968205469,
          1.030372607258328,
          3.580732883027383,
          0.28911256008855485,
          1.9665733318217353
         ],
         "xaxis": "x8",
         "y": [
          16140.89,
          2119.87,
          8071.449999999999,
          17202.16,
          1848.13,
          4577.79,
          6388.27,
          4455.91,
          4232.23,
          1732.14,
          1804.67,
          1650.02,
          2311.96,
          1960.03,
          2238.65,
          3317.97,
          1227.22,
          1348.27,
          2972.1200000000003,
          2384.23,
          5009.48,
          1824.2,
          1331.9,
          1422.56,
          2926.0299999999997,
          1950.3,
          1274.63,
          2155.86,
          2383.71,
          3935.01,
          2045.04,
          1358.6000000000001,
          1579.73,
          1545.8000000000002,
          1948.16,
          1900.5600000000002,
          1928.0200000000002,
          2932.77,
          1390.9299999999998,
          3313.42,
          2048.84,
          1275.1399999999999,
          1614.9399999999998,
          4218.21,
          1961.2,
          1365.9199999999998,
          1652.29,
          2757.91,
          1951.04,
          1451.9099999999999,
          2383.45,
          1441.44,
          1552.98,
          6388.27,
          1700.24,
          2080.54,
          2814.6,
          1670.6599999999999,
          6388.27,
          2526.12,
          1321.79,
          1307.58,
          1600.32,
          1370.38,
          1395.92,
          2003.0400000000002,
          1372.03,
          1734.86,
          7616.83,
          1242.5700000000002,
          3686.47,
          1229.96,
          1284.73,
          1472.85,
          1410.87,
          1296.46,
          1661.15,
          1527.3500000000001,
          1231.99,
          1816.7,
          1552.06,
          1279.0900000000001,
          1353.28,
          1228.4499999999998,
          1411.43,
          1406.9299999999998,
          1847.4499999999998,
          1626.47,
          1677.25,
          1835.82,
          2686.8900000000003,
          1317.0899999999997,
          1355.94,
          1445.9099999999999,
          1198.15,
          1531.76,
          1349.5900000000001,
          1489.7200000000003,
          1595.24,
          1255.83
         ],
         "yaxis": "y8"
        },
        {
         "marker": {
          "color": [
           0,
           1,
           2,
           3,
           4,
           5,
           6,
           7,
           8,
           9,
           10,
           11,
           12,
           13,
           14,
           15,
           16,
           17,
           18,
           19,
           20,
           21,
           22,
           23,
           24,
           25,
           26,
           27,
           28,
           29,
           30,
           31,
           32,
           33,
           34,
           35,
           36,
           37,
           38,
           39,
           40,
           41,
           42,
           43,
           44,
           45,
           46,
           47,
           48,
           49,
           50,
           51,
           52,
           53,
           54,
           55,
           56,
           57,
           58,
           59,
           60,
           61,
           62,
           63,
           64,
           65,
           66,
           67,
           68,
           69,
           70,
           71,
           72,
           73,
           74,
           75,
           76,
           77,
           78,
           79,
           80,
           81,
           82,
           83,
           84,
           85,
           86,
           87,
           88,
           89,
           90,
           91,
           92,
           93,
           94,
           95,
           96,
           97,
           98,
           99
          ],
          "colorbar": {
           "title": {
            "text": "Trial"
           },
           "x": 1,
           "xpad": 40
          },
          "colorscale": [
           [
            0,
            "rgb(247,251,255)"
           ],
           [
            0.125,
            "rgb(222,235,247)"
           ],
           [
            0.25,
            "rgb(198,219,239)"
           ],
           [
            0.375,
            "rgb(158,202,225)"
           ],
           [
            0.5,
            "rgb(107,174,214)"
           ],
           [
            0.625,
            "rgb(66,146,198)"
           ],
           [
            0.75,
            "rgb(33,113,181)"
           ],
           [
            0.875,
            "rgb(8,81,156)"
           ],
           [
            1,
            "rgb(8,48,107)"
           ]
          ],
          "line": {
           "color": "Grey",
           "width": 0.5
          },
          "showscale": false
         },
         "mode": "markers",
         "name": "Feasible Trial",
         "showlegend": false,
         "type": "scatter",
         "x": [
          1.151909966876941,
          3.6477850200969604,
          3.9665009745271638,
          3.2016550338029077,
          2.826076261760073,
          3.672185723646354,
          3.912555226471292,
          1.7271419519554743,
          3.0874825418340595,
          2.558061150380042,
          0.1609176389634519,
          0.20011661706478082,
          4.938215669734756,
          1.9235276217670028,
          0.1474098613128647,
          1.0073829209324754,
          2.3214911084248784,
          0.9172729217262738,
          1.7208212534242548,
          0.9133705180497924,
          2.02601825773385,
          0.5068329665915425,
          0.6892509378887802,
          1.3685155678990126,
          2.3066134544812926,
          0.7193049727626087,
          1.531789379232826,
          1.399274017092265,
          2.277467298144353,
          1.3949278891285446,
          0.5482015290533504,
          1.1553502010288808,
          0.7462499876416527,
          1.1780654879528045,
          1.6640939579253504,
          0.4919609049164171,
          2.58392475826089,
          2.9631584833694546,
          2.1740310589417557,
          3.505731546333471,
          1.6246096503107963,
          1.1257620762460958,
          0.852885519226181,
          1.2446498627098805,
          0.3873115105555772,
          4.519190163215237,
          1.9159353713045069,
          0.011613125864377238,
          1.5120758282542774,
          1.0077353286556678,
          2.705519110095563,
          1.092283720805157,
          0.741366785837026,
          1.8681861310128562,
          1.1938102708014235,
          0.2834249126270214,
          3.2402366063236028,
          0.6800224591830766,
          0.9297863063489124,
          1.3187009293436778,
          1.0773018273057415,
          1.5471606988771789,
          1.472024239490604,
          1.575075640165317,
          1.7644654346765694,
          2.100151322867263,
          0.852975696602341,
          2.2990681280378418,
          0.6599598857190575,
          0.9761807235217137,
          1.0042779523238838,
          1.2975374834777151,
          1.2845389954960582,
          1.350092356366475,
          1.7776430379753887,
          2.441790925004576,
          2.636237408347747,
          1.506154263156776,
          2.421406900924575,
          2.4118173297111882,
          2.892151501577903,
          2.4547402805263814,
          2.4596915492190448,
          2.019712556098268,
          2.0455305900494363,
          2.2004801413689474,
          1.9477335852634932,
          3.101292650986214,
          2.7534790936008844,
          1.799870614379135,
          2.182503174956405,
          2.5223676317239874,
          2.387747315309572,
          2.6209419759203687,
          1.990636988067381,
          1.6505297321740346,
          1.2084852636691616,
          1.9406112475832453,
          1.2813047986449217,
          2.1050144566305637
         ],
         "xaxis": "x9",
         "y": [
          16140.89,
          2119.87,
          8071.449999999999,
          17202.16,
          1848.13,
          4577.79,
          6388.27,
          4455.91,
          4232.23,
          1732.14,
          1804.67,
          1650.02,
          2311.96,
          1960.03,
          2238.65,
          3317.97,
          1227.22,
          1348.27,
          2972.1200000000003,
          2384.23,
          5009.48,
          1824.2,
          1331.9,
          1422.56,
          2926.0299999999997,
          1950.3,
          1274.63,
          2155.86,
          2383.71,
          3935.01,
          2045.04,
          1358.6000000000001,
          1579.73,
          1545.8000000000002,
          1948.16,
          1900.5600000000002,
          1928.0200000000002,
          2932.77,
          1390.9299999999998,
          3313.42,
          2048.84,
          1275.1399999999999,
          1614.9399999999998,
          4218.21,
          1961.2,
          1365.9199999999998,
          1652.29,
          2757.91,
          1951.04,
          1451.9099999999999,
          2383.45,
          1441.44,
          1552.98,
          6388.27,
          1700.24,
          2080.54,
          2814.6,
          1670.6599999999999,
          6388.27,
          2526.12,
          1321.79,
          1307.58,
          1600.32,
          1370.38,
          1395.92,
          2003.0400000000002,
          1372.03,
          1734.86,
          7616.83,
          1242.5700000000002,
          3686.47,
          1229.96,
          1284.73,
          1472.85,
          1410.87,
          1296.46,
          1661.15,
          1527.3500000000001,
          1231.99,
          1816.7,
          1552.06,
          1279.0900000000001,
          1353.28,
          1228.4499999999998,
          1411.43,
          1406.9299999999998,
          1847.4499999999998,
          1626.47,
          1677.25,
          1835.82,
          2686.8900000000003,
          1317.0899999999997,
          1355.94,
          1445.9099999999999,
          1198.15,
          1531.76,
          1349.5900000000001,
          1489.7200000000003,
          1595.24,
          1255.83
         ],
         "yaxis": "y9"
        },
        {
         "marker": {
          "color": [
           0,
           1,
           2,
           3,
           4,
           5,
           6,
           7,
           8,
           9,
           10,
           11,
           12,
           13,
           14,
           15,
           16,
           17,
           18,
           19,
           20,
           21,
           22,
           23,
           24,
           25,
           26,
           27,
           28,
           29,
           30,
           31,
           32,
           33,
           34,
           35,
           36,
           37,
           38,
           39,
           40,
           41,
           42,
           43,
           44,
           45,
           46,
           47,
           48,
           49,
           50,
           51,
           52,
           53,
           54,
           55,
           56,
           57,
           58,
           59,
           60,
           61,
           62,
           63,
           64,
           65,
           66,
           67,
           68,
           69,
           70,
           71,
           72,
           73,
           74,
           75,
           76,
           77,
           78,
           79,
           80,
           81,
           82,
           83,
           84,
           85,
           86,
           87,
           88,
           89,
           90,
           91,
           92,
           93,
           94,
           95,
           96,
           97,
           98,
           99
          ],
          "colorbar": {
           "title": {
            "text": "Trial"
           },
           "x": 1,
           "xpad": 40
          },
          "colorscale": [
           [
            0,
            "rgb(247,251,255)"
           ],
           [
            0.125,
            "rgb(222,235,247)"
           ],
           [
            0.25,
            "rgb(198,219,239)"
           ],
           [
            0.375,
            "rgb(158,202,225)"
           ],
           [
            0.5,
            "rgb(107,174,214)"
           ],
           [
            0.625,
            "rgb(66,146,198)"
           ],
           [
            0.75,
            "rgb(33,113,181)"
           ],
           [
            0.875,
            "rgb(8,81,156)"
           ],
           [
            1,
            "rgb(8,48,107)"
           ]
          ],
          "line": {
           "color": "Grey",
           "width": 0.5
          },
          "showscale": false
         },
         "mode": "markers",
         "name": "Feasible Trial",
         "showlegend": false,
         "type": "scatter",
         "x": [
          29,
          22,
          17,
          26,
          2,
          26,
          23,
          15,
          22,
          3,
          3,
          4,
          8,
          9,
          7,
          13,
          1,
          1,
          1,
          6,
          10,
          5,
          1,
          1,
          12,
          5,
          1,
          11,
          7,
          18,
          4,
          1,
          3,
          1,
          6,
          3,
          5,
          30,
          2,
          8,
          17,
          1,
          2,
          27,
          4,
          1,
          3,
          22,
          4,
          2,
          6,
          1,
          2,
          1,
          3,
          5,
          14,
          2,
          4,
          7,
          1,
          1,
          3,
          1,
          2,
          5,
          2,
          4,
          20,
          1,
          9,
          1,
          1,
          3,
          2,
          1,
          4,
          3,
          1,
          6,
          3,
          1,
          2,
          1,
          2,
          1,
          5,
          3,
          2,
          4,
          24,
          1,
          1,
          2,
          1,
          3,
          1,
          2,
          3,
          1
         ],
         "xaxis": "x10",
         "y": [
          16140.89,
          2119.87,
          8071.449999999999,
          17202.16,
          1848.13,
          4577.79,
          6388.27,
          4455.91,
          4232.23,
          1732.14,
          1804.67,
          1650.02,
          2311.96,
          1960.03,
          2238.65,
          3317.97,
          1227.22,
          1348.27,
          2972.1200000000003,
          2384.23,
          5009.48,
          1824.2,
          1331.9,
          1422.56,
          2926.0299999999997,
          1950.3,
          1274.63,
          2155.86,
          2383.71,
          3935.01,
          2045.04,
          1358.6000000000001,
          1579.73,
          1545.8000000000002,
          1948.16,
          1900.5600000000002,
          1928.0200000000002,
          2932.77,
          1390.9299999999998,
          3313.42,
          2048.84,
          1275.1399999999999,
          1614.9399999999998,
          4218.21,
          1961.2,
          1365.9199999999998,
          1652.29,
          2757.91,
          1951.04,
          1451.9099999999999,
          2383.45,
          1441.44,
          1552.98,
          6388.27,
          1700.24,
          2080.54,
          2814.6,
          1670.6599999999999,
          6388.27,
          2526.12,
          1321.79,
          1307.58,
          1600.32,
          1370.38,
          1395.92,
          2003.0400000000002,
          1372.03,
          1734.86,
          7616.83,
          1242.5700000000002,
          3686.47,
          1229.96,
          1284.73,
          1472.85,
          1410.87,
          1296.46,
          1661.15,
          1527.3500000000001,
          1231.99,
          1816.7,
          1552.06,
          1279.0900000000001,
          1353.28,
          1228.4499999999998,
          1411.43,
          1406.9299999999998,
          1847.4499999999998,
          1626.47,
          1677.25,
          1835.82,
          2686.8900000000003,
          1317.0899999999997,
          1355.94,
          1445.9099999999999,
          1198.15,
          1531.76,
          1349.5900000000001,
          1489.7200000000003,
          1595.24,
          1255.83
         ],
         "yaxis": "y10"
        },
        {
         "marker": {
          "color": [
           0,
           1,
           2,
           3,
           4,
           5,
           6,
           7,
           8,
           9,
           10,
           11,
           12,
           13,
           14,
           15,
           16,
           17,
           18,
           19,
           20,
           21,
           22,
           23,
           24,
           25,
           26,
           27,
           28,
           29,
           30,
           31,
           32,
           33,
           34,
           35,
           36,
           37,
           38,
           39,
           40,
           41,
           42,
           43,
           44,
           45,
           46,
           47,
           48,
           49,
           50,
           51,
           52,
           53,
           54,
           55,
           56,
           57,
           58,
           59,
           60,
           61,
           62,
           63,
           64,
           65,
           66,
           67,
           68,
           69,
           70,
           71,
           72,
           73,
           74,
           75,
           76,
           77,
           78,
           79,
           80,
           81,
           82,
           83,
           84,
           85,
           86,
           87,
           88,
           89,
           90,
           91,
           92,
           93,
           94,
           95,
           96,
           97,
           98,
           99
          ],
          "colorbar": {
           "title": {
            "text": "Trial"
           },
           "x": 1,
           "xpad": 40
          },
          "colorscale": [
           [
            0,
            "rgb(247,251,255)"
           ],
           [
            0.125,
            "rgb(222,235,247)"
           ],
           [
            0.25,
            "rgb(198,219,239)"
           ],
           [
            0.375,
            "rgb(158,202,225)"
           ],
           [
            0.5,
            "rgb(107,174,214)"
           ],
           [
            0.625,
            "rgb(66,146,198)"
           ],
           [
            0.75,
            "rgb(33,113,181)"
           ],
           [
            0.875,
            "rgb(8,81,156)"
           ],
           [
            1,
            "rgb(8,48,107)"
           ]
          ],
          "line": {
           "color": "Grey",
           "width": 0.5
          },
          "showscale": false
         },
         "mode": "markers",
         "name": "Feasible Trial",
         "showlegend": false,
         "type": "scatter",
         "x": [
          0.6019533290401176,
          0.714311000338882,
          0.6506352835087419,
          0.9977831374597361,
          0.7682863679914674,
          0.5478603087603924,
          0.5273392425085566,
          0.6385000052884381,
          0.510518920595606,
          0.5175756223947258,
          0.8581668455233571,
          0.87311444758885,
          0.8768044726522232,
          0.8967099379996167,
          0.7989059121112914,
          0.9720736564685877,
          0.9268656093268951,
          0.9366215656675352,
          0.928415535734928,
          0.8287216806194893,
          0.9376866377644191,
          0.9423093501991597,
          0.8924289566545498,
          0.9964333346279732,
          0.9082604870434692,
          0.8174904296966476,
          0.9589653561921935,
          0.7191730566141294,
          0.8456754430512967,
          0.9636951386500209,
          0.7742808942117809,
          0.9053525342780527,
          0.9643402704794162,
          0.9241458395103042,
          0.8855537407228411,
          0.9736364104732737,
          0.7222149858722295,
          0.9453316674364991,
          0.9905363122265899,
          0.5878164297167554,
          0.8503711869606266,
          0.9164690327908179,
          0.9107802764869997,
          0.9579554064429999,
          0.8711194711832573,
          0.6869712364991566,
          0.9250602905409329,
          0.8867691608250569,
          0.9833959360026904,
          0.7997166978698019,
          0.8664185929150925,
          0.9055401263445098,
          0.8995708101935268,
          0.9502489624135028,
          0.9246997311054528,
          0.8344654057283317,
          0.9403926610683433,
          0.9147537213042757,
          0.9999290696291472,
          0.8852892273307269,
          0.9705117863040513,
          0.9775510981457289,
          0.9660711252662122,
          0.9819433387238583,
          0.9511294096554914,
          0.9342440384514167,
          0.9770059665526756,
          0.953959730994437,
          0.9183932100770601,
          0.9699587619616586,
          0.9985305738561859,
          0.9658590383180633,
          0.9728364410823259,
          0.970688259033688,
          0.978917273368539,
          0.958812310238234,
          0.9387176997006683,
          0.9885633381947945,
          0.96114015828675,
          0.9584077074344811,
          0.9292584931456287,
          0.9492436851774151,
          0.9487342282721392,
          0.9580478046173259,
          0.9406376609555636,
          0.9870366849363402,
          0.96379645787445,
          0.6329870846859746,
          0.9163382873784253,
          0.7552043307657708,
          0.8972695846224708,
          0.946088458764617,
          0.9587379598466061,
          0.935366508754483,
          0.9890671048478101,
          0.9878856793519583,
          0.971533741399111,
          0.9957521689561186,
          0.927406988771613,
          0.9661881957075515
         ],
         "xaxis": "x11",
         "y": [
          16140.89,
          2119.87,
          8071.449999999999,
          17202.16,
          1848.13,
          4577.79,
          6388.27,
          4455.91,
          4232.23,
          1732.14,
          1804.67,
          1650.02,
          2311.96,
          1960.03,
          2238.65,
          3317.97,
          1227.22,
          1348.27,
          2972.1200000000003,
          2384.23,
          5009.48,
          1824.2,
          1331.9,
          1422.56,
          2926.0299999999997,
          1950.3,
          1274.63,
          2155.86,
          2383.71,
          3935.01,
          2045.04,
          1358.6000000000001,
          1579.73,
          1545.8000000000002,
          1948.16,
          1900.5600000000002,
          1928.0200000000002,
          2932.77,
          1390.9299999999998,
          3313.42,
          2048.84,
          1275.1399999999999,
          1614.9399999999998,
          4218.21,
          1961.2,
          1365.9199999999998,
          1652.29,
          2757.91,
          1951.04,
          1451.9099999999999,
          2383.45,
          1441.44,
          1552.98,
          6388.27,
          1700.24,
          2080.54,
          2814.6,
          1670.6599999999999,
          6388.27,
          2526.12,
          1321.79,
          1307.58,
          1600.32,
          1370.38,
          1395.92,
          2003.0400000000002,
          1372.03,
          1734.86,
          7616.83,
          1242.5700000000002,
          3686.47,
          1229.96,
          1284.73,
          1472.85,
          1410.87,
          1296.46,
          1661.15,
          1527.3500000000001,
          1231.99,
          1816.7,
          1552.06,
          1279.0900000000001,
          1353.28,
          1228.4499999999998,
          1411.43,
          1406.9299999999998,
          1847.4499999999998,
          1626.47,
          1677.25,
          1835.82,
          2686.8900000000003,
          1317.0899999999997,
          1355.94,
          1445.9099999999999,
          1198.15,
          1531.76,
          1349.5900000000001,
          1489.7200000000003,
          1595.24,
          1255.83
         ],
         "yaxis": "y11"
        }
       ],
       "layout": {
        "template": {
         "data": {
          "bar": [
           {
            "error_x": {
             "color": "#2a3f5f"
            },
            "error_y": {
             "color": "#2a3f5f"
            },
            "marker": {
             "line": {
              "color": "#E5ECF6",
              "width": 0.5
             },
             "pattern": {
              "fillmode": "overlay",
              "size": 10,
              "solidity": 0.2
             }
            },
            "type": "bar"
           }
          ],
          "barpolar": [
           {
            "marker": {
             "line": {
              "color": "#E5ECF6",
              "width": 0.5
             },
             "pattern": {
              "fillmode": "overlay",
              "size": 10,
              "solidity": 0.2
             }
            },
            "type": "barpolar"
           }
          ],
          "carpet": [
           {
            "aaxis": {
             "endlinecolor": "#2a3f5f",
             "gridcolor": "white",
             "linecolor": "white",
             "minorgridcolor": "white",
             "startlinecolor": "#2a3f5f"
            },
            "baxis": {
             "endlinecolor": "#2a3f5f",
             "gridcolor": "white",
             "linecolor": "white",
             "minorgridcolor": "white",
             "startlinecolor": "#2a3f5f"
            },
            "type": "carpet"
           }
          ],
          "choropleth": [
           {
            "colorbar": {
             "outlinewidth": 0,
             "ticks": ""
            },
            "type": "choropleth"
           }
          ],
          "contour": [
           {
            "colorbar": {
             "outlinewidth": 0,
             "ticks": ""
            },
            "colorscale": [
             [
              0,
              "#0d0887"
             ],
             [
              0.1111111111111111,
              "#46039f"
             ],
             [
              0.2222222222222222,
              "#7201a8"
             ],
             [
              0.3333333333333333,
              "#9c179e"
             ],
             [
              0.4444444444444444,
              "#bd3786"
             ],
             [
              0.5555555555555556,
              "#d8576b"
             ],
             [
              0.6666666666666666,
              "#ed7953"
             ],
             [
              0.7777777777777778,
              "#fb9f3a"
             ],
             [
              0.8888888888888888,
              "#fdca26"
             ],
             [
              1,
              "#f0f921"
             ]
            ],
            "type": "contour"
           }
          ],
          "contourcarpet": [
           {
            "colorbar": {
             "outlinewidth": 0,
             "ticks": ""
            },
            "type": "contourcarpet"
           }
          ],
          "heatmap": [
           {
            "colorbar": {
             "outlinewidth": 0,
             "ticks": ""
            },
            "colorscale": [
             [
              0,
              "#0d0887"
             ],
             [
              0.1111111111111111,
              "#46039f"
             ],
             [
              0.2222222222222222,
              "#7201a8"
             ],
             [
              0.3333333333333333,
              "#9c179e"
             ],
             [
              0.4444444444444444,
              "#bd3786"
             ],
             [
              0.5555555555555556,
              "#d8576b"
             ],
             [
              0.6666666666666666,
              "#ed7953"
             ],
             [
              0.7777777777777778,
              "#fb9f3a"
             ],
             [
              0.8888888888888888,
              "#fdca26"
             ],
             [
              1,
              "#f0f921"
             ]
            ],
            "type": "heatmap"
           }
          ],
          "histogram": [
           {
            "marker": {
             "pattern": {
              "fillmode": "overlay",
              "size": 10,
              "solidity": 0.2
             }
            },
            "type": "histogram"
           }
          ],
          "histogram2d": [
           {
            "colorbar": {
             "outlinewidth": 0,
             "ticks": ""
            },
            "colorscale": [
             [
              0,
              "#0d0887"
             ],
             [
              0.1111111111111111,
              "#46039f"
             ],
             [
              0.2222222222222222,
              "#7201a8"
             ],
             [
              0.3333333333333333,
              "#9c179e"
             ],
             [
              0.4444444444444444,
              "#bd3786"
             ],
             [
              0.5555555555555556,
              "#d8576b"
             ],
             [
              0.6666666666666666,
              "#ed7953"
             ],
             [
              0.7777777777777778,
              "#fb9f3a"
             ],
             [
              0.8888888888888888,
              "#fdca26"
             ],
             [
              1,
              "#f0f921"
             ]
            ],
            "type": "histogram2d"
           }
          ],
          "histogram2dcontour": [
           {
            "colorbar": {
             "outlinewidth": 0,
             "ticks": ""
            },
            "colorscale": [
             [
              0,
              "#0d0887"
             ],
             [
              0.1111111111111111,
              "#46039f"
             ],
             [
              0.2222222222222222,
              "#7201a8"
             ],
             [
              0.3333333333333333,
              "#9c179e"
             ],
             [
              0.4444444444444444,
              "#bd3786"
             ],
             [
              0.5555555555555556,
              "#d8576b"
             ],
             [
              0.6666666666666666,
              "#ed7953"
             ],
             [
              0.7777777777777778,
              "#fb9f3a"
             ],
             [
              0.8888888888888888,
              "#fdca26"
             ],
             [
              1,
              "#f0f921"
             ]
            ],
            "type": "histogram2dcontour"
           }
          ],
          "mesh3d": [
           {
            "colorbar": {
             "outlinewidth": 0,
             "ticks": ""
            },
            "type": "mesh3d"
           }
          ],
          "parcoords": [
           {
            "line": {
             "colorbar": {
              "outlinewidth": 0,
              "ticks": ""
             }
            },
            "type": "parcoords"
           }
          ],
          "pie": [
           {
            "automargin": true,
            "type": "pie"
           }
          ],
          "scatter": [
           {
            "fillpattern": {
             "fillmode": "overlay",
             "size": 10,
             "solidity": 0.2
            },
            "type": "scatter"
           }
          ],
          "scatter3d": [
           {
            "line": {
             "colorbar": {
              "outlinewidth": 0,
              "ticks": ""
             }
            },
            "marker": {
             "colorbar": {
              "outlinewidth": 0,
              "ticks": ""
             }
            },
            "type": "scatter3d"
           }
          ],
          "scattercarpet": [
           {
            "marker": {
             "colorbar": {
              "outlinewidth": 0,
              "ticks": ""
             }
            },
            "type": "scattercarpet"
           }
          ],
          "scattergeo": [
           {
            "marker": {
             "colorbar": {
              "outlinewidth": 0,
              "ticks": ""
             }
            },
            "type": "scattergeo"
           }
          ],
          "scattergl": [
           {
            "marker": {
             "colorbar": {
              "outlinewidth": 0,
              "ticks": ""
             }
            },
            "type": "scattergl"
           }
          ],
          "scattermap": [
           {
            "marker": {
             "colorbar": {
              "outlinewidth": 0,
              "ticks": ""
             }
            },
            "type": "scattermap"
           }
          ],
          "scattermapbox": [
           {
            "marker": {
             "colorbar": {
              "outlinewidth": 0,
              "ticks": ""
             }
            },
            "type": "scattermapbox"
           }
          ],
          "scatterpolar": [
           {
            "marker": {
             "colorbar": {
              "outlinewidth": 0,
              "ticks": ""
             }
            },
            "type": "scatterpolar"
           }
          ],
          "scatterpolargl": [
           {
            "marker": {
             "colorbar": {
              "outlinewidth": 0,
              "ticks": ""
             }
            },
            "type": "scatterpolargl"
           }
          ],
          "scatterternary": [
           {
            "marker": {
             "colorbar": {
              "outlinewidth": 0,
              "ticks": ""
             }
            },
            "type": "scatterternary"
           }
          ],
          "surface": [
           {
            "colorbar": {
             "outlinewidth": 0,
             "ticks": ""
            },
            "colorscale": [
             [
              0,
              "#0d0887"
             ],
             [
              0.1111111111111111,
              "#46039f"
             ],
             [
              0.2222222222222222,
              "#7201a8"
             ],
             [
              0.3333333333333333,
              "#9c179e"
             ],
             [
              0.4444444444444444,
              "#bd3786"
             ],
             [
              0.5555555555555556,
              "#d8576b"
             ],
             [
              0.6666666666666666,
              "#ed7953"
             ],
             [
              0.7777777777777778,
              "#fb9f3a"
             ],
             [
              0.8888888888888888,
              "#fdca26"
             ],
             [
              1,
              "#f0f921"
             ]
            ],
            "type": "surface"
           }
          ],
          "table": [
           {
            "cells": {
             "fill": {
              "color": "#EBF0F8"
             },
             "line": {
              "color": "white"
             }
            },
            "header": {
             "fill": {
              "color": "#C8D4E3"
             },
             "line": {
              "color": "white"
             }
            },
            "type": "table"
           }
          ]
         },
         "layout": {
          "annotationdefaults": {
           "arrowcolor": "#2a3f5f",
           "arrowhead": 0,
           "arrowwidth": 1
          },
          "autotypenumbers": "strict",
          "coloraxis": {
           "colorbar": {
            "outlinewidth": 0,
            "ticks": ""
           }
          },
          "colorscale": {
           "diverging": [
            [
             0,
             "#8e0152"
            ],
            [
             0.1,
             "#c51b7d"
            ],
            [
             0.2,
             "#de77ae"
            ],
            [
             0.3,
             "#f1b6da"
            ],
            [
             0.4,
             "#fde0ef"
            ],
            [
             0.5,
             "#f7f7f7"
            ],
            [
             0.6,
             "#e6f5d0"
            ],
            [
             0.7,
             "#b8e186"
            ],
            [
             0.8,
             "#7fbc41"
            ],
            [
             0.9,
             "#4d9221"
            ],
            [
             1,
             "#276419"
            ]
           ],
           "sequential": [
            [
             0,
             "#0d0887"
            ],
            [
             0.1111111111111111,
             "#46039f"
            ],
            [
             0.2222222222222222,
             "#7201a8"
            ],
            [
             0.3333333333333333,
             "#9c179e"
            ],
            [
             0.4444444444444444,
             "#bd3786"
            ],
            [
             0.5555555555555556,
             "#d8576b"
            ],
            [
             0.6666666666666666,
             "#ed7953"
            ],
            [
             0.7777777777777778,
             "#fb9f3a"
            ],
            [
             0.8888888888888888,
             "#fdca26"
            ],
            [
             1,
             "#f0f921"
            ]
           ],
           "sequentialminus": [
            [
             0,
             "#0d0887"
            ],
            [
             0.1111111111111111,
             "#46039f"
            ],
            [
             0.2222222222222222,
             "#7201a8"
            ],
            [
             0.3333333333333333,
             "#9c179e"
            ],
            [
             0.4444444444444444,
             "#bd3786"
            ],
            [
             0.5555555555555556,
             "#d8576b"
            ],
            [
             0.6666666666666666,
             "#ed7953"
            ],
            [
             0.7777777777777778,
             "#fb9f3a"
            ],
            [
             0.8888888888888888,
             "#fdca26"
            ],
            [
             1,
             "#f0f921"
            ]
           ]
          },
          "colorway": [
           "#636efa",
           "#EF553B",
           "#00cc96",
           "#ab63fa",
           "#FFA15A",
           "#19d3f3",
           "#FF6692",
           "#B6E880",
           "#FF97FF",
           "#FECB52"
          ],
          "font": {
           "color": "#2a3f5f"
          },
          "geo": {
           "bgcolor": "white",
           "lakecolor": "white",
           "landcolor": "#E5ECF6",
           "showlakes": true,
           "showland": true,
           "subunitcolor": "white"
          },
          "hoverlabel": {
           "align": "left"
          },
          "hovermode": "closest",
          "mapbox": {
           "style": "light"
          },
          "paper_bgcolor": "white",
          "plot_bgcolor": "#E5ECF6",
          "polar": {
           "angularaxis": {
            "gridcolor": "white",
            "linecolor": "white",
            "ticks": ""
           },
           "bgcolor": "#E5ECF6",
           "radialaxis": {
            "gridcolor": "white",
            "linecolor": "white",
            "ticks": ""
           }
          },
          "scene": {
           "xaxis": {
            "backgroundcolor": "#E5ECF6",
            "gridcolor": "white",
            "gridwidth": 2,
            "linecolor": "white",
            "showbackground": true,
            "ticks": "",
            "zerolinecolor": "white"
           },
           "yaxis": {
            "backgroundcolor": "#E5ECF6",
            "gridcolor": "white",
            "gridwidth": 2,
            "linecolor": "white",
            "showbackground": true,
            "ticks": "",
            "zerolinecolor": "white"
           },
           "zaxis": {
            "backgroundcolor": "#E5ECF6",
            "gridcolor": "white",
            "gridwidth": 2,
            "linecolor": "white",
            "showbackground": true,
            "ticks": "",
            "zerolinecolor": "white"
           }
          },
          "shapedefaults": {
           "line": {
            "color": "#2a3f5f"
           }
          },
          "ternary": {
           "aaxis": {
            "gridcolor": "white",
            "linecolor": "white",
            "ticks": ""
           },
           "baxis": {
            "gridcolor": "white",
            "linecolor": "white",
            "ticks": ""
           },
           "bgcolor": "#E5ECF6",
           "caxis": {
            "gridcolor": "white",
            "linecolor": "white",
            "ticks": ""
           }
          },
          "title": {
           "x": 0.05
          },
          "xaxis": {
           "automargin": true,
           "gridcolor": "white",
           "linecolor": "white",
           "ticks": "",
           "title": {
            "standoff": 15
           },
           "zerolinecolor": "white",
           "zerolinewidth": 2
          },
          "yaxis": {
           "automargin": true,
           "gridcolor": "white",
           "linecolor": "white",
           "ticks": "",
           "title": {
            "standoff": 15
           },
           "zerolinecolor": "white",
           "zerolinewidth": 2
          }
         }
        },
        "title": {
         "text": "Slice Plot"
        },
        "width": 3300,
        "xaxis": {
         "anchor": "y",
         "domain": [
          0,
          0.07438016528925619
         ],
         "title": {
          "text": "colsample_bytree"
         }
        },
        "xaxis10": {
         "anchor": "y10",
         "domain": [
          0.8330578512396694,
          0.9074380165289255
         ],
         "title": {
          "text": "scale_pos_weight"
         }
        },
        "xaxis11": {
         "anchor": "y11",
         "domain": [
          0.9256198347107437,
          0.9999999999999999
         ],
         "title": {
          "text": "subsample"
         }
        },
        "xaxis2": {
         "anchor": "y2",
         "domain": [
          0.09256198347107437,
          0.16694214876033056
         ],
         "title": {
          "text": "eta"
         },
         "type": "log"
        },
        "xaxis3": {
         "anchor": "y3",
         "domain": [
          0.18512396694214875,
          0.25950413223140495
         ],
         "title": {
          "text": "gamma"
         }
        },
        "xaxis4": {
         "anchor": "y4",
         "domain": [
          0.27768595041322314,
          0.3520661157024793
         ],
         "title": {
          "text": "learning_rate"
         },
         "type": "log"
        },
        "xaxis5": {
         "anchor": "y5",
         "domain": [
          0.3702479338842975,
          0.44462809917355367
         ],
         "title": {
          "text": "max_depth"
         }
        },
        "xaxis6": {
         "anchor": "y6",
         "domain": [
          0.46280991735537186,
          0.5371900826446281
         ],
         "title": {
          "text": "min_child_weight"
         }
        },
        "xaxis7": {
         "anchor": "y7",
         "domain": [
          0.5553719008264463,
          0.6297520661157024
         ],
         "title": {
          "text": "n_estimators"
         }
        },
        "xaxis8": {
         "anchor": "y8",
         "domain": [
          0.6479338842975206,
          0.7223140495867768
         ],
         "title": {
          "text": "reg_alpha"
         }
        },
        "xaxis9": {
         "anchor": "y9",
         "domain": [
          0.740495867768595,
          0.8148760330578512
         ],
         "title": {
          "text": "reg_lambda"
         }
        },
        "yaxis": {
         "anchor": "x",
         "domain": [
          0,
          1
         ],
         "title": {
          "text": "Objective Value"
         }
        },
        "yaxis10": {
         "anchor": "x10",
         "domain": [
          0,
          1
         ],
         "matches": "y",
         "showticklabels": false
        },
        "yaxis11": {
         "anchor": "x11",
         "domain": [
          0,
          1
         ],
         "matches": "y",
         "showticklabels": false
        },
        "yaxis2": {
         "anchor": "x2",
         "domain": [
          0,
          1
         ],
         "matches": "y",
         "showticklabels": false
        },
        "yaxis3": {
         "anchor": "x3",
         "domain": [
          0,
          1
         ],
         "matches": "y",
         "showticklabels": false
        },
        "yaxis4": {
         "anchor": "x4",
         "domain": [
          0,
          1
         ],
         "matches": "y",
         "showticklabels": false
        },
        "yaxis5": {
         "anchor": "x5",
         "domain": [
          0,
          1
         ],
         "matches": "y",
         "showticklabels": false
        },
        "yaxis6": {
         "anchor": "x6",
         "domain": [
          0,
          1
         ],
         "matches": "y",
         "showticklabels": false
        },
        "yaxis7": {
         "anchor": "x7",
         "domain": [
          0,
          1
         ],
         "matches": "y",
         "showticklabels": false
        },
        "yaxis8": {
         "anchor": "x8",
         "domain": [
          0,
          1
         ],
         "matches": "y",
         "showticklabels": false
        },
        "yaxis9": {
         "anchor": "x9",
         "domain": [
          0,
          1
         ],
         "matches": "y",
         "showticklabels": false
        }
       }
      }
     },
     "metadata": {},
     "output_type": "display_data"
    }
   ],
   "source": [
    "vis.plot_slice(study)"
   ]
  }
 ],
 "metadata": {
  "kernelspec": {
   "display_name": ".venv",
   "language": "python",
   "name": "python3"
  },
  "language_info": {
   "codemirror_mode": {
    "name": "ipython",
    "version": 3
   },
   "file_extension": ".py",
   "mimetype": "text/x-python",
   "name": "python",
   "nbconvert_exporter": "python",
   "pygments_lexer": "ipython3",
   "version": "3.12.9"
  }
 },
 "nbformat": 4,
 "nbformat_minor": 5
}

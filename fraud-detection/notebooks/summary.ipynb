{
 "cells": [
  {
   "cell_type": "code",
   "execution_count": 1,
   "id": "9bd85447",
   "metadata": {},
   "outputs": [],
   "source": [
    "import pandas as pd\n",
    "import polars as pl"
   ]
  },
  {
   "cell_type": "code",
   "execution_count": 2,
   "id": "e048c863",
   "metadata": {},
   "outputs": [],
   "source": [
    "data = \"../data/transformed_label_and_damage.parquet\""
   ]
  },
  {
   "cell_type": "code",
   "execution_count": 3,
   "id": "21d5692a",
   "metadata": {},
   "outputs": [],
   "source": [
    "n_transactions = pl.scan_parquet(data).select(pl.len()).collect()[0,0]\n",
    "n_transactions_in_test_set = n_transactions * 0.2"
   ]
  },
  {
   "cell_type": "code",
   "execution_count": 4,
   "id": "206199c4",
   "metadata": {},
   "outputs": [],
   "source": [
    "# load data from file\n",
    "df_full = pd.read_csv(\"../csv/combined_model_regression_on_full_data.csv\")\n",
    "df_diff = pd.read_csv(\"../csv/combined_model_differences_summary.csv\")"
   ]
  },
  {
   "cell_type": "markdown",
   "id": "61cb6241",
   "metadata": {},
   "source": [
    "# Berechnung des Nutzens des Modells\n",
    "\n",
    "Um den Nutzen des Modells berechnen zu könenn, müssen die nicht für das Training verwendeten Daten, die per statischen Regelen sicher als FRAUD klassifiziert werden, in die Berechnung eingezogen werden.\n",
    "\n",
    "Hierzu wird jeweils ein Fünftel der folgenden Kennzahlen verwendet (dies entspricht den 20% Testdaten):\n",
    "- Schadens \n",
    "- Bewertung der statischen Regeln mit Bewertungsfunktion\n",
    "- Anzahl Transaktionen\n",
    "verwendet."
   ]
  },
  {
   "cell_type": "code",
   "execution_count": 5,
   "id": "16b43672",
   "metadata": {},
   "outputs": [],
   "source": [
    "damage_static_rules = 5088.38 + 200.7\n",
    "n_transactions_static_rules = 377 + 16\n",
    "bewertung_static_rules = n_transactions_static_rules * 5"
   ]
  },
  {
   "cell_type": "code",
   "execution_count": 6,
   "id": "5db0587d",
   "metadata": {},
   "outputs": [
    {
     "name": "stdout",
     "output_type": "stream",
     "text": [
      "Teil des Schadens in den Daten, die durch statische Regeln erkannt werden: 1057.82\n",
      "Anzahl der Transaktionen 78.60000000000001\n",
      "Bewertung der aufgedecketen FRAUD Fälle mit Bewertungsfunktion 393.00\n"
     ]
    }
   ],
   "source": [
    "damage_static_rules_fifth = damage_static_rules * 0.2\n",
    "n_transactions_static_rules_fifth = n_transactions_static_rules * 0.2\n",
    "bewertung_static_rules_fifth = bewertung_static_rules * 0.2\n",
    "print(f\"Teil des Schadens in den Daten, die durch statische Regeln erkannt werden: {damage_static_rules_fifth:.2f}\")\n",
    "print(f\"Anzahl der Transaktionen {n_transactions_static_rules_fifth}\")\n",
    "print(f\"Bewertung der aufgedecketen FRAUD Fälle mit Bewertungsfunktion {bewertung_static_rules_fifth:.2f}\")"
   ]
  },
  {
   "cell_type": "code",
   "execution_count": 7,
   "id": "dab4a2a9",
   "metadata": {},
   "outputs": [],
   "source": [
    "df_desc = df_full.describe().transpose()"
   ]
  },
  {
   "cell_type": "code",
   "execution_count": 8,
   "id": "5242ae2f",
   "metadata": {},
   "outputs": [
    {
     "data": {
      "text/plain": [
       "precision_baseline              0.840331\n",
       "recall_baseline                 0.552507\n",
       "recall_combined                 0.529365\n",
       "precision_combined              0.862492\n",
       "true_positives_baseline       472.725000\n",
       "false_positives_baseline       89.925000\n",
       "true_positives_combined       452.925000\n",
       "false_positives_combined       72.300000\n",
       "damage_in_test_set           6015.164000\n",
       "damage_prevented_baseline    3550.442900\n",
       "damage_prevented_combined    3468.273300\n",
       "bewertung_baseline          -1000.346100\n",
       "bewertung_combined          -1005.265700\n",
       "difference_bewertung           -4.919600\n",
       "Name: mean, dtype: float64"
      ]
     },
     "execution_count": 8,
     "metadata": {},
     "output_type": "execute_result"
    }
   ],
   "source": [
    "df_desc[\"mean\"]"
   ]
  },
  {
   "cell_type": "code",
   "execution_count": 10,
   "id": "6880cee9",
   "metadata": {},
   "outputs": [],
   "source": [
    "damage = df_desc.loc[\"damage_in_test_set\", \"mean\"]\n",
    "bewertung_model = df_desc.loc[\"bewertung_combined\", \"mean\"]\n",
    "damage_prevented = df_desc.loc[\"damage_prevented_combined\", \"mean\"]"
   ]
  },
  {
   "cell_type": "code",
   "execution_count": 11,
   "id": "8829fdc1",
   "metadata": {},
   "outputs": [
    {
     "data": {
      "text/html": [
       "<div>\n",
       "<style scoped>\n",
       "    .dataframe tbody tr th:only-of-type {\n",
       "        vertical-align: middle;\n",
       "    }\n",
       "\n",
       "    .dataframe tbody tr th {\n",
       "        vertical-align: top;\n",
       "    }\n",
       "\n",
       "    .dataframe thead th {\n",
       "        text-align: right;\n",
       "    }\n",
       "</style>\n",
       "<table border=\"1\" class=\"dataframe\">\n",
       "  <thead>\n",
       "    <tr style=\"text-align: right;\">\n",
       "      <th></th>\n",
       "      <th>Schaden</th>\n",
       "      <th>Bewertung</th>\n",
       "      <th>Mehrwert</th>\n",
       "      <th>Anzahl Transaktionen</th>\n",
       "    </tr>\n",
       "  </thead>\n",
       "  <tbody>\n",
       "    <tr>\n",
       "      <th>Model</th>\n",
       "      <td>-6015.16</td>\n",
       "      <td>-1005.27</td>\n",
       "      <td>5009.90</td>\n",
       "      <td>29604.8</td>\n",
       "    </tr>\n",
       "    <tr>\n",
       "      <th>Statische Regeln</th>\n",
       "      <td>-1057.82</td>\n",
       "      <td>393.00</td>\n",
       "      <td>1450.82</td>\n",
       "      <td>78.6</td>\n",
       "    </tr>\n",
       "    <tr>\n",
       "      <th>Gesamt</th>\n",
       "      <td>-7072.98</td>\n",
       "      <td>-612.27</td>\n",
       "      <td>6460.71</td>\n",
       "      <td>29683.4</td>\n",
       "    </tr>\n",
       "  </tbody>\n",
       "</table>\n",
       "</div>"
      ],
      "text/plain": [
       "                  Schaden  Bewertung  Mehrwert  Anzahl Transaktionen\n",
       "Model            -6015.16   -1005.27   5009.90               29604.8\n",
       "Statische Regeln -1057.82     393.00   1450.82                  78.6\n",
       "Gesamt           -7072.98    -612.27   6460.71               29683.4"
      ]
     },
     "execution_count": 11,
     "metadata": {},
     "output_type": "execute_result"
    }
   ],
   "source": [
    "summary = pd.DataFrame({\n",
    "    \"Schaden\": [-damage, -damage_static_rules_fifth],\n",
    "    \"Bewertung\": [bewertung_model, bewertung_static_rules_fifth],\n",
    "    \"Mehrwert\": [bewertung_model + damage, bewertung_static_rules_fifth + damage_static_rules_fifth],\n",
    "    \"Anzahl Transaktionen\": [n_transactions_in_test_set, n_transactions_static_rules_fifth],\n",
    "})\n",
    "summary.index = [\"Model\", \"Statische Regeln\"]\n",
    "summary = summary.T\n",
    "summary[\"Gesamt\"] = summary.sum(axis=1)\n",
    "summary.T.round(2)\n"
   ]
  },
  {
   "cell_type": "code",
   "execution_count": 16,
   "id": "29cb32b2",
   "metadata": {},
   "outputs": [
    {
     "name": "stdout",
     "output_type": "stream",
     "text": [
      "Mehrwert des Modells pro Transaktion: 0.218\n"
     ]
    }
   ],
   "source": [
    "mehrwert_pro_transaktion = summary.loc[\"Mehrwert\", \"Gesamt\"] / summary.loc[\"Anzahl Transaktionen\", \"Gesamt\"]\n",
    "print(f\"Mehrwert des Modells pro Transaktion: {mehrwert_pro_transaktion:.3f}\")"
   ]
  },
  {
   "cell_type": "code",
   "execution_count": 13,
   "id": "186c7ff2",
   "metadata": {},
   "outputs": [
    {
     "data": {
      "text/html": [
       "<div>\n",
       "<style scoped>\n",
       "    .dataframe tbody tr th:only-of-type {\n",
       "        vertical-align: middle;\n",
       "    }\n",
       "\n",
       "    .dataframe tbody tr th {\n",
       "        vertical-align: top;\n",
       "    }\n",
       "\n",
       "    .dataframe thead th {\n",
       "        text-align: right;\n",
       "    }\n",
       "</style>\n",
       "<table border=\"1\" class=\"dataframe\">\n",
       "  <thead>\n",
       "    <tr style=\"text-align: right;\">\n",
       "      <th></th>\n",
       "      <th>Schaden verhindert</th>\n",
       "      <th>Anzahl Transaktionen</th>\n",
       "    </tr>\n",
       "  </thead>\n",
       "  <tbody>\n",
       "    <tr>\n",
       "      <th>Model</th>\n",
       "      <td>3468.27</td>\n",
       "      <td>29604.8</td>\n",
       "    </tr>\n",
       "    <tr>\n",
       "      <th>Statische Regeln</th>\n",
       "      <td>1057.82</td>\n",
       "      <td>78.6</td>\n",
       "    </tr>\n",
       "    <tr>\n",
       "      <th>Gesamt</th>\n",
       "      <td>4526.09</td>\n",
       "      <td>29683.4</td>\n",
       "    </tr>\n",
       "  </tbody>\n",
       "</table>\n",
       "</div>"
      ],
      "text/plain": [
       "                  Schaden verhindert  Anzahl Transaktionen\n",
       "Model                        3468.27               29604.8\n",
       "Statische Regeln             1057.82                  78.6\n",
       "Gesamt                       4526.09               29683.4"
      ]
     },
     "execution_count": 13,
     "metadata": {},
     "output_type": "execute_result"
    }
   ],
   "source": [
    "summaryd = pd.DataFrame({\n",
    "    \"Schaden verhindert\": [damage_prevented, damage_static_rules_fifth],\n",
    "    \"Anzahl Transaktionen\": [n_transactions_in_test_set, n_transactions_static_rules_fifth],\n",
    "})\n",
    "summaryd.index = [\"Model\", \"Statische Regeln\"]\n",
    "summaryd = summaryd.T\n",
    "summaryd[\"Gesamt\"] = summaryd.sum(axis=1)\n",
    "summaryd.T.round(2)\n"
   ]
  },
  {
   "cell_type": "code",
   "execution_count": 15,
   "id": "f7665f66",
   "metadata": {},
   "outputs": [
    {
     "name": "stdout",
     "output_type": "stream",
     "text": [
      "Verlustminderung des Modells pro Transaktion: 0.152\n"
     ]
    }
   ],
   "source": [
    "verlustminderung_pro_transaktion = summaryd.loc[\"Schaden verhindert\", \"Gesamt\"] / summaryd.loc[\"Anzahl Transaktionen\", \"Gesamt\"]\n",
    "print(f\"Verlustminderung des Modells pro Transaktion: {verlustminderung_pro_transaktion:.3f}\")\n"
   ]
  },
  {
   "cell_type": "code",
   "execution_count": null,
   "id": "8d4cf50b",
   "metadata": {},
   "outputs": [],
   "source": []
  }
 ],
 "metadata": {
  "kernelspec": {
   "display_name": ".venv",
   "language": "python",
   "name": "python3"
  },
  "language_info": {
   "codemirror_mode": {
    "name": "ipython",
    "version": 3
   },
   "file_extension": ".py",
   "mimetype": "text/x-python",
   "name": "python",
   "nbconvert_exporter": "python",
   "pygments_lexer": "ipython3",
   "version": "3.12.9"
  }
 },
 "nbformat": 4,
 "nbformat_minor": 5
}

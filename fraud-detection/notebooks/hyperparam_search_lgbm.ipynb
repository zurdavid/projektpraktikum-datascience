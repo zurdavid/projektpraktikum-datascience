{
 "cells": [
  {
   "cell_type": "code",
   "execution_count": null,
   "id": "1f95316e",
   "metadata": {},
   "outputs": [],
   "source": [
    "import sys\n",
    "from importlib import reload\n",
    "\n",
    "import numpy as np\n",
    "import optuna\n",
    "import pandas as pd\n",
    "from lightgbm import LGBMClassifier\n",
    "from sklearn.model_selection import train_test_split\n",
    "\n",
    "import fraud_detection as fd\n",
    "from fraud_detection import data_loader, metrics\n",
    "\n",
    "# Add the src directory to the system path to import modules\n",
    "reload(fd)\n",
    "sys.path.append('../src')\n",
    "\n",
    "datapath = \"../data/transformed_label_and_damage.parquet\""
   ]
  },
  {
   "cell_type": "code",
   "execution_count": 42,
   "id": "c3cf56e6",
   "metadata": {},
   "outputs": [],
   "source": [
    "\n",
    "def objective(trial, X_train, X_test, y_train, y_test):\n",
    "    params = {\n",
    "        # \"n_estimators\": trial.suggest_int(\"n_estimators\", 70, 150),\n",
    "        \"max_depth\": trial.suggest_int(\"max_depth\", 4, 10),\n",
    "        # \"learning_rate\": trial.suggest_float(\"learning_rate\", 0.08, 0.2),\n",
    "        \"num_leaves\": trial.suggest_int(\"num_leaves\", 20, 100),\n",
    "        \"n_estimators\": 100,\n",
    "        #\"max_depth\": 5,\n",
    "        \"learning_rate\": 0.12,\n",
    "        \"verbosity\":-1,\n",
    "    }\n",
    "\n",
    "    clf = LGBMClassifier(**params)\n",
    "\n",
    "    clf.fit(X_train, y_train[:, 0])\n",
    "    preds = clf.predict(X_test)\n",
    "    bew = metrics.bewertung(preds, y_test[:, 0], y_test[:, 1])\n",
    "    return bew[\"Bewertung\"]\n",
    "    # return bew[\"recall\"], bew[\"precision\"]\n"
   ]
  },
  {
   "cell_type": "code",
   "execution_count": 43,
   "id": "1f743c26",
   "metadata": {},
   "outputs": [],
   "source": [
    "def optimize(path, seed=42):\n",
    "    X, targets = data_loader.load_data_np(path)\n",
    "\n",
    "    X_train, X_test, y_train, y_test = map(\n",
    "        np.asarray, train_test_split(X, targets, test_size=0.2, random_state=seed)\n",
    "    )\n",
    "\n",
    "    def wrapped_objective(trial):\n",
    "        return objective(trial, X_train, X_test, y_train, y_test)\n",
    "\n",
    "    pruner = optuna.pruners.MedianPruner()\n",
    "\n",
    "    study = optuna.create_study(directions=[\"maximize\"], pruner=pruner)\n",
    "    study.optimize(wrapped_objective, show_progress_bar=True, n_trials=10)\n",
    "\n",
    "    return study"
   ]
  },
  {
   "cell_type": "code",
   "execution_count": 44,
   "id": "07f8ad60",
   "metadata": {},
   "outputs": [],
   "source": [
    "def continue_optimize(study, path,seed=42):\n",
    "    X, targets = data_loader.load_data_np(path)\n",
    "\n",
    "    X_train, X_test, y_train, y_test = map(\n",
    "        np.asarray, train_test_split(X, targets, test_size=0.2, random_state=seed)\n",
    "    )\n",
    "\n",
    "    def wrapped_objective(trial):\n",
    "        return objective(trial, X_train, X_test, y_train, y_test)\n",
    "\n",
    "    study.optimize(wrapped_objective, show_progress_bar=True, n_trials=50)\n",
    "\n",
    "    return study"
   ]
  },
  {
   "cell_type": "code",
   "execution_count": 45,
   "id": "2c9f2ed0",
   "metadata": {},
   "outputs": [
    {
     "name": "stderr",
     "output_type": "stream",
     "text": [
      "[I 2025-06-15 16:56:44,839] A new study created in memory with name: no-name-e3d40e52-8328-4917-9a64-89797b61ff73\n"
     ]
    },
    {
     "data": {
      "application/vnd.jupyter.widget-view+json": {
       "model_id": "1d991b4f031746d2944bf4922de7226f",
       "version_major": 2,
       "version_minor": 0
      },
      "text/plain": [
       "  0%|          | 0/10 [00:00<?, ?it/s]"
      ]
     },
     "metadata": {},
     "output_type": "display_data"
    },
    {
     "name": "stderr",
     "output_type": "stream",
     "text": [
      "/home/david/Hagen/projektpraktikum/projektpraktikum-datascience/fraud-detection/.venv/lib/python3.12/site-packages/sklearn/utils/validation.py:2749: UserWarning:\n",
      "\n",
      "X does not have valid feature names, but LGBMClassifier was fitted with feature names\n",
      "\n"
     ]
    },
    {
     "name": "stdout",
     "output_type": "stream",
     "text": [
      "[I 2025-06-15 16:56:45,612] Trial 0 finished with value: -1239.96 and parameters: {'max_depth': 6, 'num_leaves': 73}. Best is trial 0 with value: -1239.96.\n"
     ]
    },
    {
     "name": "stderr",
     "output_type": "stream",
     "text": [
      "/home/david/Hagen/projektpraktikum/projektpraktikum-datascience/fraud-detection/.venv/lib/python3.12/site-packages/sklearn/utils/validation.py:2749: UserWarning:\n",
      "\n",
      "X does not have valid feature names, but LGBMClassifier was fitted with feature names\n",
      "\n"
     ]
    },
    {
     "name": "stdout",
     "output_type": "stream",
     "text": [
      "[I 2025-06-15 16:56:46,256] Trial 1 finished with value: -1341.93 and parameters: {'max_depth': 10, 'num_leaves': 32}. Best is trial 0 with value: -1239.96.\n"
     ]
    },
    {
     "name": "stderr",
     "output_type": "stream",
     "text": [
      "/home/david/Hagen/projektpraktikum/projektpraktikum-datascience/fraud-detection/.venv/lib/python3.12/site-packages/sklearn/utils/validation.py:2749: UserWarning:\n",
      "\n",
      "X does not have valid feature names, but LGBMClassifier was fitted with feature names\n",
      "\n"
     ]
    },
    {
     "name": "stdout",
     "output_type": "stream",
     "text": [
      "[I 2025-06-15 16:56:46,912] Trial 2 finished with value: -1103.35 and parameters: {'max_depth': 5, 'num_leaves': 93}. Best is trial 2 with value: -1103.35.\n"
     ]
    },
    {
     "name": "stderr",
     "output_type": "stream",
     "text": [
      "/home/david/Hagen/projektpraktikum/projektpraktikum-datascience/fraud-detection/.venv/lib/python3.12/site-packages/sklearn/utils/validation.py:2749: UserWarning:\n",
      "\n",
      "X does not have valid feature names, but LGBMClassifier was fitted with feature names\n",
      "\n"
     ]
    },
    {
     "name": "stdout",
     "output_type": "stream",
     "text": [
      "[I 2025-06-15 16:56:47,518] Trial 3 finished with value: -1124.8899999999999 and parameters: {'max_depth': 5, 'num_leaves': 26}. Best is trial 2 with value: -1103.35.\n"
     ]
    },
    {
     "name": "stderr",
     "output_type": "stream",
     "text": [
      "/home/david/Hagen/projektpraktikum/projektpraktikum-datascience/fraud-detection/.venv/lib/python3.12/site-packages/sklearn/utils/validation.py:2749: UserWarning:\n",
      "\n",
      "X does not have valid feature names, but LGBMClassifier was fitted with feature names\n",
      "\n"
     ]
    },
    {
     "name": "stdout",
     "output_type": "stream",
     "text": [
      "[I 2025-06-15 16:56:48,181] Trial 4 finished with value: -1168.15 and parameters: {'max_depth': 6, 'num_leaves': 33}. Best is trial 2 with value: -1103.35.\n"
     ]
    },
    {
     "name": "stderr",
     "output_type": "stream",
     "text": [
      "/home/david/Hagen/projektpraktikum/projektpraktikum-datascience/fraud-detection/.venv/lib/python3.12/site-packages/sklearn/utils/validation.py:2749: UserWarning:\n",
      "\n",
      "X does not have valid feature names, but LGBMClassifier was fitted with feature names\n",
      "\n"
     ]
    },
    {
     "name": "stdout",
     "output_type": "stream",
     "text": [
      "[I 2025-06-15 16:56:48,940] Trial 5 finished with value: -1103.35 and parameters: {'max_depth': 5, 'num_leaves': 33}. Best is trial 2 with value: -1103.35.\n"
     ]
    },
    {
     "name": "stderr",
     "output_type": "stream",
     "text": [
      "/home/david/Hagen/projektpraktikum/projektpraktikum-datascience/fraud-detection/.venv/lib/python3.12/site-packages/sklearn/utils/validation.py:2749: UserWarning:\n",
      "\n",
      "X does not have valid feature names, but LGBMClassifier was fitted with feature names\n",
      "\n"
     ]
    },
    {
     "name": "stdout",
     "output_type": "stream",
     "text": [
      "[I 2025-06-15 16:56:49,725] Trial 6 finished with value: -1241.3600000000001 and parameters: {'max_depth': 8, 'num_leaves': 45}. Best is trial 2 with value: -1103.35.\n"
     ]
    },
    {
     "name": "stderr",
     "output_type": "stream",
     "text": [
      "/home/david/Hagen/projektpraktikum/projektpraktikum-datascience/fraud-detection/.venv/lib/python3.12/site-packages/sklearn/utils/validation.py:2749: UserWarning:\n",
      "\n",
      "X does not have valid feature names, but LGBMClassifier was fitted with feature names\n",
      "\n"
     ]
    },
    {
     "name": "stdout",
     "output_type": "stream",
     "text": [
      "[I 2025-06-15 16:56:50,468] Trial 7 finished with value: -1096.81 and parameters: {'max_depth': 6, 'num_leaves': 47}. Best is trial 7 with value: -1096.81.\n"
     ]
    },
    {
     "name": "stderr",
     "output_type": "stream",
     "text": [
      "/home/david/Hagen/projektpraktikum/projektpraktikum-datascience/fraud-detection/.venv/lib/python3.12/site-packages/sklearn/utils/validation.py:2749: UserWarning:\n",
      "\n",
      "X does not have valid feature names, but LGBMClassifier was fitted with feature names\n",
      "\n"
     ]
    },
    {
     "name": "stdout",
     "output_type": "stream",
     "text": [
      "[I 2025-06-15 16:56:51,309] Trial 8 finished with value: -1316.5 and parameters: {'max_depth': 8, 'num_leaves': 74}. Best is trial 7 with value: -1096.81.\n"
     ]
    },
    {
     "name": "stderr",
     "output_type": "stream",
     "text": [
      "/home/david/Hagen/projektpraktikum/projektpraktikum-datascience/fraud-detection/.venv/lib/python3.12/site-packages/sklearn/utils/validation.py:2749: UserWarning:\n",
      "\n",
      "X does not have valid feature names, but LGBMClassifier was fitted with feature names\n",
      "\n"
     ]
    },
    {
     "name": "stdout",
     "output_type": "stream",
     "text": [
      "[I 2025-06-15 16:56:52,184] Trial 9 finished with value: -1421.24 and parameters: {'max_depth': 7, 'num_leaves': 92}. Best is trial 7 with value: -1096.81.\n"
     ]
    }
   ],
   "source": [
    "study = optimize(datapath)"
   ]
  },
  {
   "cell_type": "code",
   "execution_count": 46,
   "id": "ce33914c",
   "metadata": {},
   "outputs": [
    {
     "data": {
      "application/vnd.jupyter.widget-view+json": {
       "model_id": "380e1bb170424213937546ae5f69ddd7",
       "version_major": 2,
       "version_minor": 0
      },
      "text/plain": [
       "  0%|          | 0/50 [00:00<?, ?it/s]"
      ]
     },
     "metadata": {},
     "output_type": "display_data"
    },
    {
     "name": "stderr",
     "output_type": "stream",
     "text": [
      "/home/david/Hagen/projektpraktikum/projektpraktikum-datascience/fraud-detection/.venv/lib/python3.12/site-packages/sklearn/utils/validation.py:2749: UserWarning:\n",
      "\n",
      "X does not have valid feature names, but LGBMClassifier was fitted with feature names\n",
      "\n"
     ]
    },
    {
     "name": "stdout",
     "output_type": "stream",
     "text": [
      "[I 2025-06-15 16:56:55,708] Trial 10 finished with value: -1182.7 and parameters: {'max_depth': 4, 'num_leaves': 54}. Best is trial 7 with value: -1096.81.\n"
     ]
    },
    {
     "name": "stderr",
     "output_type": "stream",
     "text": [
      "/home/david/Hagen/projektpraktikum/projektpraktikum-datascience/fraud-detection/.venv/lib/python3.12/site-packages/sklearn/utils/validation.py:2749: UserWarning:\n",
      "\n",
      "X does not have valid feature names, but LGBMClassifier was fitted with feature names\n",
      "\n"
     ]
    },
    {
     "name": "stdout",
     "output_type": "stream",
     "text": [
      "[I 2025-06-15 16:56:56,348] Trial 11 finished with value: -1182.7 and parameters: {'max_depth': 4, 'num_leaves': 98}. Best is trial 7 with value: -1096.81.\n"
     ]
    },
    {
     "name": "stderr",
     "output_type": "stream",
     "text": [
      "/home/david/Hagen/projektpraktikum/projektpraktikum-datascience/fraud-detection/.venv/lib/python3.12/site-packages/sklearn/utils/validation.py:2749: UserWarning:\n",
      "\n",
      "X does not have valid feature names, but LGBMClassifier was fitted with feature names\n",
      "\n"
     ]
    },
    {
     "name": "stdout",
     "output_type": "stream",
     "text": [
      "[I 2025-06-15 16:56:57,099] Trial 12 finished with value: -1239.96 and parameters: {'max_depth': 6, 'num_leaves': 72}. Best is trial 7 with value: -1096.81.\n"
     ]
    },
    {
     "name": "stderr",
     "output_type": "stream",
     "text": [
      "/home/david/Hagen/projektpraktikum/projektpraktikum-datascience/fraud-detection/.venv/lib/python3.12/site-packages/sklearn/utils/validation.py:2749: UserWarning:\n",
      "\n",
      "X does not have valid feature names, but LGBMClassifier was fitted with feature names\n",
      "\n"
     ]
    },
    {
     "name": "stdout",
     "output_type": "stream",
     "text": [
      "[I 2025-06-15 16:56:57,874] Trial 13 finished with value: -1103.35 and parameters: {'max_depth': 5, 'num_leaves': 57}. Best is trial 7 with value: -1096.81.\n"
     ]
    },
    {
     "name": "stderr",
     "output_type": "stream",
     "text": [
      "/home/david/Hagen/projektpraktikum/projektpraktikum-datascience/fraud-detection/.venv/lib/python3.12/site-packages/sklearn/utils/validation.py:2749: UserWarning:\n",
      "\n",
      "X does not have valid feature names, but LGBMClassifier was fitted with feature names\n",
      "\n"
     ]
    },
    {
     "name": "stdout",
     "output_type": "stream",
     "text": [
      "[I 2025-06-15 16:56:58,776] Trial 14 finished with value: -1220.18 and parameters: {'max_depth': 7, 'num_leaves': 85}. Best is trial 7 with value: -1096.81.\n"
     ]
    },
    {
     "name": "stderr",
     "output_type": "stream",
     "text": [
      "/home/david/Hagen/projektpraktikum/projektpraktikum-datascience/fraud-detection/.venv/lib/python3.12/site-packages/sklearn/utils/validation.py:2749: UserWarning:\n",
      "\n",
      "X does not have valid feature names, but LGBMClassifier was fitted with feature names\n",
      "\n"
     ]
    },
    {
     "name": "stdout",
     "output_type": "stream",
     "text": [
      "[I 2025-06-15 16:56:59,570] Trial 15 finished with value: -1295.3999999999999 and parameters: {'max_depth': 7, 'num_leaves': 46}. Best is trial 7 with value: -1096.81.\n"
     ]
    },
    {
     "name": "stderr",
     "output_type": "stream",
     "text": [
      "/home/david/Hagen/projektpraktikum/projektpraktikum-datascience/fraud-detection/.venv/lib/python3.12/site-packages/sklearn/utils/validation.py:2749: UserWarning:\n",
      "\n",
      "X does not have valid feature names, but LGBMClassifier was fitted with feature names\n",
      "\n"
     ]
    },
    {
     "name": "stdout",
     "output_type": "stream",
     "text": [
      "[I 2025-06-15 16:57:00,419] Trial 16 finished with value: -1464.73 and parameters: {'max_depth': 10, 'num_leaves': 63}. Best is trial 7 with value: -1096.81.\n"
     ]
    },
    {
     "name": "stderr",
     "output_type": "stream",
     "text": [
      "/home/david/Hagen/projektpraktikum/projektpraktikum-datascience/fraud-detection/.venv/lib/python3.12/site-packages/sklearn/utils/validation.py:2749: UserWarning:\n",
      "\n",
      "X does not have valid feature names, but LGBMClassifier was fitted with feature names\n",
      "\n"
     ]
    },
    {
     "name": "stdout",
     "output_type": "stream",
     "text": [
      "[I 2025-06-15 16:57:01,087] Trial 17 finished with value: -1182.7 and parameters: {'max_depth': 4, 'num_leaves': 45}. Best is trial 7 with value: -1096.81.\n"
     ]
    },
    {
     "name": "stderr",
     "output_type": "stream",
     "text": [
      "/home/david/Hagen/projektpraktikum/projektpraktikum-datascience/fraud-detection/.venv/lib/python3.12/site-packages/sklearn/utils/validation.py:2749: UserWarning:\n",
      "\n",
      "X does not have valid feature names, but LGBMClassifier was fitted with feature names\n",
      "\n"
     ]
    },
    {
     "name": "stdout",
     "output_type": "stream",
     "text": [
      "[I 2025-06-15 16:57:02,002] Trial 18 finished with value: -1239.03 and parameters: {'max_depth': 8, 'num_leaves': 83}. Best is trial 7 with value: -1096.81.\n"
     ]
    },
    {
     "name": "stderr",
     "output_type": "stream",
     "text": [
      "/home/david/Hagen/projektpraktikum/projektpraktikum-datascience/fraud-detection/.venv/lib/python3.12/site-packages/sklearn/utils/validation.py:2749: UserWarning:\n",
      "\n",
      "X does not have valid feature names, but LGBMClassifier was fitted with feature names\n",
      "\n"
     ]
    },
    {
     "name": "stdout",
     "output_type": "stream",
     "text": [
      "[I 2025-06-15 16:57:02,605] Trial 19 finished with value: -1103.35 and parameters: {'max_depth': 5, 'num_leaves': 64}. Best is trial 7 with value: -1096.81.\n"
     ]
    },
    {
     "name": "stderr",
     "output_type": "stream",
     "text": [
      "/home/david/Hagen/projektpraktikum/projektpraktikum-datascience/fraud-detection/.venv/lib/python3.12/site-packages/sklearn/utils/validation.py:2749: UserWarning:\n",
      "\n",
      "X does not have valid feature names, but LGBMClassifier was fitted with feature names\n",
      "\n"
     ]
    },
    {
     "name": "stdout",
     "output_type": "stream",
     "text": [
      "[I 2025-06-15 16:57:03,350] Trial 20 finished with value: -1399.43 and parameters: {'max_depth': 9, 'num_leaves': 51}. Best is trial 7 with value: -1096.81.\n"
     ]
    },
    {
     "name": "stderr",
     "output_type": "stream",
     "text": [
      "/home/david/Hagen/projektpraktikum/projektpraktikum-datascience/fraud-detection/.venv/lib/python3.12/site-packages/sklearn/utils/validation.py:2749: UserWarning:\n",
      "\n",
      "X does not have valid feature names, but LGBMClassifier was fitted with feature names\n",
      "\n"
     ]
    },
    {
     "name": "stdout",
     "output_type": "stream",
     "text": [
      "[I 2025-06-15 16:57:04,118] Trial 21 finished with value: -1103.35 and parameters: {'max_depth': 5, 'num_leaves': 38}. Best is trial 7 with value: -1096.81.\n"
     ]
    },
    {
     "name": "stderr",
     "output_type": "stream",
     "text": [
      "/home/david/Hagen/projektpraktikum/projektpraktikum-datascience/fraud-detection/.venv/lib/python3.12/site-packages/sklearn/utils/validation.py:2749: UserWarning:\n",
      "\n",
      "X does not have valid feature names, but LGBMClassifier was fitted with feature names\n",
      "\n"
     ]
    },
    {
     "name": "stdout",
     "output_type": "stream",
     "text": [
      "[I 2025-06-15 16:57:04,782] Trial 22 finished with value: -1217.72 and parameters: {'max_depth': 6, 'num_leaves': 22}. Best is trial 7 with value: -1096.81.\n"
     ]
    },
    {
     "name": "stderr",
     "output_type": "stream",
     "text": [
      "/home/david/Hagen/projektpraktikum/projektpraktikum-datascience/fraud-detection/.venv/lib/python3.12/site-packages/sklearn/utils/validation.py:2749: UserWarning:\n",
      "\n",
      "X does not have valid feature names, but LGBMClassifier was fitted with feature names\n",
      "\n"
     ]
    },
    {
     "name": "stdout",
     "output_type": "stream",
     "text": [
      "[I 2025-06-15 16:57:05,439] Trial 23 finished with value: -1103.35 and parameters: {'max_depth': 5, 'num_leaves': 40}. Best is trial 7 with value: -1096.81.\n"
     ]
    },
    {
     "name": "stderr",
     "output_type": "stream",
     "text": [
      "/home/david/Hagen/projektpraktikum/projektpraktikum-datascience/fraud-detection/.venv/lib/python3.12/site-packages/sklearn/utils/validation.py:2749: UserWarning:\n",
      "\n",
      "X does not have valid feature names, but LGBMClassifier was fitted with feature names\n",
      "\n"
     ]
    },
    {
     "name": "stdout",
     "output_type": "stream",
     "text": [
      "[I 2025-06-15 16:57:06,214] Trial 24 finished with value: -1214.33 and parameters: {'max_depth': 6, 'num_leaves': 28}. Best is trial 7 with value: -1096.81.\n"
     ]
    },
    {
     "name": "stderr",
     "output_type": "stream",
     "text": [
      "/home/david/Hagen/projektpraktikum/projektpraktikum-datascience/fraud-detection/.venv/lib/python3.12/site-packages/sklearn/utils/validation.py:2749: UserWarning:\n",
      "\n",
      "X does not have valid feature names, but LGBMClassifier was fitted with feature names\n",
      "\n"
     ]
    },
    {
     "name": "stdout",
     "output_type": "stream",
     "text": [
      "[I 2025-06-15 16:57:06,898] Trial 25 finished with value: -1103.35 and parameters: {'max_depth': 5, 'num_leaves': 37}. Best is trial 7 with value: -1096.81.\n"
     ]
    },
    {
     "name": "stderr",
     "output_type": "stream",
     "text": [
      "/home/david/Hagen/projektpraktikum/projektpraktikum-datascience/fraud-detection/.venv/lib/python3.12/site-packages/sklearn/utils/validation.py:2749: UserWarning:\n",
      "\n",
      "X does not have valid feature names, but LGBMClassifier was fitted with feature names\n",
      "\n"
     ]
    },
    {
     "name": "stdout",
     "output_type": "stream",
     "text": [
      "[I 2025-06-15 16:57:07,505] Trial 26 finished with value: -1182.7 and parameters: {'max_depth': 4, 'num_leaves': 20}. Best is trial 7 with value: -1096.81.\n"
     ]
    },
    {
     "name": "stderr",
     "output_type": "stream",
     "text": [
      "/home/david/Hagen/projektpraktikum/projektpraktikum-datascience/fraud-detection/.venv/lib/python3.12/site-packages/sklearn/utils/validation.py:2749: UserWarning:\n",
      "\n",
      "X does not have valid feature names, but LGBMClassifier was fitted with feature names\n",
      "\n"
     ]
    },
    {
     "name": "stdout",
     "output_type": "stream",
     "text": [
      "[I 2025-06-15 16:57:08,260] Trial 27 finished with value: -1204.81 and parameters: {'max_depth': 6, 'num_leaves': 50}. Best is trial 7 with value: -1096.81.\n"
     ]
    },
    {
     "name": "stderr",
     "output_type": "stream",
     "text": [
      "/home/david/Hagen/projektpraktikum/projektpraktikum-datascience/fraud-detection/.venv/lib/python3.12/site-packages/sklearn/utils/validation.py:2749: UserWarning:\n",
      "\n",
      "X does not have valid feature names, but LGBMClassifier was fitted with feature names\n",
      "\n"
     ]
    },
    {
     "name": "stdout",
     "output_type": "stream",
     "text": [
      "[I 2025-06-15 16:57:08,903] Trial 28 finished with value: -1103.35 and parameters: {'max_depth': 5, 'num_leaves': 68}. Best is trial 7 with value: -1096.81.\n"
     ]
    },
    {
     "name": "stderr",
     "output_type": "stream",
     "text": [
      "/home/david/Hagen/projektpraktikum/projektpraktikum-datascience/fraud-detection/.venv/lib/python3.12/site-packages/sklearn/utils/validation.py:2749: UserWarning:\n",
      "\n",
      "X does not have valid feature names, but LGBMClassifier was fitted with feature names\n",
      "\n"
     ]
    },
    {
     "name": "stdout",
     "output_type": "stream",
     "text": [
      "[I 2025-06-15 16:57:09,608] Trial 29 finished with value: -1239.96 and parameters: {'max_depth': 6, 'num_leaves': 79}. Best is trial 7 with value: -1096.81.\n"
     ]
    },
    {
     "name": "stderr",
     "output_type": "stream",
     "text": [
      "/home/david/Hagen/projektpraktikum/projektpraktikum-datascience/fraud-detection/.venv/lib/python3.12/site-packages/sklearn/utils/validation.py:2749: UserWarning:\n",
      "\n",
      "X does not have valid feature names, but LGBMClassifier was fitted with feature names\n",
      "\n"
     ]
    },
    {
     "name": "stdout",
     "output_type": "stream",
     "text": [
      "[I 2025-06-15 16:57:10,323] Trial 30 finished with value: -1182.7 and parameters: {'max_depth': 4, 'num_leaves': 98}. Best is trial 7 with value: -1096.81.\n"
     ]
    },
    {
     "name": "stderr",
     "output_type": "stream",
     "text": [
      "/home/david/Hagen/projektpraktikum/projektpraktikum-datascience/fraud-detection/.venv/lib/python3.12/site-packages/sklearn/utils/validation.py:2749: UserWarning:\n",
      "\n",
      "X does not have valid feature names, but LGBMClassifier was fitted with feature names\n",
      "\n"
     ]
    },
    {
     "name": "stdout",
     "output_type": "stream",
     "text": [
      "[I 2025-06-15 16:57:10,987] Trial 31 finished with value: -1103.35 and parameters: {'max_depth': 5, 'num_leaves': 54}. Best is trial 7 with value: -1096.81.\n"
     ]
    },
    {
     "name": "stderr",
     "output_type": "stream",
     "text": [
      "/home/david/Hagen/projektpraktikum/projektpraktikum-datascience/fraud-detection/.venv/lib/python3.12/site-packages/sklearn/utils/validation.py:2749: UserWarning:\n",
      "\n",
      "X does not have valid feature names, but LGBMClassifier was fitted with feature names\n",
      "\n"
     ]
    },
    {
     "name": "stdout",
     "output_type": "stream",
     "text": [
      "[I 2025-06-15 16:57:11,627] Trial 32 finished with value: -1103.35 and parameters: {'max_depth': 5, 'num_leaves': 60}. Best is trial 7 with value: -1096.81.\n"
     ]
    },
    {
     "name": "stderr",
     "output_type": "stream",
     "text": [
      "/home/david/Hagen/projektpraktikum/projektpraktikum-datascience/fraud-detection/.venv/lib/python3.12/site-packages/sklearn/utils/validation.py:2749: UserWarning:\n",
      "\n",
      "X does not have valid feature names, but LGBMClassifier was fitted with feature names\n",
      "\n"
     ]
    },
    {
     "name": "stdout",
     "output_type": "stream",
     "text": [
      "[I 2025-06-15 16:57:12,303] Trial 33 finished with value: -1227.38 and parameters: {'max_depth': 6, 'num_leaves': 32}. Best is trial 7 with value: -1096.81.\n"
     ]
    },
    {
     "name": "stderr",
     "output_type": "stream",
     "text": [
      "/home/david/Hagen/projektpraktikum/projektpraktikum-datascience/fraud-detection/.venv/lib/python3.12/site-packages/sklearn/utils/validation.py:2749: UserWarning:\n",
      "\n",
      "X does not have valid feature names, but LGBMClassifier was fitted with feature names\n",
      "\n"
     ]
    },
    {
     "name": "stdout",
     "output_type": "stream",
     "text": [
      "[I 2025-06-15 16:57:12,928] Trial 34 finished with value: -1103.35 and parameters: {'max_depth': 5, 'num_leaves': 57}. Best is trial 7 with value: -1096.81.\n"
     ]
    },
    {
     "name": "stderr",
     "output_type": "stream",
     "text": [
      "/home/david/Hagen/projektpraktikum/projektpraktikum-datascience/fraud-detection/.venv/lib/python3.12/site-packages/sklearn/utils/validation.py:2749: UserWarning:\n",
      "\n",
      "X does not have valid feature names, but LGBMClassifier was fitted with feature names\n",
      "\n"
     ]
    },
    {
     "name": "stdout",
     "output_type": "stream",
     "text": [
      "[I 2025-06-15 16:57:13,692] Trial 35 finished with value: -1274.46 and parameters: {'max_depth': 7, 'num_leaves': 40}. Best is trial 7 with value: -1096.81.\n"
     ]
    },
    {
     "name": "stderr",
     "output_type": "stream",
     "text": [
      "/home/david/Hagen/projektpraktikum/projektpraktikum-datascience/fraud-detection/.venv/lib/python3.12/site-packages/sklearn/utils/validation.py:2749: UserWarning:\n",
      "\n",
      "X does not have valid feature names, but LGBMClassifier was fitted with feature names\n",
      "\n"
     ]
    },
    {
     "name": "stdout",
     "output_type": "stream",
     "text": [
      "[I 2025-06-15 16:57:14,355] Trial 36 finished with value: -1303.6 and parameters: {'max_depth': 6, 'num_leaves': 31}. Best is trial 7 with value: -1096.81.\n"
     ]
    },
    {
     "name": "stderr",
     "output_type": "stream",
     "text": [
      "/home/david/Hagen/projektpraktikum/projektpraktikum-datascience/fraud-detection/.venv/lib/python3.12/site-packages/sklearn/utils/validation.py:2749: UserWarning:\n",
      "\n",
      "X does not have valid feature names, but LGBMClassifier was fitted with feature names\n",
      "\n"
     ]
    },
    {
     "name": "stdout",
     "output_type": "stream",
     "text": [
      "[I 2025-06-15 16:57:14,941] Trial 37 finished with value: -1182.7 and parameters: {'max_depth': 4, 'num_leaves': 46}. Best is trial 7 with value: -1096.81.\n"
     ]
    },
    {
     "name": "stderr",
     "output_type": "stream",
     "text": [
      "/home/david/Hagen/projektpraktikum/projektpraktikum-datascience/fraud-detection/.venv/lib/python3.12/site-packages/sklearn/utils/validation.py:2749: UserWarning:\n",
      "\n",
      "X does not have valid feature names, but LGBMClassifier was fitted with feature names\n",
      "\n"
     ]
    },
    {
     "name": "stdout",
     "output_type": "stream",
     "text": [
      "[I 2025-06-15 16:57:15,611] Trial 38 finished with value: -1103.35 and parameters: {'max_depth': 5, 'num_leaves': 91}. Best is trial 7 with value: -1096.81.\n"
     ]
    },
    {
     "name": "stderr",
     "output_type": "stream",
     "text": [
      "/home/david/Hagen/projektpraktikum/projektpraktikum-datascience/fraud-detection/.venv/lib/python3.12/site-packages/sklearn/utils/validation.py:2749: UserWarning:\n",
      "\n",
      "X does not have valid feature names, but LGBMClassifier was fitted with feature names\n",
      "\n"
     ]
    },
    {
     "name": "stdout",
     "output_type": "stream",
     "text": [
      "[I 2025-06-15 16:57:16,550] Trial 39 finished with value: -1109.77 and parameters: {'max_depth': 7, 'num_leaves': 69}. Best is trial 7 with value: -1096.81.\n"
     ]
    },
    {
     "name": "stderr",
     "output_type": "stream",
     "text": [
      "/home/david/Hagen/projektpraktikum/projektpraktikum-datascience/fraud-detection/.venv/lib/python3.12/site-packages/sklearn/utils/validation.py:2749: UserWarning:\n",
      "\n",
      "X does not have valid feature names, but LGBMClassifier was fitted with feature names\n",
      "\n"
     ]
    },
    {
     "name": "stdout",
     "output_type": "stream",
     "text": [
      "[I 2025-06-15 16:57:17,165] Trial 40 finished with value: -1182.7 and parameters: {'max_depth': 4, 'num_leaves': 25}. Best is trial 7 with value: -1096.81.\n"
     ]
    },
    {
     "name": "stderr",
     "output_type": "stream",
     "text": [
      "/home/david/Hagen/projektpraktikum/projektpraktikum-datascience/fraud-detection/.venv/lib/python3.12/site-packages/sklearn/utils/validation.py:2749: UserWarning:\n",
      "\n",
      "X does not have valid feature names, but LGBMClassifier was fitted with feature names\n",
      "\n"
     ]
    },
    {
     "name": "stdout",
     "output_type": "stream",
     "text": [
      "[I 2025-06-15 16:57:17,787] Trial 41 finished with value: -1103.35 and parameters: {'max_depth': 5, 'num_leaves': 59}. Best is trial 7 with value: -1096.81.\n"
     ]
    },
    {
     "name": "stderr",
     "output_type": "stream",
     "text": [
      "/home/david/Hagen/projektpraktikum/projektpraktikum-datascience/fraud-detection/.venv/lib/python3.12/site-packages/sklearn/utils/validation.py:2749: UserWarning:\n",
      "\n",
      "X does not have valid feature names, but LGBMClassifier was fitted with feature names\n",
      "\n"
     ]
    },
    {
     "name": "stdout",
     "output_type": "stream",
     "text": [
      "[I 2025-06-15 16:57:18,449] Trial 42 finished with value: -1103.35 and parameters: {'max_depth': 5, 'num_leaves': 79}. Best is trial 7 with value: -1096.81.\n"
     ]
    },
    {
     "name": "stderr",
     "output_type": "stream",
     "text": [
      "/home/david/Hagen/projektpraktikum/projektpraktikum-datascience/fraud-detection/.venv/lib/python3.12/site-packages/sklearn/utils/validation.py:2749: UserWarning:\n",
      "\n",
      "X does not have valid feature names, but LGBMClassifier was fitted with feature names\n",
      "\n"
     ]
    },
    {
     "name": "stdout",
     "output_type": "stream",
     "text": [
      "[I 2025-06-15 16:57:19,185] Trial 43 finished with value: -1239.96 and parameters: {'max_depth': 6, 'num_leaves': 63}. Best is trial 7 with value: -1096.81.\n"
     ]
    },
    {
     "name": "stderr",
     "output_type": "stream",
     "text": [
      "/home/david/Hagen/projektpraktikum/projektpraktikum-datascience/fraud-detection/.venv/lib/python3.12/site-packages/sklearn/utils/validation.py:2749: UserWarning:\n",
      "\n",
      "X does not have valid feature names, but LGBMClassifier was fitted with feature names\n",
      "\n"
     ]
    },
    {
     "name": "stdout",
     "output_type": "stream",
     "text": [
      "[I 2025-06-15 16:57:19,814] Trial 44 finished with value: -1103.35 and parameters: {'max_depth': 5, 'num_leaves': 65}. Best is trial 7 with value: -1096.81.\n"
     ]
    },
    {
     "name": "stderr",
     "output_type": "stream",
     "text": [
      "/home/david/Hagen/projektpraktikum/projektpraktikum-datascience/fraud-detection/.venv/lib/python3.12/site-packages/sklearn/utils/validation.py:2749: UserWarning:\n",
      "\n",
      "X does not have valid feature names, but LGBMClassifier was fitted with feature names\n",
      "\n"
     ]
    },
    {
     "name": "stdout",
     "output_type": "stream",
     "text": [
      "[I 2025-06-15 16:57:20,390] Trial 45 finished with value: -1182.7 and parameters: {'max_depth': 4, 'num_leaves': 93}. Best is trial 7 with value: -1096.81.\n"
     ]
    },
    {
     "name": "stderr",
     "output_type": "stream",
     "text": [
      "/home/david/Hagen/projektpraktikum/projektpraktikum-datascience/fraud-detection/.venv/lib/python3.12/site-packages/sklearn/utils/validation.py:2749: UserWarning:\n",
      "\n",
      "X does not have valid feature names, but LGBMClassifier was fitted with feature names\n",
      "\n"
     ]
    },
    {
     "name": "stdout",
     "output_type": "stream",
     "text": [
      "[I 2025-06-15 16:57:21,075] Trial 46 finished with value: -1074.3600000000001 and parameters: {'max_depth': 6, 'num_leaves': 43}. Best is trial 46 with value: -1074.3600000000001.\n"
     ]
    },
    {
     "name": "stderr",
     "output_type": "stream",
     "text": [
      "/home/david/Hagen/projektpraktikum/projektpraktikum-datascience/fraud-detection/.venv/lib/python3.12/site-packages/sklearn/utils/validation.py:2749: UserWarning:\n",
      "\n",
      "X does not have valid feature names, but LGBMClassifier was fitted with feature names\n",
      "\n"
     ]
    },
    {
     "name": "stdout",
     "output_type": "stream",
     "text": [
      "[I 2025-06-15 16:57:21,826] Trial 47 finished with value: -1111.35 and parameters: {'max_depth': 7, 'num_leaves': 49}. Best is trial 46 with value: -1074.3600000000001.\n"
     ]
    },
    {
     "name": "stderr",
     "output_type": "stream",
     "text": [
      "/home/david/Hagen/projektpraktikum/projektpraktikum-datascience/fraud-detection/.venv/lib/python3.12/site-packages/sklearn/utils/validation.py:2749: UserWarning:\n",
      "\n",
      "X does not have valid feature names, but LGBMClassifier was fitted with feature names\n",
      "\n"
     ]
    },
    {
     "name": "stdout",
     "output_type": "stream",
     "text": [
      "[I 2025-06-15 16:57:22,534] Trial 48 finished with value: -1141.9 and parameters: {'max_depth': 6, 'num_leaves': 54}. Best is trial 46 with value: -1074.3600000000001.\n"
     ]
    },
    {
     "name": "stderr",
     "output_type": "stream",
     "text": [
      "/home/david/Hagen/projektpraktikum/projektpraktikum-datascience/fraud-detection/.venv/lib/python3.12/site-packages/sklearn/utils/validation.py:2749: UserWarning:\n",
      "\n",
      "X does not have valid feature names, but LGBMClassifier was fitted with feature names\n",
      "\n"
     ]
    },
    {
     "name": "stdout",
     "output_type": "stream",
     "text": [
      "[I 2025-06-15 16:57:23,304] Trial 49 finished with value: -1246.19 and parameters: {'max_depth': 7, 'num_leaves': 44}. Best is trial 46 with value: -1074.3600000000001.\n"
     ]
    },
    {
     "name": "stderr",
     "output_type": "stream",
     "text": [
      "/home/david/Hagen/projektpraktikum/projektpraktikum-datascience/fraud-detection/.venv/lib/python3.12/site-packages/sklearn/utils/validation.py:2749: UserWarning:\n",
      "\n",
      "X does not have valid feature names, but LGBMClassifier was fitted with feature names\n",
      "\n"
     ]
    },
    {
     "name": "stdout",
     "output_type": "stream",
     "text": [
      "[I 2025-06-15 16:57:23,989] Trial 50 finished with value: -1341.87 and parameters: {'max_depth': 8, 'num_leaves': 34}. Best is trial 46 with value: -1074.3600000000001.\n"
     ]
    },
    {
     "name": "stderr",
     "output_type": "stream",
     "text": [
      "/home/david/Hagen/projektpraktikum/projektpraktikum-datascience/fraud-detection/.venv/lib/python3.12/site-packages/sklearn/utils/validation.py:2749: UserWarning:\n",
      "\n",
      "X does not have valid feature names, but LGBMClassifier was fitted with feature names\n",
      "\n"
     ]
    },
    {
     "name": "stdout",
     "output_type": "stream",
     "text": [
      "[I 2025-06-15 16:57:24,618] Trial 51 finished with value: -1103.35 and parameters: {'max_depth': 5, 'num_leaves': 41}. Best is trial 46 with value: -1074.3600000000001.\n"
     ]
    },
    {
     "name": "stderr",
     "output_type": "stream",
     "text": [
      "/home/david/Hagen/projektpraktikum/projektpraktikum-datascience/fraud-detection/.venv/lib/python3.12/site-packages/sklearn/utils/validation.py:2749: UserWarning:\n",
      "\n",
      "X does not have valid feature names, but LGBMClassifier was fitted with feature names\n",
      "\n"
     ]
    },
    {
     "name": "stdout",
     "output_type": "stream",
     "text": [
      "[I 2025-06-15 16:57:25,301] Trial 52 finished with value: -1239.96 and parameters: {'max_depth': 6, 'num_leaves': 74}. Best is trial 46 with value: -1074.3600000000001.\n"
     ]
    },
    {
     "name": "stderr",
     "output_type": "stream",
     "text": [
      "/home/david/Hagen/projektpraktikum/projektpraktikum-datascience/fraud-detection/.venv/lib/python3.12/site-packages/sklearn/utils/validation.py:2749: UserWarning:\n",
      "\n",
      "X does not have valid feature names, but LGBMClassifier was fitted with feature names\n",
      "\n"
     ]
    },
    {
     "name": "stdout",
     "output_type": "stream",
     "text": [
      "[I 2025-06-15 16:57:26,017] Trial 53 finished with value: -1176.0 and parameters: {'max_depth': 6, 'num_leaves': 56}. Best is trial 46 with value: -1074.3600000000001.\n"
     ]
    },
    {
     "name": "stderr",
     "output_type": "stream",
     "text": [
      "/home/david/Hagen/projektpraktikum/projektpraktikum-datascience/fraud-detection/.venv/lib/python3.12/site-packages/sklearn/utils/validation.py:2749: UserWarning:\n",
      "\n",
      "X does not have valid feature names, but LGBMClassifier was fitted with feature names\n",
      "\n"
     ]
    },
    {
     "name": "stdout",
     "output_type": "stream",
     "text": [
      "[I 2025-06-15 16:57:26,648] Trial 54 finished with value: -1103.35 and parameters: {'max_depth': 5, 'num_leaves': 36}. Best is trial 46 with value: -1074.3600000000001.\n"
     ]
    },
    {
     "name": "stderr",
     "output_type": "stream",
     "text": [
      "/home/david/Hagen/projektpraktikum/projektpraktikum-datascience/fraud-detection/.venv/lib/python3.12/site-packages/sklearn/utils/validation.py:2749: UserWarning:\n",
      "\n",
      "X does not have valid feature names, but LGBMClassifier was fitted with feature names\n",
      "\n"
     ]
    },
    {
     "name": "stdout",
     "output_type": "stream",
     "text": [
      "[I 2025-06-15 16:57:27,210] Trial 55 finished with value: -1182.7 and parameters: {'max_depth': 4, 'num_leaves': 43}. Best is trial 46 with value: -1074.3600000000001.\n"
     ]
    },
    {
     "name": "stderr",
     "output_type": "stream",
     "text": [
      "/home/david/Hagen/projektpraktikum/projektpraktikum-datascience/fraud-detection/.venv/lib/python3.12/site-packages/sklearn/utils/validation.py:2749: UserWarning:\n",
      "\n",
      "X does not have valid feature names, but LGBMClassifier was fitted with feature names\n",
      "\n"
     ]
    },
    {
     "name": "stdout",
     "output_type": "stream",
     "text": [
      "[I 2025-06-15 16:57:27,886] Trial 56 finished with value: -1251.27 and parameters: {'max_depth': 6, 'num_leaves': 49}. Best is trial 46 with value: -1074.3600000000001.\n"
     ]
    },
    {
     "name": "stderr",
     "output_type": "stream",
     "text": [
      "/home/david/Hagen/projektpraktikum/projektpraktikum-datascience/fraud-detection/.venv/lib/python3.12/site-packages/sklearn/utils/validation.py:2749: UserWarning:\n",
      "\n",
      "X does not have valid feature names, but LGBMClassifier was fitted with feature names\n",
      "\n"
     ]
    },
    {
     "name": "stdout",
     "output_type": "stream",
     "text": [
      "[I 2025-06-15 16:57:28,542] Trial 57 finished with value: -1184.74 and parameters: {'max_depth': 5, 'num_leaves': 28}. Best is trial 46 with value: -1074.3600000000001.\n"
     ]
    },
    {
     "name": "stderr",
     "output_type": "stream",
     "text": [
      "/home/david/Hagen/projektpraktikum/projektpraktikum-datascience/fraud-detection/.venv/lib/python3.12/site-packages/sklearn/utils/validation.py:2749: UserWarning:\n",
      "\n",
      "X does not have valid feature names, but LGBMClassifier was fitted with feature names\n",
      "\n"
     ]
    },
    {
     "name": "stdout",
     "output_type": "stream",
     "text": [
      "[I 2025-06-15 16:57:29,379] Trial 58 finished with value: -1265.31 and parameters: {'max_depth': 10, 'num_leaves': 52}. Best is trial 46 with value: -1074.3600000000001.\n"
     ]
    },
    {
     "name": "stderr",
     "output_type": "stream",
     "text": [
      "/home/david/Hagen/projektpraktikum/projektpraktikum-datascience/fraud-detection/.venv/lib/python3.12/site-packages/sklearn/utils/validation.py:2749: UserWarning:\n",
      "\n",
      "X does not have valid feature names, but LGBMClassifier was fitted with feature names\n",
      "\n"
     ]
    },
    {
     "name": "stdout",
     "output_type": "stream",
     "text": [
      "[I 2025-06-15 16:57:30,157] Trial 59 finished with value: -1096.81 and parameters: {'max_depth': 6, 'num_leaves': 47}. Best is trial 46 with value: -1074.3600000000001.\n"
     ]
    },
    {
     "data": {
      "text/plain": [
       "<optuna.study.study.Study at 0x7bafcc1e1c70>"
      ]
     },
     "execution_count": 46,
     "metadata": {},
     "output_type": "execute_result"
    }
   ],
   "source": [
    "continue_optimize(study, datapath)"
   ]
  },
  {
   "cell_type": "code",
   "execution_count": 61,
   "id": "4d2ed5bf",
   "metadata": {},
   "outputs": [],
   "source": [
    "p = sorted(study.best_trials, key=lambda t: t.values[0], reverse=True)[6].params"
   ]
  },
  {
   "cell_type": "code",
   "execution_count": 49,
   "id": "22629dc2",
   "metadata": {},
   "outputs": [
    {
     "data": {
      "text/plain": [
       "FrozenTrial(number=46, state=1, values=[-1074.3600000000001], datetime_start=datetime.datetime(2025, 6, 15, 16, 57, 20, 391858), datetime_complete=datetime.datetime(2025, 6, 15, 16, 57, 21, 74884), params={'max_depth': 6, 'num_leaves': 43}, user_attrs={}, system_attrs={}, intermediate_values={}, distributions={'max_depth': IntDistribution(high=10, log=False, low=4, step=1), 'num_leaves': IntDistribution(high=100, log=False, low=20, step=1)}, trial_id=46, value=None)"
      ]
     },
     "execution_count": 49,
     "metadata": {},
     "output_type": "execute_result"
    }
   ],
   "source": [
    "study.best_trial"
   ]
  },
  {
   "cell_type": "code",
   "execution_count": 50,
   "id": "476cd286",
   "metadata": {},
   "outputs": [
    {
     "data": {
      "text/plain": [
       "{'max_depth': 6, 'num_leaves': 43}"
      ]
     },
     "execution_count": 50,
     "metadata": {},
     "output_type": "execute_result"
    }
   ],
   "source": [
    "study.best_trial.params"
   ]
  },
  {
   "cell_type": "code",
   "execution_count": 11,
   "id": "de652e8c",
   "metadata": {},
   "outputs": [],
   "source": [
    "import optuna.visualization as vis"
   ]
  },
  {
   "cell_type": "code",
   "execution_count": 51,
   "id": "392c8b16",
   "metadata": {},
   "outputs": [
    {
     "data": {
      "application/vnd.plotly.v1+json": {
       "config": {
        "plotlyServerURL": "https://plot.ly"
       },
       "data": [
        {
         "mode": "markers",
         "name": "Objective Value",
         "type": "scatter",
         "x": [
          0,
          1,
          2,
          3,
          4,
          5,
          6,
          7,
          8,
          9,
          10,
          11,
          12,
          13,
          14,
          15,
          16,
          17,
          18,
          19,
          20,
          21,
          22,
          23,
          24,
          25,
          26,
          27,
          28,
          29,
          30,
          31,
          32,
          33,
          34,
          35,
          36,
          37,
          38,
          39,
          40,
          41,
          42,
          43,
          44,
          45,
          46,
          47,
          48,
          49,
          50,
          51,
          52,
          53,
          54,
          55,
          56,
          57,
          58,
          59
         ],
         "y": [
          -1239.96,
          -1341.93,
          -1103.35,
          -1124.8899999999999,
          -1168.15,
          -1103.35,
          -1241.3600000000001,
          -1096.81,
          -1316.5,
          -1421.24,
          -1182.7,
          -1182.7,
          -1239.96,
          -1103.35,
          -1220.18,
          -1295.3999999999999,
          -1464.73,
          -1182.7,
          -1239.03,
          -1103.35,
          -1399.43,
          -1103.35,
          -1217.72,
          -1103.35,
          -1214.33,
          -1103.35,
          -1182.7,
          -1204.81,
          -1103.35,
          -1239.96,
          -1182.7,
          -1103.35,
          -1103.35,
          -1227.38,
          -1103.35,
          -1274.46,
          -1303.6,
          -1182.7,
          -1103.35,
          -1109.77,
          -1182.7,
          -1103.35,
          -1103.35,
          -1239.96,
          -1103.35,
          -1182.7,
          -1074.3600000000001,
          -1111.35,
          -1141.9,
          -1246.19,
          -1341.87,
          -1103.35,
          -1239.96,
          -1176,
          -1103.35,
          -1182.7,
          -1251.27,
          -1184.74,
          -1265.31,
          -1096.81
         ]
        },
        {
         "mode": "lines",
         "name": "Best Value",
         "type": "scatter",
         "x": [
          0,
          1,
          2,
          3,
          4,
          5,
          6,
          7,
          8,
          9,
          10,
          11,
          12,
          13,
          14,
          15,
          16,
          17,
          18,
          19,
          20,
          21,
          22,
          23,
          24,
          25,
          26,
          27,
          28,
          29,
          30,
          31,
          32,
          33,
          34,
          35,
          36,
          37,
          38,
          39,
          40,
          41,
          42,
          43,
          44,
          45,
          46,
          47,
          48,
          49,
          50,
          51,
          52,
          53,
          54,
          55,
          56,
          57,
          58,
          59
         ],
         "y": [
          -1239.96,
          -1239.96,
          -1103.35,
          -1103.35,
          -1103.35,
          -1103.35,
          -1103.35,
          -1096.81,
          -1096.81,
          -1096.81,
          -1096.81,
          -1096.81,
          -1096.81,
          -1096.81,
          -1096.81,
          -1096.81,
          -1096.81,
          -1096.81,
          -1096.81,
          -1096.81,
          -1096.81,
          -1096.81,
          -1096.81,
          -1096.81,
          -1096.81,
          -1096.81,
          -1096.81,
          -1096.81,
          -1096.81,
          -1096.81,
          -1096.81,
          -1096.81,
          -1096.81,
          -1096.81,
          -1096.81,
          -1096.81,
          -1096.81,
          -1096.81,
          -1096.81,
          -1096.81,
          -1096.81,
          -1096.81,
          -1096.81,
          -1096.81,
          -1096.81,
          -1096.81,
          -1074.3600000000001,
          -1074.3600000000001,
          -1074.3600000000001,
          -1074.3600000000001,
          -1074.3600000000001,
          -1074.3600000000001,
          -1074.3600000000001,
          -1074.3600000000001,
          -1074.3600000000001,
          -1074.3600000000001,
          -1074.3600000000001,
          -1074.3600000000001,
          -1074.3600000000001,
          -1074.3600000000001
         ]
        },
        {
         "marker": {
          "color": "#cccccc"
         },
         "mode": "markers",
         "name": "Infeasible Trial",
         "showlegend": false,
         "type": "scatter",
         "x": [],
         "y": []
        }
       ],
       "layout": {
        "template": {
         "data": {
          "bar": [
           {
            "error_x": {
             "color": "#2a3f5f"
            },
            "error_y": {
             "color": "#2a3f5f"
            },
            "marker": {
             "line": {
              "color": "#E5ECF6",
              "width": 0.5
             },
             "pattern": {
              "fillmode": "overlay",
              "size": 10,
              "solidity": 0.2
             }
            },
            "type": "bar"
           }
          ],
          "barpolar": [
           {
            "marker": {
             "line": {
              "color": "#E5ECF6",
              "width": 0.5
             },
             "pattern": {
              "fillmode": "overlay",
              "size": 10,
              "solidity": 0.2
             }
            },
            "type": "barpolar"
           }
          ],
          "carpet": [
           {
            "aaxis": {
             "endlinecolor": "#2a3f5f",
             "gridcolor": "white",
             "linecolor": "white",
             "minorgridcolor": "white",
             "startlinecolor": "#2a3f5f"
            },
            "baxis": {
             "endlinecolor": "#2a3f5f",
             "gridcolor": "white",
             "linecolor": "white",
             "minorgridcolor": "white",
             "startlinecolor": "#2a3f5f"
            },
            "type": "carpet"
           }
          ],
          "choropleth": [
           {
            "colorbar": {
             "outlinewidth": 0,
             "ticks": ""
            },
            "type": "choropleth"
           }
          ],
          "contour": [
           {
            "colorbar": {
             "outlinewidth": 0,
             "ticks": ""
            },
            "colorscale": [
             [
              0,
              "#0d0887"
             ],
             [
              0.1111111111111111,
              "#46039f"
             ],
             [
              0.2222222222222222,
              "#7201a8"
             ],
             [
              0.3333333333333333,
              "#9c179e"
             ],
             [
              0.4444444444444444,
              "#bd3786"
             ],
             [
              0.5555555555555556,
              "#d8576b"
             ],
             [
              0.6666666666666666,
              "#ed7953"
             ],
             [
              0.7777777777777778,
              "#fb9f3a"
             ],
             [
              0.8888888888888888,
              "#fdca26"
             ],
             [
              1,
              "#f0f921"
             ]
            ],
            "type": "contour"
           }
          ],
          "contourcarpet": [
           {
            "colorbar": {
             "outlinewidth": 0,
             "ticks": ""
            },
            "type": "contourcarpet"
           }
          ],
          "heatmap": [
           {
            "colorbar": {
             "outlinewidth": 0,
             "ticks": ""
            },
            "colorscale": [
             [
              0,
              "#0d0887"
             ],
             [
              0.1111111111111111,
              "#46039f"
             ],
             [
              0.2222222222222222,
              "#7201a8"
             ],
             [
              0.3333333333333333,
              "#9c179e"
             ],
             [
              0.4444444444444444,
              "#bd3786"
             ],
             [
              0.5555555555555556,
              "#d8576b"
             ],
             [
              0.6666666666666666,
              "#ed7953"
             ],
             [
              0.7777777777777778,
              "#fb9f3a"
             ],
             [
              0.8888888888888888,
              "#fdca26"
             ],
             [
              1,
              "#f0f921"
             ]
            ],
            "type": "heatmap"
           }
          ],
          "histogram": [
           {
            "marker": {
             "pattern": {
              "fillmode": "overlay",
              "size": 10,
              "solidity": 0.2
             }
            },
            "type": "histogram"
           }
          ],
          "histogram2d": [
           {
            "colorbar": {
             "outlinewidth": 0,
             "ticks": ""
            },
            "colorscale": [
             [
              0,
              "#0d0887"
             ],
             [
              0.1111111111111111,
              "#46039f"
             ],
             [
              0.2222222222222222,
              "#7201a8"
             ],
             [
              0.3333333333333333,
              "#9c179e"
             ],
             [
              0.4444444444444444,
              "#bd3786"
             ],
             [
              0.5555555555555556,
              "#d8576b"
             ],
             [
              0.6666666666666666,
              "#ed7953"
             ],
             [
              0.7777777777777778,
              "#fb9f3a"
             ],
             [
              0.8888888888888888,
              "#fdca26"
             ],
             [
              1,
              "#f0f921"
             ]
            ],
            "type": "histogram2d"
           }
          ],
          "histogram2dcontour": [
           {
            "colorbar": {
             "outlinewidth": 0,
             "ticks": ""
            },
            "colorscale": [
             [
              0,
              "#0d0887"
             ],
             [
              0.1111111111111111,
              "#46039f"
             ],
             [
              0.2222222222222222,
              "#7201a8"
             ],
             [
              0.3333333333333333,
              "#9c179e"
             ],
             [
              0.4444444444444444,
              "#bd3786"
             ],
             [
              0.5555555555555556,
              "#d8576b"
             ],
             [
              0.6666666666666666,
              "#ed7953"
             ],
             [
              0.7777777777777778,
              "#fb9f3a"
             ],
             [
              0.8888888888888888,
              "#fdca26"
             ],
             [
              1,
              "#f0f921"
             ]
            ],
            "type": "histogram2dcontour"
           }
          ],
          "mesh3d": [
           {
            "colorbar": {
             "outlinewidth": 0,
             "ticks": ""
            },
            "type": "mesh3d"
           }
          ],
          "parcoords": [
           {
            "line": {
             "colorbar": {
              "outlinewidth": 0,
              "ticks": ""
             }
            },
            "type": "parcoords"
           }
          ],
          "pie": [
           {
            "automargin": true,
            "type": "pie"
           }
          ],
          "scatter": [
           {
            "fillpattern": {
             "fillmode": "overlay",
             "size": 10,
             "solidity": 0.2
            },
            "type": "scatter"
           }
          ],
          "scatter3d": [
           {
            "line": {
             "colorbar": {
              "outlinewidth": 0,
              "ticks": ""
             }
            },
            "marker": {
             "colorbar": {
              "outlinewidth": 0,
              "ticks": ""
             }
            },
            "type": "scatter3d"
           }
          ],
          "scattercarpet": [
           {
            "marker": {
             "colorbar": {
              "outlinewidth": 0,
              "ticks": ""
             }
            },
            "type": "scattercarpet"
           }
          ],
          "scattergeo": [
           {
            "marker": {
             "colorbar": {
              "outlinewidth": 0,
              "ticks": ""
             }
            },
            "type": "scattergeo"
           }
          ],
          "scattergl": [
           {
            "marker": {
             "colorbar": {
              "outlinewidth": 0,
              "ticks": ""
             }
            },
            "type": "scattergl"
           }
          ],
          "scattermap": [
           {
            "marker": {
             "colorbar": {
              "outlinewidth": 0,
              "ticks": ""
             }
            },
            "type": "scattermap"
           }
          ],
          "scattermapbox": [
           {
            "marker": {
             "colorbar": {
              "outlinewidth": 0,
              "ticks": ""
             }
            },
            "type": "scattermapbox"
           }
          ],
          "scatterpolar": [
           {
            "marker": {
             "colorbar": {
              "outlinewidth": 0,
              "ticks": ""
             }
            },
            "type": "scatterpolar"
           }
          ],
          "scatterpolargl": [
           {
            "marker": {
             "colorbar": {
              "outlinewidth": 0,
              "ticks": ""
             }
            },
            "type": "scatterpolargl"
           }
          ],
          "scatterternary": [
           {
            "marker": {
             "colorbar": {
              "outlinewidth": 0,
              "ticks": ""
             }
            },
            "type": "scatterternary"
           }
          ],
          "surface": [
           {
            "colorbar": {
             "outlinewidth": 0,
             "ticks": ""
            },
            "colorscale": [
             [
              0,
              "#0d0887"
             ],
             [
              0.1111111111111111,
              "#46039f"
             ],
             [
              0.2222222222222222,
              "#7201a8"
             ],
             [
              0.3333333333333333,
              "#9c179e"
             ],
             [
              0.4444444444444444,
              "#bd3786"
             ],
             [
              0.5555555555555556,
              "#d8576b"
             ],
             [
              0.6666666666666666,
              "#ed7953"
             ],
             [
              0.7777777777777778,
              "#fb9f3a"
             ],
             [
              0.8888888888888888,
              "#fdca26"
             ],
             [
              1,
              "#f0f921"
             ]
            ],
            "type": "surface"
           }
          ],
          "table": [
           {
            "cells": {
             "fill": {
              "color": "#EBF0F8"
             },
             "line": {
              "color": "white"
             }
            },
            "header": {
             "fill": {
              "color": "#C8D4E3"
             },
             "line": {
              "color": "white"
             }
            },
            "type": "table"
           }
          ]
         },
         "layout": {
          "annotationdefaults": {
           "arrowcolor": "#2a3f5f",
           "arrowhead": 0,
           "arrowwidth": 1
          },
          "autotypenumbers": "strict",
          "coloraxis": {
           "colorbar": {
            "outlinewidth": 0,
            "ticks": ""
           }
          },
          "colorscale": {
           "diverging": [
            [
             0,
             "#8e0152"
            ],
            [
             0.1,
             "#c51b7d"
            ],
            [
             0.2,
             "#de77ae"
            ],
            [
             0.3,
             "#f1b6da"
            ],
            [
             0.4,
             "#fde0ef"
            ],
            [
             0.5,
             "#f7f7f7"
            ],
            [
             0.6,
             "#e6f5d0"
            ],
            [
             0.7,
             "#b8e186"
            ],
            [
             0.8,
             "#7fbc41"
            ],
            [
             0.9,
             "#4d9221"
            ],
            [
             1,
             "#276419"
            ]
           ],
           "sequential": [
            [
             0,
             "#0d0887"
            ],
            [
             0.1111111111111111,
             "#46039f"
            ],
            [
             0.2222222222222222,
             "#7201a8"
            ],
            [
             0.3333333333333333,
             "#9c179e"
            ],
            [
             0.4444444444444444,
             "#bd3786"
            ],
            [
             0.5555555555555556,
             "#d8576b"
            ],
            [
             0.6666666666666666,
             "#ed7953"
            ],
            [
             0.7777777777777778,
             "#fb9f3a"
            ],
            [
             0.8888888888888888,
             "#fdca26"
            ],
            [
             1,
             "#f0f921"
            ]
           ],
           "sequentialminus": [
            [
             0,
             "#0d0887"
            ],
            [
             0.1111111111111111,
             "#46039f"
            ],
            [
             0.2222222222222222,
             "#7201a8"
            ],
            [
             0.3333333333333333,
             "#9c179e"
            ],
            [
             0.4444444444444444,
             "#bd3786"
            ],
            [
             0.5555555555555556,
             "#d8576b"
            ],
            [
             0.6666666666666666,
             "#ed7953"
            ],
            [
             0.7777777777777778,
             "#fb9f3a"
            ],
            [
             0.8888888888888888,
             "#fdca26"
            ],
            [
             1,
             "#f0f921"
            ]
           ]
          },
          "colorway": [
           "#636efa",
           "#EF553B",
           "#00cc96",
           "#ab63fa",
           "#FFA15A",
           "#19d3f3",
           "#FF6692",
           "#B6E880",
           "#FF97FF",
           "#FECB52"
          ],
          "font": {
           "color": "#2a3f5f"
          },
          "geo": {
           "bgcolor": "white",
           "lakecolor": "white",
           "landcolor": "#E5ECF6",
           "showlakes": true,
           "showland": true,
           "subunitcolor": "white"
          },
          "hoverlabel": {
           "align": "left"
          },
          "hovermode": "closest",
          "mapbox": {
           "style": "light"
          },
          "paper_bgcolor": "white",
          "plot_bgcolor": "#E5ECF6",
          "polar": {
           "angularaxis": {
            "gridcolor": "white",
            "linecolor": "white",
            "ticks": ""
           },
           "bgcolor": "#E5ECF6",
           "radialaxis": {
            "gridcolor": "white",
            "linecolor": "white",
            "ticks": ""
           }
          },
          "scene": {
           "xaxis": {
            "backgroundcolor": "#E5ECF6",
            "gridcolor": "white",
            "gridwidth": 2,
            "linecolor": "white",
            "showbackground": true,
            "ticks": "",
            "zerolinecolor": "white"
           },
           "yaxis": {
            "backgroundcolor": "#E5ECF6",
            "gridcolor": "white",
            "gridwidth": 2,
            "linecolor": "white",
            "showbackground": true,
            "ticks": "",
            "zerolinecolor": "white"
           },
           "zaxis": {
            "backgroundcolor": "#E5ECF6",
            "gridcolor": "white",
            "gridwidth": 2,
            "linecolor": "white",
            "showbackground": true,
            "ticks": "",
            "zerolinecolor": "white"
           }
          },
          "shapedefaults": {
           "line": {
            "color": "#2a3f5f"
           }
          },
          "ternary": {
           "aaxis": {
            "gridcolor": "white",
            "linecolor": "white",
            "ticks": ""
           },
           "baxis": {
            "gridcolor": "white",
            "linecolor": "white",
            "ticks": ""
           },
           "bgcolor": "#E5ECF6",
           "caxis": {
            "gridcolor": "white",
            "linecolor": "white",
            "ticks": ""
           }
          },
          "title": {
           "x": 0.05
          },
          "xaxis": {
           "automargin": true,
           "gridcolor": "white",
           "linecolor": "white",
           "ticks": "",
           "title": {
            "standoff": 15
           },
           "zerolinecolor": "white",
           "zerolinewidth": 2
          },
          "yaxis": {
           "automargin": true,
           "gridcolor": "white",
           "linecolor": "white",
           "ticks": "",
           "title": {
            "standoff": 15
           },
           "zerolinecolor": "white",
           "zerolinewidth": 2
          }
         }
        },
        "title": {
         "text": "Optimization History Plot"
        },
        "xaxis": {
         "title": {
          "text": "Trial"
         }
        },
        "yaxis": {
         "title": {
          "text": "Objective Value"
         }
        }
       }
      }
     },
     "metadata": {},
     "output_type": "display_data"
    }
   ],
   "source": [
    "vis.plot_optimization_history(study)"
   ]
  },
  {
   "cell_type": "code",
   "execution_count": 52,
   "id": "a1b3e2f1",
   "metadata": {},
   "outputs": [
    {
     "data": {
      "application/vnd.plotly.v1+json": {
       "config": {
        "plotlyServerURL": "https://plot.ly"
       },
       "data": [
        {
         "cliponaxis": false,
         "hovertemplate": [
          "num_leaves (IntDistribution): 0.15448400477951468<extra></extra>",
          "max_depth (IntDistribution): 0.8455159952204854<extra></extra>"
         ],
         "name": "Objective Value",
         "orientation": "h",
         "text": [
          "0.15",
          "0.85"
         ],
         "textposition": "outside",
         "type": "bar",
         "x": [
          0.15448400477951468,
          0.8455159952204854
         ],
         "y": [
          "num_leaves",
          "max_depth"
         ]
        }
       ],
       "layout": {
        "template": {
         "data": {
          "bar": [
           {
            "error_x": {
             "color": "#2a3f5f"
            },
            "error_y": {
             "color": "#2a3f5f"
            },
            "marker": {
             "line": {
              "color": "#E5ECF6",
              "width": 0.5
             },
             "pattern": {
              "fillmode": "overlay",
              "size": 10,
              "solidity": 0.2
             }
            },
            "type": "bar"
           }
          ],
          "barpolar": [
           {
            "marker": {
             "line": {
              "color": "#E5ECF6",
              "width": 0.5
             },
             "pattern": {
              "fillmode": "overlay",
              "size": 10,
              "solidity": 0.2
             }
            },
            "type": "barpolar"
           }
          ],
          "carpet": [
           {
            "aaxis": {
             "endlinecolor": "#2a3f5f",
             "gridcolor": "white",
             "linecolor": "white",
             "minorgridcolor": "white",
             "startlinecolor": "#2a3f5f"
            },
            "baxis": {
             "endlinecolor": "#2a3f5f",
             "gridcolor": "white",
             "linecolor": "white",
             "minorgridcolor": "white",
             "startlinecolor": "#2a3f5f"
            },
            "type": "carpet"
           }
          ],
          "choropleth": [
           {
            "colorbar": {
             "outlinewidth": 0,
             "ticks": ""
            },
            "type": "choropleth"
           }
          ],
          "contour": [
           {
            "colorbar": {
             "outlinewidth": 0,
             "ticks": ""
            },
            "colorscale": [
             [
              0,
              "#0d0887"
             ],
             [
              0.1111111111111111,
              "#46039f"
             ],
             [
              0.2222222222222222,
              "#7201a8"
             ],
             [
              0.3333333333333333,
              "#9c179e"
             ],
             [
              0.4444444444444444,
              "#bd3786"
             ],
             [
              0.5555555555555556,
              "#d8576b"
             ],
             [
              0.6666666666666666,
              "#ed7953"
             ],
             [
              0.7777777777777778,
              "#fb9f3a"
             ],
             [
              0.8888888888888888,
              "#fdca26"
             ],
             [
              1,
              "#f0f921"
             ]
            ],
            "type": "contour"
           }
          ],
          "contourcarpet": [
           {
            "colorbar": {
             "outlinewidth": 0,
             "ticks": ""
            },
            "type": "contourcarpet"
           }
          ],
          "heatmap": [
           {
            "colorbar": {
             "outlinewidth": 0,
             "ticks": ""
            },
            "colorscale": [
             [
              0,
              "#0d0887"
             ],
             [
              0.1111111111111111,
              "#46039f"
             ],
             [
              0.2222222222222222,
              "#7201a8"
             ],
             [
              0.3333333333333333,
              "#9c179e"
             ],
             [
              0.4444444444444444,
              "#bd3786"
             ],
             [
              0.5555555555555556,
              "#d8576b"
             ],
             [
              0.6666666666666666,
              "#ed7953"
             ],
             [
              0.7777777777777778,
              "#fb9f3a"
             ],
             [
              0.8888888888888888,
              "#fdca26"
             ],
             [
              1,
              "#f0f921"
             ]
            ],
            "type": "heatmap"
           }
          ],
          "histogram": [
           {
            "marker": {
             "pattern": {
              "fillmode": "overlay",
              "size": 10,
              "solidity": 0.2
             }
            },
            "type": "histogram"
           }
          ],
          "histogram2d": [
           {
            "colorbar": {
             "outlinewidth": 0,
             "ticks": ""
            },
            "colorscale": [
             [
              0,
              "#0d0887"
             ],
             [
              0.1111111111111111,
              "#46039f"
             ],
             [
              0.2222222222222222,
              "#7201a8"
             ],
             [
              0.3333333333333333,
              "#9c179e"
             ],
             [
              0.4444444444444444,
              "#bd3786"
             ],
             [
              0.5555555555555556,
              "#d8576b"
             ],
             [
              0.6666666666666666,
              "#ed7953"
             ],
             [
              0.7777777777777778,
              "#fb9f3a"
             ],
             [
              0.8888888888888888,
              "#fdca26"
             ],
             [
              1,
              "#f0f921"
             ]
            ],
            "type": "histogram2d"
           }
          ],
          "histogram2dcontour": [
           {
            "colorbar": {
             "outlinewidth": 0,
             "ticks": ""
            },
            "colorscale": [
             [
              0,
              "#0d0887"
             ],
             [
              0.1111111111111111,
              "#46039f"
             ],
             [
              0.2222222222222222,
              "#7201a8"
             ],
             [
              0.3333333333333333,
              "#9c179e"
             ],
             [
              0.4444444444444444,
              "#bd3786"
             ],
             [
              0.5555555555555556,
              "#d8576b"
             ],
             [
              0.6666666666666666,
              "#ed7953"
             ],
             [
              0.7777777777777778,
              "#fb9f3a"
             ],
             [
              0.8888888888888888,
              "#fdca26"
             ],
             [
              1,
              "#f0f921"
             ]
            ],
            "type": "histogram2dcontour"
           }
          ],
          "mesh3d": [
           {
            "colorbar": {
             "outlinewidth": 0,
             "ticks": ""
            },
            "type": "mesh3d"
           }
          ],
          "parcoords": [
           {
            "line": {
             "colorbar": {
              "outlinewidth": 0,
              "ticks": ""
             }
            },
            "type": "parcoords"
           }
          ],
          "pie": [
           {
            "automargin": true,
            "type": "pie"
           }
          ],
          "scatter": [
           {
            "fillpattern": {
             "fillmode": "overlay",
             "size": 10,
             "solidity": 0.2
            },
            "type": "scatter"
           }
          ],
          "scatter3d": [
           {
            "line": {
             "colorbar": {
              "outlinewidth": 0,
              "ticks": ""
             }
            },
            "marker": {
             "colorbar": {
              "outlinewidth": 0,
              "ticks": ""
             }
            },
            "type": "scatter3d"
           }
          ],
          "scattercarpet": [
           {
            "marker": {
             "colorbar": {
              "outlinewidth": 0,
              "ticks": ""
             }
            },
            "type": "scattercarpet"
           }
          ],
          "scattergeo": [
           {
            "marker": {
             "colorbar": {
              "outlinewidth": 0,
              "ticks": ""
             }
            },
            "type": "scattergeo"
           }
          ],
          "scattergl": [
           {
            "marker": {
             "colorbar": {
              "outlinewidth": 0,
              "ticks": ""
             }
            },
            "type": "scattergl"
           }
          ],
          "scattermap": [
           {
            "marker": {
             "colorbar": {
              "outlinewidth": 0,
              "ticks": ""
             }
            },
            "type": "scattermap"
           }
          ],
          "scattermapbox": [
           {
            "marker": {
             "colorbar": {
              "outlinewidth": 0,
              "ticks": ""
             }
            },
            "type": "scattermapbox"
           }
          ],
          "scatterpolar": [
           {
            "marker": {
             "colorbar": {
              "outlinewidth": 0,
              "ticks": ""
             }
            },
            "type": "scatterpolar"
           }
          ],
          "scatterpolargl": [
           {
            "marker": {
             "colorbar": {
              "outlinewidth": 0,
              "ticks": ""
             }
            },
            "type": "scatterpolargl"
           }
          ],
          "scatterternary": [
           {
            "marker": {
             "colorbar": {
              "outlinewidth": 0,
              "ticks": ""
             }
            },
            "type": "scatterternary"
           }
          ],
          "surface": [
           {
            "colorbar": {
             "outlinewidth": 0,
             "ticks": ""
            },
            "colorscale": [
             [
              0,
              "#0d0887"
             ],
             [
              0.1111111111111111,
              "#46039f"
             ],
             [
              0.2222222222222222,
              "#7201a8"
             ],
             [
              0.3333333333333333,
              "#9c179e"
             ],
             [
              0.4444444444444444,
              "#bd3786"
             ],
             [
              0.5555555555555556,
              "#d8576b"
             ],
             [
              0.6666666666666666,
              "#ed7953"
             ],
             [
              0.7777777777777778,
              "#fb9f3a"
             ],
             [
              0.8888888888888888,
              "#fdca26"
             ],
             [
              1,
              "#f0f921"
             ]
            ],
            "type": "surface"
           }
          ],
          "table": [
           {
            "cells": {
             "fill": {
              "color": "#EBF0F8"
             },
             "line": {
              "color": "white"
             }
            },
            "header": {
             "fill": {
              "color": "#C8D4E3"
             },
             "line": {
              "color": "white"
             }
            },
            "type": "table"
           }
          ]
         },
         "layout": {
          "annotationdefaults": {
           "arrowcolor": "#2a3f5f",
           "arrowhead": 0,
           "arrowwidth": 1
          },
          "autotypenumbers": "strict",
          "coloraxis": {
           "colorbar": {
            "outlinewidth": 0,
            "ticks": ""
           }
          },
          "colorscale": {
           "diverging": [
            [
             0,
             "#8e0152"
            ],
            [
             0.1,
             "#c51b7d"
            ],
            [
             0.2,
             "#de77ae"
            ],
            [
             0.3,
             "#f1b6da"
            ],
            [
             0.4,
             "#fde0ef"
            ],
            [
             0.5,
             "#f7f7f7"
            ],
            [
             0.6,
             "#e6f5d0"
            ],
            [
             0.7,
             "#b8e186"
            ],
            [
             0.8,
             "#7fbc41"
            ],
            [
             0.9,
             "#4d9221"
            ],
            [
             1,
             "#276419"
            ]
           ],
           "sequential": [
            [
             0,
             "#0d0887"
            ],
            [
             0.1111111111111111,
             "#46039f"
            ],
            [
             0.2222222222222222,
             "#7201a8"
            ],
            [
             0.3333333333333333,
             "#9c179e"
            ],
            [
             0.4444444444444444,
             "#bd3786"
            ],
            [
             0.5555555555555556,
             "#d8576b"
            ],
            [
             0.6666666666666666,
             "#ed7953"
            ],
            [
             0.7777777777777778,
             "#fb9f3a"
            ],
            [
             0.8888888888888888,
             "#fdca26"
            ],
            [
             1,
             "#f0f921"
            ]
           ],
           "sequentialminus": [
            [
             0,
             "#0d0887"
            ],
            [
             0.1111111111111111,
             "#46039f"
            ],
            [
             0.2222222222222222,
             "#7201a8"
            ],
            [
             0.3333333333333333,
             "#9c179e"
            ],
            [
             0.4444444444444444,
             "#bd3786"
            ],
            [
             0.5555555555555556,
             "#d8576b"
            ],
            [
             0.6666666666666666,
             "#ed7953"
            ],
            [
             0.7777777777777778,
             "#fb9f3a"
            ],
            [
             0.8888888888888888,
             "#fdca26"
            ],
            [
             1,
             "#f0f921"
            ]
           ]
          },
          "colorway": [
           "#636efa",
           "#EF553B",
           "#00cc96",
           "#ab63fa",
           "#FFA15A",
           "#19d3f3",
           "#FF6692",
           "#B6E880",
           "#FF97FF",
           "#FECB52"
          ],
          "font": {
           "color": "#2a3f5f"
          },
          "geo": {
           "bgcolor": "white",
           "lakecolor": "white",
           "landcolor": "#E5ECF6",
           "showlakes": true,
           "showland": true,
           "subunitcolor": "white"
          },
          "hoverlabel": {
           "align": "left"
          },
          "hovermode": "closest",
          "mapbox": {
           "style": "light"
          },
          "paper_bgcolor": "white",
          "plot_bgcolor": "#E5ECF6",
          "polar": {
           "angularaxis": {
            "gridcolor": "white",
            "linecolor": "white",
            "ticks": ""
           },
           "bgcolor": "#E5ECF6",
           "radialaxis": {
            "gridcolor": "white",
            "linecolor": "white",
            "ticks": ""
           }
          },
          "scene": {
           "xaxis": {
            "backgroundcolor": "#E5ECF6",
            "gridcolor": "white",
            "gridwidth": 2,
            "linecolor": "white",
            "showbackground": true,
            "ticks": "",
            "zerolinecolor": "white"
           },
           "yaxis": {
            "backgroundcolor": "#E5ECF6",
            "gridcolor": "white",
            "gridwidth": 2,
            "linecolor": "white",
            "showbackground": true,
            "ticks": "",
            "zerolinecolor": "white"
           },
           "zaxis": {
            "backgroundcolor": "#E5ECF6",
            "gridcolor": "white",
            "gridwidth": 2,
            "linecolor": "white",
            "showbackground": true,
            "ticks": "",
            "zerolinecolor": "white"
           }
          },
          "shapedefaults": {
           "line": {
            "color": "#2a3f5f"
           }
          },
          "ternary": {
           "aaxis": {
            "gridcolor": "white",
            "linecolor": "white",
            "ticks": ""
           },
           "baxis": {
            "gridcolor": "white",
            "linecolor": "white",
            "ticks": ""
           },
           "bgcolor": "#E5ECF6",
           "caxis": {
            "gridcolor": "white",
            "linecolor": "white",
            "ticks": ""
           }
          },
          "title": {
           "x": 0.05
          },
          "xaxis": {
           "automargin": true,
           "gridcolor": "white",
           "linecolor": "white",
           "ticks": "",
           "title": {
            "standoff": 15
           },
           "zerolinecolor": "white",
           "zerolinewidth": 2
          },
          "yaxis": {
           "automargin": true,
           "gridcolor": "white",
           "linecolor": "white",
           "ticks": "",
           "title": {
            "standoff": 15
           },
           "zerolinecolor": "white",
           "zerolinewidth": 2
          }
         }
        },
        "title": {
         "text": "Hyperparameter Importances"
        },
        "xaxis": {
         "title": {
          "text": "Hyperparameter Importance"
         }
        },
        "yaxis": {
         "title": {
          "text": "Hyperparameter"
         }
        }
       }
      }
     },
     "metadata": {},
     "output_type": "display_data"
    }
   ],
   "source": [
    "vis.plot_param_importances(study)"
   ]
  },
  {
   "cell_type": "code",
   "execution_count": 53,
   "id": "98176b21",
   "metadata": {},
   "outputs": [
    {
     "data": {
      "application/vnd.plotly.v1+json": {
       "config": {
        "plotlyServerURL": "https://plot.ly"
       },
       "data": [
        {
         "marker": {
          "color": [
           0,
           1,
           2,
           3,
           4,
           5,
           6,
           7,
           8,
           9,
           10,
           11,
           12,
           13,
           14,
           15,
           16,
           17,
           18,
           19,
           20,
           21,
           22,
           23,
           24,
           25,
           26,
           27,
           28,
           29,
           30,
           31,
           32,
           33,
           34,
           35,
           36,
           37,
           38,
           39,
           40,
           41,
           42,
           43,
           44,
           45,
           46,
           47,
           48,
           49,
           50,
           51,
           52,
           53,
           54,
           55,
           56,
           57,
           58,
           59
          ],
          "colorbar": {
           "title": {
            "text": "Trial"
           },
           "x": 1,
           "xpad": 40
          },
          "colorscale": [
           [
            0,
            "rgb(247,251,255)"
           ],
           [
            0.125,
            "rgb(222,235,247)"
           ],
           [
            0.25,
            "rgb(198,219,239)"
           ],
           [
            0.375,
            "rgb(158,202,225)"
           ],
           [
            0.5,
            "rgb(107,174,214)"
           ],
           [
            0.625,
            "rgb(66,146,198)"
           ],
           [
            0.75,
            "rgb(33,113,181)"
           ],
           [
            0.875,
            "rgb(8,81,156)"
           ],
           [
            1,
            "rgb(8,48,107)"
           ]
          ],
          "line": {
           "color": "Grey",
           "width": 0.5
          },
          "showscale": true
         },
         "mode": "markers",
         "name": "Feasible Trial",
         "showlegend": false,
         "type": "scatter",
         "x": [
          6,
          10,
          5,
          5,
          6,
          5,
          8,
          6,
          8,
          7,
          4,
          4,
          6,
          5,
          7,
          7,
          10,
          4,
          8,
          5,
          9,
          5,
          6,
          5,
          6,
          5,
          4,
          6,
          5,
          6,
          4,
          5,
          5,
          6,
          5,
          7,
          6,
          4,
          5,
          7,
          4,
          5,
          5,
          6,
          5,
          4,
          6,
          7,
          6,
          7,
          8,
          5,
          6,
          6,
          5,
          4,
          6,
          5,
          10,
          6
         ],
         "xaxis": "x",
         "y": [
          -1239.96,
          -1341.93,
          -1103.35,
          -1124.8899999999999,
          -1168.15,
          -1103.35,
          -1241.3600000000001,
          -1096.81,
          -1316.5,
          -1421.24,
          -1182.7,
          -1182.7,
          -1239.96,
          -1103.35,
          -1220.18,
          -1295.3999999999999,
          -1464.73,
          -1182.7,
          -1239.03,
          -1103.35,
          -1399.43,
          -1103.35,
          -1217.72,
          -1103.35,
          -1214.33,
          -1103.35,
          -1182.7,
          -1204.81,
          -1103.35,
          -1239.96,
          -1182.7,
          -1103.35,
          -1103.35,
          -1227.38,
          -1103.35,
          -1274.46,
          -1303.6,
          -1182.7,
          -1103.35,
          -1109.77,
          -1182.7,
          -1103.35,
          -1103.35,
          -1239.96,
          -1103.35,
          -1182.7,
          -1074.3600000000001,
          -1111.35,
          -1141.9,
          -1246.19,
          -1341.87,
          -1103.35,
          -1239.96,
          -1176,
          -1103.35,
          -1182.7,
          -1251.27,
          -1184.74,
          -1265.31,
          -1096.81
         ],
         "yaxis": "y"
        },
        {
         "marker": {
          "color": [
           0,
           1,
           2,
           3,
           4,
           5,
           6,
           7,
           8,
           9,
           10,
           11,
           12,
           13,
           14,
           15,
           16,
           17,
           18,
           19,
           20,
           21,
           22,
           23,
           24,
           25,
           26,
           27,
           28,
           29,
           30,
           31,
           32,
           33,
           34,
           35,
           36,
           37,
           38,
           39,
           40,
           41,
           42,
           43,
           44,
           45,
           46,
           47,
           48,
           49,
           50,
           51,
           52,
           53,
           54,
           55,
           56,
           57,
           58,
           59
          ],
          "colorbar": {
           "title": {
            "text": "Trial"
           },
           "x": 1,
           "xpad": 40
          },
          "colorscale": [
           [
            0,
            "rgb(247,251,255)"
           ],
           [
            0.125,
            "rgb(222,235,247)"
           ],
           [
            0.25,
            "rgb(198,219,239)"
           ],
           [
            0.375,
            "rgb(158,202,225)"
           ],
           [
            0.5,
            "rgb(107,174,214)"
           ],
           [
            0.625,
            "rgb(66,146,198)"
           ],
           [
            0.75,
            "rgb(33,113,181)"
           ],
           [
            0.875,
            "rgb(8,81,156)"
           ],
           [
            1,
            "rgb(8,48,107)"
           ]
          ],
          "line": {
           "color": "Grey",
           "width": 0.5
          },
          "showscale": false
         },
         "mode": "markers",
         "name": "Feasible Trial",
         "showlegend": false,
         "type": "scatter",
         "x": [
          73,
          32,
          93,
          26,
          33,
          33,
          45,
          47,
          74,
          92,
          54,
          98,
          72,
          57,
          85,
          46,
          63,
          45,
          83,
          64,
          51,
          38,
          22,
          40,
          28,
          37,
          20,
          50,
          68,
          79,
          98,
          54,
          60,
          32,
          57,
          40,
          31,
          46,
          91,
          69,
          25,
          59,
          79,
          63,
          65,
          93,
          43,
          49,
          54,
          44,
          34,
          41,
          74,
          56,
          36,
          43,
          49,
          28,
          52,
          47
         ],
         "xaxis": "x2",
         "y": [
          -1239.96,
          -1341.93,
          -1103.35,
          -1124.8899999999999,
          -1168.15,
          -1103.35,
          -1241.3600000000001,
          -1096.81,
          -1316.5,
          -1421.24,
          -1182.7,
          -1182.7,
          -1239.96,
          -1103.35,
          -1220.18,
          -1295.3999999999999,
          -1464.73,
          -1182.7,
          -1239.03,
          -1103.35,
          -1399.43,
          -1103.35,
          -1217.72,
          -1103.35,
          -1214.33,
          -1103.35,
          -1182.7,
          -1204.81,
          -1103.35,
          -1239.96,
          -1182.7,
          -1103.35,
          -1103.35,
          -1227.38,
          -1103.35,
          -1274.46,
          -1303.6,
          -1182.7,
          -1103.35,
          -1109.77,
          -1182.7,
          -1103.35,
          -1103.35,
          -1239.96,
          -1103.35,
          -1182.7,
          -1074.3600000000001,
          -1111.35,
          -1141.9,
          -1246.19,
          -1341.87,
          -1103.35,
          -1239.96,
          -1176,
          -1103.35,
          -1182.7,
          -1251.27,
          -1184.74,
          -1265.31,
          -1096.81
         ],
         "yaxis": "y2"
        }
       ],
       "layout": {
        "template": {
         "data": {
          "bar": [
           {
            "error_x": {
             "color": "#2a3f5f"
            },
            "error_y": {
             "color": "#2a3f5f"
            },
            "marker": {
             "line": {
              "color": "#E5ECF6",
              "width": 0.5
             },
             "pattern": {
              "fillmode": "overlay",
              "size": 10,
              "solidity": 0.2
             }
            },
            "type": "bar"
           }
          ],
          "barpolar": [
           {
            "marker": {
             "line": {
              "color": "#E5ECF6",
              "width": 0.5
             },
             "pattern": {
              "fillmode": "overlay",
              "size": 10,
              "solidity": 0.2
             }
            },
            "type": "barpolar"
           }
          ],
          "carpet": [
           {
            "aaxis": {
             "endlinecolor": "#2a3f5f",
             "gridcolor": "white",
             "linecolor": "white",
             "minorgridcolor": "white",
             "startlinecolor": "#2a3f5f"
            },
            "baxis": {
             "endlinecolor": "#2a3f5f",
             "gridcolor": "white",
             "linecolor": "white",
             "minorgridcolor": "white",
             "startlinecolor": "#2a3f5f"
            },
            "type": "carpet"
           }
          ],
          "choropleth": [
           {
            "colorbar": {
             "outlinewidth": 0,
             "ticks": ""
            },
            "type": "choropleth"
           }
          ],
          "contour": [
           {
            "colorbar": {
             "outlinewidth": 0,
             "ticks": ""
            },
            "colorscale": [
             [
              0,
              "#0d0887"
             ],
             [
              0.1111111111111111,
              "#46039f"
             ],
             [
              0.2222222222222222,
              "#7201a8"
             ],
             [
              0.3333333333333333,
              "#9c179e"
             ],
             [
              0.4444444444444444,
              "#bd3786"
             ],
             [
              0.5555555555555556,
              "#d8576b"
             ],
             [
              0.6666666666666666,
              "#ed7953"
             ],
             [
              0.7777777777777778,
              "#fb9f3a"
             ],
             [
              0.8888888888888888,
              "#fdca26"
             ],
             [
              1,
              "#f0f921"
             ]
            ],
            "type": "contour"
           }
          ],
          "contourcarpet": [
           {
            "colorbar": {
             "outlinewidth": 0,
             "ticks": ""
            },
            "type": "contourcarpet"
           }
          ],
          "heatmap": [
           {
            "colorbar": {
             "outlinewidth": 0,
             "ticks": ""
            },
            "colorscale": [
             [
              0,
              "#0d0887"
             ],
             [
              0.1111111111111111,
              "#46039f"
             ],
             [
              0.2222222222222222,
              "#7201a8"
             ],
             [
              0.3333333333333333,
              "#9c179e"
             ],
             [
              0.4444444444444444,
              "#bd3786"
             ],
             [
              0.5555555555555556,
              "#d8576b"
             ],
             [
              0.6666666666666666,
              "#ed7953"
             ],
             [
              0.7777777777777778,
              "#fb9f3a"
             ],
             [
              0.8888888888888888,
              "#fdca26"
             ],
             [
              1,
              "#f0f921"
             ]
            ],
            "type": "heatmap"
           }
          ],
          "histogram": [
           {
            "marker": {
             "pattern": {
              "fillmode": "overlay",
              "size": 10,
              "solidity": 0.2
             }
            },
            "type": "histogram"
           }
          ],
          "histogram2d": [
           {
            "colorbar": {
             "outlinewidth": 0,
             "ticks": ""
            },
            "colorscale": [
             [
              0,
              "#0d0887"
             ],
             [
              0.1111111111111111,
              "#46039f"
             ],
             [
              0.2222222222222222,
              "#7201a8"
             ],
             [
              0.3333333333333333,
              "#9c179e"
             ],
             [
              0.4444444444444444,
              "#bd3786"
             ],
             [
              0.5555555555555556,
              "#d8576b"
             ],
             [
              0.6666666666666666,
              "#ed7953"
             ],
             [
              0.7777777777777778,
              "#fb9f3a"
             ],
             [
              0.8888888888888888,
              "#fdca26"
             ],
             [
              1,
              "#f0f921"
             ]
            ],
            "type": "histogram2d"
           }
          ],
          "histogram2dcontour": [
           {
            "colorbar": {
             "outlinewidth": 0,
             "ticks": ""
            },
            "colorscale": [
             [
              0,
              "#0d0887"
             ],
             [
              0.1111111111111111,
              "#46039f"
             ],
             [
              0.2222222222222222,
              "#7201a8"
             ],
             [
              0.3333333333333333,
              "#9c179e"
             ],
             [
              0.4444444444444444,
              "#bd3786"
             ],
             [
              0.5555555555555556,
              "#d8576b"
             ],
             [
              0.6666666666666666,
              "#ed7953"
             ],
             [
              0.7777777777777778,
              "#fb9f3a"
             ],
             [
              0.8888888888888888,
              "#fdca26"
             ],
             [
              1,
              "#f0f921"
             ]
            ],
            "type": "histogram2dcontour"
           }
          ],
          "mesh3d": [
           {
            "colorbar": {
             "outlinewidth": 0,
             "ticks": ""
            },
            "type": "mesh3d"
           }
          ],
          "parcoords": [
           {
            "line": {
             "colorbar": {
              "outlinewidth": 0,
              "ticks": ""
             }
            },
            "type": "parcoords"
           }
          ],
          "pie": [
           {
            "automargin": true,
            "type": "pie"
           }
          ],
          "scatter": [
           {
            "fillpattern": {
             "fillmode": "overlay",
             "size": 10,
             "solidity": 0.2
            },
            "type": "scatter"
           }
          ],
          "scatter3d": [
           {
            "line": {
             "colorbar": {
              "outlinewidth": 0,
              "ticks": ""
             }
            },
            "marker": {
             "colorbar": {
              "outlinewidth": 0,
              "ticks": ""
             }
            },
            "type": "scatter3d"
           }
          ],
          "scattercarpet": [
           {
            "marker": {
             "colorbar": {
              "outlinewidth": 0,
              "ticks": ""
             }
            },
            "type": "scattercarpet"
           }
          ],
          "scattergeo": [
           {
            "marker": {
             "colorbar": {
              "outlinewidth": 0,
              "ticks": ""
             }
            },
            "type": "scattergeo"
           }
          ],
          "scattergl": [
           {
            "marker": {
             "colorbar": {
              "outlinewidth": 0,
              "ticks": ""
             }
            },
            "type": "scattergl"
           }
          ],
          "scattermap": [
           {
            "marker": {
             "colorbar": {
              "outlinewidth": 0,
              "ticks": ""
             }
            },
            "type": "scattermap"
           }
          ],
          "scattermapbox": [
           {
            "marker": {
             "colorbar": {
              "outlinewidth": 0,
              "ticks": ""
             }
            },
            "type": "scattermapbox"
           }
          ],
          "scatterpolar": [
           {
            "marker": {
             "colorbar": {
              "outlinewidth": 0,
              "ticks": ""
             }
            },
            "type": "scatterpolar"
           }
          ],
          "scatterpolargl": [
           {
            "marker": {
             "colorbar": {
              "outlinewidth": 0,
              "ticks": ""
             }
            },
            "type": "scatterpolargl"
           }
          ],
          "scatterternary": [
           {
            "marker": {
             "colorbar": {
              "outlinewidth": 0,
              "ticks": ""
             }
            },
            "type": "scatterternary"
           }
          ],
          "surface": [
           {
            "colorbar": {
             "outlinewidth": 0,
             "ticks": ""
            },
            "colorscale": [
             [
              0,
              "#0d0887"
             ],
             [
              0.1111111111111111,
              "#46039f"
             ],
             [
              0.2222222222222222,
              "#7201a8"
             ],
             [
              0.3333333333333333,
              "#9c179e"
             ],
             [
              0.4444444444444444,
              "#bd3786"
             ],
             [
              0.5555555555555556,
              "#d8576b"
             ],
             [
              0.6666666666666666,
              "#ed7953"
             ],
             [
              0.7777777777777778,
              "#fb9f3a"
             ],
             [
              0.8888888888888888,
              "#fdca26"
             ],
             [
              1,
              "#f0f921"
             ]
            ],
            "type": "surface"
           }
          ],
          "table": [
           {
            "cells": {
             "fill": {
              "color": "#EBF0F8"
             },
             "line": {
              "color": "white"
             }
            },
            "header": {
             "fill": {
              "color": "#C8D4E3"
             },
             "line": {
              "color": "white"
             }
            },
            "type": "table"
           }
          ]
         },
         "layout": {
          "annotationdefaults": {
           "arrowcolor": "#2a3f5f",
           "arrowhead": 0,
           "arrowwidth": 1
          },
          "autotypenumbers": "strict",
          "coloraxis": {
           "colorbar": {
            "outlinewidth": 0,
            "ticks": ""
           }
          },
          "colorscale": {
           "diverging": [
            [
             0,
             "#8e0152"
            ],
            [
             0.1,
             "#c51b7d"
            ],
            [
             0.2,
             "#de77ae"
            ],
            [
             0.3,
             "#f1b6da"
            ],
            [
             0.4,
             "#fde0ef"
            ],
            [
             0.5,
             "#f7f7f7"
            ],
            [
             0.6,
             "#e6f5d0"
            ],
            [
             0.7,
             "#b8e186"
            ],
            [
             0.8,
             "#7fbc41"
            ],
            [
             0.9,
             "#4d9221"
            ],
            [
             1,
             "#276419"
            ]
           ],
           "sequential": [
            [
             0,
             "#0d0887"
            ],
            [
             0.1111111111111111,
             "#46039f"
            ],
            [
             0.2222222222222222,
             "#7201a8"
            ],
            [
             0.3333333333333333,
             "#9c179e"
            ],
            [
             0.4444444444444444,
             "#bd3786"
            ],
            [
             0.5555555555555556,
             "#d8576b"
            ],
            [
             0.6666666666666666,
             "#ed7953"
            ],
            [
             0.7777777777777778,
             "#fb9f3a"
            ],
            [
             0.8888888888888888,
             "#fdca26"
            ],
            [
             1,
             "#f0f921"
            ]
           ],
           "sequentialminus": [
            [
             0,
             "#0d0887"
            ],
            [
             0.1111111111111111,
             "#46039f"
            ],
            [
             0.2222222222222222,
             "#7201a8"
            ],
            [
             0.3333333333333333,
             "#9c179e"
            ],
            [
             0.4444444444444444,
             "#bd3786"
            ],
            [
             0.5555555555555556,
             "#d8576b"
            ],
            [
             0.6666666666666666,
             "#ed7953"
            ],
            [
             0.7777777777777778,
             "#fb9f3a"
            ],
            [
             0.8888888888888888,
             "#fdca26"
            ],
            [
             1,
             "#f0f921"
            ]
           ]
          },
          "colorway": [
           "#636efa",
           "#EF553B",
           "#00cc96",
           "#ab63fa",
           "#FFA15A",
           "#19d3f3",
           "#FF6692",
           "#B6E880",
           "#FF97FF",
           "#FECB52"
          ],
          "font": {
           "color": "#2a3f5f"
          },
          "geo": {
           "bgcolor": "white",
           "lakecolor": "white",
           "landcolor": "#E5ECF6",
           "showlakes": true,
           "showland": true,
           "subunitcolor": "white"
          },
          "hoverlabel": {
           "align": "left"
          },
          "hovermode": "closest",
          "mapbox": {
           "style": "light"
          },
          "paper_bgcolor": "white",
          "plot_bgcolor": "#E5ECF6",
          "polar": {
           "angularaxis": {
            "gridcolor": "white",
            "linecolor": "white",
            "ticks": ""
           },
           "bgcolor": "#E5ECF6",
           "radialaxis": {
            "gridcolor": "white",
            "linecolor": "white",
            "ticks": ""
           }
          },
          "scene": {
           "xaxis": {
            "backgroundcolor": "#E5ECF6",
            "gridcolor": "white",
            "gridwidth": 2,
            "linecolor": "white",
            "showbackground": true,
            "ticks": "",
            "zerolinecolor": "white"
           },
           "yaxis": {
            "backgroundcolor": "#E5ECF6",
            "gridcolor": "white",
            "gridwidth": 2,
            "linecolor": "white",
            "showbackground": true,
            "ticks": "",
            "zerolinecolor": "white"
           },
           "zaxis": {
            "backgroundcolor": "#E5ECF6",
            "gridcolor": "white",
            "gridwidth": 2,
            "linecolor": "white",
            "showbackground": true,
            "ticks": "",
            "zerolinecolor": "white"
           }
          },
          "shapedefaults": {
           "line": {
            "color": "#2a3f5f"
           }
          },
          "ternary": {
           "aaxis": {
            "gridcolor": "white",
            "linecolor": "white",
            "ticks": ""
           },
           "baxis": {
            "gridcolor": "white",
            "linecolor": "white",
            "ticks": ""
           },
           "bgcolor": "#E5ECF6",
           "caxis": {
            "gridcolor": "white",
            "linecolor": "white",
            "ticks": ""
           }
          },
          "title": {
           "x": 0.05
          },
          "xaxis": {
           "automargin": true,
           "gridcolor": "white",
           "linecolor": "white",
           "ticks": "",
           "title": {
            "standoff": 15
           },
           "zerolinecolor": "white",
           "zerolinewidth": 2
          },
          "yaxis": {
           "automargin": true,
           "gridcolor": "white",
           "linecolor": "white",
           "ticks": "",
           "title": {
            "standoff": 15
           },
           "zerolinecolor": "white",
           "zerolinewidth": 2
          }
         }
        },
        "title": {
         "text": "Slice Plot"
        },
        "xaxis": {
         "anchor": "y",
         "domain": [
          0,
          0.45
         ],
         "title": {
          "text": "max_depth"
         }
        },
        "xaxis2": {
         "anchor": "y2",
         "domain": [
          0.55,
          1
         ],
         "title": {
          "text": "num_leaves"
         }
        },
        "yaxis": {
         "anchor": "x",
         "domain": [
          0,
          1
         ],
         "title": {
          "text": "Objective Value"
         }
        },
        "yaxis2": {
         "anchor": "x2",
         "domain": [
          0,
          1
         ],
         "matches": "y",
         "showticklabels": false
        }
       }
      }
     },
     "metadata": {},
     "output_type": "display_data"
    }
   ],
   "source": [
    "vis.plot_slice(study)"
   ]
  },
  {
   "cell_type": "code",
   "execution_count": 62,
   "id": "54f11fd2",
   "metadata": {},
   "outputs": [
    {
     "name": "stdout",
     "output_type": "stream",
     "text": [
      "\n",
      "\n",
      "Start trainings for new xgboost\n",
      "Round 0\n",
      "Round 1\n",
      "Round 2\n",
      "Round 3\n",
      "Round 4\n"
     ]
    },
    {
     "data": {
      "text/html": [
       "<div>\n",
       "<style scoped>\n",
       "    .dataframe tbody tr th:only-of-type {\n",
       "        vertical-align: middle;\n",
       "    }\n",
       "\n",
       "    .dataframe tbody tr th {\n",
       "        vertical-align: top;\n",
       "    }\n",
       "\n",
       "    .dataframe thead th {\n",
       "        text-align: right;\n",
       "    }\n",
       "</style>\n",
       "<table border=\"1\" class=\"dataframe\">\n",
       "  <thead>\n",
       "    <tr style=\"text-align: right;\">\n",
       "      <th></th>\n",
       "      <th>precision</th>\n",
       "      <th>recall</th>\n",
       "      <th>f1</th>\n",
       "      <th>damage_total</th>\n",
       "      <th>damage_prevented</th>\n",
       "      <th>damage_missed</th>\n",
       "      <th>detected bonus</th>\n",
       "      <th>fp penalty</th>\n",
       "      <th>Bewertung</th>\n",
       "      <th>cm</th>\n",
       "    </tr>\n",
       "  </thead>\n",
       "  <tbody>\n",
       "    <tr>\n",
       "      <th>new xgboost</th>\n",
       "      <td>0.798289</td>\n",
       "      <td>0.575503</td>\n",
       "      <td>0.668116</td>\n",
       "      <td>6015.164</td>\n",
       "      <td>3710.634</td>\n",
       "      <td>2304.53</td>\n",
       "      <td>2462.0</td>\n",
       "      <td>1258.0</td>\n",
       "      <td>-1100.53</td>\n",
       "      <td>[[28548.0, 125.8], [363.2, 492.4]]</td>\n",
       "    </tr>\n",
       "  </tbody>\n",
       "</table>\n",
       "</div>"
      ],
      "text/plain": [
       "            precision    recall        f1 damage_total damage_prevented  \\\n",
       "new xgboost  0.798289  0.575503  0.668116     6015.164         3710.634   \n",
       "\n",
       "            damage_missed detected bonus fp penalty Bewertung  \\\n",
       "new xgboost       2304.53         2462.0     1258.0  -1100.53   \n",
       "\n",
       "                                             cm  \n",
       "new xgboost  [[28548.0, 125.8], [363.2, 492.4]]  "
      ]
     },
     "execution_count": 62,
     "metadata": {},
     "output_type": "execute_result"
    }
   ],
   "source": [
    "model = fd.models.models.get_xgb_clf_with_reg_from_params(p)\n",
    "models = [(\"new xgboost\", model)]\n",
    "model_metrics = fd.model_comparison.compare_models(models, datapath, n_splits=5)\n",
    "\n",
    "df = pd.DataFrame(model_metrics)\n",
    "df.T"
   ]
  }
 ],
 "metadata": {
  "kernelspec": {
   "display_name": ".venv",
   "language": "python",
   "name": "python3"
  },
  "language_info": {
   "codemirror_mode": {
    "name": "ipython",
    "version": 3
   },
   "file_extension": ".py",
   "mimetype": "text/x-python",
   "name": "python",
   "nbconvert_exporter": "python",
   "pygments_lexer": "ipython3",
   "version": "3.12.9"
  }
 },
 "nbformat": 4,
 "nbformat_minor": 5
}

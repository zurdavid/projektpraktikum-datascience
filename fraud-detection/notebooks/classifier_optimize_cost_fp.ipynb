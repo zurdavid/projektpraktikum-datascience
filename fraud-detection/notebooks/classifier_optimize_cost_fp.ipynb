{
 "cells": [
  {
   "cell_type": "markdown",
   "id": "a5a80f59",
   "metadata": {},
   "source": [
    "# Optimierung des Parameters cost_fp bei Annahme von konstantem Damage (Mittelwert)\n",
    "\n",
    "In diesem Notebook wird untersucht, ob eine Optimierung des Parameters `cost_fp`, durch den in der Entscheidungsfunktion bestimmt wird, ab welchem Score des Klassifikationsmodells, sich eine Kontrolle lohnt, bei der Annahme eines konstanten Schadens (Mittelwert) sinnvoll ist. "
   ]
  },
  {
   "cell_type": "code",
   "execution_count": 1,
   "id": "5c3db1bd",
   "metadata": {},
   "outputs": [],
   "source": [
    "import numpy as np\n",
    "from scipy.optimize import minimize_scalar\n",
    "from sklearn.model_selection import RepeatedStratifiedKFold, train_test_split\n",
    "from xgboost import XGBClassifier\n",
    "\n",
    "import fraud_detection as fd\n",
    "from fraud_detection import data_loader, metrics\n",
    "from fraud_detection.models.costoptim import bewertung\n",
    "\n",
    "datapath = \"../data/transformed_label_and_damage.parquet\"\n",
    "seed = 42"
   ]
  },
  {
   "cell_type": "code",
   "execution_count": 2,
   "id": "20685dc0",
   "metadata": {},
   "outputs": [],
   "source": [
    "seed = 42"
   ]
  },
  {
   "cell_type": "code",
   "execution_count": 3,
   "id": "adfc7104",
   "metadata": {},
   "outputs": [],
   "source": [
    "# lade Daten ohne die nutzlosen Features\n",
    "X, targets = data_loader.load_data_np(datapath, drop_features=data_loader.useless_features)\n",
    "\n",
    "X_train, X_test, y_train, y_test = train_test_split(\n",
    "    X, targets, test_size=0.2, random_state=seed, stratify=targets[:, 1] > 0\n",
    ")"
   ]
  },
  {
   "cell_type": "code",
   "execution_count": 4,
   "id": "1229db82",
   "metadata": {},
   "outputs": [],
   "source": [
    "def cost_fn(probs, damage, cost_fp, gain_tp=5):\n",
    "    \"\"\"\n",
    "    Vorhersagefunktion: lohnt sich eine Kontrolle.\n",
    "    \"\"\"\n",
    "    return probs > cost_fp / (gain_tp + cost_fp + damage)\n",
    "\n",
    "def bewertung(yhat, y, damage):\n",
    "    \"\"\"\n",
    "    Bewertung der Vorhersagen mittels der Bewertungsfunktion der Wertkauf GmbH.\n",
    "    \"\"\"\n",
    "    res = np.zeros(yhat.shape)\n",
    "    # Case 1: FRAUD caught\n",
    "    res += ((y == 1) & (yhat == 1)) * 5\n",
    "    # Case 2: False positive\n",
    "    res -= ((y == 0) & (yhat == 1)) * 10\n",
    "    # Case 3: FRAUD missed\n",
    "    res -= ((y == 1) & (yhat == 0)) * damage\n",
    "    return res.sum()\n",
    "\n",
    "def calc_bewertung_for_given_cost_fp(probs, damage_preds, cost_fp, label_true, damage_true):\n",
    "    \"\"\"\n",
    "    Berechnet die Bewertung der Vorhersagen basierend auf den gegebenen Parametern.\n",
    "    \"\"\"\n",
    "    yhat = cost_fn(probs, damage_preds, cost_fp)\n",
    "    return bewertung(yhat, label_true, damage_true)\n"
   ]
  },
  {
   "cell_type": "code",
   "execution_count": 5,
   "id": "4afe5545",
   "metadata": {},
   "outputs": [],
   "source": [
    "def optimize_cost_fp(clf, X_train, y_train):\n",
    "    \"\"\"\n",
    "    Optimiert den cost_fp-Wert für das gegebene Modell und die Trainingsdaten.\n",
    "    \"\"\"\n",
    "    probs_train = clf.predict_proba(X_train)[:, 1]\n",
    "    damage_mean = np.full(y_train[:, 1].shape, y_train[:, 1].mean())\n",
    "\n",
    "    p_preds = probs_train\n",
    "    d_preds = damage_mean\n",
    "\n",
    "    def objective(theta):\n",
    "        values = calc_bewertung_for_given_cost_fp(p_preds, d_preds, theta, y_train[:, 0], y_train[:, 1])\n",
    "        return -np.mean(values)  # negative because we minimize\n",
    "\n",
    "\n",
    "    res = minimize_scalar(objective, bounds=(0.01, 1000.0), method='bounded')\n",
    "    cost_tp = res.x\n",
    "    return cost_tp"
   ]
  },
  {
   "cell_type": "code",
   "execution_count": 6,
   "id": "3320bdd7",
   "metadata": {},
   "outputs": [],
   "source": [
    "def evaluate_cost_fp(clf, X_test, y_test, cost_fp):\n",
    "    \"\"\"\n",
    "    Bewertet die Vorhersagen des Modells auf den Testdaten unter Verwendung des gegebenen cost_fp-Werts.\n",
    "    \"\"\"\n",
    "    probs_test = clf.predict_proba(X_test)[:, 1]\n",
    "    damage_mean = np.full(y_test[:, 1].shape, y_test[:, 1].mean())\n",
    "\n",
    "    p_preds = probs_test\n",
    "    d_preds = damage_mean\n",
    "    yhat = cost_fn(p_preds, d_preds, cost_fp)\n",
    "\n",
    "    return metrics.bewertung(p_preds, yhat, y_test[:, 0], y_test[:, 1])"
   ]
  },
  {
   "cell_type": "code",
   "execution_count": 7,
   "id": "6d7e264a",
   "metadata": {},
   "outputs": [],
   "source": [
    "def optimize_and_evaluate(clf, X_train, y_train, X_test, y_test):\n",
    "    probs_baseline = clf.predict_proba(X_test)[:, 1]\n",
    "    preds_baseline = clf.predict(X_test)\n",
    "\n",
    "    metrics_baseline = metrics.bewertung(probs_baseline, preds_baseline, y_test[:, 0], y_test[:, 1])\n",
    "\n",
    "    opt_cost_fp = optimize_cost_fp(clf, X_train, y_train)\n",
    "    metrics_opt = evaluate_cost_fp(clf, X_test, y_test, opt_cost_fp)\n",
    "\n",
    "    diff = metrics_baseline[\"Bewertung\"] - metrics_opt[\"Bewertung\"]\n",
    "    if diff < 0:\n",
    "        print(f\"Optimized cost_fp improved the score by {-diff:.2f} points.\")\n",
    "    else:\n",
    "        print(f\"Optimized cost_fp did not improve the score, difference: {diff:.2f}.\")\n",
    "\n",
    "    return { \"baseline\": metrics_baseline, \"optimized_cost_fp\": metrics_opt,}"
   ]
  },
  {
   "cell_type": "code",
   "execution_count": 8,
   "id": "a68be075",
   "metadata": {},
   "outputs": [],
   "source": [
    "def run_experiment(X, targets, n_splits=5, n_repeats=1, random_state=42):\n",
    "\n",
    "    # Initialize the RepeatedStratifiedKFold\n",
    "    skf = RepeatedStratifiedKFold(\n",
    "        n_splits=n_splits, n_repeats=n_repeats, random_state=random_state\n",
    "    )\n",
    "\n",
    "    model_metrics = []\n",
    "\n",
    "    for i, (train_idx, test_idx) in enumerate(skf.split(X, targets[:, 0])):\n",
    "        clf = XGBClassifier(\n",
    "            n_estimators=100,\n",
    "            max_depth=5,\n",
    "            learning_rate=0.1,\n",
    "            objective=\"binary:logistic\",\n",
    "        )\n",
    "        clf.fit(X[train_idx,:], targets[train_idx, 0])\n",
    "\n",
    "        mm = optimize_and_evaluate(clf, X[train_idx], targets[train_idx], X[test_idx], targets[test_idx])\n",
    "        # optimize on test set to check if functions work\n",
    "        # mm = optimize_and_evaluate(clf, X[test_idx], targets[test_idx], X[test_idx], targets[test_idx])\n",
    "        model_metrics.append(mm)\n",
    "\n",
    "    return model_metrics\n"
   ]
  },
  {
   "cell_type": "code",
   "execution_count": 9,
   "id": "d6729123",
   "metadata": {},
   "outputs": [
    {
     "name": "stdout",
     "output_type": "stream",
     "text": [
      "Optimized cost_fp did not improve the score, difference: 182.99.\n",
      "Optimized cost_fp improved the score by 14.06 points.\n",
      "Optimized cost_fp improved the score by 100.19 points.\n",
      "Optimized cost_fp did not improve the score, difference: 170.37.\n",
      "Optimized cost_fp did not improve the score, difference: 40.00.\n",
      "Optimized cost_fp improved the score by 12.80 points.\n",
      "Optimized cost_fp did not improve the score, difference: 73.92.\n",
      "Optimized cost_fp did not improve the score, difference: 47.89.\n",
      "Optimized cost_fp improved the score by 36.39 points.\n",
      "Optimized cost_fp did not improve the score, difference: 75.04.\n",
      "Optimized cost_fp improved the score by 13.46 points.\n",
      "Optimized cost_fp did not improve the score, difference: 73.40.\n",
      "Optimized cost_fp improved the score by 29.25 points.\n",
      "Optimized cost_fp did not improve the score, difference: 208.95.\n",
      "Optimized cost_fp did not improve the score, difference: 114.35.\n",
      "Optimized cost_fp improved the score by 7.38 points.\n",
      "Optimized cost_fp improved the score by 9.33 points.\n",
      "Optimized cost_fp did not improve the score, difference: 45.16.\n",
      "Optimized cost_fp improved the score by 14.97 points.\n",
      "Optimized cost_fp did not improve the score, difference: 13.23.\n",
      "Optimized cost_fp did not improve the score, difference: 9.10.\n",
      "Optimized cost_fp improved the score by 6.70 points.\n",
      "Optimized cost_fp did not improve the score, difference: 6.65.\n",
      "Optimized cost_fp improved the score by 6.83 points.\n",
      "Optimized cost_fp did not improve the score, difference: 135.11.\n"
     ]
    }
   ],
   "source": [
    "model_metrics = run_experiment(X, targets, n_splits=5, n_repeats=5, random_state=seed)"
   ]
  },
  {
   "cell_type": "markdown",
   "id": "daaaf303",
   "metadata": {},
   "source": [
    "Die Differenz von Baseline und Resultat mit Optimierung des cost_fp-Wertes ist positiv. Das bedeutet, dass die Optimierung des cost_fp-Wertes generell keine Verbesserung. Die Unterschiede sind jedoch sehr gering, was darauf hindeutet, dass die Optimierung des cost_fp-Wertes in diesem Fall keinen signifikanten Einfluss auf das Ergebnis hat. \n",
    "\n",
    "Der Schwellwert des Model von 0.5 ist hochstwahrscheinlich schon relativ nah am Optimum, sodass eine weitere Optimierung des cost_fp-Wertes nur marginale Verbesserungen bringen würde, wenn überhaupt."
   ]
  },
  {
   "cell_type": "code",
   "execution_count": 11,
   "id": "1f2932f8",
   "metadata": {},
   "outputs": [
    {
     "data": {
      "text/plain": [
       "np.float64(37.79199999999999)"
      ]
     },
     "execution_count": 11,
     "metadata": {},
     "output_type": "execute_result"
    }
   ],
   "source": [
    "np.mean([m[\"baseline\"][\"Bewertung\"] - m[\"optimized_cost_fp\"][\"Bewertung\"] for m in model_metrics])"
   ]
  }
 ],
 "metadata": {
  "kernelspec": {
   "display_name": ".venv",
   "language": "python",
   "name": "python3"
  },
  "language_info": {
   "codemirror_mode": {
    "name": "ipython",
    "version": 3
   },
   "file_extension": ".py",
   "mimetype": "text/x-python",
   "name": "python",
   "nbconvert_exporter": "python",
   "pygments_lexer": "ipython3",
   "version": "3.12.9"
  }
 },
 "nbformat": 4,
 "nbformat_minor": 5
}

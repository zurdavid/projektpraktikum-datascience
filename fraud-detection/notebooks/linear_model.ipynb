{
 "cells": [
  {
   "cell_type": "code",
   "execution_count": null,
   "id": "60f80d93",
   "metadata": {},
   "outputs": [],
   "source": [
    "def get_balanced_data(X_train, y_train, seed=42):\n",
    "    n_damage = np.sum(y_train[:, 1] > 0)\n",
    "    n_no_damage = np.sum(y_train[:, 1] == 0)\n",
    "    n_samples = min(n_damage, n_no_damage)\n",
    "    idx_balanced = np.concatenate([\n",
    "            np.random.choice(np.where(y_train[:, 1] > 0)[0], n_samples, replace=False),\n",
    "            np.random.choice(np.where(y_train[:, 1] == 0)[0], n_samples, replace=False),\n",
    "    ])\n",
    "    X_train = X_train[idx_balanced]\n",
    "    y_train = y_train[idx_balanced]\n",
    "    return X_train, y_train\n"
   ]
  }
 ],
 "metadata": {
  "language_info": {
   "name": "python"
  }
 },
 "nbformat": 4,
 "nbformat_minor": 5
}

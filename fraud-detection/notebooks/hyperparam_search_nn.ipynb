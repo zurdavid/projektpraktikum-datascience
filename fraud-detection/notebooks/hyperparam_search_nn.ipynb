{
 "cells": [
  {
   "cell_type": "code",
   "execution_count": 1,
   "id": "1f95316e",
   "metadata": {},
   "outputs": [],
   "source": [
    "import logging\n",
    "import sys\n",
    "from importlib import reload\n",
    "\n",
    "import pandas as pd\n",
    "\n",
    "import fraud_detection as fd\n",
    "\n",
    "# Add the src directory to the system path to import modules\n",
    "reload(fd)\n",
    "sys.path.append('../src')\n",
    "\n",
    "datapath = \"../data/transformed_label_and_damage.parquet\""
   ]
  },
  {
   "cell_type": "code",
   "execution_count": 2,
   "id": "cb9e2089",
   "metadata": {},
   "outputs": [],
   "source": [
    "import numpy as np\n",
    "import optuna\n",
    "from sklearn.model_selection import train_test_split\n",
    "from xgboost import XGBClassifier\n",
    "\n",
    "from fraud_detection import data_loader, metrics"
   ]
  },
  {
   "cell_type": "code",
   "execution_count": 5,
   "id": "000bb48d",
   "metadata": {},
   "outputs": [
    {
     "name": "stderr",
     "output_type": "stream",
     "text": [
      "[I 2025-06-15 00:05:25,387] Using an existing study with name 'neuralnet_clf' instead of creating a new one.\n"
     ]
    },
    {
     "name": "stdout",
     "output_type": "stream",
     "text": [
      "Using an existing study with name 'neuralnet_clf' instead of creating a new one.\n",
      "Using an existing study with name 'neuralnet_clf' instead of creating a new one.\n"
     ]
    }
   ],
   "source": [
    "optuna.logging.get_logger(\"optuna\").addHandler(logging.StreamHandler(sys.stdout))\n",
    "study_name = \"neuralnet_clf\"  # Unique identifier of the study.\n",
    "storage_name = \"sqlite:///../{}.db\".format(study_name)\n",
    "study = optuna.create_study(\n",
    "    study_name=study_name,\n",
    "    storage=storage_name,\n",
    "    direction=\"maximize\",\n",
    "    load_if_exists=True,\n",
    ")\n"
   ]
  },
  {
   "cell_type": "code",
   "execution_count": 7,
   "id": "ce33914c",
   "metadata": {},
   "outputs": [
    {
     "data": {
      "text/plain": [
       "{'batch_size': 32,\n",
       " 'n_layers': 3,\n",
       " 'norm': 'layernorm',\n",
       " 'activataion': 'LeakyReLU',\n",
       " 'n_units_l0': 128,\n",
       " 'dropout_0': 0.2953297133087564,\n",
       " 'n_units_l1': 128,\n",
       " 'dropout_1': 0.3033663477161003,\n",
       " 'n_units_l2': 32,\n",
       " 'dropout_2': 0.4764047215231189,\n",
       " 'lr': 0.0007625144090249147,\n",
       " 'weight_decay': 2.560941329716264e-05,\n",
       " 'pos_weight': 1.0597155507405103,\n",
       " 'n_epochs': 5}"
      ]
     },
     "execution_count": 7,
     "metadata": {},
     "output_type": "execute_result"
    }
   ],
   "source": [
    "study.best_trial.params"
   ]
  },
  {
   "cell_type": "code",
   "execution_count": 8,
   "id": "de652e8c",
   "metadata": {},
   "outputs": [],
   "source": [
    "import optuna.visualization as vis"
   ]
  },
  {
   "cell_type": "code",
   "execution_count": 9,
   "id": "392c8b16",
   "metadata": {},
   "outputs": [
    {
     "data": {
      "application/vnd.plotly.v1+json": {
       "config": {
        "plotlyServerURL": "https://plot.ly"
       },
       "data": [
        {
         "mode": "markers",
         "name": "Objective Value",
         "type": "scatter",
         "x": [
          0,
          1,
          2,
          3,
          4,
          5,
          6,
          7,
          8,
          9,
          10,
          11,
          12,
          13,
          14,
          15,
          16,
          17,
          18,
          19,
          20,
          21,
          22,
          23,
          24,
          25,
          26,
          27,
          28,
          29,
          30,
          31,
          32,
          33,
          34,
          35,
          36,
          37,
          38,
          39,
          40,
          41,
          42,
          43,
          44,
          45,
          46,
          47,
          48,
          49,
          50,
          51,
          52,
          53,
          54,
          55,
          56,
          57,
          58,
          59,
          60,
          61,
          62,
          63,
          64,
          65,
          66,
          67,
          68,
          69
         ],
         "y": [
          -8937.944448156491,
          -15972.655558301345,
          -5089.658895469373,
          -6388.270008176565,
          -2829.1455628209646,
          -2661.1566725075245,
          -6388.270008176565,
          -2404.5544527636634,
          -2059.560007671515,
          -3522.848895470301,
          -15389.147777587175,
          -6397.514452599818,
          -2706.2188963095346,
          -7467.542226493359,
          -2436.092230528593,
          -4805.065560523007,
          -1988.2655643555852,
          -8078.562226934565,
          -14904.242222189901,
          -15274.935556295846,
          -2981.7088969118067,
          -2592.600007623434,
          -6388.270008176565,
          -4810.8988957371985,
          -6388.270008176565,
          -2077.2600081496767,
          -4535.0488942298625,
          -12114.601111114025,
          -2534.5133408539828,
          -8456.738891296916,
          -2399.106675204304,
          -1833.4988978836273,
          -1890.3644528455204,
          -2523.445564366049,
          -4054.2688943710596,
          -9072.451114826732,
          -1912.8555630346139,
          -2380.3833415872523,
          -3392.7000073360073,
          -3235.086673163705,
          -2475.470007780525,
          -25980.151112046504,
          -2149.1166744298403,
          -2560.962230781714,
          -5582.128895772828,
          -4006.513340668546,
          -4501.690004318953,
          -16706.936666938996,
          -2202.3377861910394,
          -2660.042230702109,
          -2392.187784996298,
          -6388.270008176565,
          -3160.523340890805,
          -2707.7988974617583,
          -7903.756671537955,
          -1989.145564224985,
          -3540.760007162889,
          -2561.1322301526866,
          -2128.4644530481764,
          -3257.902228199773,
          -3952.076674385203,
          -2056.3055642048516,
          -2379.161120143202,
          -2657.713341921568,
          -2101.527786642313,
          -3178.6133404274783,
          -2955.613340907627,
          -2269.6922306153506,
          -6388.270008176565,
          -7052.644447896215
         ]
        },
        {
         "mode": "lines",
         "name": "Best Value",
         "type": "scatter",
         "x": [
          0,
          1,
          2,
          3,
          4,
          5,
          6,
          7,
          8,
          9,
          10,
          11,
          12,
          13,
          14,
          15,
          16,
          17,
          18,
          19,
          20,
          21,
          22,
          23,
          24,
          25,
          26,
          27,
          28,
          29,
          30,
          31,
          32,
          33,
          34,
          35,
          36,
          37,
          38,
          39,
          40,
          41,
          42,
          43,
          44,
          45,
          46,
          47,
          48,
          49,
          50,
          51,
          52,
          53,
          54,
          55,
          56,
          57,
          58,
          59,
          60,
          61,
          62,
          63,
          64,
          65,
          66,
          67,
          68,
          69
         ],
         "y": [
          -8937.944448156491,
          -8937.944448156491,
          -5089.658895469373,
          -5089.658895469373,
          -2829.1455628209646,
          -2661.1566725075245,
          -2661.1566725075245,
          -2404.5544527636634,
          -2059.560007671515,
          -2059.560007671515,
          -2059.560007671515,
          -2059.560007671515,
          -2059.560007671515,
          -2059.560007671515,
          -2059.560007671515,
          -2059.560007671515,
          -1988.2655643555852,
          -1988.2655643555852,
          -1988.2655643555852,
          -1988.2655643555852,
          -1988.2655643555852,
          -1988.2655643555852,
          -1988.2655643555852,
          -1988.2655643555852,
          -1988.2655643555852,
          -1988.2655643555852,
          -1988.2655643555852,
          -1988.2655643555852,
          -1988.2655643555852,
          -1988.2655643555852,
          -1988.2655643555852,
          -1833.4988978836273,
          -1833.4988978836273,
          -1833.4988978836273,
          -1833.4988978836273,
          -1833.4988978836273,
          -1833.4988978836273,
          -1833.4988978836273,
          -1833.4988978836273,
          -1833.4988978836273,
          -1833.4988978836273,
          -1833.4988978836273,
          -1833.4988978836273,
          -1833.4988978836273,
          -1833.4988978836273,
          -1833.4988978836273,
          -1833.4988978836273,
          -1833.4988978836273,
          -1833.4988978836273,
          -1833.4988978836273,
          -1833.4988978836273,
          -1833.4988978836273,
          -1833.4988978836273,
          -1833.4988978836273,
          -1833.4988978836273,
          -1833.4988978836273,
          -1833.4988978836273,
          -1833.4988978836273,
          -1833.4988978836273,
          -1833.4988978836273,
          -1833.4988978836273,
          -1833.4988978836273,
          -1833.4988978836273,
          -1833.4988978836273,
          -1833.4988978836273,
          -1833.4988978836273,
          -1833.4988978836273,
          -1833.4988978836273,
          -1833.4988978836273,
          -1833.4988978836273
         ]
        },
        {
         "marker": {
          "color": "#cccccc"
         },
         "mode": "markers",
         "name": "Infeasible Trial",
         "showlegend": false,
         "type": "scatter",
         "x": [],
         "y": []
        }
       ],
       "layout": {
        "template": {
         "data": {
          "bar": [
           {
            "error_x": {
             "color": "#2a3f5f"
            },
            "error_y": {
             "color": "#2a3f5f"
            },
            "marker": {
             "line": {
              "color": "#E5ECF6",
              "width": 0.5
             },
             "pattern": {
              "fillmode": "overlay",
              "size": 10,
              "solidity": 0.2
             }
            },
            "type": "bar"
           }
          ],
          "barpolar": [
           {
            "marker": {
             "line": {
              "color": "#E5ECF6",
              "width": 0.5
             },
             "pattern": {
              "fillmode": "overlay",
              "size": 10,
              "solidity": 0.2
             }
            },
            "type": "barpolar"
           }
          ],
          "carpet": [
           {
            "aaxis": {
             "endlinecolor": "#2a3f5f",
             "gridcolor": "white",
             "linecolor": "white",
             "minorgridcolor": "white",
             "startlinecolor": "#2a3f5f"
            },
            "baxis": {
             "endlinecolor": "#2a3f5f",
             "gridcolor": "white",
             "linecolor": "white",
             "minorgridcolor": "white",
             "startlinecolor": "#2a3f5f"
            },
            "type": "carpet"
           }
          ],
          "choropleth": [
           {
            "colorbar": {
             "outlinewidth": 0,
             "ticks": ""
            },
            "type": "choropleth"
           }
          ],
          "contour": [
           {
            "colorbar": {
             "outlinewidth": 0,
             "ticks": ""
            },
            "colorscale": [
             [
              0,
              "#0d0887"
             ],
             [
              0.1111111111111111,
              "#46039f"
             ],
             [
              0.2222222222222222,
              "#7201a8"
             ],
             [
              0.3333333333333333,
              "#9c179e"
             ],
             [
              0.4444444444444444,
              "#bd3786"
             ],
             [
              0.5555555555555556,
              "#d8576b"
             ],
             [
              0.6666666666666666,
              "#ed7953"
             ],
             [
              0.7777777777777778,
              "#fb9f3a"
             ],
             [
              0.8888888888888888,
              "#fdca26"
             ],
             [
              1,
              "#f0f921"
             ]
            ],
            "type": "contour"
           }
          ],
          "contourcarpet": [
           {
            "colorbar": {
             "outlinewidth": 0,
             "ticks": ""
            },
            "type": "contourcarpet"
           }
          ],
          "heatmap": [
           {
            "colorbar": {
             "outlinewidth": 0,
             "ticks": ""
            },
            "colorscale": [
             [
              0,
              "#0d0887"
             ],
             [
              0.1111111111111111,
              "#46039f"
             ],
             [
              0.2222222222222222,
              "#7201a8"
             ],
             [
              0.3333333333333333,
              "#9c179e"
             ],
             [
              0.4444444444444444,
              "#bd3786"
             ],
             [
              0.5555555555555556,
              "#d8576b"
             ],
             [
              0.6666666666666666,
              "#ed7953"
             ],
             [
              0.7777777777777778,
              "#fb9f3a"
             ],
             [
              0.8888888888888888,
              "#fdca26"
             ],
             [
              1,
              "#f0f921"
             ]
            ],
            "type": "heatmap"
           }
          ],
          "histogram": [
           {
            "marker": {
             "pattern": {
              "fillmode": "overlay",
              "size": 10,
              "solidity": 0.2
             }
            },
            "type": "histogram"
           }
          ],
          "histogram2d": [
           {
            "colorbar": {
             "outlinewidth": 0,
             "ticks": ""
            },
            "colorscale": [
             [
              0,
              "#0d0887"
             ],
             [
              0.1111111111111111,
              "#46039f"
             ],
             [
              0.2222222222222222,
              "#7201a8"
             ],
             [
              0.3333333333333333,
              "#9c179e"
             ],
             [
              0.4444444444444444,
              "#bd3786"
             ],
             [
              0.5555555555555556,
              "#d8576b"
             ],
             [
              0.6666666666666666,
              "#ed7953"
             ],
             [
              0.7777777777777778,
              "#fb9f3a"
             ],
             [
              0.8888888888888888,
              "#fdca26"
             ],
             [
              1,
              "#f0f921"
             ]
            ],
            "type": "histogram2d"
           }
          ],
          "histogram2dcontour": [
           {
            "colorbar": {
             "outlinewidth": 0,
             "ticks": ""
            },
            "colorscale": [
             [
              0,
              "#0d0887"
             ],
             [
              0.1111111111111111,
              "#46039f"
             ],
             [
              0.2222222222222222,
              "#7201a8"
             ],
             [
              0.3333333333333333,
              "#9c179e"
             ],
             [
              0.4444444444444444,
              "#bd3786"
             ],
             [
              0.5555555555555556,
              "#d8576b"
             ],
             [
              0.6666666666666666,
              "#ed7953"
             ],
             [
              0.7777777777777778,
              "#fb9f3a"
             ],
             [
              0.8888888888888888,
              "#fdca26"
             ],
             [
              1,
              "#f0f921"
             ]
            ],
            "type": "histogram2dcontour"
           }
          ],
          "mesh3d": [
           {
            "colorbar": {
             "outlinewidth": 0,
             "ticks": ""
            },
            "type": "mesh3d"
           }
          ],
          "parcoords": [
           {
            "line": {
             "colorbar": {
              "outlinewidth": 0,
              "ticks": ""
             }
            },
            "type": "parcoords"
           }
          ],
          "pie": [
           {
            "automargin": true,
            "type": "pie"
           }
          ],
          "scatter": [
           {
            "fillpattern": {
             "fillmode": "overlay",
             "size": 10,
             "solidity": 0.2
            },
            "type": "scatter"
           }
          ],
          "scatter3d": [
           {
            "line": {
             "colorbar": {
              "outlinewidth": 0,
              "ticks": ""
             }
            },
            "marker": {
             "colorbar": {
              "outlinewidth": 0,
              "ticks": ""
             }
            },
            "type": "scatter3d"
           }
          ],
          "scattercarpet": [
           {
            "marker": {
             "colorbar": {
              "outlinewidth": 0,
              "ticks": ""
             }
            },
            "type": "scattercarpet"
           }
          ],
          "scattergeo": [
           {
            "marker": {
             "colorbar": {
              "outlinewidth": 0,
              "ticks": ""
             }
            },
            "type": "scattergeo"
           }
          ],
          "scattergl": [
           {
            "marker": {
             "colorbar": {
              "outlinewidth": 0,
              "ticks": ""
             }
            },
            "type": "scattergl"
           }
          ],
          "scattermap": [
           {
            "marker": {
             "colorbar": {
              "outlinewidth": 0,
              "ticks": ""
             }
            },
            "type": "scattermap"
           }
          ],
          "scattermapbox": [
           {
            "marker": {
             "colorbar": {
              "outlinewidth": 0,
              "ticks": ""
             }
            },
            "type": "scattermapbox"
           }
          ],
          "scatterpolar": [
           {
            "marker": {
             "colorbar": {
              "outlinewidth": 0,
              "ticks": ""
             }
            },
            "type": "scatterpolar"
           }
          ],
          "scatterpolargl": [
           {
            "marker": {
             "colorbar": {
              "outlinewidth": 0,
              "ticks": ""
             }
            },
            "type": "scatterpolargl"
           }
          ],
          "scatterternary": [
           {
            "marker": {
             "colorbar": {
              "outlinewidth": 0,
              "ticks": ""
             }
            },
            "type": "scatterternary"
           }
          ],
          "surface": [
           {
            "colorbar": {
             "outlinewidth": 0,
             "ticks": ""
            },
            "colorscale": [
             [
              0,
              "#0d0887"
             ],
             [
              0.1111111111111111,
              "#46039f"
             ],
             [
              0.2222222222222222,
              "#7201a8"
             ],
             [
              0.3333333333333333,
              "#9c179e"
             ],
             [
              0.4444444444444444,
              "#bd3786"
             ],
             [
              0.5555555555555556,
              "#d8576b"
             ],
             [
              0.6666666666666666,
              "#ed7953"
             ],
             [
              0.7777777777777778,
              "#fb9f3a"
             ],
             [
              0.8888888888888888,
              "#fdca26"
             ],
             [
              1,
              "#f0f921"
             ]
            ],
            "type": "surface"
           }
          ],
          "table": [
           {
            "cells": {
             "fill": {
              "color": "#EBF0F8"
             },
             "line": {
              "color": "white"
             }
            },
            "header": {
             "fill": {
              "color": "#C8D4E3"
             },
             "line": {
              "color": "white"
             }
            },
            "type": "table"
           }
          ]
         },
         "layout": {
          "annotationdefaults": {
           "arrowcolor": "#2a3f5f",
           "arrowhead": 0,
           "arrowwidth": 1
          },
          "autotypenumbers": "strict",
          "coloraxis": {
           "colorbar": {
            "outlinewidth": 0,
            "ticks": ""
           }
          },
          "colorscale": {
           "diverging": [
            [
             0,
             "#8e0152"
            ],
            [
             0.1,
             "#c51b7d"
            ],
            [
             0.2,
             "#de77ae"
            ],
            [
             0.3,
             "#f1b6da"
            ],
            [
             0.4,
             "#fde0ef"
            ],
            [
             0.5,
             "#f7f7f7"
            ],
            [
             0.6,
             "#e6f5d0"
            ],
            [
             0.7,
             "#b8e186"
            ],
            [
             0.8,
             "#7fbc41"
            ],
            [
             0.9,
             "#4d9221"
            ],
            [
             1,
             "#276419"
            ]
           ],
           "sequential": [
            [
             0,
             "#0d0887"
            ],
            [
             0.1111111111111111,
             "#46039f"
            ],
            [
             0.2222222222222222,
             "#7201a8"
            ],
            [
             0.3333333333333333,
             "#9c179e"
            ],
            [
             0.4444444444444444,
             "#bd3786"
            ],
            [
             0.5555555555555556,
             "#d8576b"
            ],
            [
             0.6666666666666666,
             "#ed7953"
            ],
            [
             0.7777777777777778,
             "#fb9f3a"
            ],
            [
             0.8888888888888888,
             "#fdca26"
            ],
            [
             1,
             "#f0f921"
            ]
           ],
           "sequentialminus": [
            [
             0,
             "#0d0887"
            ],
            [
             0.1111111111111111,
             "#46039f"
            ],
            [
             0.2222222222222222,
             "#7201a8"
            ],
            [
             0.3333333333333333,
             "#9c179e"
            ],
            [
             0.4444444444444444,
             "#bd3786"
            ],
            [
             0.5555555555555556,
             "#d8576b"
            ],
            [
             0.6666666666666666,
             "#ed7953"
            ],
            [
             0.7777777777777778,
             "#fb9f3a"
            ],
            [
             0.8888888888888888,
             "#fdca26"
            ],
            [
             1,
             "#f0f921"
            ]
           ]
          },
          "colorway": [
           "#636efa",
           "#EF553B",
           "#00cc96",
           "#ab63fa",
           "#FFA15A",
           "#19d3f3",
           "#FF6692",
           "#B6E880",
           "#FF97FF",
           "#FECB52"
          ],
          "font": {
           "color": "#2a3f5f"
          },
          "geo": {
           "bgcolor": "white",
           "lakecolor": "white",
           "landcolor": "#E5ECF6",
           "showlakes": true,
           "showland": true,
           "subunitcolor": "white"
          },
          "hoverlabel": {
           "align": "left"
          },
          "hovermode": "closest",
          "mapbox": {
           "style": "light"
          },
          "paper_bgcolor": "white",
          "plot_bgcolor": "#E5ECF6",
          "polar": {
           "angularaxis": {
            "gridcolor": "white",
            "linecolor": "white",
            "ticks": ""
           },
           "bgcolor": "#E5ECF6",
           "radialaxis": {
            "gridcolor": "white",
            "linecolor": "white",
            "ticks": ""
           }
          },
          "scene": {
           "xaxis": {
            "backgroundcolor": "#E5ECF6",
            "gridcolor": "white",
            "gridwidth": 2,
            "linecolor": "white",
            "showbackground": true,
            "ticks": "",
            "zerolinecolor": "white"
           },
           "yaxis": {
            "backgroundcolor": "#E5ECF6",
            "gridcolor": "white",
            "gridwidth": 2,
            "linecolor": "white",
            "showbackground": true,
            "ticks": "",
            "zerolinecolor": "white"
           },
           "zaxis": {
            "backgroundcolor": "#E5ECF6",
            "gridcolor": "white",
            "gridwidth": 2,
            "linecolor": "white",
            "showbackground": true,
            "ticks": "",
            "zerolinecolor": "white"
           }
          },
          "shapedefaults": {
           "line": {
            "color": "#2a3f5f"
           }
          },
          "ternary": {
           "aaxis": {
            "gridcolor": "white",
            "linecolor": "white",
            "ticks": ""
           },
           "baxis": {
            "gridcolor": "white",
            "linecolor": "white",
            "ticks": ""
           },
           "bgcolor": "#E5ECF6",
           "caxis": {
            "gridcolor": "white",
            "linecolor": "white",
            "ticks": ""
           }
          },
          "title": {
           "x": 0.05
          },
          "xaxis": {
           "automargin": true,
           "gridcolor": "white",
           "linecolor": "white",
           "ticks": "",
           "title": {
            "standoff": 15
           },
           "zerolinecolor": "white",
           "zerolinewidth": 2
          },
          "yaxis": {
           "automargin": true,
           "gridcolor": "white",
           "linecolor": "white",
           "ticks": "",
           "title": {
            "standoff": 15
           },
           "zerolinecolor": "white",
           "zerolinewidth": 2
          }
         }
        },
        "title": {
         "text": "Optimization History Plot"
        },
        "xaxis": {
         "title": {
          "text": "Trial"
         }
        },
        "yaxis": {
         "title": {
          "text": "Objective Value"
         }
        }
       }
      }
     },
     "metadata": {},
     "output_type": "display_data"
    }
   ],
   "source": [
    "vis.plot_optimization_history(study)"
   ]
  },
  {
   "cell_type": "code",
   "execution_count": 10,
   "id": "a1b3e2f1",
   "metadata": {},
   "outputs": [
    {
     "data": {
      "application/vnd.plotly.v1+json": {
       "config": {
        "plotlyServerURL": "https://plot.ly"
       },
       "data": [
        {
         "cliponaxis": false,
         "hovertemplate": [
          "weight_decay (FloatDistribution): 0.00848954128426119<extra></extra>",
          "n_layers (IntDistribution): 0.016906413454772902<extra></extra>",
          "lr (FloatDistribution): 0.022617073480245765<extra></extra>",
          "activataion (CategoricalDistribution): 0.027064756912831067<extra></extra>",
          "batch_size (CategoricalDistribution): 0.04991408908960234<extra></extra>",
          "norm (CategoricalDistribution): 0.06615025130208121<extra></extra>",
          "dropout_0 (FloatDistribution): 0.0783879118253809<extra></extra>",
          "n_epochs (CategoricalDistribution): 0.10242023176401918<extra></extra>",
          "n_units_l0 (CategoricalDistribution): 0.24052745109857668<extra></extra>",
          "pos_weight (FloatDistribution): 0.38752227978822884<extra></extra>"
         ],
         "name": "Objective Value",
         "orientation": "h",
         "text": [
          "<0.01",
          "0.02",
          "0.02",
          "0.03",
          "0.05",
          "0.07",
          "0.08",
          "0.10",
          "0.24",
          "0.39"
         ],
         "textposition": "outside",
         "type": "bar",
         "x": [
          0.00848954128426119,
          0.016906413454772902,
          0.022617073480245765,
          0.027064756912831067,
          0.04991408908960234,
          0.06615025130208121,
          0.0783879118253809,
          0.10242023176401918,
          0.24052745109857668,
          0.38752227978822884
         ],
         "y": [
          "weight_decay",
          "n_layers",
          "lr",
          "activataion",
          "batch_size",
          "norm",
          "dropout_0",
          "n_epochs",
          "n_units_l0",
          "pos_weight"
         ]
        }
       ],
       "layout": {
        "template": {
         "data": {
          "bar": [
           {
            "error_x": {
             "color": "#2a3f5f"
            },
            "error_y": {
             "color": "#2a3f5f"
            },
            "marker": {
             "line": {
              "color": "#E5ECF6",
              "width": 0.5
             },
             "pattern": {
              "fillmode": "overlay",
              "size": 10,
              "solidity": 0.2
             }
            },
            "type": "bar"
           }
          ],
          "barpolar": [
           {
            "marker": {
             "line": {
              "color": "#E5ECF6",
              "width": 0.5
             },
             "pattern": {
              "fillmode": "overlay",
              "size": 10,
              "solidity": 0.2
             }
            },
            "type": "barpolar"
           }
          ],
          "carpet": [
           {
            "aaxis": {
             "endlinecolor": "#2a3f5f",
             "gridcolor": "white",
             "linecolor": "white",
             "minorgridcolor": "white",
             "startlinecolor": "#2a3f5f"
            },
            "baxis": {
             "endlinecolor": "#2a3f5f",
             "gridcolor": "white",
             "linecolor": "white",
             "minorgridcolor": "white",
             "startlinecolor": "#2a3f5f"
            },
            "type": "carpet"
           }
          ],
          "choropleth": [
           {
            "colorbar": {
             "outlinewidth": 0,
             "ticks": ""
            },
            "type": "choropleth"
           }
          ],
          "contour": [
           {
            "colorbar": {
             "outlinewidth": 0,
             "ticks": ""
            },
            "colorscale": [
             [
              0,
              "#0d0887"
             ],
             [
              0.1111111111111111,
              "#46039f"
             ],
             [
              0.2222222222222222,
              "#7201a8"
             ],
             [
              0.3333333333333333,
              "#9c179e"
             ],
             [
              0.4444444444444444,
              "#bd3786"
             ],
             [
              0.5555555555555556,
              "#d8576b"
             ],
             [
              0.6666666666666666,
              "#ed7953"
             ],
             [
              0.7777777777777778,
              "#fb9f3a"
             ],
             [
              0.8888888888888888,
              "#fdca26"
             ],
             [
              1,
              "#f0f921"
             ]
            ],
            "type": "contour"
           }
          ],
          "contourcarpet": [
           {
            "colorbar": {
             "outlinewidth": 0,
             "ticks": ""
            },
            "type": "contourcarpet"
           }
          ],
          "heatmap": [
           {
            "colorbar": {
             "outlinewidth": 0,
             "ticks": ""
            },
            "colorscale": [
             [
              0,
              "#0d0887"
             ],
             [
              0.1111111111111111,
              "#46039f"
             ],
             [
              0.2222222222222222,
              "#7201a8"
             ],
             [
              0.3333333333333333,
              "#9c179e"
             ],
             [
              0.4444444444444444,
              "#bd3786"
             ],
             [
              0.5555555555555556,
              "#d8576b"
             ],
             [
              0.6666666666666666,
              "#ed7953"
             ],
             [
              0.7777777777777778,
              "#fb9f3a"
             ],
             [
              0.8888888888888888,
              "#fdca26"
             ],
             [
              1,
              "#f0f921"
             ]
            ],
            "type": "heatmap"
           }
          ],
          "histogram": [
           {
            "marker": {
             "pattern": {
              "fillmode": "overlay",
              "size": 10,
              "solidity": 0.2
             }
            },
            "type": "histogram"
           }
          ],
          "histogram2d": [
           {
            "colorbar": {
             "outlinewidth": 0,
             "ticks": ""
            },
            "colorscale": [
             [
              0,
              "#0d0887"
             ],
             [
              0.1111111111111111,
              "#46039f"
             ],
             [
              0.2222222222222222,
              "#7201a8"
             ],
             [
              0.3333333333333333,
              "#9c179e"
             ],
             [
              0.4444444444444444,
              "#bd3786"
             ],
             [
              0.5555555555555556,
              "#d8576b"
             ],
             [
              0.6666666666666666,
              "#ed7953"
             ],
             [
              0.7777777777777778,
              "#fb9f3a"
             ],
             [
              0.8888888888888888,
              "#fdca26"
             ],
             [
              1,
              "#f0f921"
             ]
            ],
            "type": "histogram2d"
           }
          ],
          "histogram2dcontour": [
           {
            "colorbar": {
             "outlinewidth": 0,
             "ticks": ""
            },
            "colorscale": [
             [
              0,
              "#0d0887"
             ],
             [
              0.1111111111111111,
              "#46039f"
             ],
             [
              0.2222222222222222,
              "#7201a8"
             ],
             [
              0.3333333333333333,
              "#9c179e"
             ],
             [
              0.4444444444444444,
              "#bd3786"
             ],
             [
              0.5555555555555556,
              "#d8576b"
             ],
             [
              0.6666666666666666,
              "#ed7953"
             ],
             [
              0.7777777777777778,
              "#fb9f3a"
             ],
             [
              0.8888888888888888,
              "#fdca26"
             ],
             [
              1,
              "#f0f921"
             ]
            ],
            "type": "histogram2dcontour"
           }
          ],
          "mesh3d": [
           {
            "colorbar": {
             "outlinewidth": 0,
             "ticks": ""
            },
            "type": "mesh3d"
           }
          ],
          "parcoords": [
           {
            "line": {
             "colorbar": {
              "outlinewidth": 0,
              "ticks": ""
             }
            },
            "type": "parcoords"
           }
          ],
          "pie": [
           {
            "automargin": true,
            "type": "pie"
           }
          ],
          "scatter": [
           {
            "fillpattern": {
             "fillmode": "overlay",
             "size": 10,
             "solidity": 0.2
            },
            "type": "scatter"
           }
          ],
          "scatter3d": [
           {
            "line": {
             "colorbar": {
              "outlinewidth": 0,
              "ticks": ""
             }
            },
            "marker": {
             "colorbar": {
              "outlinewidth": 0,
              "ticks": ""
             }
            },
            "type": "scatter3d"
           }
          ],
          "scattercarpet": [
           {
            "marker": {
             "colorbar": {
              "outlinewidth": 0,
              "ticks": ""
             }
            },
            "type": "scattercarpet"
           }
          ],
          "scattergeo": [
           {
            "marker": {
             "colorbar": {
              "outlinewidth": 0,
              "ticks": ""
             }
            },
            "type": "scattergeo"
           }
          ],
          "scattergl": [
           {
            "marker": {
             "colorbar": {
              "outlinewidth": 0,
              "ticks": ""
             }
            },
            "type": "scattergl"
           }
          ],
          "scattermap": [
           {
            "marker": {
             "colorbar": {
              "outlinewidth": 0,
              "ticks": ""
             }
            },
            "type": "scattermap"
           }
          ],
          "scattermapbox": [
           {
            "marker": {
             "colorbar": {
              "outlinewidth": 0,
              "ticks": ""
             }
            },
            "type": "scattermapbox"
           }
          ],
          "scatterpolar": [
           {
            "marker": {
             "colorbar": {
              "outlinewidth": 0,
              "ticks": ""
             }
            },
            "type": "scatterpolar"
           }
          ],
          "scatterpolargl": [
           {
            "marker": {
             "colorbar": {
              "outlinewidth": 0,
              "ticks": ""
             }
            },
            "type": "scatterpolargl"
           }
          ],
          "scatterternary": [
           {
            "marker": {
             "colorbar": {
              "outlinewidth": 0,
              "ticks": ""
             }
            },
            "type": "scatterternary"
           }
          ],
          "surface": [
           {
            "colorbar": {
             "outlinewidth": 0,
             "ticks": ""
            },
            "colorscale": [
             [
              0,
              "#0d0887"
             ],
             [
              0.1111111111111111,
              "#46039f"
             ],
             [
              0.2222222222222222,
              "#7201a8"
             ],
             [
              0.3333333333333333,
              "#9c179e"
             ],
             [
              0.4444444444444444,
              "#bd3786"
             ],
             [
              0.5555555555555556,
              "#d8576b"
             ],
             [
              0.6666666666666666,
              "#ed7953"
             ],
             [
              0.7777777777777778,
              "#fb9f3a"
             ],
             [
              0.8888888888888888,
              "#fdca26"
             ],
             [
              1,
              "#f0f921"
             ]
            ],
            "type": "surface"
           }
          ],
          "table": [
           {
            "cells": {
             "fill": {
              "color": "#EBF0F8"
             },
             "line": {
              "color": "white"
             }
            },
            "header": {
             "fill": {
              "color": "#C8D4E3"
             },
             "line": {
              "color": "white"
             }
            },
            "type": "table"
           }
          ]
         },
         "layout": {
          "annotationdefaults": {
           "arrowcolor": "#2a3f5f",
           "arrowhead": 0,
           "arrowwidth": 1
          },
          "autotypenumbers": "strict",
          "coloraxis": {
           "colorbar": {
            "outlinewidth": 0,
            "ticks": ""
           }
          },
          "colorscale": {
           "diverging": [
            [
             0,
             "#8e0152"
            ],
            [
             0.1,
             "#c51b7d"
            ],
            [
             0.2,
             "#de77ae"
            ],
            [
             0.3,
             "#f1b6da"
            ],
            [
             0.4,
             "#fde0ef"
            ],
            [
             0.5,
             "#f7f7f7"
            ],
            [
             0.6,
             "#e6f5d0"
            ],
            [
             0.7,
             "#b8e186"
            ],
            [
             0.8,
             "#7fbc41"
            ],
            [
             0.9,
             "#4d9221"
            ],
            [
             1,
             "#276419"
            ]
           ],
           "sequential": [
            [
             0,
             "#0d0887"
            ],
            [
             0.1111111111111111,
             "#46039f"
            ],
            [
             0.2222222222222222,
             "#7201a8"
            ],
            [
             0.3333333333333333,
             "#9c179e"
            ],
            [
             0.4444444444444444,
             "#bd3786"
            ],
            [
             0.5555555555555556,
             "#d8576b"
            ],
            [
             0.6666666666666666,
             "#ed7953"
            ],
            [
             0.7777777777777778,
             "#fb9f3a"
            ],
            [
             0.8888888888888888,
             "#fdca26"
            ],
            [
             1,
             "#f0f921"
            ]
           ],
           "sequentialminus": [
            [
             0,
             "#0d0887"
            ],
            [
             0.1111111111111111,
             "#46039f"
            ],
            [
             0.2222222222222222,
             "#7201a8"
            ],
            [
             0.3333333333333333,
             "#9c179e"
            ],
            [
             0.4444444444444444,
             "#bd3786"
            ],
            [
             0.5555555555555556,
             "#d8576b"
            ],
            [
             0.6666666666666666,
             "#ed7953"
            ],
            [
             0.7777777777777778,
             "#fb9f3a"
            ],
            [
             0.8888888888888888,
             "#fdca26"
            ],
            [
             1,
             "#f0f921"
            ]
           ]
          },
          "colorway": [
           "#636efa",
           "#EF553B",
           "#00cc96",
           "#ab63fa",
           "#FFA15A",
           "#19d3f3",
           "#FF6692",
           "#B6E880",
           "#FF97FF",
           "#FECB52"
          ],
          "font": {
           "color": "#2a3f5f"
          },
          "geo": {
           "bgcolor": "white",
           "lakecolor": "white",
           "landcolor": "#E5ECF6",
           "showlakes": true,
           "showland": true,
           "subunitcolor": "white"
          },
          "hoverlabel": {
           "align": "left"
          },
          "hovermode": "closest",
          "mapbox": {
           "style": "light"
          },
          "paper_bgcolor": "white",
          "plot_bgcolor": "#E5ECF6",
          "polar": {
           "angularaxis": {
            "gridcolor": "white",
            "linecolor": "white",
            "ticks": ""
           },
           "bgcolor": "#E5ECF6",
           "radialaxis": {
            "gridcolor": "white",
            "linecolor": "white",
            "ticks": ""
           }
          },
          "scene": {
           "xaxis": {
            "backgroundcolor": "#E5ECF6",
            "gridcolor": "white",
            "gridwidth": 2,
            "linecolor": "white",
            "showbackground": true,
            "ticks": "",
            "zerolinecolor": "white"
           },
           "yaxis": {
            "backgroundcolor": "#E5ECF6",
            "gridcolor": "white",
            "gridwidth": 2,
            "linecolor": "white",
            "showbackground": true,
            "ticks": "",
            "zerolinecolor": "white"
           },
           "zaxis": {
            "backgroundcolor": "#E5ECF6",
            "gridcolor": "white",
            "gridwidth": 2,
            "linecolor": "white",
            "showbackground": true,
            "ticks": "",
            "zerolinecolor": "white"
           }
          },
          "shapedefaults": {
           "line": {
            "color": "#2a3f5f"
           }
          },
          "ternary": {
           "aaxis": {
            "gridcolor": "white",
            "linecolor": "white",
            "ticks": ""
           },
           "baxis": {
            "gridcolor": "white",
            "linecolor": "white",
            "ticks": ""
           },
           "bgcolor": "#E5ECF6",
           "caxis": {
            "gridcolor": "white",
            "linecolor": "white",
            "ticks": ""
           }
          },
          "title": {
           "x": 0.05
          },
          "xaxis": {
           "automargin": true,
           "gridcolor": "white",
           "linecolor": "white",
           "ticks": "",
           "title": {
            "standoff": 15
           },
           "zerolinecolor": "white",
           "zerolinewidth": 2
          },
          "yaxis": {
           "automargin": true,
           "gridcolor": "white",
           "linecolor": "white",
           "ticks": "",
           "title": {
            "standoff": 15
           },
           "zerolinecolor": "white",
           "zerolinewidth": 2
          }
         }
        },
        "title": {
         "text": "Hyperparameter Importances"
        },
        "xaxis": {
         "title": {
          "text": "Hyperparameter Importance"
         }
        },
        "yaxis": {
         "title": {
          "text": "Hyperparameter"
         }
        }
       }
      }
     },
     "metadata": {},
     "output_type": "display_data"
    }
   ],
   "source": [
    "vis.plot_param_importances(study)"
   ]
  },
  {
   "cell_type": "code",
   "execution_count": 11,
   "id": "98176b21",
   "metadata": {},
   "outputs": [
    {
     "data": {
      "application/vnd.plotly.v1+json": {
       "config": {
        "plotlyServerURL": "https://plot.ly"
       },
       "data": [
        {
         "marker": {
          "color": [
           0,
           1,
           2,
           3,
           4,
           5,
           6,
           7,
           8,
           9,
           10,
           11,
           12,
           13,
           14,
           15,
           16,
           17,
           18,
           19,
           20,
           21,
           22,
           23,
           24,
           25,
           26,
           27,
           28,
           29,
           30,
           31,
           32,
           33,
           34,
           35,
           36,
           37,
           38,
           39,
           40,
           41,
           42,
           43,
           44,
           45,
           46,
           47,
           48,
           49,
           50,
           51,
           52,
           53,
           54,
           55,
           56,
           57,
           58,
           59,
           60,
           61,
           62,
           63,
           64,
           65,
           66,
           67,
           68,
           69
          ],
          "colorbar": {
           "title": {
            "text": "Trial"
           },
           "x": 1,
           "xpad": 40
          },
          "colorscale": [
           [
            0,
            "rgb(247,251,255)"
           ],
           [
            0.125,
            "rgb(222,235,247)"
           ],
           [
            0.25,
            "rgb(198,219,239)"
           ],
           [
            0.375,
            "rgb(158,202,225)"
           ],
           [
            0.5,
            "rgb(107,174,214)"
           ],
           [
            0.625,
            "rgb(66,146,198)"
           ],
           [
            0.75,
            "rgb(33,113,181)"
           ],
           [
            0.875,
            "rgb(8,81,156)"
           ],
           [
            1,
            "rgb(8,48,107)"
           ]
          ],
          "line": {
           "color": "Grey",
           "width": 0.5
          },
          "showscale": true
         },
         "mode": "markers",
         "name": "Feasible Trial",
         "showlegend": false,
         "type": "scatter",
         "x": [
          "LeakyReLU",
          "LeakyReLU",
          "SiLU",
          "ReLU",
          "LeakyReLU",
          "LeakyReLU",
          "ReLU",
          "LeakyReLU",
          "ReLU",
          "LeakyReLU",
          "ReLU",
          "SiLU",
          "ReLU",
          "ReLU",
          "SiLU",
          "LeakyReLU",
          "ReLU",
          "ReLU",
          "ReLU",
          "ReLU",
          "ReLU",
          "ReLU",
          "LeakyReLU",
          "SiLU",
          "ReLU",
          "LeakyReLU",
          "ReLU",
          "ReLU",
          "LeakyReLU",
          "SiLU",
          "LeakyReLU",
          "LeakyReLU",
          "LeakyReLU",
          "LeakyReLU",
          "LeakyReLU",
          "LeakyReLU",
          "LeakyReLU",
          "LeakyReLU",
          "LeakyReLU",
          "LeakyReLU",
          "LeakyReLU",
          "LeakyReLU",
          "LeakyReLU",
          "ReLU",
          "SiLU",
          "LeakyReLU",
          "ReLU",
          "LeakyReLU",
          "ReLU",
          "SiLU",
          "ReLU",
          "LeakyReLU",
          "LeakyReLU",
          "LeakyReLU",
          "LeakyReLU",
          "LeakyReLU",
          "ReLU",
          "LeakyReLU",
          "ReLU",
          "LeakyReLU",
          "ReLU",
          "LeakyReLU",
          "LeakyReLU",
          "LeakyReLU",
          "LeakyReLU",
          "LeakyReLU",
          "SiLU",
          "LeakyReLU",
          "ReLU",
          "LeakyReLU"
         ],
         "xaxis": "x",
         "y": [
          -8937.944448156491,
          -15972.655558301345,
          -5089.658895469373,
          -6388.270008176565,
          -2829.1455628209646,
          -2661.1566725075245,
          -6388.270008176565,
          -2404.5544527636634,
          -2059.560007671515,
          -3522.848895470301,
          -15389.147777587175,
          -6397.514452599818,
          -2706.2188963095346,
          -7467.542226493359,
          -2436.092230528593,
          -4805.065560523007,
          -1988.2655643555852,
          -8078.562226934565,
          -14904.242222189901,
          -15274.935556295846,
          -2981.7088969118067,
          -2592.600007623434,
          -6388.270008176565,
          -4810.8988957371985,
          -6388.270008176565,
          -2077.2600081496767,
          -4535.0488942298625,
          -12114.601111114025,
          -2534.5133408539828,
          -8456.738891296916,
          -2399.106675204304,
          -1833.4988978836273,
          -1890.3644528455204,
          -2523.445564366049,
          -4054.2688943710596,
          -9072.451114826732,
          -1912.8555630346139,
          -2380.3833415872523,
          -3392.7000073360073,
          -3235.086673163705,
          -2475.470007780525,
          -25980.151112046504,
          -2149.1166744298403,
          -2560.962230781714,
          -5582.128895772828,
          -4006.513340668546,
          -4501.690004318953,
          -16706.936666938996,
          -2202.3377861910394,
          -2660.042230702109,
          -2392.187784996298,
          -6388.270008176565,
          -3160.523340890805,
          -2707.7988974617583,
          -7903.756671537955,
          -1989.145564224985,
          -3540.760007162889,
          -2561.1322301526866,
          -2128.4644530481764,
          -3257.902228199773,
          -3952.076674385203,
          -2056.3055642048516,
          -2379.161120143202,
          -2657.713341921568,
          -2101.527786642313,
          -3178.6133404274783,
          -2955.613340907627,
          -2269.6922306153506,
          -6388.270008176565,
          -7052.644447896215
         ],
         "yaxis": "y"
        },
        {
         "marker": {
          "color": [
           0,
           1,
           2,
           3,
           4,
           5,
           6,
           7,
           8,
           9,
           10,
           11,
           12,
           13,
           14,
           15,
           16,
           17,
           18,
           19,
           20,
           21,
           22,
           23,
           24,
           25,
           26,
           27,
           28,
           29,
           30,
           31,
           32,
           33,
           34,
           35,
           36,
           37,
           38,
           39,
           40,
           41,
           42,
           43,
           44,
           45,
           46,
           47,
           48,
           49,
           50,
           51,
           52,
           53,
           54,
           55,
           56,
           57,
           58,
           59,
           60,
           61,
           62,
           63,
           64,
           65,
           66,
           67,
           68,
           69
          ],
          "colorbar": {
           "title": {
            "text": "Trial"
           },
           "x": 1,
           "xpad": 40
          },
          "colorscale": [
           [
            0,
            "rgb(247,251,255)"
           ],
           [
            0.125,
            "rgb(222,235,247)"
           ],
           [
            0.25,
            "rgb(198,219,239)"
           ],
           [
            0.375,
            "rgb(158,202,225)"
           ],
           [
            0.5,
            "rgb(107,174,214)"
           ],
           [
            0.625,
            "rgb(66,146,198)"
           ],
           [
            0.75,
            "rgb(33,113,181)"
           ],
           [
            0.875,
            "rgb(8,81,156)"
           ],
           [
            1,
            "rgb(8,48,107)"
           ]
          ],
          "line": {
           "color": "Grey",
           "width": 0.5
          },
          "showscale": false
         },
         "mode": "markers",
         "name": "Feasible Trial",
         "showlegend": false,
         "type": "scatter",
         "x": [
          64,
          32,
          32,
          256,
          64,
          64,
          32,
          32,
          32,
          32,
          128,
          32,
          256,
          128,
          32,
          32,
          32,
          256,
          128,
          32,
          32,
          32,
          32,
          32,
          32,
          32,
          128,
          256,
          64,
          64,
          32,
          32,
          32,
          32,
          32,
          32,
          32,
          64,
          256,
          32,
          32,
          32,
          32,
          32,
          32,
          32,
          128,
          32,
          64,
          256,
          32,
          32,
          32,
          32,
          32,
          32,
          32,
          128,
          32,
          32,
          32,
          32,
          32,
          32,
          32,
          256,
          32,
          32,
          64,
          128
         ],
         "xaxis": "x2",
         "y": [
          -8937.944448156491,
          -15972.655558301345,
          -5089.658895469373,
          -6388.270008176565,
          -2829.1455628209646,
          -2661.1566725075245,
          -6388.270008176565,
          -2404.5544527636634,
          -2059.560007671515,
          -3522.848895470301,
          -15389.147777587175,
          -6397.514452599818,
          -2706.2188963095346,
          -7467.542226493359,
          -2436.092230528593,
          -4805.065560523007,
          -1988.2655643555852,
          -8078.562226934565,
          -14904.242222189901,
          -15274.935556295846,
          -2981.7088969118067,
          -2592.600007623434,
          -6388.270008176565,
          -4810.8988957371985,
          -6388.270008176565,
          -2077.2600081496767,
          -4535.0488942298625,
          -12114.601111114025,
          -2534.5133408539828,
          -8456.738891296916,
          -2399.106675204304,
          -1833.4988978836273,
          -1890.3644528455204,
          -2523.445564366049,
          -4054.2688943710596,
          -9072.451114826732,
          -1912.8555630346139,
          -2380.3833415872523,
          -3392.7000073360073,
          -3235.086673163705,
          -2475.470007780525,
          -25980.151112046504,
          -2149.1166744298403,
          -2560.962230781714,
          -5582.128895772828,
          -4006.513340668546,
          -4501.690004318953,
          -16706.936666938996,
          -2202.3377861910394,
          -2660.042230702109,
          -2392.187784996298,
          -6388.270008176565,
          -3160.523340890805,
          -2707.7988974617583,
          -7903.756671537955,
          -1989.145564224985,
          -3540.760007162889,
          -2561.1322301526866,
          -2128.4644530481764,
          -3257.902228199773,
          -3952.076674385203,
          -2056.3055642048516,
          -2379.161120143202,
          -2657.713341921568,
          -2101.527786642313,
          -3178.6133404274783,
          -2955.613340907627,
          -2269.6922306153506,
          -6388.270008176565,
          -7052.644447896215
         ],
         "yaxis": "y2"
        },
        {
         "marker": {
          "color": [
           0,
           1,
           2,
           3,
           4,
           5,
           6,
           7,
           8,
           9,
           10,
           11,
           12,
           13,
           14,
           15,
           16,
           17,
           18,
           19,
           20,
           21,
           22,
           23,
           24,
           25,
           26,
           27,
           28,
           29,
           30,
           31,
           32,
           33,
           34,
           35,
           36,
           37,
           38,
           39,
           40,
           41,
           42,
           43,
           44,
           45,
           46,
           47,
           48,
           49,
           50,
           51,
           52,
           53,
           54,
           55,
           56,
           57,
           58,
           59,
           60,
           61,
           62,
           63,
           64,
           65,
           66,
           67,
           68,
           69
          ],
          "colorbar": {
           "title": {
            "text": "Trial"
           },
           "x": 1,
           "xpad": 40
          },
          "colorscale": [
           [
            0,
            "rgb(247,251,255)"
           ],
           [
            0.125,
            "rgb(222,235,247)"
           ],
           [
            0.25,
            "rgb(198,219,239)"
           ],
           [
            0.375,
            "rgb(158,202,225)"
           ],
           [
            0.5,
            "rgb(107,174,214)"
           ],
           [
            0.625,
            "rgb(66,146,198)"
           ],
           [
            0.75,
            "rgb(33,113,181)"
           ],
           [
            0.875,
            "rgb(8,81,156)"
           ],
           [
            1,
            "rgb(8,48,107)"
           ]
          ],
          "line": {
           "color": "Grey",
           "width": 0.5
          },
          "showscale": false
         },
         "mode": "markers",
         "name": "Feasible Trial",
         "showlegend": false,
         "type": "scatter",
         "x": [
          0.3099025726528951,
          0.11375540844608736,
          0.42087879230161584,
          0.2641531692142519,
          0.11475477894181313,
          0.37102574473691297,
          0.2301598792637071,
          0.21743673770579736,
          0.3640789506870925,
          0.12822749896017194,
          0.4630659181130071,
          0.2117580959235893,
          0.33966841189159447,
          0.18627490199213928,
          0.38699096250925424,
          0.28399448354980744,
          0.4751216373732198,
          0.48784194553004423,
          0.4255887273354677,
          0.4227267831681675,
          0.4963910655147282,
          0.16552505375384197,
          0.32557480203253575,
          0.26034629780678514,
          0.3593094508390353,
          0.4522103061550542,
          0.4526039883380156,
          0.45246487670942115,
          0.4038678813158314,
          0.4834083050791936,
          0.3012304035302458,
          0.2953297133087564,
          0.3419709284585378,
          0.343282398522835,
          0.30697468275107376,
          0.2753887385513922,
          0.37366209751661267,
          0.39065643878926803,
          0.24868326085890807,
          0.3248373684399455,
          0.2906914368836858,
          0.35620611172872313,
          0.3802533294373885,
          0.3210289883481012,
          0.40806256884945635,
          0.36542402702495225,
          0.34249843213255743,
          0.43517488467904153,
          0.238987322290749,
          0.40152558617362333,
          0.3742627117847391,
          0.4746232375771985,
          0.46037063135468825,
          0.44091677877993735,
          0.34344566456556436,
          0.4981765360491984,
          0.4727816672705654,
          0.49366584765707067,
          0.2759807360300696,
          0.3123839783840848,
          0.20139823506105503,
          0.43435283399350344,
          0.47233648742459927,
          0.4167063954873751,
          0.4310028840590602,
          0.441828120728776,
          0.48304535459213854,
          0.4975922564639986,
          0.35604700407500545,
          0.39438718871664535
         ],
         "xaxis": "x3",
         "y": [
          -8937.944448156491,
          -15972.655558301345,
          -5089.658895469373,
          -6388.270008176565,
          -2829.1455628209646,
          -2661.1566725075245,
          -6388.270008176565,
          -2404.5544527636634,
          -2059.560007671515,
          -3522.848895470301,
          -15389.147777587175,
          -6397.514452599818,
          -2706.2188963095346,
          -7467.542226493359,
          -2436.092230528593,
          -4805.065560523007,
          -1988.2655643555852,
          -8078.562226934565,
          -14904.242222189901,
          -15274.935556295846,
          -2981.7088969118067,
          -2592.600007623434,
          -6388.270008176565,
          -4810.8988957371985,
          -6388.270008176565,
          -2077.2600081496767,
          -4535.0488942298625,
          -12114.601111114025,
          -2534.5133408539828,
          -8456.738891296916,
          -2399.106675204304,
          -1833.4988978836273,
          -1890.3644528455204,
          -2523.445564366049,
          -4054.2688943710596,
          -9072.451114826732,
          -1912.8555630346139,
          -2380.3833415872523,
          -3392.7000073360073,
          -3235.086673163705,
          -2475.470007780525,
          -25980.151112046504,
          -2149.1166744298403,
          -2560.962230781714,
          -5582.128895772828,
          -4006.513340668546,
          -4501.690004318953,
          -16706.936666938996,
          -2202.3377861910394,
          -2660.042230702109,
          -2392.187784996298,
          -6388.270008176565,
          -3160.523340890805,
          -2707.7988974617583,
          -7903.756671537955,
          -1989.145564224985,
          -3540.760007162889,
          -2561.1322301526866,
          -2128.4644530481764,
          -3257.902228199773,
          -3952.076674385203,
          -2056.3055642048516,
          -2379.161120143202,
          -2657.713341921568,
          -2101.527786642313,
          -3178.6133404274783,
          -2955.613340907627,
          -2269.6922306153506,
          -6388.270008176565,
          -7052.644447896215
         ],
         "yaxis": "y3"
        },
        {
         "marker": {
          "color": [
           2,
           3,
           5,
           6,
           7,
           8,
           9,
           10,
           11,
           12,
           13,
           14,
           15,
           16,
           17,
           18,
           19,
           20,
           21,
           22,
           23,
           24,
           25,
           26,
           27,
           28,
           30,
           31,
           32,
           33,
           34,
           35,
           39,
           41,
           42,
           43,
           45,
           46,
           47,
           48,
           49,
           51,
           52,
           53,
           54,
           55,
           56,
           57,
           58,
           59,
           60,
           61,
           62,
           63,
           64,
           65,
           66,
           67,
           68,
           69
          ],
          "colorbar": {
           "title": {
            "text": "Trial"
           },
           "x": 1,
           "xpad": 40
          },
          "colorscale": [
           [
            0,
            "rgb(247,251,255)"
           ],
           [
            0.125,
            "rgb(222,235,247)"
           ],
           [
            0.25,
            "rgb(198,219,239)"
           ],
           [
            0.375,
            "rgb(158,202,225)"
           ],
           [
            0.5,
            "rgb(107,174,214)"
           ],
           [
            0.625,
            "rgb(66,146,198)"
           ],
           [
            0.75,
            "rgb(33,113,181)"
           ],
           [
            0.875,
            "rgb(8,81,156)"
           ],
           [
            1,
            "rgb(8,48,107)"
           ]
          ],
          "line": {
           "color": "Grey",
           "width": 0.5
          },
          "showscale": false
         },
         "mode": "markers",
         "name": "Feasible Trial",
         "showlegend": false,
         "type": "scatter",
         "x": [
          0.38274293753904687,
          0.4232481518257668,
          0.25469413852021494,
          0.24708632122377341,
          0.4193180715867101,
          0.199092395800463,
          0.3573152873769413,
          0.1059957938327364,
          0.47734218756085284,
          0.1512712492559135,
          0.20485327015740093,
          0.31422596196627406,
          0.49125031892628257,
          0.20243522414703904,
          0.18691863846755627,
          0.265836702637975,
          0.1305694458615103,
          0.17721932634362283,
          0.31144645662037995,
          0.22407170228863135,
          0.4356082769552276,
          0.3549527016529489,
          0.2729615999940461,
          0.2712699599048388,
          0.2197314745748808,
          0.16700948407675537,
          0.29774024718377906,
          0.3033663477161003,
          0.2943505653316339,
          0.3459299516705688,
          0.23816124920452159,
          0.3015939967660171,
          0.3830321926409831,
          0.20365256664064477,
          0.32709604566673184,
          0.2827690977592999,
          0.1393384971468702,
          0.2455884467440645,
          0.20005777609990627,
          0.10515481554618095,
          0.38291928644936213,
          0.28257314787914095,
          0.3320064701939527,
          0.23134559800039892,
          0.26963771335069786,
          0.25664037064968354,
          0.25571365917850186,
          0.161067583911699,
          0.18517934016519033,
          0.21717986790138888,
          0.12743948624509005,
          0.2860301743393597,
          0.29754517826965865,
          0.2530584967443289,
          0.3177242866091845,
          0.2862906054250497,
          0.3397582520259626,
          0.25867381616370655,
          0.3602271536070323,
          0.2382828629436836
         ],
         "xaxis": "x4",
         "y": [
          -5089.658895469373,
          -6388.270008176565,
          -2661.1566725075245,
          -6388.270008176565,
          -2404.5544527636634,
          -2059.560007671515,
          -3522.848895470301,
          -15389.147777587175,
          -6397.514452599818,
          -2706.2188963095346,
          -7467.542226493359,
          -2436.092230528593,
          -4805.065560523007,
          -1988.2655643555852,
          -8078.562226934565,
          -14904.242222189901,
          -15274.935556295846,
          -2981.7088969118067,
          -2592.600007623434,
          -6388.270008176565,
          -4810.8988957371985,
          -6388.270008176565,
          -2077.2600081496767,
          -4535.0488942298625,
          -12114.601111114025,
          -2534.5133408539828,
          -2399.106675204304,
          -1833.4988978836273,
          -1890.3644528455204,
          -2523.445564366049,
          -4054.2688943710596,
          -9072.451114826732,
          -3235.086673163705,
          -25980.151112046504,
          -2149.1166744298403,
          -2560.962230781714,
          -4006.513340668546,
          -4501.690004318953,
          -16706.936666938996,
          -2202.3377861910394,
          -2660.042230702109,
          -6388.270008176565,
          -3160.523340890805,
          -2707.7988974617583,
          -7903.756671537955,
          -1989.145564224985,
          -3540.760007162889,
          -2561.1322301526866,
          -2128.4644530481764,
          -3257.902228199773,
          -3952.076674385203,
          -2056.3055642048516,
          -2379.161120143202,
          -2657.713341921568,
          -2101.527786642313,
          -3178.6133404274783,
          -2955.613340907627,
          -2269.6922306153506,
          -6388.270008176565,
          -7052.644447896215
         ],
         "yaxis": "y4"
        },
        {
         "marker": {
          "color": [
           2,
           3,
           5,
           6,
           7,
           9,
           11,
           13,
           15,
           16,
           18,
           20,
           21,
           22,
           23,
           24,
           25,
           26,
           27,
           28,
           30,
           31,
           32,
           33,
           34,
           39,
           42,
           45,
           46,
           49,
           51,
           52,
           53,
           55,
           56,
           57,
           58,
           59,
           61,
           62,
           63,
           64,
           65,
           66,
           67,
           68,
           69
          ],
          "colorbar": {
           "title": {
            "text": "Trial"
           },
           "x": 1,
           "xpad": 40
          },
          "colorscale": [
           [
            0,
            "rgb(247,251,255)"
           ],
           [
            0.125,
            "rgb(222,235,247)"
           ],
           [
            0.25,
            "rgb(198,219,239)"
           ],
           [
            0.375,
            "rgb(158,202,225)"
           ],
           [
            0.5,
            "rgb(107,174,214)"
           ],
           [
            0.625,
            "rgb(66,146,198)"
           ],
           [
            0.75,
            "rgb(33,113,181)"
           ],
           [
            0.875,
            "rgb(8,81,156)"
           ],
           [
            1,
            "rgb(8,48,107)"
           ]
          ],
          "line": {
           "color": "Grey",
           "width": 0.5
          },
          "showscale": false
         },
         "mode": "markers",
         "name": "Feasible Trial",
         "showlegend": false,
         "type": "scatter",
         "x": [
          0.3493192507310232,
          0.422976062065625,
          0.20317665108606225,
          0.41792452141665937,
          0.1375927759363476,
          0.1783164539157186,
          0.10512889363264727,
          0.25635187534267256,
          0.13606962117897103,
          0.2989201685677264,
          0.3265628288467278,
          0.4895694488805039,
          0.2590149742743554,
          0.22850518871120584,
          0.3008184231590747,
          0.38264111178347787,
          0.16187779393226281,
          0.2684289414339478,
          0.17395951902212434,
          0.22216518012395117,
          0.4995346887583877,
          0.4764047215231189,
          0.44919618123083127,
          0.4650177437329355,
          0.44963861595636984,
          0.37898921790097884,
          0.40863601159300633,
          0.4568617108150311,
          0.3518842767031693,
          0.3407188990223262,
          0.31079276429168334,
          0.3711484520786945,
          0.4365238688501421,
          0.4739770397404881,
          0.47596103131115436,
          0.4046390875356076,
          0.43794823711320696,
          0.47586580755013963,
          0.42533065061531045,
          0.4220915879312754,
          0.39733123597036185,
          0.4398688716615366,
          0.4866937136689012,
          0.28016156703883865,
          0.4566679945722109,
          0.4256258697664018,
          0.4739545924987947
         ],
         "xaxis": "x5",
         "y": [
          -5089.658895469373,
          -6388.270008176565,
          -2661.1566725075245,
          -6388.270008176565,
          -2404.5544527636634,
          -3522.848895470301,
          -6397.514452599818,
          -7467.542226493359,
          -4805.065560523007,
          -1988.2655643555852,
          -14904.242222189901,
          -2981.7088969118067,
          -2592.600007623434,
          -6388.270008176565,
          -4810.8988957371985,
          -6388.270008176565,
          -2077.2600081496767,
          -4535.0488942298625,
          -12114.601111114025,
          -2534.5133408539828,
          -2399.106675204304,
          -1833.4988978836273,
          -1890.3644528455204,
          -2523.445564366049,
          -4054.2688943710596,
          -3235.086673163705,
          -2149.1166744298403,
          -4006.513340668546,
          -4501.690004318953,
          -2660.042230702109,
          -6388.270008176565,
          -3160.523340890805,
          -2707.7988974617583,
          -1989.145564224985,
          -3540.760007162889,
          -2561.1322301526866,
          -2128.4644530481764,
          -3257.902228199773,
          -2056.3055642048516,
          -2379.161120143202,
          -2657.713341921568,
          -2101.527786642313,
          -3178.6133404274783,
          -2955.613340907627,
          -2269.6922306153506,
          -6388.270008176565,
          -7052.644447896215
         ],
         "yaxis": "y5"
        },
        {
         "marker": {
          "color": [
           5,
           6,
           7,
           11,
           13,
           15,
           16,
           18,
           21,
           22,
           23,
           24,
           25,
           26,
           27,
           28,
           49,
           51,
           52,
           53,
           55,
           57,
           59,
           61,
           62,
           63,
           64,
           65,
           66,
           67,
           69
          ],
          "colorbar": {
           "title": {
            "text": "Trial"
           },
           "x": 1,
           "xpad": 40
          },
          "colorscale": [
           [
            0,
            "rgb(247,251,255)"
           ],
           [
            0.125,
            "rgb(222,235,247)"
           ],
           [
            0.25,
            "rgb(198,219,239)"
           ],
           [
            0.375,
            "rgb(158,202,225)"
           ],
           [
            0.5,
            "rgb(107,174,214)"
           ],
           [
            0.625,
            "rgb(66,146,198)"
           ],
           [
            0.75,
            "rgb(33,113,181)"
           ],
           [
            0.875,
            "rgb(8,81,156)"
           ],
           [
            1,
            "rgb(8,48,107)"
           ]
          ],
          "line": {
           "color": "Grey",
           "width": 0.5
          },
          "showscale": false
         },
         "mode": "markers",
         "name": "Feasible Trial",
         "showlegend": false,
         "type": "scatter",
         "x": [
          0.4588863031813307,
          0.10972638657258155,
          0.11220009997561978,
          0.11815929297011968,
          0.28396460443572447,
          0.2616287146723625,
          0.449256971408749,
          0.4997653976350741,
          0.381968457333619,
          0.20795528010330214,
          0.3843576741890495,
          0.19306008652375242,
          0.3523742801104586,
          0.38398247587431644,
          0.4376674372763326,
          0.326522357860875,
          0.4291192718922034,
          0.33309944488671567,
          0.49862489868339605,
          0.3391105893637091,
          0.41006396284144975,
          0.4561701973488728,
          0.4135124998138417,
          0.36376556105611213,
          0.4023428423257502,
          0.4675953302358686,
          0.367061376143825,
          0.30167664372915726,
          0.40823188120703313,
          0.4645583632558048,
          0.44635132597946886
         ],
         "xaxis": "x6",
         "y": [
          -2661.1566725075245,
          -6388.270008176565,
          -2404.5544527636634,
          -6397.514452599818,
          -7467.542226493359,
          -4805.065560523007,
          -1988.2655643555852,
          -14904.242222189901,
          -2592.600007623434,
          -6388.270008176565,
          -4810.8988957371985,
          -6388.270008176565,
          -2077.2600081496767,
          -4535.0488942298625,
          -12114.601111114025,
          -2534.5133408539828,
          -2660.042230702109,
          -6388.270008176565,
          -3160.523340890805,
          -2707.7988974617583,
          -1989.145564224985,
          -2561.1322301526866,
          -3257.902228199773,
          -2056.3055642048516,
          -2379.161120143202,
          -2657.713341921568,
          -2101.527786642313,
          -3178.6133404274783,
          -2955.613340907627,
          -2269.6922306153506,
          -7052.644447896215
         ],
         "yaxis": "y6"
        },
        {
         "marker": {
          "color": [
           6,
           7,
           11,
           16,
           21,
           22,
           23,
           25,
           27,
           51,
           53,
           55,
           59,
           61,
           62,
           63,
           64,
           66,
           69
          ],
          "colorbar": {
           "title": {
            "text": "Trial"
           },
           "x": 1,
           "xpad": 40
          },
          "colorscale": [
           [
            0,
            "rgb(247,251,255)"
           ],
           [
            0.125,
            "rgb(222,235,247)"
           ],
           [
            0.25,
            "rgb(198,219,239)"
           ],
           [
            0.375,
            "rgb(158,202,225)"
           ],
           [
            0.5,
            "rgb(107,174,214)"
           ],
           [
            0.625,
            "rgb(66,146,198)"
           ],
           [
            0.75,
            "rgb(33,113,181)"
           ],
           [
            0.875,
            "rgb(8,81,156)"
           ],
           [
            1,
            "rgb(8,48,107)"
           ]
          ],
          "line": {
           "color": "Grey",
           "width": 0.5
          },
          "showscale": false
         },
         "mode": "markers",
         "name": "Feasible Trial",
         "showlegend": false,
         "type": "scatter",
         "x": [
          0.10618264661154697,
          0.1863284109987373,
          0.2628815146209048,
          0.2344984789779685,
          0.23014727510527064,
          0.49392834093178495,
          0.17765573308669141,
          0.36771075912387224,
          0.38357038399307747,
          0.3613395191255165,
          0.34607497365029233,
          0.4591035880265742,
          0.489771096317876,
          0.42742681821949086,
          0.43599007883084784,
          0.4322022995286021,
          0.2995764159186978,
          0.4359432479953341,
          0.31029867869982586
         ],
         "xaxis": "x7",
         "y": [
          -6388.270008176565,
          -2404.5544527636634,
          -6397.514452599818,
          -1988.2655643555852,
          -2592.600007623434,
          -6388.270008176565,
          -4810.8988957371985,
          -2077.2600081496767,
          -12114.601111114025,
          -6388.270008176565,
          -2707.7988974617583,
          -1989.145564224985,
          -3257.902228199773,
          -2056.3055642048516,
          -2379.161120143202,
          -2657.713341921568,
          -2101.527786642313,
          -2955.613340907627,
          -7052.644447896215
         ],
         "yaxis": "y7"
        },
        {
         "marker": {
          "color": [
           0,
           1,
           2,
           3,
           4,
           5,
           6,
           7,
           8,
           9,
           10,
           11,
           12,
           13,
           14,
           15,
           16,
           17,
           18,
           19,
           20,
           21,
           22,
           23,
           24,
           25,
           26,
           27,
           28,
           29,
           30,
           31,
           32,
           33,
           34,
           35,
           36,
           37,
           38,
           39,
           40,
           41,
           42,
           43,
           44,
           45,
           46,
           47,
           48,
           49,
           50,
           51,
           52,
           53,
           54,
           55,
           56,
           57,
           58,
           59,
           60,
           61,
           62,
           63,
           64,
           65,
           66,
           67,
           68,
           69
          ],
          "colorbar": {
           "title": {
            "text": "Trial"
           },
           "x": 1,
           "xpad": 40
          },
          "colorscale": [
           [
            0,
            "rgb(247,251,255)"
           ],
           [
            0.125,
            "rgb(222,235,247)"
           ],
           [
            0.25,
            "rgb(198,219,239)"
           ],
           [
            0.375,
            "rgb(158,202,225)"
           ],
           [
            0.5,
            "rgb(107,174,214)"
           ],
           [
            0.625,
            "rgb(66,146,198)"
           ],
           [
            0.75,
            "rgb(33,113,181)"
           ],
           [
            0.875,
            "rgb(8,81,156)"
           ],
           [
            1,
            "rgb(8,48,107)"
           ]
          ],
          "line": {
           "color": "Grey",
           "width": 0.5
          },
          "showscale": false
         },
         "mode": "markers",
         "name": "Feasible Trial",
         "showlegend": false,
         "type": "scatter",
         "x": [
          0.0005342937261279777,
          0.0433792069749094,
          0.00021066486017042195,
          0.038403004190988556,
          0.0027431991397796683,
          0.039964301676942524,
          0.05167425813322412,
          0.003101429427212743,
          0.00026539376439360527,
          0.000018942844905792793,
          0.00003736091468596979,
          0.0035970531763350687,
          0.004539145834138313,
          0.0001551705882919051,
          0.0010280798298954372,
          0.008256208775437581,
          0.0001334531207583988,
          0.00007631722237990784,
          0.0004552604887616537,
          0.000010135212825934141,
          0.0000739871180768154,
          0.0012007611227906891,
          0.014265249124232835,
          0.00029316232825924365,
          0.0014907458301094373,
          0.00011501375925006426,
          0.00009076627098355925,
          0.000032994408861096377,
          0.00043088522133229764,
          0.00013535797311653013,
          0.0006909948670372374,
          0.0007625144090249147,
          0.0003112475397680582,
          0.0003016807009242828,
          0.0007123950144104774,
          0.000215010787276632,
          0.0018595309243999857,
          0.0018005747285343202,
          0.006387718213392089,
          0.002112233649338961,
          0.0006827822748674228,
          0.0002895129815325642,
          0.0004480100129803951,
          0.00020084432121106807,
          0.09685847516615503,
          0.00004302296900141804,
          0.0008425081724683882,
          0.00005154312863608695,
          0.017287500081523046,
          0.0027214825735888204,
          0.0011014603808622977,
          0.0001250907391289893,
          0.00009826393158820029,
          0.00020782480314447075,
          0.0003507665063723113,
          0.000018677679149034605,
          0.000011165377181358472,
          0.00002124840944540543,
          0.00006144167361894774,
          0.000025788106660620817,
          0.000014403850318171495,
          0.00016265687097372983,
          0.00017645855606485732,
          0.00047693047784842617,
          0.0013332520883275283,
          0.0002909338200503108,
          0.0006081035030205334,
          0.0038877033871452557,
          0.000953291237123794,
          0.00007451430505877925
         ],
         "xaxis": "x8",
         "y": [
          -8937.944448156491,
          -15972.655558301345,
          -5089.658895469373,
          -6388.270008176565,
          -2829.1455628209646,
          -2661.1566725075245,
          -6388.270008176565,
          -2404.5544527636634,
          -2059.560007671515,
          -3522.848895470301,
          -15389.147777587175,
          -6397.514452599818,
          -2706.2188963095346,
          -7467.542226493359,
          -2436.092230528593,
          -4805.065560523007,
          -1988.2655643555852,
          -8078.562226934565,
          -14904.242222189901,
          -15274.935556295846,
          -2981.7088969118067,
          -2592.600007623434,
          -6388.270008176565,
          -4810.8988957371985,
          -6388.270008176565,
          -2077.2600081496767,
          -4535.0488942298625,
          -12114.601111114025,
          -2534.5133408539828,
          -8456.738891296916,
          -2399.106675204304,
          -1833.4988978836273,
          -1890.3644528455204,
          -2523.445564366049,
          -4054.2688943710596,
          -9072.451114826732,
          -1912.8555630346139,
          -2380.3833415872523,
          -3392.7000073360073,
          -3235.086673163705,
          -2475.470007780525,
          -25980.151112046504,
          -2149.1166744298403,
          -2560.962230781714,
          -5582.128895772828,
          -4006.513340668546,
          -4501.690004318953,
          -16706.936666938996,
          -2202.3377861910394,
          -2660.042230702109,
          -2392.187784996298,
          -6388.270008176565,
          -3160.523340890805,
          -2707.7988974617583,
          -7903.756671537955,
          -1989.145564224985,
          -3540.760007162889,
          -2561.1322301526866,
          -2128.4644530481764,
          -3257.902228199773,
          -3952.076674385203,
          -2056.3055642048516,
          -2379.161120143202,
          -2657.713341921568,
          -2101.527786642313,
          -3178.6133404274783,
          -2955.613340907627,
          -2269.6922306153506,
          -6388.270008176565,
          -7052.644447896215
         ],
         "yaxis": "y8"
        },
        {
         "marker": {
          "color": [
           0,
           1,
           2,
           3,
           4,
           5,
           6,
           7,
           8,
           9,
           10,
           11,
           12,
           13,
           14,
           15,
           16,
           17,
           18,
           19,
           20,
           21,
           22,
           23,
           24,
           25,
           26,
           27,
           28,
           29,
           30,
           31,
           32,
           33,
           34,
           35,
           36,
           37,
           38,
           39,
           40,
           41,
           42,
           43,
           44,
           45,
           46,
           47,
           48,
           49,
           50,
           51,
           52,
           53,
           54,
           55,
           56,
           57,
           58,
           59,
           60,
           61,
           62,
           63,
           64,
           65,
           66,
           67,
           68,
           69
          ],
          "colorbar": {
           "title": {
            "text": "Trial"
           },
           "x": 1,
           "xpad": 40
          },
          "colorscale": [
           [
            0,
            "rgb(247,251,255)"
           ],
           [
            0.125,
            "rgb(222,235,247)"
           ],
           [
            0.25,
            "rgb(198,219,239)"
           ],
           [
            0.375,
            "rgb(158,202,225)"
           ],
           [
            0.5,
            "rgb(107,174,214)"
           ],
           [
            0.625,
            "rgb(66,146,198)"
           ],
           [
            0.75,
            "rgb(33,113,181)"
           ],
           [
            0.875,
            "rgb(8,81,156)"
           ],
           [
            1,
            "rgb(8,48,107)"
           ]
          ],
          "line": {
           "color": "Grey",
           "width": 0.5
          },
          "showscale": false
         },
         "mode": "markers",
         "name": "Feasible Trial",
         "showlegend": false,
         "type": "scatter",
         "x": [
          30,
          20,
          30,
          30,
          10,
          20,
          5,
          30,
          30,
          10,
          5,
          30,
          30,
          30,
          30,
          30,
          10,
          10,
          10,
          10,
          20,
          5,
          10,
          30,
          30,
          10,
          10,
          10,
          10,
          10,
          5,
          5,
          5,
          5,
          5,
          5,
          5,
          5,
          5,
          20,
          5,
          5,
          5,
          20,
          5,
          5,
          5,
          30,
          5,
          20,
          30,
          10,
          10,
          10,
          10,
          30,
          30,
          30,
          30,
          30,
          30,
          10,
          5,
          10,
          30,
          5,
          10,
          20,
          30,
          5
         ],
         "xaxis": "x9",
         "y": [
          -8937.944448156491,
          -15972.655558301345,
          -5089.658895469373,
          -6388.270008176565,
          -2829.1455628209646,
          -2661.1566725075245,
          -6388.270008176565,
          -2404.5544527636634,
          -2059.560007671515,
          -3522.848895470301,
          -15389.147777587175,
          -6397.514452599818,
          -2706.2188963095346,
          -7467.542226493359,
          -2436.092230528593,
          -4805.065560523007,
          -1988.2655643555852,
          -8078.562226934565,
          -14904.242222189901,
          -15274.935556295846,
          -2981.7088969118067,
          -2592.600007623434,
          -6388.270008176565,
          -4810.8988957371985,
          -6388.270008176565,
          -2077.2600081496767,
          -4535.0488942298625,
          -12114.601111114025,
          -2534.5133408539828,
          -8456.738891296916,
          -2399.106675204304,
          -1833.4988978836273,
          -1890.3644528455204,
          -2523.445564366049,
          -4054.2688943710596,
          -9072.451114826732,
          -1912.8555630346139,
          -2380.3833415872523,
          -3392.7000073360073,
          -3235.086673163705,
          -2475.470007780525,
          -25980.151112046504,
          -2149.1166744298403,
          -2560.962230781714,
          -5582.128895772828,
          -4006.513340668546,
          -4501.690004318953,
          -16706.936666938996,
          -2202.3377861910394,
          -2660.042230702109,
          -2392.187784996298,
          -6388.270008176565,
          -3160.523340890805,
          -2707.7988974617583,
          -7903.756671537955,
          -1989.145564224985,
          -3540.760007162889,
          -2561.1322301526866,
          -2128.4644530481764,
          -3257.902228199773,
          -3952.076674385203,
          -2056.3055642048516,
          -2379.161120143202,
          -2657.713341921568,
          -2101.527786642313,
          -3178.6133404274783,
          -2955.613340907627,
          -2269.6922306153506,
          -6388.270008176565,
          -7052.644447896215
         ],
         "yaxis": "y9"
        },
        {
         "marker": {
          "color": [
           0,
           1,
           2,
           3,
           4,
           5,
           6,
           7,
           8,
           9,
           10,
           11,
           12,
           13,
           14,
           15,
           16,
           17,
           18,
           19,
           20,
           21,
           22,
           23,
           24,
           25,
           26,
           27,
           28,
           29,
           30,
           31,
           32,
           33,
           34,
           35,
           36,
           37,
           38,
           39,
           40,
           41,
           42,
           43,
           44,
           45,
           46,
           47,
           48,
           49,
           50,
           51,
           52,
           53,
           54,
           55,
           56,
           57,
           58,
           59,
           60,
           61,
           62,
           63,
           64,
           65,
           66,
           67,
           68,
           69
          ],
          "colorbar": {
           "title": {
            "text": "Trial"
           },
           "x": 1,
           "xpad": 40
          },
          "colorscale": [
           [
            0,
            "rgb(247,251,255)"
           ],
           [
            0.125,
            "rgb(222,235,247)"
           ],
           [
            0.25,
            "rgb(198,219,239)"
           ],
           [
            0.375,
            "rgb(158,202,225)"
           ],
           [
            0.5,
            "rgb(107,174,214)"
           ],
           [
            0.625,
            "rgb(66,146,198)"
           ],
           [
            0.75,
            "rgb(33,113,181)"
           ],
           [
            0.875,
            "rgb(8,81,156)"
           ],
           [
            1,
            "rgb(8,48,107)"
           ]
          ],
          "line": {
           "color": "Grey",
           "width": 0.5
          },
          "showscale": false
         },
         "mode": "markers",
         "name": "Feasible Trial",
         "showlegend": false,
         "type": "scatter",
         "x": [
          1,
          1,
          3,
          3,
          1,
          4,
          5,
          5,
          2,
          3,
          2,
          5,
          2,
          4,
          2,
          4,
          5,
          2,
          4,
          2,
          3,
          5,
          5,
          5,
          4,
          5,
          4,
          5,
          4,
          1,
          3,
          3,
          3,
          3,
          3,
          2,
          1,
          1,
          1,
          3,
          1,
          2,
          3,
          2,
          1,
          3,
          3,
          2,
          2,
          4,
          1,
          5,
          4,
          5,
          2,
          5,
          3,
          4,
          3,
          5,
          2,
          5,
          5,
          5,
          5,
          4,
          5,
          4,
          3,
          5
         ],
         "xaxis": "x10",
         "y": [
          -8937.944448156491,
          -15972.655558301345,
          -5089.658895469373,
          -6388.270008176565,
          -2829.1455628209646,
          -2661.1566725075245,
          -6388.270008176565,
          -2404.5544527636634,
          -2059.560007671515,
          -3522.848895470301,
          -15389.147777587175,
          -6397.514452599818,
          -2706.2188963095346,
          -7467.542226493359,
          -2436.092230528593,
          -4805.065560523007,
          -1988.2655643555852,
          -8078.562226934565,
          -14904.242222189901,
          -15274.935556295846,
          -2981.7088969118067,
          -2592.600007623434,
          -6388.270008176565,
          -4810.8988957371985,
          -6388.270008176565,
          -2077.2600081496767,
          -4535.0488942298625,
          -12114.601111114025,
          -2534.5133408539828,
          -8456.738891296916,
          -2399.106675204304,
          -1833.4988978836273,
          -1890.3644528455204,
          -2523.445564366049,
          -4054.2688943710596,
          -9072.451114826732,
          -1912.8555630346139,
          -2380.3833415872523,
          -3392.7000073360073,
          -3235.086673163705,
          -2475.470007780525,
          -25980.151112046504,
          -2149.1166744298403,
          -2560.962230781714,
          -5582.128895772828,
          -4006.513340668546,
          -4501.690004318953,
          -16706.936666938996,
          -2202.3377861910394,
          -2660.042230702109,
          -2392.187784996298,
          -6388.270008176565,
          -3160.523340890805,
          -2707.7988974617583,
          -7903.756671537955,
          -1989.145564224985,
          -3540.760007162889,
          -2561.1322301526866,
          -2128.4644530481764,
          -3257.902228199773,
          -3952.076674385203,
          -2056.3055642048516,
          -2379.161120143202,
          -2657.713341921568,
          -2101.527786642313,
          -3178.6133404274783,
          -2955.613340907627,
          -2269.6922306153506,
          -6388.270008176565,
          -7052.644447896215
         ],
         "yaxis": "y10"
        },
        {
         "marker": {
          "color": [
           0,
           1,
           2,
           3,
           4,
           5,
           6,
           7,
           8,
           9,
           10,
           11,
           12,
           13,
           14,
           15,
           16,
           17,
           18,
           19,
           20,
           21,
           22,
           23,
           24,
           25,
           26,
           27,
           28,
           29,
           30,
           31,
           32,
           33,
           34,
           35,
           36,
           37,
           38,
           39,
           40,
           41,
           42,
           43,
           44,
           45,
           46,
           47,
           48,
           49,
           50,
           51,
           52,
           53,
           54,
           55,
           56,
           57,
           58,
           59,
           60,
           61,
           62,
           63,
           64,
           65,
           66,
           67,
           68,
           69
          ],
          "colorbar": {
           "title": {
            "text": "Trial"
           },
           "x": 1,
           "xpad": 40
          },
          "colorscale": [
           [
            0,
            "rgb(247,251,255)"
           ],
           [
            0.125,
            "rgb(222,235,247)"
           ],
           [
            0.25,
            "rgb(198,219,239)"
           ],
           [
            0.375,
            "rgb(158,202,225)"
           ],
           [
            0.5,
            "rgb(107,174,214)"
           ],
           [
            0.625,
            "rgb(66,146,198)"
           ],
           [
            0.75,
            "rgb(33,113,181)"
           ],
           [
            0.875,
            "rgb(8,81,156)"
           ],
           [
            1,
            "rgb(8,48,107)"
           ]
          ],
          "line": {
           "color": "Grey",
           "width": 0.5
          },
          "showscale": false
         },
         "mode": "markers",
         "name": "Feasible Trial",
         "showlegend": false,
         "type": "scatter",
         "x": [
          4,
          32,
          16,
          128,
          4,
          16,
          128,
          16,
          256,
          64,
          256,
          256,
          256,
          16,
          64,
          32,
          256,
          256,
          256,
          256,
          256,
          16,
          16,
          256,
          4,
          32,
          32,
          32,
          32,
          64,
          128,
          128,
          128,
          128,
          128,
          128,
          128,
          128,
          128,
          128,
          128,
          4,
          128,
          128,
          256,
          128,
          256,
          4,
          64,
          256,
          128,
          32,
          32,
          256,
          32,
          256,
          256,
          256,
          256,
          16,
          256,
          64,
          64,
          64,
          64,
          64,
          256,
          128,
          4,
          128
         ],
         "xaxis": "x11",
         "y": [
          -8937.944448156491,
          -15972.655558301345,
          -5089.658895469373,
          -6388.270008176565,
          -2829.1455628209646,
          -2661.1566725075245,
          -6388.270008176565,
          -2404.5544527636634,
          -2059.560007671515,
          -3522.848895470301,
          -15389.147777587175,
          -6397.514452599818,
          -2706.2188963095346,
          -7467.542226493359,
          -2436.092230528593,
          -4805.065560523007,
          -1988.2655643555852,
          -8078.562226934565,
          -14904.242222189901,
          -15274.935556295846,
          -2981.7088969118067,
          -2592.600007623434,
          -6388.270008176565,
          -4810.8988957371985,
          -6388.270008176565,
          -2077.2600081496767,
          -4535.0488942298625,
          -12114.601111114025,
          -2534.5133408539828,
          -8456.738891296916,
          -2399.106675204304,
          -1833.4988978836273,
          -1890.3644528455204,
          -2523.445564366049,
          -4054.2688943710596,
          -9072.451114826732,
          -1912.8555630346139,
          -2380.3833415872523,
          -3392.7000073360073,
          -3235.086673163705,
          -2475.470007780525,
          -25980.151112046504,
          -2149.1166744298403,
          -2560.962230781714,
          -5582.128895772828,
          -4006.513340668546,
          -4501.690004318953,
          -16706.936666938996,
          -2202.3377861910394,
          -2660.042230702109,
          -2392.187784996298,
          -6388.270008176565,
          -3160.523340890805,
          -2707.7988974617583,
          -7903.756671537955,
          -1989.145564224985,
          -3540.760007162889,
          -2561.1322301526866,
          -2128.4644530481764,
          -3257.902228199773,
          -3952.076674385203,
          -2056.3055642048516,
          -2379.161120143202,
          -2657.713341921568,
          -2101.527786642313,
          -3178.6133404274783,
          -2955.613340907627,
          -2269.6922306153506,
          -6388.270008176565,
          -7052.644447896215
         ],
         "yaxis": "y11"
        },
        {
         "marker": {
          "color": [
           2,
           3,
           5,
           6,
           7,
           8,
           9,
           10,
           11,
           12,
           13,
           14,
           15,
           16,
           17,
           18,
           19,
           20,
           21,
           22,
           23,
           24,
           25,
           26,
           27,
           28,
           30,
           31,
           32,
           33,
           34,
           35,
           39,
           41,
           42,
           43,
           45,
           46,
           47,
           48,
           49,
           51,
           52,
           53,
           54,
           55,
           56,
           57,
           58,
           59,
           60,
           61,
           62,
           63,
           64,
           65,
           66,
           67,
           68,
           69
          ],
          "colorbar": {
           "title": {
            "text": "Trial"
           },
           "x": 1,
           "xpad": 40
          },
          "colorscale": [
           [
            0,
            "rgb(247,251,255)"
           ],
           [
            0.125,
            "rgb(222,235,247)"
           ],
           [
            0.25,
            "rgb(198,219,239)"
           ],
           [
            0.375,
            "rgb(158,202,225)"
           ],
           [
            0.5,
            "rgb(107,174,214)"
           ],
           [
            0.625,
            "rgb(66,146,198)"
           ],
           [
            0.75,
            "rgb(33,113,181)"
           ],
           [
            0.875,
            "rgb(8,81,156)"
           ],
           [
            1,
            "rgb(8,48,107)"
           ]
          ],
          "line": {
           "color": "Grey",
           "width": 0.5
          },
          "showscale": false
         },
         "mode": "markers",
         "name": "Feasible Trial",
         "showlegend": false,
         "type": "scatter",
         "x": [
          16,
          256,
          256,
          32,
          64,
          16,
          64,
          16,
          4,
          128,
          64,
          16,
          64,
          128,
          128,
          128,
          4,
          32,
          16,
          64,
          128,
          64,
          16,
          16,
          16,
          16,
          128,
          128,
          128,
          128,
          128,
          128,
          256,
          128,
          128,
          32,
          256,
          4,
          128,
          128,
          32,
          16,
          16,
          16,
          256,
          16,
          4,
          128,
          128,
          16,
          128,
          16,
          16,
          16,
          16,
          16,
          64,
          4,
          32,
          16
         ],
         "xaxis": "x12",
         "y": [
          -5089.658895469373,
          -6388.270008176565,
          -2661.1566725075245,
          -6388.270008176565,
          -2404.5544527636634,
          -2059.560007671515,
          -3522.848895470301,
          -15389.147777587175,
          -6397.514452599818,
          -2706.2188963095346,
          -7467.542226493359,
          -2436.092230528593,
          -4805.065560523007,
          -1988.2655643555852,
          -8078.562226934565,
          -14904.242222189901,
          -15274.935556295846,
          -2981.7088969118067,
          -2592.600007623434,
          -6388.270008176565,
          -4810.8988957371985,
          -6388.270008176565,
          -2077.2600081496767,
          -4535.0488942298625,
          -12114.601111114025,
          -2534.5133408539828,
          -2399.106675204304,
          -1833.4988978836273,
          -1890.3644528455204,
          -2523.445564366049,
          -4054.2688943710596,
          -9072.451114826732,
          -3235.086673163705,
          -25980.151112046504,
          -2149.1166744298403,
          -2560.962230781714,
          -4006.513340668546,
          -4501.690004318953,
          -16706.936666938996,
          -2202.3377861910394,
          -2660.042230702109,
          -6388.270008176565,
          -3160.523340890805,
          -2707.7988974617583,
          -7903.756671537955,
          -1989.145564224985,
          -3540.760007162889,
          -2561.1322301526866,
          -2128.4644530481764,
          -3257.902228199773,
          -3952.076674385203,
          -2056.3055642048516,
          -2379.161120143202,
          -2657.713341921568,
          -2101.527786642313,
          -3178.6133404274783,
          -2955.613340907627,
          -2269.6922306153506,
          -6388.270008176565,
          -7052.644447896215
         ],
         "yaxis": "y12"
        },
        {
         "marker": {
          "color": [
           2,
           3,
           5,
           6,
           7,
           9,
           11,
           13,
           15,
           16,
           18,
           20,
           21,
           22,
           23,
           24,
           25,
           26,
           27,
           28,
           30,
           31,
           32,
           33,
           34,
           39,
           42,
           45,
           46,
           49,
           51,
           52,
           53,
           55,
           56,
           57,
           58,
           59,
           61,
           62,
           63,
           64,
           65,
           66,
           67,
           68,
           69
          ],
          "colorbar": {
           "title": {
            "text": "Trial"
           },
           "x": 1,
           "xpad": 40
          },
          "colorscale": [
           [
            0,
            "rgb(247,251,255)"
           ],
           [
            0.125,
            "rgb(222,235,247)"
           ],
           [
            0.25,
            "rgb(198,219,239)"
           ],
           [
            0.375,
            "rgb(158,202,225)"
           ],
           [
            0.5,
            "rgb(107,174,214)"
           ],
           [
            0.625,
            "rgb(66,146,198)"
           ],
           [
            0.75,
            "rgb(33,113,181)"
           ],
           [
            0.875,
            "rgb(8,81,156)"
           ],
           [
            1,
            "rgb(8,48,107)"
           ]
          ],
          "line": {
           "color": "Grey",
           "width": 0.5
          },
          "showscale": false
         },
         "mode": "markers",
         "name": "Feasible Trial",
         "showlegend": false,
         "type": "scatter",
         "x": [
          256,
          128,
          4,
          32,
          64,
          128,
          64,
          64,
          16,
          64,
          4,
          256,
          64,
          64,
          64,
          16,
          32,
          32,
          32,
          32,
          32,
          32,
          32,
          32,
          32,
          4,
          128,
          16,
          256,
          256,
          32,
          32,
          32,
          32,
          32,
          128,
          32,
          4,
          32,
          32,
          64,
          32,
          32,
          64,
          128,
          16,
          64
         ],
         "xaxis": "x13",
         "y": [
          -5089.658895469373,
          -6388.270008176565,
          -2661.1566725075245,
          -6388.270008176565,
          -2404.5544527636634,
          -3522.848895470301,
          -6397.514452599818,
          -7467.542226493359,
          -4805.065560523007,
          -1988.2655643555852,
          -14904.242222189901,
          -2981.7088969118067,
          -2592.600007623434,
          -6388.270008176565,
          -4810.8988957371985,
          -6388.270008176565,
          -2077.2600081496767,
          -4535.0488942298625,
          -12114.601111114025,
          -2534.5133408539828,
          -2399.106675204304,
          -1833.4988978836273,
          -1890.3644528455204,
          -2523.445564366049,
          -4054.2688943710596,
          -3235.086673163705,
          -2149.1166744298403,
          -4006.513340668546,
          -4501.690004318953,
          -2660.042230702109,
          -6388.270008176565,
          -3160.523340890805,
          -2707.7988974617583,
          -1989.145564224985,
          -3540.760007162889,
          -2561.1322301526866,
          -2128.4644530481764,
          -3257.902228199773,
          -2056.3055642048516,
          -2379.161120143202,
          -2657.713341921568,
          -2101.527786642313,
          -3178.6133404274783,
          -2955.613340907627,
          -2269.6922306153506,
          -6388.270008176565,
          -7052.644447896215
         ],
         "yaxis": "y13"
        },
        {
         "marker": {
          "color": [
           5,
           6,
           7,
           11,
           13,
           15,
           16,
           18,
           21,
           22,
           23,
           24,
           25,
           26,
           27,
           28,
           49,
           51,
           52,
           53,
           55,
           57,
           59,
           61,
           62,
           63,
           64,
           65,
           66,
           67,
           69
          ],
          "colorbar": {
           "title": {
            "text": "Trial"
           },
           "x": 1,
           "xpad": 40
          },
          "colorscale": [
           [
            0,
            "rgb(247,251,255)"
           ],
           [
            0.125,
            "rgb(222,235,247)"
           ],
           [
            0.25,
            "rgb(198,219,239)"
           ],
           [
            0.375,
            "rgb(158,202,225)"
           ],
           [
            0.5,
            "rgb(107,174,214)"
           ],
           [
            0.625,
            "rgb(66,146,198)"
           ],
           [
            0.75,
            "rgb(33,113,181)"
           ],
           [
            0.875,
            "rgb(8,81,156)"
           ],
           [
            1,
            "rgb(8,48,107)"
           ]
          ],
          "line": {
           "color": "Grey",
           "width": 0.5
          },
          "showscale": false
         },
         "mode": "markers",
         "name": "Feasible Trial",
         "showlegend": false,
         "type": "scatter",
         "x": [
          16,
          128,
          256,
          256,
          256,
          4,
          32,
          32,
          32,
          64,
          256,
          32,
          128,
          128,
          128,
          4,
          64,
          32,
          16,
          128,
          32,
          32,
          32,
          32,
          32,
          32,
          32,
          32,
          32,
          16,
          4
         ],
         "xaxis": "x14",
         "y": [
          -2661.1566725075245,
          -6388.270008176565,
          -2404.5544527636634,
          -6397.514452599818,
          -7467.542226493359,
          -4805.065560523007,
          -1988.2655643555852,
          -14904.242222189901,
          -2592.600007623434,
          -6388.270008176565,
          -4810.8988957371985,
          -6388.270008176565,
          -2077.2600081496767,
          -4535.0488942298625,
          -12114.601111114025,
          -2534.5133408539828,
          -2660.042230702109,
          -6388.270008176565,
          -3160.523340890805,
          -2707.7988974617583,
          -1989.145564224985,
          -2561.1322301526866,
          -3257.902228199773,
          -2056.3055642048516,
          -2379.161120143202,
          -2657.713341921568,
          -2101.527786642313,
          -3178.6133404274783,
          -2955.613340907627,
          -2269.6922306153506,
          -7052.644447896215
         ],
         "yaxis": "y14"
        },
        {
         "marker": {
          "color": [
           6,
           7,
           11,
           16,
           21,
           22,
           23,
           25,
           27,
           51,
           53,
           55,
           59,
           61,
           62,
           63,
           64,
           66,
           69
          ],
          "colorbar": {
           "title": {
            "text": "Trial"
           },
           "x": 1,
           "xpad": 40
          },
          "colorscale": [
           [
            0,
            "rgb(247,251,255)"
           ],
           [
            0.125,
            "rgb(222,235,247)"
           ],
           [
            0.25,
            "rgb(198,219,239)"
           ],
           [
            0.375,
            "rgb(158,202,225)"
           ],
           [
            0.5,
            "rgb(107,174,214)"
           ],
           [
            0.625,
            "rgb(66,146,198)"
           ],
           [
            0.75,
            "rgb(33,113,181)"
           ],
           [
            0.875,
            "rgb(8,81,156)"
           ],
           [
            1,
            "rgb(8,48,107)"
           ]
          ],
          "line": {
           "color": "Grey",
           "width": 0.5
          },
          "showscale": false
         },
         "mode": "markers",
         "name": "Feasible Trial",
         "showlegend": false,
         "type": "scatter",
         "x": [
          64,
          16,
          16,
          16,
          16,
          256,
          16,
          32,
          32,
          4,
          128,
          32,
          32,
          32,
          32,
          32,
          128,
          4,
          256
         ],
         "xaxis": "x15",
         "y": [
          -6388.270008176565,
          -2404.5544527636634,
          -6397.514452599818,
          -1988.2655643555852,
          -2592.600007623434,
          -6388.270008176565,
          -4810.8988957371985,
          -2077.2600081496767,
          -12114.601111114025,
          -6388.270008176565,
          -2707.7988974617583,
          -1989.145564224985,
          -3257.902228199773,
          -2056.3055642048516,
          -2379.161120143202,
          -2657.713341921568,
          -2101.527786642313,
          -2955.613340907627,
          -7052.644447896215
         ],
         "yaxis": "y15"
        },
        {
         "marker": {
          "color": [
           0,
           1,
           2,
           3,
           4,
           5,
           6,
           7,
           8,
           9,
           10,
           11,
           12,
           13,
           14,
           15,
           16,
           17,
           18,
           19,
           20,
           21,
           22,
           23,
           24,
           25,
           26,
           27,
           28,
           29,
           30,
           31,
           32,
           33,
           34,
           35,
           36,
           37,
           38,
           39,
           40,
           41,
           42,
           43,
           44,
           45,
           46,
           47,
           48,
           49,
           50,
           51,
           52,
           53,
           54,
           55,
           56,
           57,
           58,
           59,
           60,
           61,
           62,
           63,
           64,
           65,
           66,
           67,
           68,
           69
          ],
          "colorbar": {
           "title": {
            "text": "Trial"
           },
           "x": 1,
           "xpad": 40
          },
          "colorscale": [
           [
            0,
            "rgb(247,251,255)"
           ],
           [
            0.125,
            "rgb(222,235,247)"
           ],
           [
            0.25,
            "rgb(198,219,239)"
           ],
           [
            0.375,
            "rgb(158,202,225)"
           ],
           [
            0.5,
            "rgb(107,174,214)"
           ],
           [
            0.625,
            "rgb(66,146,198)"
           ],
           [
            0.75,
            "rgb(33,113,181)"
           ],
           [
            0.875,
            "rgb(8,81,156)"
           ],
           [
            1,
            "rgb(8,48,107)"
           ]
          ],
          "line": {
           "color": "Grey",
           "width": 0.5
          },
          "showscale": false
         },
         "mode": "markers",
         "name": "Feasible Trial",
         "showlegend": false,
         "type": "scatter",
         "x": [
          "layernorm",
          "none",
          "none",
          "none",
          "batchnorm",
          "batchnorm",
          "none",
          "none",
          "none",
          "batchnorm",
          "layernorm",
          "none",
          "none",
          "none",
          "none",
          "layernorm",
          "none",
          "none",
          "batchnorm",
          "layernorm",
          "none",
          "none",
          "none",
          "none",
          "none",
          "none",
          "none",
          "none",
          "batchnorm",
          "layernorm",
          "layernorm",
          "layernorm",
          "layernorm",
          "layernorm",
          "layernorm",
          "layernorm",
          "layernorm",
          "layernorm",
          "layernorm",
          "layernorm",
          "layernorm",
          "layernorm",
          "layernorm",
          "layernorm",
          "batchnorm",
          "layernorm",
          "layernorm",
          "batchnorm",
          "layernorm",
          "none",
          "layernorm",
          "none",
          "none",
          "none",
          "none",
          "none",
          "none",
          "none",
          "batchnorm",
          "none",
          "none",
          "none",
          "none",
          "none",
          "none",
          "none",
          "layernorm",
          "none",
          "none",
          "layernorm"
         ],
         "xaxis": "x16",
         "y": [
          -8937.944448156491,
          -15972.655558301345,
          -5089.658895469373,
          -6388.270008176565,
          -2829.1455628209646,
          -2661.1566725075245,
          -6388.270008176565,
          -2404.5544527636634,
          -2059.560007671515,
          -3522.848895470301,
          -15389.147777587175,
          -6397.514452599818,
          -2706.2188963095346,
          -7467.542226493359,
          -2436.092230528593,
          -4805.065560523007,
          -1988.2655643555852,
          -8078.562226934565,
          -14904.242222189901,
          -15274.935556295846,
          -2981.7088969118067,
          -2592.600007623434,
          -6388.270008176565,
          -4810.8988957371985,
          -6388.270008176565,
          -2077.2600081496767,
          -4535.0488942298625,
          -12114.601111114025,
          -2534.5133408539828,
          -8456.738891296916,
          -2399.106675204304,
          -1833.4988978836273,
          -1890.3644528455204,
          -2523.445564366049,
          -4054.2688943710596,
          -9072.451114826732,
          -1912.8555630346139,
          -2380.3833415872523,
          -3392.7000073360073,
          -3235.086673163705,
          -2475.470007780525,
          -25980.151112046504,
          -2149.1166744298403,
          -2560.962230781714,
          -5582.128895772828,
          -4006.513340668546,
          -4501.690004318953,
          -16706.936666938996,
          -2202.3377861910394,
          -2660.042230702109,
          -2392.187784996298,
          -6388.270008176565,
          -3160.523340890805,
          -2707.7988974617583,
          -7903.756671537955,
          -1989.145564224985,
          -3540.760007162889,
          -2561.1322301526866,
          -2128.4644530481764,
          -3257.902228199773,
          -3952.076674385203,
          -2056.3055642048516,
          -2379.161120143202,
          -2657.713341921568,
          -2101.527786642313,
          -3178.6133404274783,
          -2955.613340907627,
          -2269.6922306153506,
          -6388.270008176565,
          -7052.644447896215
         ],
         "yaxis": "y16"
        },
        {
         "marker": {
          "color": [
           0,
           1,
           2,
           3,
           4,
           5,
           6,
           7,
           8,
           9,
           10,
           11,
           12,
           13,
           14,
           15,
           16,
           17,
           18,
           19,
           20,
           21,
           22,
           23,
           24,
           25,
           26,
           27,
           28,
           29,
           30,
           31,
           32,
           33,
           34,
           35,
           36,
           37,
           38,
           39,
           40,
           41,
           42,
           43,
           44,
           45,
           46,
           47,
           48,
           49,
           50,
           51,
           52,
           53,
           54,
           55,
           56,
           57,
           58,
           59,
           60,
           61,
           62,
           63,
           64,
           65,
           66,
           67,
           68,
           69
          ],
          "colorbar": {
           "title": {
            "text": "Trial"
           },
           "x": 1,
           "xpad": 40
          },
          "colorscale": [
           [
            0,
            "rgb(247,251,255)"
           ],
           [
            0.125,
            "rgb(222,235,247)"
           ],
           [
            0.25,
            "rgb(198,219,239)"
           ],
           [
            0.375,
            "rgb(158,202,225)"
           ],
           [
            0.5,
            "rgb(107,174,214)"
           ],
           [
            0.625,
            "rgb(66,146,198)"
           ],
           [
            0.75,
            "rgb(33,113,181)"
           ],
           [
            0.875,
            "rgb(8,81,156)"
           ],
           [
            1,
            "rgb(8,48,107)"
           ]
          ],
          "line": {
           "color": "Grey",
           "width": 0.5
          },
          "showscale": false
         },
         "mode": "markers",
         "name": "Feasible Trial",
         "showlegend": false,
         "type": "scatter",
         "x": [
          12.62520499972521,
          13.587923402725657,
          6.908664112597582,
          3.090986566025858,
          1.9780962737497978,
          7.441566029925313,
          19.36644156182972,
          1.9819527022035461,
          1.2734762839653615,
          1.3462146873794447,
          17.319604711224645,
          5.633624256407794,
          4.654837693179515,
          9.733754353120823,
          3.5039480673409913,
          9.205297933993858,
          1.561964773703588,
          12.215644686818486,
          5.591961094384306,
          15.071217637483686,
          3.730642694649755,
          1.9109642096969983,
          1.213422701288729,
          6.802754533673339,
          3.0313231627860677,
          1.028236975658022,
          4.797059450312511,
          8.523013247174038,
          4.315917035162432,
          11.54709896333442,
          2.6720305736567744,
          1.0597155507405103,
          1.0836680319162735,
          2.693633612916467,
          5.8416559074088585,
          14.209407023031307,
          1.0177292439827574,
          2.4930375759805603,
          4.08139388831236,
          7.5842325534048936,
          2.325764783481274,
          1.1555108138867614,
          1.8835371442850717,
          3.0329007189992883,
          1.0139514284035864,
          3.4945653884732506,
          5.055081203790302,
          19.70700257267324,
          1.9188041180008708,
          6.4253085287038285,
          1.8019446262634593,
          1.131293637072291,
          3.3585967124711757,
          1.7936188981800356,
          17.428852784454257,
          1.0760647964953824,
          3.897296058673606,
          2.5470742331054783,
          1.7945031941864817,
          3.1056634863881616,
          5.137822086718234,
          1.0207176762549746,
          1.493110663624476,
          2.2521137867850203,
          1.0174057038573843,
          2.410413935247625,
          4.397034789270839,
          3.648902409837917,
          1.6037025993521938,
          3.1091003021116865
         ],
         "xaxis": "x17",
         "y": [
          -8937.944448156491,
          -15972.655558301345,
          -5089.658895469373,
          -6388.270008176565,
          -2829.1455628209646,
          -2661.1566725075245,
          -6388.270008176565,
          -2404.5544527636634,
          -2059.560007671515,
          -3522.848895470301,
          -15389.147777587175,
          -6397.514452599818,
          -2706.2188963095346,
          -7467.542226493359,
          -2436.092230528593,
          -4805.065560523007,
          -1988.2655643555852,
          -8078.562226934565,
          -14904.242222189901,
          -15274.935556295846,
          -2981.7088969118067,
          -2592.600007623434,
          -6388.270008176565,
          -4810.8988957371985,
          -6388.270008176565,
          -2077.2600081496767,
          -4535.0488942298625,
          -12114.601111114025,
          -2534.5133408539828,
          -8456.738891296916,
          -2399.106675204304,
          -1833.4988978836273,
          -1890.3644528455204,
          -2523.445564366049,
          -4054.2688943710596,
          -9072.451114826732,
          -1912.8555630346139,
          -2380.3833415872523,
          -3392.7000073360073,
          -3235.086673163705,
          -2475.470007780525,
          -25980.151112046504,
          -2149.1166744298403,
          -2560.962230781714,
          -5582.128895772828,
          -4006.513340668546,
          -4501.690004318953,
          -16706.936666938996,
          -2202.3377861910394,
          -2660.042230702109,
          -2392.187784996298,
          -6388.270008176565,
          -3160.523340890805,
          -2707.7988974617583,
          -7903.756671537955,
          -1989.145564224985,
          -3540.760007162889,
          -2561.1322301526866,
          -2128.4644530481764,
          -3257.902228199773,
          -3952.076674385203,
          -2056.3055642048516,
          -2379.161120143202,
          -2657.713341921568,
          -2101.527786642313,
          -3178.6133404274783,
          -2955.613340907627,
          -2269.6922306153506,
          -6388.270008176565,
          -7052.644447896215
         ],
         "yaxis": "y17"
        },
        {
         "marker": {
          "color": [
           0,
           1,
           2,
           3,
           4,
           5,
           6,
           7,
           8,
           9,
           10,
           11,
           12,
           13,
           14,
           15,
           16,
           17,
           18,
           19,
           20,
           21,
           22,
           23,
           24,
           25,
           26,
           27,
           28,
           29,
           30,
           31,
           32,
           33,
           34,
           35,
           36,
           37,
           38,
           39,
           40,
           41,
           42,
           43,
           44,
           45,
           46,
           47,
           48,
           49,
           50,
           51,
           52,
           53,
           54,
           55,
           56,
           57,
           58,
           59,
           60,
           61,
           62,
           63,
           64,
           65,
           66,
           67,
           68,
           69
          ],
          "colorbar": {
           "title": {
            "text": "Trial"
           },
           "x": 1,
           "xpad": 40
          },
          "colorscale": [
           [
            0,
            "rgb(247,251,255)"
           ],
           [
            0.125,
            "rgb(222,235,247)"
           ],
           [
            0.25,
            "rgb(198,219,239)"
           ],
           [
            0.375,
            "rgb(158,202,225)"
           ],
           [
            0.5,
            "rgb(107,174,214)"
           ],
           [
            0.625,
            "rgb(66,146,198)"
           ],
           [
            0.75,
            "rgb(33,113,181)"
           ],
           [
            0.875,
            "rgb(8,81,156)"
           ],
           [
            1,
            "rgb(8,48,107)"
           ]
          ],
          "line": {
           "color": "Grey",
           "width": 0.5
          },
          "showscale": false
         },
         "mode": "markers",
         "name": "Feasible Trial",
         "showlegend": false,
         "type": "scatter",
         "x": [
          5.589524205217922e-7,
          3.5700959600309427e-7,
          2.4063018320720887e-8,
          8.091347435997561e-7,
          0.00001037705549711512,
          0.00006289393154519743,
          0.0000037077025863479763,
          3.251507723589167e-8,
          0.0003524330779511361,
          4.024092992668068e-8,
          0.00899862166276969,
          0.0014282088178907593,
          0.00024339740969969343,
          0.00011894996040008394,
          0.00001720428678977147,
          0.0007928875673329538,
          1.2341299563322301e-8,
          0.005100694932159895,
          0.000002326476046803398,
          0.00003546780756002221,
          1.81754081869991e-7,
          8.98188755345724e-8,
          1.4195137075006809e-8,
          1.2324321338727622e-8,
          7.200769664378072e-8,
          0.000002556902366071349,
          0.00000332259714803657,
          0.000426313805906492,
          0.0017792549768562268,
          8.44153574424059e-7,
          0.0000240510066045713,
          0.00002560941329716264,
          0.00011659793636483369,
          0.00007027011810260219,
          0.00016377725188315793,
          0.00037319768334158554,
          0.000006089682107989141,
          0.000008611801300756553,
          4.823418535727216e-7,
          0.0000579936466894858,
          0.00001332372178362977,
          0.000007323453906619237,
          0.000001082175943451059,
          0.00012937541732334625,
          0.00004191073584093019,
          0.0008064881181481617,
          0.003282822166352442,
          0.0002695559172431304,
          0.0006755233497163969,
          2.1199617830018024e-7,
          0.000006241436253724438,
          0.00007881362442601238,
          0.000021419392582362705,
          0.000001808202039120315,
          0.000029885532551461727,
          0.0000042163949081335124,
          0.0000043907341600054595,
          0.0000014939365830331804,
          0.0001404808927780465,
          0.000014712286055855338,
          2.8623069706292785e-8,
          2.4470420059581357e-7,
          2.450695948367412e-7,
          1.9258318354400737e-8,
          0.000004926873627487417,
          1.3835837903781764e-7,
          9.135954353666405e-8,
          0.000051413758075307854,
          5.426066735595759e-8,
          4.477069395229394e-7
         ],
         "xaxis": "x18",
         "y": [
          -8937.944448156491,
          -15972.655558301345,
          -5089.658895469373,
          -6388.270008176565,
          -2829.1455628209646,
          -2661.1566725075245,
          -6388.270008176565,
          -2404.5544527636634,
          -2059.560007671515,
          -3522.848895470301,
          -15389.147777587175,
          -6397.514452599818,
          -2706.2188963095346,
          -7467.542226493359,
          -2436.092230528593,
          -4805.065560523007,
          -1988.2655643555852,
          -8078.562226934565,
          -14904.242222189901,
          -15274.935556295846,
          -2981.7088969118067,
          -2592.600007623434,
          -6388.270008176565,
          -4810.8988957371985,
          -6388.270008176565,
          -2077.2600081496767,
          -4535.0488942298625,
          -12114.601111114025,
          -2534.5133408539828,
          -8456.738891296916,
          -2399.106675204304,
          -1833.4988978836273,
          -1890.3644528455204,
          -2523.445564366049,
          -4054.2688943710596,
          -9072.451114826732,
          -1912.8555630346139,
          -2380.3833415872523,
          -3392.7000073360073,
          -3235.086673163705,
          -2475.470007780525,
          -25980.151112046504,
          -2149.1166744298403,
          -2560.962230781714,
          -5582.128895772828,
          -4006.513340668546,
          -4501.690004318953,
          -16706.936666938996,
          -2202.3377861910394,
          -2660.042230702109,
          -2392.187784996298,
          -6388.270008176565,
          -3160.523340890805,
          -2707.7988974617583,
          -7903.756671537955,
          -1989.145564224985,
          -3540.760007162889,
          -2561.1322301526866,
          -2128.4644530481764,
          -3257.902228199773,
          -3952.076674385203,
          -2056.3055642048516,
          -2379.161120143202,
          -2657.713341921568,
          -2101.527786642313,
          -3178.6133404274783,
          -2955.613340907627,
          -2269.6922306153506,
          -6388.270008176565,
          -7052.644447896215
         ],
         "yaxis": "y18"
        }
       ],
       "layout": {
        "template": {
         "data": {
          "bar": [
           {
            "error_x": {
             "color": "#2a3f5f"
            },
            "error_y": {
             "color": "#2a3f5f"
            },
            "marker": {
             "line": {
              "color": "#E5ECF6",
              "width": 0.5
             },
             "pattern": {
              "fillmode": "overlay",
              "size": 10,
              "solidity": 0.2
             }
            },
            "type": "bar"
           }
          ],
          "barpolar": [
           {
            "marker": {
             "line": {
              "color": "#E5ECF6",
              "width": 0.5
             },
             "pattern": {
              "fillmode": "overlay",
              "size": 10,
              "solidity": 0.2
             }
            },
            "type": "barpolar"
           }
          ],
          "carpet": [
           {
            "aaxis": {
             "endlinecolor": "#2a3f5f",
             "gridcolor": "white",
             "linecolor": "white",
             "minorgridcolor": "white",
             "startlinecolor": "#2a3f5f"
            },
            "baxis": {
             "endlinecolor": "#2a3f5f",
             "gridcolor": "white",
             "linecolor": "white",
             "minorgridcolor": "white",
             "startlinecolor": "#2a3f5f"
            },
            "type": "carpet"
           }
          ],
          "choropleth": [
           {
            "colorbar": {
             "outlinewidth": 0,
             "ticks": ""
            },
            "type": "choropleth"
           }
          ],
          "contour": [
           {
            "colorbar": {
             "outlinewidth": 0,
             "ticks": ""
            },
            "colorscale": [
             [
              0,
              "#0d0887"
             ],
             [
              0.1111111111111111,
              "#46039f"
             ],
             [
              0.2222222222222222,
              "#7201a8"
             ],
             [
              0.3333333333333333,
              "#9c179e"
             ],
             [
              0.4444444444444444,
              "#bd3786"
             ],
             [
              0.5555555555555556,
              "#d8576b"
             ],
             [
              0.6666666666666666,
              "#ed7953"
             ],
             [
              0.7777777777777778,
              "#fb9f3a"
             ],
             [
              0.8888888888888888,
              "#fdca26"
             ],
             [
              1,
              "#f0f921"
             ]
            ],
            "type": "contour"
           }
          ],
          "contourcarpet": [
           {
            "colorbar": {
             "outlinewidth": 0,
             "ticks": ""
            },
            "type": "contourcarpet"
           }
          ],
          "heatmap": [
           {
            "colorbar": {
             "outlinewidth": 0,
             "ticks": ""
            },
            "colorscale": [
             [
              0,
              "#0d0887"
             ],
             [
              0.1111111111111111,
              "#46039f"
             ],
             [
              0.2222222222222222,
              "#7201a8"
             ],
             [
              0.3333333333333333,
              "#9c179e"
             ],
             [
              0.4444444444444444,
              "#bd3786"
             ],
             [
              0.5555555555555556,
              "#d8576b"
             ],
             [
              0.6666666666666666,
              "#ed7953"
             ],
             [
              0.7777777777777778,
              "#fb9f3a"
             ],
             [
              0.8888888888888888,
              "#fdca26"
             ],
             [
              1,
              "#f0f921"
             ]
            ],
            "type": "heatmap"
           }
          ],
          "histogram": [
           {
            "marker": {
             "pattern": {
              "fillmode": "overlay",
              "size": 10,
              "solidity": 0.2
             }
            },
            "type": "histogram"
           }
          ],
          "histogram2d": [
           {
            "colorbar": {
             "outlinewidth": 0,
             "ticks": ""
            },
            "colorscale": [
             [
              0,
              "#0d0887"
             ],
             [
              0.1111111111111111,
              "#46039f"
             ],
             [
              0.2222222222222222,
              "#7201a8"
             ],
             [
              0.3333333333333333,
              "#9c179e"
             ],
             [
              0.4444444444444444,
              "#bd3786"
             ],
             [
              0.5555555555555556,
              "#d8576b"
             ],
             [
              0.6666666666666666,
              "#ed7953"
             ],
             [
              0.7777777777777778,
              "#fb9f3a"
             ],
             [
              0.8888888888888888,
              "#fdca26"
             ],
             [
              1,
              "#f0f921"
             ]
            ],
            "type": "histogram2d"
           }
          ],
          "histogram2dcontour": [
           {
            "colorbar": {
             "outlinewidth": 0,
             "ticks": ""
            },
            "colorscale": [
             [
              0,
              "#0d0887"
             ],
             [
              0.1111111111111111,
              "#46039f"
             ],
             [
              0.2222222222222222,
              "#7201a8"
             ],
             [
              0.3333333333333333,
              "#9c179e"
             ],
             [
              0.4444444444444444,
              "#bd3786"
             ],
             [
              0.5555555555555556,
              "#d8576b"
             ],
             [
              0.6666666666666666,
              "#ed7953"
             ],
             [
              0.7777777777777778,
              "#fb9f3a"
             ],
             [
              0.8888888888888888,
              "#fdca26"
             ],
             [
              1,
              "#f0f921"
             ]
            ],
            "type": "histogram2dcontour"
           }
          ],
          "mesh3d": [
           {
            "colorbar": {
             "outlinewidth": 0,
             "ticks": ""
            },
            "type": "mesh3d"
           }
          ],
          "parcoords": [
           {
            "line": {
             "colorbar": {
              "outlinewidth": 0,
              "ticks": ""
             }
            },
            "type": "parcoords"
           }
          ],
          "pie": [
           {
            "automargin": true,
            "type": "pie"
           }
          ],
          "scatter": [
           {
            "fillpattern": {
             "fillmode": "overlay",
             "size": 10,
             "solidity": 0.2
            },
            "type": "scatter"
           }
          ],
          "scatter3d": [
           {
            "line": {
             "colorbar": {
              "outlinewidth": 0,
              "ticks": ""
             }
            },
            "marker": {
             "colorbar": {
              "outlinewidth": 0,
              "ticks": ""
             }
            },
            "type": "scatter3d"
           }
          ],
          "scattercarpet": [
           {
            "marker": {
             "colorbar": {
              "outlinewidth": 0,
              "ticks": ""
             }
            },
            "type": "scattercarpet"
           }
          ],
          "scattergeo": [
           {
            "marker": {
             "colorbar": {
              "outlinewidth": 0,
              "ticks": ""
             }
            },
            "type": "scattergeo"
           }
          ],
          "scattergl": [
           {
            "marker": {
             "colorbar": {
              "outlinewidth": 0,
              "ticks": ""
             }
            },
            "type": "scattergl"
           }
          ],
          "scattermap": [
           {
            "marker": {
             "colorbar": {
              "outlinewidth": 0,
              "ticks": ""
             }
            },
            "type": "scattermap"
           }
          ],
          "scattermapbox": [
           {
            "marker": {
             "colorbar": {
              "outlinewidth": 0,
              "ticks": ""
             }
            },
            "type": "scattermapbox"
           }
          ],
          "scatterpolar": [
           {
            "marker": {
             "colorbar": {
              "outlinewidth": 0,
              "ticks": ""
             }
            },
            "type": "scatterpolar"
           }
          ],
          "scatterpolargl": [
           {
            "marker": {
             "colorbar": {
              "outlinewidth": 0,
              "ticks": ""
             }
            },
            "type": "scatterpolargl"
           }
          ],
          "scatterternary": [
           {
            "marker": {
             "colorbar": {
              "outlinewidth": 0,
              "ticks": ""
             }
            },
            "type": "scatterternary"
           }
          ],
          "surface": [
           {
            "colorbar": {
             "outlinewidth": 0,
             "ticks": ""
            },
            "colorscale": [
             [
              0,
              "#0d0887"
             ],
             [
              0.1111111111111111,
              "#46039f"
             ],
             [
              0.2222222222222222,
              "#7201a8"
             ],
             [
              0.3333333333333333,
              "#9c179e"
             ],
             [
              0.4444444444444444,
              "#bd3786"
             ],
             [
              0.5555555555555556,
              "#d8576b"
             ],
             [
              0.6666666666666666,
              "#ed7953"
             ],
             [
              0.7777777777777778,
              "#fb9f3a"
             ],
             [
              0.8888888888888888,
              "#fdca26"
             ],
             [
              1,
              "#f0f921"
             ]
            ],
            "type": "surface"
           }
          ],
          "table": [
           {
            "cells": {
             "fill": {
              "color": "#EBF0F8"
             },
             "line": {
              "color": "white"
             }
            },
            "header": {
             "fill": {
              "color": "#C8D4E3"
             },
             "line": {
              "color": "white"
             }
            },
            "type": "table"
           }
          ]
         },
         "layout": {
          "annotationdefaults": {
           "arrowcolor": "#2a3f5f",
           "arrowhead": 0,
           "arrowwidth": 1
          },
          "autotypenumbers": "strict",
          "coloraxis": {
           "colorbar": {
            "outlinewidth": 0,
            "ticks": ""
           }
          },
          "colorscale": {
           "diverging": [
            [
             0,
             "#8e0152"
            ],
            [
             0.1,
             "#c51b7d"
            ],
            [
             0.2,
             "#de77ae"
            ],
            [
             0.3,
             "#f1b6da"
            ],
            [
             0.4,
             "#fde0ef"
            ],
            [
             0.5,
             "#f7f7f7"
            ],
            [
             0.6,
             "#e6f5d0"
            ],
            [
             0.7,
             "#b8e186"
            ],
            [
             0.8,
             "#7fbc41"
            ],
            [
             0.9,
             "#4d9221"
            ],
            [
             1,
             "#276419"
            ]
           ],
           "sequential": [
            [
             0,
             "#0d0887"
            ],
            [
             0.1111111111111111,
             "#46039f"
            ],
            [
             0.2222222222222222,
             "#7201a8"
            ],
            [
             0.3333333333333333,
             "#9c179e"
            ],
            [
             0.4444444444444444,
             "#bd3786"
            ],
            [
             0.5555555555555556,
             "#d8576b"
            ],
            [
             0.6666666666666666,
             "#ed7953"
            ],
            [
             0.7777777777777778,
             "#fb9f3a"
            ],
            [
             0.8888888888888888,
             "#fdca26"
            ],
            [
             1,
             "#f0f921"
            ]
           ],
           "sequentialminus": [
            [
             0,
             "#0d0887"
            ],
            [
             0.1111111111111111,
             "#46039f"
            ],
            [
             0.2222222222222222,
             "#7201a8"
            ],
            [
             0.3333333333333333,
             "#9c179e"
            ],
            [
             0.4444444444444444,
             "#bd3786"
            ],
            [
             0.5555555555555556,
             "#d8576b"
            ],
            [
             0.6666666666666666,
             "#ed7953"
            ],
            [
             0.7777777777777778,
             "#fb9f3a"
            ],
            [
             0.8888888888888888,
             "#fdca26"
            ],
            [
             1,
             "#f0f921"
            ]
           ]
          },
          "colorway": [
           "#636efa",
           "#EF553B",
           "#00cc96",
           "#ab63fa",
           "#FFA15A",
           "#19d3f3",
           "#FF6692",
           "#B6E880",
           "#FF97FF",
           "#FECB52"
          ],
          "font": {
           "color": "#2a3f5f"
          },
          "geo": {
           "bgcolor": "white",
           "lakecolor": "white",
           "landcolor": "#E5ECF6",
           "showlakes": true,
           "showland": true,
           "subunitcolor": "white"
          },
          "hoverlabel": {
           "align": "left"
          },
          "hovermode": "closest",
          "mapbox": {
           "style": "light"
          },
          "paper_bgcolor": "white",
          "plot_bgcolor": "#E5ECF6",
          "polar": {
           "angularaxis": {
            "gridcolor": "white",
            "linecolor": "white",
            "ticks": ""
           },
           "bgcolor": "#E5ECF6",
           "radialaxis": {
            "gridcolor": "white",
            "linecolor": "white",
            "ticks": ""
           }
          },
          "scene": {
           "xaxis": {
            "backgroundcolor": "#E5ECF6",
            "gridcolor": "white",
            "gridwidth": 2,
            "linecolor": "white",
            "showbackground": true,
            "ticks": "",
            "zerolinecolor": "white"
           },
           "yaxis": {
            "backgroundcolor": "#E5ECF6",
            "gridcolor": "white",
            "gridwidth": 2,
            "linecolor": "white",
            "showbackground": true,
            "ticks": "",
            "zerolinecolor": "white"
           },
           "zaxis": {
            "backgroundcolor": "#E5ECF6",
            "gridcolor": "white",
            "gridwidth": 2,
            "linecolor": "white",
            "showbackground": true,
            "ticks": "",
            "zerolinecolor": "white"
           }
          },
          "shapedefaults": {
           "line": {
            "color": "#2a3f5f"
           }
          },
          "ternary": {
           "aaxis": {
            "gridcolor": "white",
            "linecolor": "white",
            "ticks": ""
           },
           "baxis": {
            "gridcolor": "white",
            "linecolor": "white",
            "ticks": ""
           },
           "bgcolor": "#E5ECF6",
           "caxis": {
            "gridcolor": "white",
            "linecolor": "white",
            "ticks": ""
           }
          },
          "title": {
           "x": 0.05
          },
          "xaxis": {
           "automargin": true,
           "gridcolor": "white",
           "linecolor": "white",
           "ticks": "",
           "title": {
            "standoff": 15
           },
           "zerolinecolor": "white",
           "zerolinewidth": 2
          },
          "yaxis": {
           "automargin": true,
           "gridcolor": "white",
           "linecolor": "white",
           "ticks": "",
           "title": {
            "standoff": 15
           },
           "zerolinecolor": "white",
           "zerolinewidth": 2
          }
         }
        },
        "title": {
         "text": "Slice Plot"
        },
        "width": 5400,
        "xaxis": {
         "anchor": "y",
         "categoryarray": [
          "ReLU",
          "LeakyReLU",
          "SiLU"
         ],
         "categoryorder": "array",
         "domain": [
          0,
          0.04506172839506173
         ],
         "title": {
          "text": "activataion"
         },
         "type": "category"
        },
        "xaxis10": {
         "anchor": "y10",
         "domain": [
          0.5055555555555555,
          0.5506172839506173
         ],
         "title": {
          "text": "n_layers"
         }
        },
        "xaxis11": {
         "anchor": "y11",
         "categoryarray": [
          4,
          16,
          32,
          64,
          128,
          256
         ],
         "categoryorder": "array",
         "domain": [
          0.5617283950617284,
          0.6067901234567902
         ],
         "title": {
          "text": "n_units_l0"
         },
         "type": "category"
        },
        "xaxis12": {
         "anchor": "y12",
         "categoryarray": [
          4,
          16,
          32,
          64,
          128,
          256
         ],
         "categoryorder": "array",
         "domain": [
          0.6179012345679012,
          0.662962962962963
         ],
         "title": {
          "text": "n_units_l1"
         },
         "type": "category"
        },
        "xaxis13": {
         "anchor": "y13",
         "categoryarray": [
          4,
          16,
          32,
          64,
          128,
          256
         ],
         "categoryorder": "array",
         "domain": [
          0.674074074074074,
          0.7191358024691358
         ],
         "title": {
          "text": "n_units_l2"
         },
         "type": "category"
        },
        "xaxis14": {
         "anchor": "y14",
         "categoryarray": [
          4,
          16,
          32,
          64,
          128,
          256
         ],
         "categoryorder": "array",
         "domain": [
          0.730246913580247,
          0.7753086419753087
         ],
         "title": {
          "text": "n_units_l3"
         },
         "type": "category"
        },
        "xaxis15": {
         "anchor": "y15",
         "categoryarray": [
          4,
          16,
          32,
          64,
          128,
          256
         ],
         "categoryorder": "array",
         "domain": [
          0.7864197530864198,
          0.8314814814814815
         ],
         "title": {
          "text": "n_units_l4"
         },
         "type": "category"
        },
        "xaxis16": {
         "anchor": "y16",
         "categoryarray": [
          "none",
          "batchnorm",
          "layernorm"
         ],
         "categoryorder": "array",
         "domain": [
          0.8425925925925926,
          0.8876543209876543
         ],
         "title": {
          "text": "norm"
         },
         "type": "category"
        },
        "xaxis17": {
         "anchor": "y17",
         "domain": [
          0.8987654320987655,
          0.9438271604938272
         ],
         "title": {
          "text": "pos_weight"
         }
        },
        "xaxis18": {
         "anchor": "y18",
         "domain": [
          0.9549382716049383,
          1
         ],
         "title": {
          "text": "weight_decay"
         },
         "type": "log"
        },
        "xaxis2": {
         "anchor": "y2",
         "categoryarray": [
          32,
          64,
          128,
          256
         ],
         "categoryorder": "array",
         "domain": [
          0.05617283950617284,
          0.10123456790123457
         ],
         "title": {
          "text": "batch_size"
         },
         "type": "category"
        },
        "xaxis3": {
         "anchor": "y3",
         "domain": [
          0.11234567901234568,
          0.1574074074074074
         ],
         "title": {
          "text": "dropout_0"
         }
        },
        "xaxis4": {
         "anchor": "y4",
         "domain": [
          0.1685185185185185,
          0.21358024691358024
         ],
         "title": {
          "text": "dropout_1"
         }
        },
        "xaxis5": {
         "anchor": "y5",
         "domain": [
          0.22469135802469137,
          0.2697530864197531
         ],
         "title": {
          "text": "dropout_2"
         }
        },
        "xaxis6": {
         "anchor": "y6",
         "domain": [
          0.2808641975308642,
          0.32592592592592595
         ],
         "title": {
          "text": "dropout_3"
         }
        },
        "xaxis7": {
         "anchor": "y7",
         "domain": [
          0.337037037037037,
          0.38209876543209875
         ],
         "title": {
          "text": "dropout_4"
         }
        },
        "xaxis8": {
         "anchor": "y8",
         "domain": [
          0.3932098765432099,
          0.4382716049382716
         ],
         "title": {
          "text": "lr"
         },
         "type": "log"
        },
        "xaxis9": {
         "anchor": "y9",
         "categoryarray": [
          5,
          10,
          20,
          30
         ],
         "categoryorder": "array",
         "domain": [
          0.44938271604938274,
          0.49444444444444446
         ],
         "title": {
          "text": "n_epochs"
         },
         "type": "category"
        },
        "yaxis": {
         "anchor": "x",
         "domain": [
          0,
          1
         ],
         "title": {
          "text": "Objective Value"
         }
        },
        "yaxis10": {
         "anchor": "x10",
         "domain": [
          0,
          1
         ],
         "matches": "y",
         "showticklabels": false
        },
        "yaxis11": {
         "anchor": "x11",
         "domain": [
          0,
          1
         ],
         "matches": "y",
         "showticklabels": false
        },
        "yaxis12": {
         "anchor": "x12",
         "domain": [
          0,
          1
         ],
         "matches": "y",
         "showticklabels": false
        },
        "yaxis13": {
         "anchor": "x13",
         "domain": [
          0,
          1
         ],
         "matches": "y",
         "showticklabels": false
        },
        "yaxis14": {
         "anchor": "x14",
         "domain": [
          0,
          1
         ],
         "matches": "y",
         "showticklabels": false
        },
        "yaxis15": {
         "anchor": "x15",
         "domain": [
          0,
          1
         ],
         "matches": "y",
         "showticklabels": false
        },
        "yaxis16": {
         "anchor": "x16",
         "domain": [
          0,
          1
         ],
         "matches": "y",
         "showticklabels": false
        },
        "yaxis17": {
         "anchor": "x17",
         "domain": [
          0,
          1
         ],
         "matches": "y",
         "showticklabels": false
        },
        "yaxis18": {
         "anchor": "x18",
         "domain": [
          0,
          1
         ],
         "matches": "y",
         "showticklabels": false
        },
        "yaxis2": {
         "anchor": "x2",
         "domain": [
          0,
          1
         ],
         "matches": "y",
         "showticklabels": false
        },
        "yaxis3": {
         "anchor": "x3",
         "domain": [
          0,
          1
         ],
         "matches": "y",
         "showticklabels": false
        },
        "yaxis4": {
         "anchor": "x4",
         "domain": [
          0,
          1
         ],
         "matches": "y",
         "showticklabels": false
        },
        "yaxis5": {
         "anchor": "x5",
         "domain": [
          0,
          1
         ],
         "matches": "y",
         "showticklabels": false
        },
        "yaxis6": {
         "anchor": "x6",
         "domain": [
          0,
          1
         ],
         "matches": "y",
         "showticklabels": false
        },
        "yaxis7": {
         "anchor": "x7",
         "domain": [
          0,
          1
         ],
         "matches": "y",
         "showticklabels": false
        },
        "yaxis8": {
         "anchor": "x8",
         "domain": [
          0,
          1
         ],
         "matches": "y",
         "showticklabels": false
        },
        "yaxis9": {
         "anchor": "x9",
         "domain": [
          0,
          1
         ],
         "matches": "y",
         "showticklabels": false
        }
       }
      }
     },
     "metadata": {},
     "output_type": "display_data"
    }
   ],
   "source": [
    "vis.plot_slice(study)"
   ]
  }
 ],
 "metadata": {
  "kernelspec": {
   "display_name": ".venv",
   "language": "python",
   "name": "python3"
  },
  "language_info": {
   "codemirror_mode": {
    "name": "ipython",
    "version": 3
   },
   "file_extension": ".py",
   "mimetype": "text/x-python",
   "name": "python",
   "nbconvert_exporter": "python",
   "pygments_lexer": "ipython3",
   "version": "3.12.9"
  }
 },
 "nbformat": 4,
 "nbformat_minor": 5
}

{
 "cells": [
  {
   "cell_type": "markdown",
   "id": "c20686e1",
   "metadata": {},
   "source": [
    "# Start"
   ]
  },
  {
   "cell_type": "code",
   "execution_count": 2,
   "id": "7b989341",
   "metadata": {},
   "outputs": [],
   "source": [
    "import sys\n",
    "from importlib import reload\n",
    "\n",
    "import pandas as pd\n",
    "\n",
    "import fraud_detection as fd\n",
    "\n",
    "# Add the src directory to the system path to import modules\n",
    "reload(fd)\n",
    "sys.path.append('../src')"
   ]
  },
  {
   "cell_type": "code",
   "execution_count": 3,
   "id": "a4a28339",
   "metadata": {},
   "outputs": [],
   "source": [
    "datapath = \"../data/transformed_label_and_damage.parquet\""
   ]
  },
  {
   "cell_type": "markdown",
   "id": "8b02951f",
   "metadata": {},
   "source": [
    "# Model Vergleich\n",
    "\n",
    "Vergleich verschiedener Modelle mit Cross Validition auf identischen Splits.\n",
    "\n",
    "Die Combinded Modelle bestehen aus einem Klassifikator und einem Regressor, die zusammenarbeiten, um eine bessere Vorhersage zu erzielen."
   ]
  },
  {
   "cell_type": "code",
   "execution_count": null,
   "id": "9b654e5a",
   "metadata": {},
   "outputs": [],
   "source": [
    "%%capture\n",
    "\n",
    "X, _ = fd.data_loader.load_data_np(datapath)\n",
    "neural_net = fd.neuralnets.train_nn.getNN(X.shape[1])\n",
    "\n",
    "models = [\n",
    "    (\"LightGBM\", fd.models.get_lgmb()),\n",
    "    (\"LightGBM Combined\", fd.models.models.get_lgmb_clf_with_reg()),\n",
    "    (\"XGBoost\", fd.models.get_xgb(10)),\n",
    "    (\"XGBoost Combined\", fd.models.models.get_xgb_clf_with_reg(10)),\n",
    "    (\"Neural Net\", neural_net),\n",
    "]\n",
    "\n",
    "model_metrics = fd.model_comparison.compare_models(models, datapath, n_splits=5)"
   ]
  },
  {
   "cell_type": "code",
   "execution_count": 7,
   "id": "fd8f9751",
   "metadata": {},
   "outputs": [
    {
     "data": {
      "application/vnd.microsoft.datawrangler.viewer.v0+json": {
       "columns": [
        {
         "name": "index",
         "rawType": "object",
         "type": "string"
        },
        {
         "name": "precision",
         "rawType": "object",
         "type": "unknown"
        },
        {
         "name": "recall",
         "rawType": "object",
         "type": "unknown"
        },
        {
         "name": "f1",
         "rawType": "object",
         "type": "unknown"
        },
        {
         "name": "damage_total",
         "rawType": "object",
         "type": "unknown"
        },
        {
         "name": "damage_prevented",
         "rawType": "object",
         "type": "unknown"
        },
        {
         "name": "damage_missed",
         "rawType": "object",
         "type": "unknown"
        },
        {
         "name": "detected bonus",
         "rawType": "object",
         "type": "unknown"
        },
        {
         "name": "fp penalty",
         "rawType": "object",
         "type": "unknown"
        },
        {
         "name": "Bewertung",
         "rawType": "object",
         "type": "unknown"
        },
        {
         "name": "cm",
         "rawType": "object",
         "type": "unknown"
        }
       ],
       "ref": "16f3dbe7-e0cd-483c-9744-f6c203d6decd",
       "rows": [
        [
         "LightGBM",
         "0.7981543356701613",
         "0.5563310925288298",
         "0.655593000258752",
         "6015.164",
         "3594.8379999999997",
         "2420.326",
         "2380.0",
         "1204.0",
         "-1244.326",
         "[[28553.4   120.4]\n [  379.6   476. ]]"
        ],
        [
         "LightGBM Combined",
         "0.816026916960357",
         "0.545580969557851",
         "0.6531781305839864",
         "6015.164",
         "3587.2399999999993",
         "2427.924",
         "2334.0",
         "1066.0",
         "-1159.9240000000002",
         "[[28567.2   106.6]\n [  388.8   466.8]]"
        ],
        [
         "XGBoost",
         "0.8659235158929854",
         "0.513787779417391",
         "0.6448676524445364",
         "6015.164",
         "3350.5160000000005",
         "2664.648",
         "2198.0",
         "680.0",
         "-1146.648",
         "[[28605.8    68. ]\n [  416.    439.6]]"
        ],
        [
         "XGBoost Combined",
         "0.8404053078866166",
         "0.5385721703011424",
         "0.656195457150032",
         "6015.164",
         "3528.006",
         "2487.1580000000004",
         "2304.0",
         "880.0",
         "-1063.158",
         "[[28585.8    88. ]\n [  394.8   460.8]]"
        ],
        [
         "Neural Net",
         "0.88707306177633",
         "0.5091258129748046",
         "0.6457047132263726",
         "6015.164",
         "3340.452",
         "2674.7120000000004",
         "2178.0",
         "552.0",
         "-1048.712",
         "[[28618.6    55.2]\n [  420.    435.6]]"
        ]
       ],
       "shape": {
        "columns": 10,
        "rows": 5
       }
      },
      "text/html": [
       "<div>\n",
       "<style scoped>\n",
       "    .dataframe tbody tr th:only-of-type {\n",
       "        vertical-align: middle;\n",
       "    }\n",
       "\n",
       "    .dataframe tbody tr th {\n",
       "        vertical-align: top;\n",
       "    }\n",
       "\n",
       "    .dataframe thead th {\n",
       "        text-align: right;\n",
       "    }\n",
       "</style>\n",
       "<table border=\"1\" class=\"dataframe\">\n",
       "  <thead>\n",
       "    <tr style=\"text-align: right;\">\n",
       "      <th></th>\n",
       "      <th>precision</th>\n",
       "      <th>recall</th>\n",
       "      <th>f1</th>\n",
       "      <th>damage_total</th>\n",
       "      <th>damage_prevented</th>\n",
       "      <th>damage_missed</th>\n",
       "      <th>detected bonus</th>\n",
       "      <th>fp penalty</th>\n",
       "      <th>Bewertung</th>\n",
       "      <th>cm</th>\n",
       "    </tr>\n",
       "  </thead>\n",
       "  <tbody>\n",
       "    <tr>\n",
       "      <th>LightGBM</th>\n",
       "      <td>0.798154</td>\n",
       "      <td>0.556331</td>\n",
       "      <td>0.655593</td>\n",
       "      <td>6015.164</td>\n",
       "      <td>3594.838</td>\n",
       "      <td>2420.326</td>\n",
       "      <td>2380.0</td>\n",
       "      <td>1204.0</td>\n",
       "      <td>-1244.326</td>\n",
       "      <td>[[28553.4, 120.4], [379.6, 476.0]]</td>\n",
       "    </tr>\n",
       "    <tr>\n",
       "      <th>LightGBM Combined</th>\n",
       "      <td>0.816027</td>\n",
       "      <td>0.545581</td>\n",
       "      <td>0.653178</td>\n",
       "      <td>6015.164</td>\n",
       "      <td>3587.24</td>\n",
       "      <td>2427.924</td>\n",
       "      <td>2334.0</td>\n",
       "      <td>1066.0</td>\n",
       "      <td>-1159.924</td>\n",
       "      <td>[[28567.2, 106.6], [388.8, 466.8]]</td>\n",
       "    </tr>\n",
       "    <tr>\n",
       "      <th>XGBoost</th>\n",
       "      <td>0.865924</td>\n",
       "      <td>0.513788</td>\n",
       "      <td>0.644868</td>\n",
       "      <td>6015.164</td>\n",
       "      <td>3350.516</td>\n",
       "      <td>2664.648</td>\n",
       "      <td>2198.0</td>\n",
       "      <td>680.0</td>\n",
       "      <td>-1146.648</td>\n",
       "      <td>[[28605.8, 68.0], [416.0, 439.6]]</td>\n",
       "    </tr>\n",
       "    <tr>\n",
       "      <th>XGBoost Combined</th>\n",
       "      <td>0.840405</td>\n",
       "      <td>0.538572</td>\n",
       "      <td>0.656195</td>\n",
       "      <td>6015.164</td>\n",
       "      <td>3528.006</td>\n",
       "      <td>2487.158</td>\n",
       "      <td>2304.0</td>\n",
       "      <td>880.0</td>\n",
       "      <td>-1063.158</td>\n",
       "      <td>[[28585.8, 88.0], [394.8, 460.8]]</td>\n",
       "    </tr>\n",
       "    <tr>\n",
       "      <th>Neural Net</th>\n",
       "      <td>0.887073</td>\n",
       "      <td>0.509126</td>\n",
       "      <td>0.645705</td>\n",
       "      <td>6015.164</td>\n",
       "      <td>3340.452</td>\n",
       "      <td>2674.712</td>\n",
       "      <td>2178.0</td>\n",
       "      <td>552.0</td>\n",
       "      <td>-1048.712</td>\n",
       "      <td>[[28618.6, 55.2], [420.0, 435.6]]</td>\n",
       "    </tr>\n",
       "  </tbody>\n",
       "</table>\n",
       "</div>"
      ],
      "text/plain": [
       "                  precision    recall        f1 damage_total damage_prevented  \\\n",
       "LightGBM           0.798154  0.556331  0.655593     6015.164         3594.838   \n",
       "LightGBM Combined  0.816027  0.545581  0.653178     6015.164          3587.24   \n",
       "XGBoost            0.865924  0.513788  0.644868     6015.164         3350.516   \n",
       "XGBoost Combined   0.840405  0.538572  0.656195     6015.164         3528.006   \n",
       "Neural Net         0.887073  0.509126  0.645705     6015.164         3340.452   \n",
       "\n",
       "                  damage_missed detected bonus fp penalty Bewertung  \\\n",
       "LightGBM               2420.326         2380.0     1204.0 -1244.326   \n",
       "LightGBM Combined      2427.924         2334.0     1066.0 -1159.924   \n",
       "XGBoost                2664.648         2198.0      680.0 -1146.648   \n",
       "XGBoost Combined       2487.158         2304.0      880.0 -1063.158   \n",
       "Neural Net             2674.712         2178.0      552.0 -1048.712   \n",
       "\n",
       "                                                   cm  \n",
       "LightGBM           [[28553.4, 120.4], [379.6, 476.0]]  \n",
       "LightGBM Combined  [[28567.2, 106.6], [388.8, 466.8]]  \n",
       "XGBoost             [[28605.8, 68.0], [416.0, 439.6]]  \n",
       "XGBoost Combined    [[28585.8, 88.0], [394.8, 460.8]]  \n",
       "Neural Net          [[28618.6, 55.2], [420.0, 435.6]]  "
      ]
     },
     "execution_count": 7,
     "metadata": {},
     "output_type": "execute_result"
    }
   ],
   "source": [
    "model_metrics_df = pd.DataFrame(model_metrics)\n",
    "model_metrics_df.T"
   ]
  },
  {
   "cell_type": "markdown",
   "id": "e9fdb734",
   "metadata": {},
   "source": [
    "Das neuronale Netzwerk ist nocht recht unstabil und erzielt nicht immer gute Ergebnisse (in diesem Durchlauf schnitt es aber am besten ab)."
   ]
  }
 ],
 "metadata": {
  "kernelspec": {
   "display_name": ".venv",
   "language": "python",
   "name": "python3"
  },
  "language_info": {
   "codemirror_mode": {
    "name": "ipython",
    "version": 3
   },
   "file_extension": ".py",
   "mimetype": "text/x-python",
   "name": "python",
   "nbconvert_exporter": "python",
   "pygments_lexer": "ipython3",
   "version": "3.12.9"
  }
 },
 "nbformat": 4,
 "nbformat_minor": 5
}

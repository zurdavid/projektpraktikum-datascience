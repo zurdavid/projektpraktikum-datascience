{
 "cells": [
  {
   "cell_type": "code",
   "execution_count": 9,
   "id": "c2ed709e",
   "metadata": {},
   "outputs": [],
   "source": [
    "from pathlib import Path\n",
    "\n",
    "import numpy as np\n",
    "import pandas as pd\n",
    "import torch\n",
    "from sklearn.model_selection import train_test_split\n",
    "from sklearn.preprocessing import RobustScaler\n",
    "from torch import optim\n",
    "\n",
    "import fraud_detection as fd\n",
    "from fraud_detection import metrics\n",
    "from fraud_detection.neuralnets.model import load_model\n",
    "\n",
    "path = Path(\"./data/transformed_label_and_damage.parquet\")\n",
    "\n",
    "seed = 42\n",
    "np.random.seed(seed)\n",
    "torch.manual_seed(seed)\n",
    "\n",
    "import os\n",
    "\n",
    "os.chdir(\"..\")\n"
   ]
  },
  {
   "cell_type": "code",
   "execution_count": 81,
   "id": "a6c1ef59",
   "metadata": {},
   "outputs": [],
   "source": [
    "df = pd.read_csv(\"model_comparison.csv\")"
   ]
  },
  {
   "cell_type": "code",
   "execution_count": 82,
   "id": "0ce8c11d",
   "metadata": {},
   "outputs": [
    {
     "data": {
      "text/html": [
       "<div>\n",
       "<style scoped>\n",
       "    .dataframe tbody tr th:only-of-type {\n",
       "        vertical-align: middle;\n",
       "    }\n",
       "\n",
       "    .dataframe tbody tr th {\n",
       "        vertical-align: top;\n",
       "    }\n",
       "\n",
       "    .dataframe thead th {\n",
       "        text-align: right;\n",
       "    }\n",
       "</style>\n",
       "<table border=\"1\" class=\"dataframe\">\n",
       "  <thead>\n",
       "    <tr style=\"text-align: right;\">\n",
       "      <th></th>\n",
       "      <th>Unnamed: 0</th>\n",
       "      <th>LGBMClassifier</th>\n",
       "      <th>XGBoost simple</th>\n",
       "      <th>CatBoost</th>\n",
       "    </tr>\n",
       "  </thead>\n",
       "  <tbody>\n",
       "    <tr>\n",
       "      <th>0</th>\n",
       "      <td>precision</td>\n",
       "      <td>0.8244525018412662</td>\n",
       "      <td>0.8390968561660743</td>\n",
       "      <td>0.845045462852087</td>\n",
       "    </tr>\n",
       "    <tr>\n",
       "      <th>1</th>\n",
       "      <td>recall</td>\n",
       "      <td>0.5739178007323605</td>\n",
       "      <td>0.5641912881893206</td>\n",
       "      <td>0.5611989397168935</td>\n",
       "    </tr>\n",
       "    <tr>\n",
       "      <th>2</th>\n",
       "      <td>f1</td>\n",
       "      <td>0.6760928209877026</td>\n",
       "      <td>0.6741601226885178</td>\n",
       "      <td>0.6737328028492233</td>\n",
       "    </tr>\n",
       "    <tr>\n",
       "      <th>3</th>\n",
       "      <td>mcc</td>\n",
       "      <td>0.6800854487298572</td>\n",
       "      <td>0.6804945508025908</td>\n",
       "      <td>0.681074907518191</td>\n",
       "    </tr>\n",
       "    <tr>\n",
       "      <th>4</th>\n",
       "      <td>damage_total</td>\n",
       "      <td>6015.164000000001</td>\n",
       "      <td>6015.164000000001</td>\n",
       "      <td>6015.164000000001</td>\n",
       "    </tr>\n",
       "    <tr>\n",
       "      <th>5</th>\n",
       "      <td>damage_prevented</td>\n",
       "      <td>3671.4324000000006</td>\n",
       "      <td>3615.2260000000006</td>\n",
       "      <td>3610.3032000000003</td>\n",
       "    </tr>\n",
       "    <tr>\n",
       "      <th>6</th>\n",
       "      <td>damage_missed</td>\n",
       "      <td>2343.7315999999996</td>\n",
       "      <td>2399.938</td>\n",
       "      <td>2404.8608</td>\n",
       "    </tr>\n",
       "    <tr>\n",
       "      <th>7</th>\n",
       "      <td>detected bonus</td>\n",
       "      <td>2455.2</td>\n",
       "      <td>2413.6</td>\n",
       "      <td>2400.8</td>\n",
       "    </tr>\n",
       "    <tr>\n",
       "      <th>8</th>\n",
       "      <td>fp penalty</td>\n",
       "      <td>1053.2</td>\n",
       "      <td>934.0</td>\n",
       "      <td>892.0</td>\n",
       "    </tr>\n",
       "    <tr>\n",
       "      <th>9</th>\n",
       "      <td>Bewertung</td>\n",
       "      <td>-941.7315999999998</td>\n",
       "      <td>-920.3379999999999</td>\n",
       "      <td>-896.0608</td>\n",
       "    </tr>\n",
       "    <tr>\n",
       "      <th>10</th>\n",
       "      <td>cm</td>\n",
       "      <td>[[28568.48   105.32]\\n [  364.56   491.04]]</td>\n",
       "      <td>[[28580.4     93.4 ]\\n [  372.88   482.72]]</td>\n",
       "      <td>[[28584.6     89.2 ]\\n [  375.44   480.16]]</td>\n",
       "    </tr>\n",
       "  </tbody>\n",
       "</table>\n",
       "</div>"
      ],
      "text/plain": [
       "          Unnamed: 0                               LGBMClassifier  \\\n",
       "0          precision                           0.8244525018412662   \n",
       "1             recall                           0.5739178007323605   \n",
       "2                 f1                           0.6760928209877026   \n",
       "3                mcc                           0.6800854487298572   \n",
       "4       damage_total                            6015.164000000001   \n",
       "5   damage_prevented                           3671.4324000000006   \n",
       "6      damage_missed                           2343.7315999999996   \n",
       "7     detected bonus                                       2455.2   \n",
       "8         fp penalty                                       1053.2   \n",
       "9          Bewertung                           -941.7315999999998   \n",
       "10                cm  [[28568.48   105.32]\\n [  364.56   491.04]]   \n",
       "\n",
       "                                 XGBoost simple  \\\n",
       "0                            0.8390968561660743   \n",
       "1                            0.5641912881893206   \n",
       "2                            0.6741601226885178   \n",
       "3                            0.6804945508025908   \n",
       "4                             6015.164000000001   \n",
       "5                            3615.2260000000006   \n",
       "6                                      2399.938   \n",
       "7                                        2413.6   \n",
       "8                                         934.0   \n",
       "9                            -920.3379999999999   \n",
       "10  [[28580.4     93.4 ]\\n [  372.88   482.72]]   \n",
       "\n",
       "                                       CatBoost  \n",
       "0                             0.845045462852087  \n",
       "1                            0.5611989397168935  \n",
       "2                            0.6737328028492233  \n",
       "3                             0.681074907518191  \n",
       "4                             6015.164000000001  \n",
       "5                            3610.3032000000003  \n",
       "6                                     2404.8608  \n",
       "7                                        2400.8  \n",
       "8                                         892.0  \n",
       "9                                     -896.0608  \n",
       "10  [[28584.6     89.2 ]\\n [  375.44   480.16]]  "
      ]
     },
     "execution_count": 82,
     "metadata": {},
     "output_type": "execute_result"
    }
   ],
   "source": [
    "df"
   ]
  },
  {
   "cell_type": "code",
   "execution_count": 15,
   "id": "6bb782c6",
   "metadata": {},
   "outputs": [],
   "source": [
    "os.chdir(\"./fraud-detection\")"
   ]
  },
  {
   "cell_type": "code",
   "execution_count": 16,
   "id": "e2508fad",
   "metadata": {},
   "outputs": [
    {
     "name": "stdout",
     "output_type": "stream",
     "text": [
      "/home/david/Hagen/projektpraktikum/projektpraktikum-datascience/fraud-detection\n"
     ]
    }
   ],
   "source": [
    "!pwd"
   ]
  },
  {
   "cell_type": "code",
   "execution_count": 17,
   "id": "bfc032a4",
   "metadata": {},
   "outputs": [],
   "source": [
    "useless_features = [\n",
    "    \"max_product_price\",\n",
    "    \"has_positive_price_difference\",\n",
    "    \"has_bakery\",\n",
    "    \"time_to_first_scan\",\n",
    "    \"popularity_max\",\n",
    "    \"has_age_restricted\",\n",
    "    \"cash_desk\",\n",
    "    \"transaction_duration_seconds\",\n",
    "    \"feedback_low\",\n",
    "    \"feedback_middle\",\n",
    "    \"feedback_high\",\n",
    "    \"feedback_top\",\n",
    "    \"store_id\",\n",
    "    \"location\",\n",
    "    \"urbanization\",\n",
    "    \"has_voided\",\n",
    "    \"has_sold_by_weight\",\n",
    "    \"has_limited_time_offers\",\n",
    "    \"has_fruits_vegetables\",\n",
    "    \"has_missing\",\n",
    "    \"has_camera_detected_wrong_product\",\n",
    "    \"day_of_week\",\n",
    "]"
   ]
  },
  {
   "cell_type": "code",
   "execution_count": 18,
   "id": "097c1548",
   "metadata": {},
   "outputs": [],
   "source": [
    "class FraudDetector:\n",
    "    def __init__(self, model, scaler, name:str , threshold: float = 0.5):\n",
    "        self.model = model\n",
    "        self.scaler = scaler\n",
    "        self._name = name\n",
    "        self.threshold = threshold\n",
    "\n",
    "    def name(self) -> str:\n",
    "        return self._name\n",
    "\n",
    "    def predict(self, X: np.ndarray) -> np.ndarray:\n",
    "        probs = self._predict_proba(X)\n",
    "        preds = (probs > self.threshold).long().view(-1)\n",
    "        return preds.cpu().numpy()\n",
    "\n",
    "    def predict_proba(self, X: np.ndarray) -> np.ndarray:\n",
    "        probs = self._predict_proba(X)\n",
    "        return probs.cpu().numpy()\n",
    "\n",
    "    def _predict_proba(self, X: np.ndarray) -> torch.Tensor:\n",
    "        X_transformed = self.scaler.transform(X)\n",
    "        Xt = torch.tensor(X_transformed, dtype=torch.float32)\n",
    "        outputs = self.model.predict(Xt)\n",
    "        probs = torch.sigmoid(outputs)\n",
    "        return probs\n"
   ]
  },
  {
   "cell_type": "code",
   "execution_count": 19,
   "id": "24378b7d",
   "metadata": {},
   "outputs": [
    {
     "name": "stdout",
     "output_type": "stream",
     "text": [
      "=> Model loaded from ./models/model_epoch_10.pth\n"
     ]
    }
   ],
   "source": [
    "test_size = 0.2\n",
    "\n",
    "Xdf, ydf = fd.data_loader.load_data(path, drop_features=useless_features)\n",
    "Xdf = Xdf.to_pandas()\n",
    "ydf = ydf.to_pandas()\n",
    "\n",
    "X_train_df, X_test_df, y_train_df, y_test_df = train_test_split(Xdf, ydf, test_size=test_size, random_state=seed, stratify=ydf[\"label\"])\n",
    "\n",
    "X_train = X_train_df.to_numpy()\n",
    "X_test = X_test_df.to_numpy()\n",
    "y_train = y_train_df.to_numpy()\n",
    "y_test = y_test_df.to_numpy()\n",
    "\n",
    "scaler = RobustScaler()\n",
    "X_train_scaled = scaler.fit_transform(X_train)\n",
    "\n",
    "model, _ = load_model(\"./models/model_epoch_10.pth\", optim.AdamW)\n",
    "model.eval()\n",
    "\n",
    "clf = FraudDetector(model, scaler, \"Pretrained NN\", threshold=0.5)"
   ]
  },
  {
   "cell_type": "code",
   "execution_count": 21,
   "id": "70a312b2",
   "metadata": {},
   "outputs": [
    {
     "name": "stdout",
     "output_type": "stream",
     "text": [
      "cm\n",
      "[[28556   118]\n",
      " [  393   463]]\n",
      "precision                0.80\n",
      "recall                   0.54\n",
      "f1                       0.64\n",
      "mcc                      0.65\n",
      "damage_total          5961.94\n",
      "damage_prevented      3679.84\n",
      "damage_missed         2282.10\n",
      "detected bonus        2315.00\n",
      "fp penalty            1180.00\n",
      "Bewertung            -1147.10\n"
     ]
    }
   ],
   "source": [
    "preds = clf.predict(X_test)\n",
    "probs = clf.predict_proba(X_test)\n",
    "\n",
    "metrics.propability_histogram(probs, y_test[:, 0], clf.name(), bins=20)\n",
    "metrics.plot_roc_curve(probs, y_test[:, 0], clf.name())\n",
    "\n",
    "bew = metrics.bewertung(preds, y_test[:, 0], y_test[:, 1])\n",
    "metrics.print_metrics(bew)\n"
   ]
  },
  {
   "cell_type": "code",
   "execution_count": 73,
   "id": "d1be0deb",
   "metadata": {},
   "outputs": [
    {
     "data": {
      "text/plain": [
       "np.int64(61)"
      ]
     },
     "execution_count": 73,
     "metadata": {},
     "output_type": "execute_result"
    }
   ],
   "source": [
    "np.argmax(preds)"
   ]
  },
  {
   "cell_type": "code",
   "execution_count": 74,
   "id": "904681ee",
   "metadata": {},
   "outputs": [
    {
     "name": "stderr",
     "output_type": "stream",
     "text": [
      "Using 300 background data samples could cause slower run times. Consider using shap.sample(data, K) or shap.kmeans(data, K) to summarize the background as K samples.\n"
     ]
    },
    {
     "data": {
      "application/vnd.jupyter.widget-view+json": {
       "model_id": "9f482809768a45c3a9536ca8e6a6392d",
       "version_major": 2,
       "version_minor": 0
      },
      "text/plain": [
       "  0%|          | 0/10 [00:00<?, ?it/s]"
      ]
     },
     "metadata": {},
     "output_type": "display_data"
    }
   ],
   "source": [
    "import shap\n",
    "\n",
    "# background: a small sample of your dataset, e.g., 100 samples\n",
    "background = X_train[np.random.choice(X_train.shape[0], 300, replace=False)]\n",
    "\n",
    "explainer = shap.KernelExplainer(clf.predict_proba, background)\n",
    "\n",
    "# explanation for a set of test inputs\n",
    "shap_values = explainer.shap_values(X_test[60:70])  # Use small batches; it's slow"
   ]
  },
  {
   "cell_type": "code",
   "execution_count": 75,
   "id": "4292f812",
   "metadata": {},
   "outputs": [
    {
     "data": {
      "text/plain": [
       "numpy.ndarray"
      ]
     },
     "execution_count": 75,
     "metadata": {},
     "output_type": "execute_result"
    }
   ],
   "source": [
    "type(shap_values)"
   ]
  },
  {
   "cell_type": "code",
   "execution_count": 41,
   "id": "05406bc0",
   "metadata": {},
   "outputs": [
    {
     "data": {
      "application/vnd.jupyter.widget-view+json": {
       "model_id": "25b88570fece4daf85ef7a8782f5dbe1",
       "version_major": 2,
       "version_minor": 0
      },
      "text/plain": [
       "  0%|          | 0/10 [00:00<?, ?it/s]"
      ]
     },
     "metadata": {},
     "output_type": "display_data"
    },
    {
     "name": "stderr",
     "output_type": "stream",
     "text": [
      "/tmp/ipykernel_537130/746669556.py:11: FutureWarning: The NumPy global RNG was seeded by calling `np.random.seed`. In a future version this function will no longer use the global RNG. Pass `rng` explicitly to opt-in to the new behaviour and silence this warning.\n",
      "  shap.summary_plot(shap_values, X_test_df[:10])\n",
      "/home/david/Hagen/projektpraktikum/projektpraktikum-datascience/fraud-detection/.venv/lib/python3.12/site-packages/shap/plots/_beeswarm.py:723: FutureWarning: The NumPy global RNG was seeded by calling `np.random.seed`. In a future version this function will no longer use the global RNG. Pass `rng` explicitly to opt-in to the new behaviour and silence this warning.\n",
      "  summary_legacy(\n"
     ]
    },
    {
     "data": {
      "image/png": "[encoded data removed]",
      "text/plain": [
       "<Figure size 1150x660 with 1 Axes>"
      ]
     },
     "metadata": {},
     "output_type": "display_data"
    }
   ],
   "source": [
    "# Use a small background dataset for KernelExplainer (e.g., 100 samples)\n",
    "background = X_train[np.random.choice(X_train.shape[0], 100, replace=False)]\n",
    "\n",
    "# Create explainer\n",
    "explainer = shap.KernelExplainer(clf.predict_proba, background)\n",
    "\n",
    "# Choose a few test points to explain\n",
    "shap_values = explainer.shap_values(X_test_df[:10])\n",
    "\n",
    "# Plot\n",
    "shap.summary_plot(shap_values, X_test_df[:10])"
   ]
  },
  {
   "cell_type": "code",
   "execution_count": 51,
   "id": "ebd57071",
   "metadata": {},
   "outputs": [
    {
     "data": {
      "text/plain": [
       "(58,)"
      ]
     },
     "execution_count": 51,
     "metadata": {},
     "output_type": "execute_result"
    }
   ],
   "source": [
    "shap_values[0].squeeze().shape"
   ]
  },
  {
   "cell_type": "code",
   "execution_count": 64,
   "id": "a7800cb1",
   "metadata": {},
   "outputs": [
    {
     "data": {
      "text/plain": [
       "array([ 0.        ,  0.02396913,  0.        ,  0.        ,  0.        ,\n",
       "        0.        ,  0.        ,  0.        ,  0.0188787 , -0.04464726,\n",
       "        0.00723551,  0.05481883,  0.        ,  0.        ,  0.        ,\n",
       "        0.        ,  0.        ,  0.        ,  0.        ,  0.        ,\n",
       "        0.        ,  0.00487838, -0.04862276,  0.        ,  0.        ,\n",
       "        0.        ,  0.        ,  0.        , -0.01802234,  0.        ,\n",
       "        0.        ,  0.        ,  0.        ,  0.        ,  0.        ,\n",
       "        0.        ,  0.        ,  0.        ,  0.        ,  0.        ,\n",
       "        0.        ,  0.02348129,  0.        ,  0.        ,  0.        ,\n",
       "        0.        ,  0.        ,  0.        ,  0.        ,  0.        ,\n",
       "        0.        ,  0.        ,  0.        ,  0.        ,  0.        ,\n",
       "        0.01973406,  0.        ,  0.        ])"
      ]
     },
     "execution_count": 64,
     "metadata": {},
     "output_type": "execute_result"
    }
   ],
   "source": [
    "val = shap_values[0].squeeze()\n",
    "val.reshape(-1)"
   ]
  },
  {
   "cell_type": "code",
   "execution_count": null,
   "id": "4939529a",
   "metadata": {},
   "outputs": [],
   "source": []
  },
  {
   "cell_type": "code",
   "execution_count": 76,
   "id": "7907cfc4",
   "metadata": {},
   "outputs": [
    {
     "data": {
      "image/png": "[encoded data removed]",
      "text/plain": [
       "<Figure size 800x650 with 3 Axes>"
      ]
     },
     "metadata": {},
     "output_type": "display_data"
    }
   ],
   "source": [
    "i  = 1\n",
    "offset = 60\n",
    "val = shap_values[i].squeeze()  # SHAP values for the first instance\n",
    "x = X_test_df.iloc[offset +i, :]\n",
    "\n",
    "explanation = shap.Explanation(\n",
    "    values=val,\n",
    "    base_values=explainer.expected_value,  # important!\n",
    "    data=x.values,\n",
    "    feature_names=x.index.tolist()\n",
    ")\n",
    "\n",
    "shap.plots.waterfall(explanation)"
   ]
  }
 ],
 "metadata": {
  "kernelspec": {
   "display_name": ".venv",
   "language": "python",
   "name": "python3"
  },
  "language_info": {
   "codemirror_mode": {
    "name": "ipython",
    "version": 3
   },
   "file_extension": ".py",
   "mimetype": "text/x-python",
   "name": "python",
   "nbconvert_exporter": "python",
   "pygments_lexer": "ipython3",
   "version": "3.12.9"
  }
 },
 "nbformat": 4,
 "nbformat_minor": 5
}
